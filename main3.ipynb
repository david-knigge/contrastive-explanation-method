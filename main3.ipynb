{
 "cells": [
  {
   "cell_type": "code",
   "execution_count": 1,
   "metadata": {},
   "outputs": [],
   "source": [
    "%matplotlib inline\n",
    "import matplotlib.pyplot as plt\n",
    "import numpy as np\n",
    "\n",
    "import time\n",
    "import os\n",
    "\n",
    "from datasets.mnist import MNIST\n",
    "\n",
    "from models.cae_model import CAE\n",
    "from models.conv_model import CNN\n",
    "\n",
    "from train import train_ae, train_cnn\n",
    "\n",
    "from cem3 import ContrastiveExplanationMethod"
   ]
  },
  {
   "cell_type": "code",
   "execution_count": 2,
   "metadata": {},
   "outputs": [],
   "source": [
    "dataset = MNIST(batch_size=64)\n",
    "# dataset = FashionMNIST()"
   ]
  },
  {
   "cell_type": "markdown",
   "metadata": {},
   "source": [
    "# Training the classifier"
   ]
  },
  {
   "cell_type": "code",
   "execution_count": 3,
   "metadata": {},
   "outputs": [],
   "source": [
    "cnn = CNN(device=\"cpu\")\n",
    "\n",
    "train_cnn(cnn, dataset, iterations=20, lr=0.01, save_fn='mnist-cnn', device=\"cpu\", load_path=\"models/saved_models/mnist-cnn.h5\")"
   ]
  },
  {
   "cell_type": "code",
   "execution_count": 4,
   "metadata": {},
   "outputs": [
    {
     "name": "stderr",
     "output_type": "stream",
     "text": [
      "D:\\david\\Coding\\uva-fact-ai\\models\\conv_model.py:50: UserWarning: Implicit dimension choice for softmax has been deprecated. Change the call to include dim=X as an argument.\n",
      "  out = nn.functional.softmax(out)\n"
     ]
    }
   ],
   "source": [
    "images, _ = dataset.get_batch()\n",
    "\n",
    "output = cnn(images)\n",
    "\n",
    "images = images.numpy()\n",
    "output = output.detach().numpy()\n"
   ]
  },
  {
   "cell_type": "code",
   "execution_count": null,
   "metadata": {},
   "outputs": [],
   "source": [
    "# # evaluate the cnn by uncommenting this cell\n",
    "\n",
    "# total_acc = 0\n",
    "# total_batches = 0\n",
    "# for step, (batch_inputs, batch_targets) in enumerate(dataset.test_loader):\n",
    "    \n",
    "#     predictions = cnn(batch_inputs)\n",
    "#     acc = (predictions.argmax(1).cpu().numpy() == batch_targets.cpu().numpy()).sum()/(predictions.shape[0] )\n",
    "#     total_batches += 1\n",
    "#     total_acc += acc\n",
    "    \n",
    "# print(\"acc: {}\".format(total_acc / total_batches))"
   ]
  },
  {
   "cell_type": "markdown",
   "metadata": {},
   "source": [
    "# Training the autoencoder"
   ]
  },
  {
   "cell_type": "markdown",
   "metadata": {},
   "source": [
    "This section trains the autoencoder which will be used as regularizer for the data space which the perturbations are found in."
   ]
  },
  {
   "cell_type": "code",
   "execution_count": null,
   "metadata": {},
   "outputs": [],
   "source": [
    "# Train or load autoencoder\n",
    "cae = CAE(device=\"cpu\")\n",
    "\n",
    "train_ae(cae, dataset, iterations=10, save_fn=\"mnist-cae\", device=\"cpu\", load_path=\"models/saved_models/mnist-cae-no-rs.h5\")"
   ]
  },
  {
   "cell_type": "code",
   "execution_count": null,
   "metadata": {},
   "outputs": [
    {
     "data": {
      "image/png": "[encoded data removed]",
      "text/plain": [
       "<Figure size 1800x288 with 8 Axes>"
      ]
     },
     "metadata": {
      "needs_background": "light"
     },
     "output_type": "display_data"
    }
   ],
   "source": [
    "# obtain one batch of test images\n",
    "images, _ = dataset.get_batch()\n",
    "\n",
    "images += 0.5\n",
    "\n",
    "#images_flatten = images.view(images.size(0), -1)\n",
    "# get sample outputs\n",
    "output = cae(images)\n",
    "# prep images for display\n",
    "images = images.numpy()\n",
    "\n",
    "# output is resized into a batch of images\n",
    "# output = output.view(batch_size, 1, 28, 28)\n",
    "# use detach when it's an output that requires_grad\n",
    "output = output.detach().numpy()\n",
    "\n",
    "# plot the first ten input images and then reconstructed images\n",
    "fig, axes = plt.subplots(nrows=2, ncols=4, sharex=True, sharey=True, figsize=(25,4))\n",
    "\n",
    "# input images on top row, reconstructions on bottom\n",
    "for images, row in zip([images, output], axes):\n",
    "    for img, ax in zip(images, row):\n",
    "        ax.imshow(np.squeeze(img), cmap='gray')\n",
    "        ax.get_xaxis().set_visible(False)\n",
    "        ax.get_yaxis().set_visible(False)"
   ]
  },
  {
   "cell_type": "markdown",
   "metadata": {},
   "source": [
    "# Contrastive Explanation Method"
   ]
  },
  {
   "cell_type": "code",
   "execution_count": null,
   "metadata": {},
   "outputs": [],
   "source": [
    "kappa = 10\n",
    "gamma = 1\n",
    "beta = 0.1\n",
    "lr = 0.1\n",
    "CEM = ContrastiveExplanationMethod(cnn, cae, iterations=1000, n_searches=9, kappa=kappa, gamma=gamma, beta=beta, learning_rate=lr)"
   ]
  },
  {
   "cell_type": "code",
   "execution_count": null,
   "metadata": {},
   "outputs": [
    {
     "data": {
      "image/png": "[encoded data removed]",
      "text/plain": [
       "<Figure size 432x288 with 1 Axes>"
      ]
     },
     "metadata": {
      "needs_background": "light"
     },
     "output_type": "display_data"
    },
    {
     "name": "stdout",
     "output_type": "stream",
     "text": [
      "classified as: 4\n"
     ]
    }
   ],
   "source": [
    "# obtain one sample\n",
    "image = dataset.get_sample_by_class(class_label=4, show_image=False)\n",
    "#image, _ = dataset.get_sample(show_image=False)\n",
    "\n",
    "plt.imshow(image.squeeze())\n",
    "plt.show()\n",
    "print(\"classified as: {}\".format(np.argmax(cnn(image.view(-1,1,28,28)).detach())))"
   ]
  },
  {
   "cell_type": "code",
   "execution_count": null,
   "metadata": {},
   "outputs": [
    {
     "name": "stdout",
     "output_type": "stream",
     "text": [
      "new best: 19.676712036132812\n",
      "search: 0 iteration: 20 c: 10 loss: 20.45 found optimum: True\n",
      "new best: 19.017423629760742\n",
      "search: 0 iteration: 40 c: 10 loss: 21.76 found optimum: True\n",
      "new best: 18.374250411987305\n",
      "search: 0 iteration: 60 c: 10 loss: 40.15 found optimum: True\n",
      "search: 0 iteration: 80 c: 10 loss: 24.87 found optimum: True\n",
      "new best: 17.404638290405273\n",
      "search: 0 iteration: 100 c: 10 loss: 19.36 found optimum: True\n",
      "new best: 16.879343032836914\n",
      "new best: 16.293922424316406\n",
      "new best: 16.182865142822266\n",
      "search: 0 iteration: 120 c: 10 loss: 52.60 found optimum: True\n",
      "search: 0 iteration: 140 c: 10 loss: 72.68 found optimum: True\n",
      "search: 0 iteration: 160 c: 10 loss: 19.80 found optimum: True\n",
      "new best: 16.014419555664062\n",
      "search: 0 iteration: 180 c: 10 loss: 20.83 found optimum: True\n",
      "search: 0 iteration: 200 c: 10 loss: 19.91 found optimum: True\n",
      "search: 0 iteration: 220 c: 10 loss: 51.95 found optimum: True\n",
      "new best: 15.513933181762695\n",
      "search: 0 iteration: 240 c: 10 loss: 55.02 found optimum: True\n",
      "search: 0 iteration: 260 c: 10 loss: 21.34 found optimum: True\n",
      "search: 0 iteration: 280 c: 10 loss: 21.17 found optimum: True\n",
      "search: 0 iteration: 300 c: 10 loss: 22.67 found optimum: True\n",
      "search: 0 iteration: 320 c: 10 loss: 19.21 found optimum: True\n",
      "search: 0 iteration: 340 c: 10 loss: 28.42 found optimum: True\n",
      "search: 0 iteration: 360 c: 10 loss: 34.02 found optimum: True\n",
      "search: 0 iteration: 380 c: 10 loss: 16.21 found optimum: True\n",
      "search: 0 iteration: 400 c: 10 loss: 21.25 found optimum: True\n",
      "search: 0 iteration: 420 c: 10 loss: 37.24 found optimum: True\n",
      "search: 0 iteration: 440 c: 10 loss: 21.18 found optimum: True\n",
      "search: 0 iteration: 460 c: 10 loss: 20.08 found optimum: True\n",
      "search: 0 iteration: 480 c: 10 loss: 63.86 found optimum: True\n",
      "search: 0 iteration: 500 c: 10 loss: 19.30 found optimum: True\n",
      "search: 0 iteration: 520 c: 10 loss: 19.82 found optimum: True\n",
      "search: 0 iteration: 540 c: 10 loss: 61.92 found optimum: True\n",
      "search: 0 iteration: 560 c: 10 loss: 18.91 found optimum: True\n",
      "search: 0 iteration: 580 c: 10 loss: 19.42 found optimum: True\n",
      "search: 0 iteration: 600 c: 10 loss: 63.51 found optimum: True\n",
      "search: 0 iteration: 620 c: 10 loss: 18.77 found optimum: True\n",
      "search: 0 iteration: 640 c: 10 loss: 19.27 found optimum: True\n",
      "search: 0 iteration: 660 c: 10 loss: 64.08 found optimum: True\n",
      "search: 0 iteration: 680 c: 10 loss: 19.13 found optimum: True\n",
      "search: 0 iteration: 700 c: 10 loss: 16.85 found optimum: True\n",
      "search: 0 iteration: 720 c: 10 loss: 38.21 found optimum: True\n",
      "new best: 14.917878150939941\n",
      "new best: 14.552379608154297\n",
      "new best: 14.380487442016602\n",
      "search: 0 iteration: 740 c: 10 loss: 46.19 found optimum: True\n",
      "search: 0 iteration: 760 c: 10 loss: 16.50 found optimum: True\n",
      "search: 0 iteration: 780 c: 10 loss: 23.64 found optimum: True\n",
      "new best: 14.147801399230957\n",
      "new best: 14.048290252685547\n",
      "search: 0 iteration: 800 c: 10 loss: 16.37 found optimum: True\n",
      "new best: 14.016252517700195\n",
      "new best: 13.910521507263184\n",
      "search: 0 iteration: 820 c: 10 loss: 61.09 found optimum: True\n",
      "search: 0 iteration: 840 c: 10 loss: 31.26 found optimum: True\n",
      "search: 0 iteration: 860 c: 10 loss: 39.79 found optimum: True\n",
      "search: 0 iteration: 880 c: 10 loss: 39.27 found optimum: True\n",
      "search: 0 iteration: 900 c: 10 loss: 60.45 found optimum: True\n",
      "search: 0 iteration: 920 c: 10 loss: 15.39 found optimum: True\n",
      "search: 0 iteration: 940 c: 10 loss: 46.08 found optimum: True\n",
      "search: 0 iteration: 960 c: 10 loss: 21.12 found optimum: True\n",
      "search: 0 iteration: 980 c: 10 loss: 31.06 found optimum: True\n",
      "search: 0 iteration: 1000 c: 10 loss: 76.49 found optimum: True\n",
      "search: 1 iteration: 20 c: 5.05 loss: 15.34 found optimum: True\n",
      "search: 1 iteration: 40 c: 5.05 loss: 13.24 found optimum: True\n",
      "search: 1 iteration: 60 c: 5.05 loss: 12.88 found optimum: True\n",
      "search: 1 iteration: 80 c: 5.05 loss: 41.33 found optimum: True\n",
      "search: 1 iteration: 100 c: 5.05 loss: 23.86 found optimum: True\n",
      "new best: 13.68317985534668\n",
      "search: 1 iteration: 120 c: 5.05 loss: 32.82 found optimum: True\n",
      "search: 1 iteration: 140 c: 5.05 loss: 14.39 found optimum: True\n",
      "search: 1 iteration: 160 c: 5.05 loss: 13.90 found optimum: True\n",
      "new best: 13.565065383911133\n",
      "search: 1 iteration: 180 c: 5.05 loss: 13.99 found optimum: True\n",
      "search: 1 iteration: 200 c: 5.05 loss: 13.61 found optimum: True\n",
      "search: 1 iteration: 220 c: 5.05 loss: 13.36 found optimum: True\n",
      "search: 1 iteration: 240 c: 5.05 loss: 15.72 found optimum: True\n",
      "search: 1 iteration: 260 c: 5.05 loss: 13.29 found optimum: True\n",
      "search: 1 iteration: 280 c: 5.05 loss: 35.58 found optimum: True\n",
      "search: 1 iteration: 300 c: 5.05 loss: 27.13 found optimum: True\n",
      "search: 1 iteration: 320 c: 5.05 loss: 36.22 found optimum: True\n",
      "new best: 13.51949405670166\n",
      "search: 1 iteration: 340 c: 5.05 loss: 22.82 found optimum: True\n",
      "search: 1 iteration: 360 c: 5.05 loss: 23.13 found optimum: True\n",
      "search: 1 iteration: 380 c: 5.05 loss: 14.15 found optimum: True\n",
      "search: 1 iteration: 400 c: 5.05 loss: 12.53 found optimum: True\n",
      "search: 1 iteration: 420 c: 5.05 loss: 12.42 found optimum: True\n",
      "search: 1 iteration: 440 c: 5.05 loss: 14.03 found optimum: True\n",
      "search: 1 iteration: 460 c: 5.05 loss: 26.99 found optimum: True\n",
      "search: 1 iteration: 480 c: 5.05 loss: 27.36 found optimum: True\n",
      "search: 1 iteration: 500 c: 5.05 loss: 37.33 found optimum: True\n",
      "search: 1 iteration: 520 c: 5.05 loss: 12.29 found optimum: True\n",
      "search: 1 iteration: 540 c: 5.05 loss: 16.86 found optimum: True\n",
      "search: 1 iteration: 560 c: 5.05 loss: 13.42 found optimum: True\n",
      "search: 1 iteration: 580 c: 5.05 loss: 18.85 found optimum: True\n",
      "search: 1 iteration: 600 c: 5.05 loss: 13.43 found optimum: True\n",
      "search: 1 iteration: 620 c: 5.05 loss: 14.31 found optimum: True\n",
      "search: 1 iteration: 640 c: 5.05 loss: 13.85 found optimum: True\n",
      "search: 1 iteration: 660 c: 5.05 loss: 36.44 found optimum: True\n",
      "search: 1 iteration: 680 c: 5.05 loss: 27.78 found optimum: True\n",
      "search: 1 iteration: 700 c: 5.05 loss: 23.23 found optimum: True\n",
      "search: 1 iteration: 720 c: 5.05 loss: 15.02 found optimum: True\n",
      "search: 1 iteration: 740 c: 5.05 loss: 24.31 found optimum: True\n",
      "search: 1 iteration: 760 c: 5.05 loss: 22.33 found optimum: True\n",
      "search: 1 iteration: 780 c: 5.05 loss: 17.68 found optimum: True\n",
      "search: 1 iteration: 800 c: 5.05 loss: 17.97 found optimum: True\n",
      "search: 1 iteration: 820 c: 5.05 loss: 25.88 found optimum: True\n",
      "search: 1 iteration: 840 c: 5.05 loss: 18.11 found optimum: True\n",
      "search: 1 iteration: 860 c: 5.05 loss: 28.47 found optimum: True\n",
      "search: 1 iteration: 880 c: 5.05 loss: 19.91 found optimum: True\n",
      "search: 1 iteration: 900 c: 5.05 loss: 22.19 found optimum: True\n",
      "search: 1 iteration: 920 c: 5.05 loss: 24.45 found optimum: True\n",
      "search: 1 iteration: 940 c: 5.05 loss: 24.27 found optimum: True\n",
      "search: 1 iteration: 960 c: 5.05 loss: 26.61 found optimum: True\n",
      "search: 1 iteration: 980 c: 5.05 loss: 35.05 found optimum: True\n",
      "search: 1 iteration: 1000 c: 5.05 loss: 65.10 found optimum: True\n",
      "search: 2 iteration: 20 c: 2.5749999999999997 loss: 14.44 found optimum: False\n",
      "search: 2 iteration: 40 c: 2.5749999999999997 loss: 14.70 found optimum: False\n",
      "search: 2 iteration: 60 c: 2.5749999999999997 loss: 14.31 found optimum: False\n",
      "search: 2 iteration: 80 c: 2.5749999999999997 loss: 14.85 found optimum: False\n",
      "search: 2 iteration: 100 c: 2.5749999999999997 loss: 14.83 found optimum: False\n",
      "search: 2 iteration: 120 c: 2.5749999999999997 loss: 14.85 found optimum: False\n",
      "search: 2 iteration: 140 c: 2.5749999999999997 loss: 14.86 found optimum: False\n",
      "search: 2 iteration: 160 c: 2.5749999999999997 loss: 14.62 found optimum: False\n",
      "search: 2 iteration: 180 c: 2.5749999999999997 loss: 14.63 found optimum: False\n",
      "search: 2 iteration: 200 c: 2.5749999999999997 loss: 14.67 found optimum: False\n",
      "search: 2 iteration: 220 c: 2.5749999999999997 loss: 14.95 found optimum: False\n",
      "search: 2 iteration: 240 c: 2.5749999999999997 loss: 14.90 found optimum: False\n",
      "search: 2 iteration: 260 c: 2.5749999999999997 loss: 15.21 found optimum: False\n",
      "search: 2 iteration: 280 c: 2.5749999999999997 loss: 15.21 found optimum: False\n",
      "search: 2 iteration: 300 c: 2.5749999999999997 loss: 15.21 found optimum: False\n"
     ]
    },
    {
     "name": "stdout",
     "output_type": "stream",
     "text": [
      "search: 2 iteration: 320 c: 2.5749999999999997 loss: 15.21 found optimum: False\n",
      "search: 2 iteration: 340 c: 2.5749999999999997 loss: 15.21 found optimum: False\n",
      "search: 2 iteration: 360 c: 2.5749999999999997 loss: 15.21 found optimum: False\n",
      "search: 2 iteration: 380 c: 2.5749999999999997 loss: 15.22 found optimum: False\n",
      "search: 2 iteration: 400 c: 2.5749999999999997 loss: 15.22 found optimum: False\n",
      "search: 2 iteration: 420 c: 2.5749999999999997 loss: 15.22 found optimum: False\n",
      "search: 2 iteration: 440 c: 2.5749999999999997 loss: 15.22 found optimum: False\n",
      "search: 2 iteration: 460 c: 2.5749999999999997 loss: 15.22 found optimum: False\n",
      "search: 2 iteration: 480 c: 2.5749999999999997 loss: 15.22 found optimum: False\n",
      "search: 2 iteration: 500 c: 2.5749999999999997 loss: 15.22 found optimum: False\n",
      "search: 2 iteration: 520 c: 2.5749999999999997 loss: 15.22 found optimum: False\n",
      "search: 2 iteration: 540 c: 2.5749999999999997 loss: 15.22 found optimum: False\n",
      "search: 2 iteration: 560 c: 2.5749999999999997 loss: 15.22 found optimum: False\n",
      "search: 2 iteration: 580 c: 2.5749999999999997 loss: 15.22 found optimum: False\n",
      "search: 2 iteration: 600 c: 2.5749999999999997 loss: 15.33 found optimum: False\n",
      "search: 2 iteration: 620 c: 2.5749999999999997 loss: 15.35 found optimum: False\n",
      "search: 2 iteration: 640 c: 2.5749999999999997 loss: 15.38 found optimum: False\n",
      "search: 2 iteration: 660 c: 2.5749999999999997 loss: 15.40 found optimum: False\n",
      "search: 2 iteration: 680 c: 2.5749999999999997 loss: 15.40 found optimum: False\n",
      "search: 2 iteration: 700 c: 2.5749999999999997 loss: 15.40 found optimum: False\n",
      "search: 2 iteration: 720 c: 2.5749999999999997 loss: 15.42 found optimum: False\n",
      "search: 2 iteration: 740 c: 2.5749999999999997 loss: 15.43 found optimum: False\n",
      "search: 2 iteration: 760 c: 2.5749999999999997 loss: 18.12 found optimum: False\n",
      "search: 2 iteration: 780 c: 2.5749999999999997 loss: 19.22 found optimum: False\n",
      "search: 2 iteration: 800 c: 2.5749999999999997 loss: 19.24 found optimum: False\n",
      "search: 2 iteration: 820 c: 2.5749999999999997 loss: 19.75 found optimum: False\n",
      "search: 2 iteration: 840 c: 2.5749999999999997 loss: 20.94 found optimum: False\n",
      "search: 2 iteration: 860 c: 2.5749999999999997 loss: 23.16 found optimum: False\n",
      "search: 2 iteration: 880 c: 2.5749999999999997 loss: 24.27 found optimum: False\n",
      "search: 2 iteration: 900 c: 2.5749999999999997 loss: 24.51 found optimum: False\n",
      "search: 2 iteration: 920 c: 2.5749999999999997 loss: 24.54 found optimum: False\n",
      "search: 2 iteration: 940 c: 2.5749999999999997 loss: 27.97 found optimum: False\n",
      "search: 2 iteration: 960 c: 2.5749999999999997 loss: 28.60 found optimum: False\n",
      "search: 2 iteration: 980 c: 2.5749999999999997 loss: 29.43 found optimum: False\n",
      "search: 2 iteration: 1000 c: 2.5749999999999997 loss: 34.79 found optimum: False\n",
      "search: 3 iteration: 20 c: 25.749999999999996 loss: 51.79 found optimum: True\n",
      "search: 3 iteration: 40 c: 25.749999999999996 loss: 190.04 found optimum: True\n",
      "search: 3 iteration: 60 c: 25.749999999999996 loss: 96.78 found optimum: True\n",
      "search: 3 iteration: 80 c: 25.749999999999996 loss: 41.12 found optimum: True\n",
      "search: 3 iteration: 100 c: 25.749999999999996 loss: 53.11 found optimum: True\n",
      "search: 3 iteration: 120 c: 25.749999999999996 loss: 87.05 found optimum: True\n",
      "search: 3 iteration: 140 c: 25.749999999999996 loss: 37.26 found optimum: True\n",
      "search: 3 iteration: 160 c: 25.749999999999996 loss: 33.73 found optimum: True\n",
      "search: 3 iteration: 180 c: 25.749999999999996 loss: 28.88 found optimum: True\n",
      "search: 3 iteration: 200 c: 25.749999999999996 loss: 138.43 found optimum: True\n",
      "search: 3 iteration: 220 c: 25.749999999999996 loss: 43.90 found optimum: True\n",
      "search: 3 iteration: 240 c: 25.749999999999996 loss: 54.71 found optimum: True\n",
      "search: 3 iteration: 260 c: 25.749999999999996 loss: 39.11 found optimum: True\n",
      "search: 3 iteration: 280 c: 25.749999999999996 loss: 42.09 found optimum: True\n",
      "search: 3 iteration: 300 c: 25.749999999999996 loss: 34.49 found optimum: True\n",
      "search: 3 iteration: 320 c: 25.749999999999996 loss: 37.29 found optimum: True\n",
      "search: 3 iteration: 340 c: 25.749999999999996 loss: 306.70 found optimum: True\n",
      "search: 3 iteration: 360 c: 25.749999999999996 loss: 270.14 found optimum: True\n",
      "search: 3 iteration: 380 c: 25.749999999999996 loss: 45.15 found optimum: True\n",
      "search: 3 iteration: 400 c: 25.749999999999996 loss: 75.63 found optimum: True\n",
      "search: 3 iteration: 420 c: 25.749999999999996 loss: 39.89 found optimum: True\n",
      "search: 3 iteration: 440 c: 25.749999999999996 loss: 120.34 found optimum: True\n",
      "search: 3 iteration: 460 c: 25.749999999999996 loss: 138.93 found optimum: True\n",
      "search: 3 iteration: 480 c: 25.749999999999996 loss: 39.26 found optimum: True\n",
      "search: 3 iteration: 500 c: 25.749999999999996 loss: 53.05 found optimum: True\n",
      "search: 3 iteration: 520 c: 25.749999999999996 loss: 65.79 found optimum: True\n",
      "search: 3 iteration: 540 c: 25.749999999999996 loss: 25.80 found optimum: True\n",
      "search: 3 iteration: 560 c: 25.749999999999996 loss: 158.40 found optimum: True\n",
      "search: 3 iteration: 580 c: 25.749999999999996 loss: 39.23 found optimum: True\n",
      "search: 3 iteration: 600 c: 25.749999999999996 loss: 231.03 found optimum: True\n",
      "search: 3 iteration: 620 c: 25.749999999999996 loss: 67.28 found optimum: True\n",
      "search: 3 iteration: 640 c: 25.749999999999996 loss: 46.54 found optimum: True\n",
      "search: 3 iteration: 660 c: 25.749999999999996 loss: 105.22 found optimum: True\n",
      "search: 3 iteration: 680 c: 25.749999999999996 loss: 36.78 found optimum: True\n",
      "search: 3 iteration: 700 c: 25.749999999999996 loss: 22.39 found optimum: True\n",
      "search: 3 iteration: 720 c: 25.749999999999996 loss: 29.07 found optimum: True\n",
      "search: 3 iteration: 740 c: 25.749999999999996 loss: 68.03 found optimum: True\n",
      "search: 3 iteration: 760 c: 25.749999999999996 loss: 23.41 found optimum: True\n",
      "search: 3 iteration: 780 c: 25.749999999999996 loss: 27.34 found optimum: True\n",
      "search: 3 iteration: 800 c: 25.749999999999996 loss: 25.73 found optimum: True\n",
      "search: 3 iteration: 820 c: 25.749999999999996 loss: 21.49 found optimum: True\n",
      "search: 3 iteration: 840 c: 25.749999999999996 loss: 80.24 found optimum: True\n",
      "search: 3 iteration: 860 c: 25.749999999999996 loss: 150.11 found optimum: True\n",
      "search: 3 iteration: 880 c: 25.749999999999996 loss: 26.93 found optimum: True\n",
      "search: 3 iteration: 900 c: 25.749999999999996 loss: 28.10 found optimum: True\n",
      "search: 3 iteration: 920 c: 25.749999999999996 loss: 28.47 found optimum: True\n",
      "search: 3 iteration: 940 c: 25.749999999999996 loss: 19.91 found optimum: True\n",
      "search: 3 iteration: 960 c: 25.749999999999996 loss: 48.08 found optimum: True\n",
      "search: 3 iteration: 980 c: 25.749999999999996 loss: 99.54 found optimum: True\n",
      "search: 3 iteration: 1000 c: 25.749999999999996 loss: 49.29 found optimum: True\n",
      "search: 4 iteration: 20 c: 12.924999999999999 loss: 52.02 found optimum: True\n",
      "search: 4 iteration: 40 c: 12.924999999999999 loss: 85.04 found optimum: True\n",
      "search: 4 iteration: 60 c: 12.924999999999999 loss: 33.13 found optimum: True\n",
      "search: 4 iteration: 80 c: 12.924999999999999 loss: 50.56 found optimum: True\n",
      "search: 4 iteration: 100 c: 12.924999999999999 loss: 45.03 found optimum: True\n",
      "search: 4 iteration: 120 c: 12.924999999999999 loss: 35.46 found optimum: True\n",
      "search: 4 iteration: 140 c: 12.924999999999999 loss: 32.40 found optimum: True\n",
      "search: 4 iteration: 160 c: 12.924999999999999 loss: 21.78 found optimum: True\n",
      "search: 4 iteration: 180 c: 12.924999999999999 loss: 21.16 found optimum: True\n",
      "search: 4 iteration: 200 c: 12.924999999999999 loss: 21.29 found optimum: True\n",
      "search: 4 iteration: 220 c: 12.924999999999999 loss: 23.43 found optimum: True\n",
      "search: 4 iteration: 240 c: 12.924999999999999 loss: 26.45 found optimum: True\n",
      "search: 4 iteration: 260 c: 12.924999999999999 loss: 27.79 found optimum: True\n",
      "search: 4 iteration: 280 c: 12.924999999999999 loss: 48.76 found optimum: True\n",
      "search: 4 iteration: 300 c: 12.924999999999999 loss: 15.56 found optimum: True\n",
      "search: 4 iteration: 320 c: 12.924999999999999 loss: 21.63 found optimum: True\n",
      "search: 4 iteration: 340 c: 12.924999999999999 loss: 71.78 found optimum: True\n",
      "search: 4 iteration: 360 c: 12.924999999999999 loss: 20.28 found optimum: True\n"
     ]
    },
    {
     "name": "stdout",
     "output_type": "stream",
     "text": [
      "search: 4 iteration: 380 c: 12.924999999999999 loss: 22.21 found optimum: True\n",
      "search: 4 iteration: 400 c: 12.924999999999999 loss: 24.46 found optimum: True\n",
      "search: 4 iteration: 420 c: 12.924999999999999 loss: 74.75 found optimum: True\n",
      "search: 4 iteration: 440 c: 12.924999999999999 loss: 22.90 found optimum: True\n",
      "search: 4 iteration: 460 c: 12.924999999999999 loss: 22.40 found optimum: True\n",
      "search: 4 iteration: 480 c: 12.924999999999999 loss: 78.20 found optimum: True\n",
      "search: 4 iteration: 500 c: 12.924999999999999 loss: 51.97 found optimum: True\n",
      "search: 4 iteration: 520 c: 12.924999999999999 loss: 88.36 found optimum: True\n",
      "search: 4 iteration: 540 c: 12.924999999999999 loss: 18.47 found optimum: True\n",
      "search: 4 iteration: 560 c: 12.924999999999999 loss: 24.11 found optimum: True\n",
      "search: 4 iteration: 580 c: 12.924999999999999 loss: 22.12 found optimum: True\n",
      "search: 4 iteration: 600 c: 12.924999999999999 loss: 21.37 found optimum: True\n",
      "search: 4 iteration: 620 c: 12.924999999999999 loss: 19.78 found optimum: True\n",
      "search: 4 iteration: 640 c: 12.924999999999999 loss: 18.47 found optimum: True\n",
      "search: 4 iteration: 660 c: 12.924999999999999 loss: 22.08 found optimum: True\n",
      "search: 4 iteration: 680 c: 12.924999999999999 loss: 18.49 found optimum: True\n",
      "search: 4 iteration: 700 c: 12.924999999999999 loss: 85.78 found optimum: True\n",
      "search: 4 iteration: 720 c: 12.924999999999999 loss: 15.32 found optimum: True\n",
      "search: 4 iteration: 740 c: 12.924999999999999 loss: 34.09 found optimum: True\n",
      "search: 4 iteration: 760 c: 12.924999999999999 loss: 19.81 found optimum: True\n",
      "search: 4 iteration: 780 c: 12.924999999999999 loss: 15.91 found optimum: True\n",
      "search: 4 iteration: 800 c: 12.924999999999999 loss: 15.74 found optimum: True\n",
      "search: 4 iteration: 820 c: 12.924999999999999 loss: 15.70 found optimum: True\n",
      "search: 4 iteration: 840 c: 12.924999999999999 loss: 65.65 found optimum: True\n",
      "search: 4 iteration: 860 c: 12.924999999999999 loss: 59.23 found optimum: True\n",
      "search: 4 iteration: 880 c: 12.924999999999999 loss: 14.38 found optimum: True\n",
      "search: 4 iteration: 900 c: 12.924999999999999 loss: 75.81 found optimum: True\n",
      "search: 4 iteration: 920 c: 12.924999999999999 loss: 13.56 found optimum: True\n",
      "search: 4 iteration: 940 c: 12.924999999999999 loss: 14.41 found optimum: True\n",
      "search: 4 iteration: 960 c: 12.924999999999999 loss: 23.36 found optimum: True\n",
      "search: 4 iteration: 980 c: 12.924999999999999 loss: 46.78 found optimum: True\n",
      "search: 4 iteration: 1000 c: 12.924999999999999 loss: 75.76 found optimum: True\n",
      "search: 5 iteration: 20 c: 6.512499999999999 loss: 33.34 found optimum: True\n",
      "search: 5 iteration: 40 c: 6.512499999999999 loss: 17.26 found optimum: True\n",
      "search: 5 iteration: 60 c: 6.512499999999999 loss: 40.65 found optimum: True\n",
      "search: 5 iteration: 80 c: 6.512499999999999 loss: 29.01 found optimum: True\n",
      "search: 5 iteration: 100 c: 6.512499999999999 loss: 15.32 found optimum: True\n",
      "search: 5 iteration: 120 c: 6.512499999999999 loss: 15.70 found optimum: True\n",
      "search: 5 iteration: 140 c: 6.512499999999999 loss: 33.99 found optimum: True\n",
      "search: 5 iteration: 160 c: 6.512499999999999 loss: 17.02 found optimum: True\n",
      "search: 5 iteration: 180 c: 6.512499999999999 loss: 32.98 found optimum: True\n",
      "search: 5 iteration: 200 c: 6.512499999999999 loss: 33.30 found optimum: True\n",
      "search: 5 iteration: 220 c: 6.512499999999999 loss: 15.25 found optimum: True\n",
      "search: 5 iteration: 240 c: 6.512499999999999 loss: 41.81 found optimum: True\n",
      "search: 5 iteration: 260 c: 6.512499999999999 loss: 16.75 found optimum: True\n",
      "search: 5 iteration: 280 c: 6.512499999999999 loss: 20.16 found optimum: True\n",
      "search: 5 iteration: 300 c: 6.512499999999999 loss: 15.14 found optimum: True\n",
      "search: 5 iteration: 320 c: 6.512499999999999 loss: 33.83 found optimum: True\n",
      "search: 5 iteration: 340 c: 6.512499999999999 loss: 15.18 found optimum: True\n",
      "search: 5 iteration: 360 c: 6.512499999999999 loss: 43.24 found optimum: True\n",
      "new best: 13.413679122924805\n",
      "search: 5 iteration: 380 c: 6.512499999999999 loss: 13.41 found optimum: True\n",
      "search: 5 iteration: 400 c: 6.512499999999999 loss: 33.72 found optimum: True\n",
      "search: 5 iteration: 420 c: 6.512499999999999 loss: 14.15 found optimum: True\n",
      "search: 5 iteration: 440 c: 6.512499999999999 loss: 14.64 found optimum: True\n",
      "search: 5 iteration: 460 c: 6.512499999999999 loss: 16.07 found optimum: True\n",
      "search: 5 iteration: 480 c: 6.512499999999999 loss: 13.45 found optimum: True\n",
      "search: 5 iteration: 500 c: 6.512499999999999 loss: 13.41 found optimum: True\n",
      "search: 5 iteration: 520 c: 6.512499999999999 loss: 29.34 found optimum: True\n",
      "search: 5 iteration: 540 c: 6.512499999999999 loss: 46.65 found optimum: True\n",
      "search: 5 iteration: 560 c: 6.512499999999999 loss: 43.52 found optimum: True\n",
      "search: 5 iteration: 580 c: 6.512499999999999 loss: 25.07 found optimum: True\n",
      "search: 5 iteration: 600 c: 6.512499999999999 loss: 40.24 found optimum: True\n",
      "search: 5 iteration: 620 c: 6.512499999999999 loss: 44.13 found optimum: True\n",
      "search: 5 iteration: 640 c: 6.512499999999999 loss: 41.90 found optimum: True\n",
      "search: 5 iteration: 660 c: 6.512499999999999 loss: 42.88 found optimum: True\n",
      "search: 5 iteration: 680 c: 6.512499999999999 loss: 28.72 found optimum: True\n",
      "search: 5 iteration: 700 c: 6.512499999999999 loss: 27.25 found optimum: True\n",
      "search: 5 iteration: 720 c: 6.512499999999999 loss: 13.86 found optimum: True\n",
      "search: 5 iteration: 740 c: 6.512499999999999 loss: 33.75 found optimum: True\n",
      "search: 5 iteration: 760 c: 6.512499999999999 loss: 20.04 found optimum: True\n",
      "search: 5 iteration: 780 c: 6.512499999999999 loss: 16.61 found optimum: True\n",
      "search: 5 iteration: 800 c: 6.512499999999999 loss: 19.84 found optimum: True\n",
      "search: 5 iteration: 820 c: 6.512499999999999 loss: 20.67 found optimum: True\n",
      "search: 5 iteration: 840 c: 6.512499999999999 loss: 20.43 found optimum: True\n",
      "search: 5 iteration: 860 c: 6.512499999999999 loss: 21.29 found optimum: True\n",
      "search: 5 iteration: 880 c: 6.512499999999999 loss: 21.38 found optimum: True\n",
      "search: 5 iteration: 900 c: 6.512499999999999 loss: 22.07 found optimum: True\n",
      "search: 5 iteration: 920 c: 6.512499999999999 loss: 22.07 found optimum: True\n",
      "search: 5 iteration: 940 c: 6.512499999999999 loss: 22.07 found optimum: True\n",
      "search: 5 iteration: 960 c: 6.512499999999999 loss: 22.66 found optimum: True\n",
      "search: 5 iteration: 980 c: 6.512499999999999 loss: 39.10 found optimum: True\n",
      "search: 5 iteration: 1000 c: 6.512499999999999 loss: 74.74 found optimum: True\n",
      "search: 6 iteration: 20 c: 3.3062499999999995 loss: 15.09 found optimum: True\n",
      "search: 6 iteration: 40 c: 3.3062499999999995 loss: 14.80 found optimum: True\n",
      "search: 6 iteration: 60 c: 3.3062499999999995 loss: 27.51 found optimum: True\n",
      "search: 6 iteration: 80 c: 3.3062499999999995 loss: 13.38 found optimum: True\n",
      "search: 6 iteration: 100 c: 3.3062499999999995 loss: 14.62 found optimum: True\n",
      "search: 6 iteration: 120 c: 3.3062499999999995 loss: 14.11 found optimum: True\n",
      "search: 6 iteration: 140 c: 3.3062499999999995 loss: 14.96 found optimum: True\n",
      "search: 6 iteration: 160 c: 3.3062499999999995 loss: 15.29 found optimum: True\n",
      "search: 6 iteration: 180 c: 3.3062499999999995 loss: 14.87 found optimum: True\n",
      "search: 6 iteration: 200 c: 3.3062499999999995 loss: 15.64 found optimum: True\n",
      "search: 6 iteration: 220 c: 3.3062499999999995 loss: 15.24 found optimum: True\n",
      "search: 6 iteration: 240 c: 3.3062499999999995 loss: 15.44 found optimum: True\n",
      "search: 6 iteration: 260 c: 3.3062499999999995 loss: 15.69 found optimum: True\n",
      "search: 6 iteration: 280 c: 3.3062499999999995 loss: 15.65 found optimum: True\n",
      "search: 6 iteration: 300 c: 3.3062499999999995 loss: 15.86 found optimum: True\n",
      "search: 6 iteration: 320 c: 3.3062499999999995 loss: 15.49 found optimum: True\n",
      "search: 6 iteration: 340 c: 3.3062499999999995 loss: 15.94 found optimum: True\n",
      "search: 6 iteration: 360 c: 3.3062499999999995 loss: 15.76 found optimum: True\n",
      "search: 6 iteration: 380 c: 3.3062499999999995 loss: 16.23 found optimum: True\n",
      "search: 6 iteration: 400 c: 3.3062499999999995 loss: 15.76 found optimum: True\n",
      "search: 6 iteration: 420 c: 3.3062499999999995 loss: 25.01 found optimum: True\n",
      "search: 6 iteration: 440 c: 3.3062499999999995 loss: 16.00 found optimum: True\n"
     ]
    },
    {
     "name": "stdout",
     "output_type": "stream",
     "text": [
      "search: 6 iteration: 460 c: 3.3062499999999995 loss: 15.99 found optimum: True\n",
      "search: 6 iteration: 480 c: 3.3062499999999995 loss: 16.01 found optimum: True\n",
      "search: 6 iteration: 500 c: 3.3062499999999995 loss: 16.06 found optimum: True\n",
      "search: 6 iteration: 520 c: 3.3062499999999995 loss: 16.48 found optimum: True\n",
      "search: 6 iteration: 540 c: 3.3062499999999995 loss: 16.48 found optimum: True\n",
      "search: 6 iteration: 560 c: 3.3062499999999995 loss: 16.48 found optimum: True\n",
      "search: 6 iteration: 580 c: 3.3062499999999995 loss: 16.48 found optimum: True\n",
      "search: 6 iteration: 600 c: 3.3062499999999995 loss: 16.48 found optimum: True\n",
      "search: 6 iteration: 620 c: 3.3062499999999995 loss: 16.49 found optimum: True\n",
      "search: 6 iteration: 640 c: 3.3062499999999995 loss: 16.49 found optimum: True\n",
      "search: 6 iteration: 660 c: 3.3062499999999995 loss: 16.49 found optimum: True\n",
      "search: 6 iteration: 680 c: 3.3062499999999995 loss: 16.49 found optimum: True\n",
      "search: 6 iteration: 700 c: 3.3062499999999995 loss: 16.49 found optimum: True\n",
      "search: 6 iteration: 720 c: 3.3062499999999995 loss: 16.49 found optimum: True\n",
      "search: 6 iteration: 740 c: 3.3062499999999995 loss: 16.49 found optimum: True\n",
      "search: 6 iteration: 760 c: 3.3062499999999995 loss: 16.61 found optimum: True\n",
      "search: 6 iteration: 780 c: 3.3062499999999995 loss: 16.73 found optimum: True\n",
      "search: 6 iteration: 800 c: 3.3062499999999995 loss: 16.73 found optimum: True\n",
      "search: 6 iteration: 820 c: 3.3062499999999995 loss: 16.76 found optimum: True\n",
      "search: 6 iteration: 840 c: 3.3062499999999995 loss: 17.35 found optimum: True\n",
      "search: 6 iteration: 860 c: 3.3062499999999995 loss: 21.31 found optimum: True\n",
      "search: 6 iteration: 880 c: 3.3062499999999995 loss: 22.70 found optimum: True\n",
      "search: 6 iteration: 900 c: 3.3062499999999995 loss: 24.11 found optimum: True\n",
      "search: 6 iteration: 920 c: 3.3062499999999995 loss: 26.69 found optimum: True\n",
      "search: 6 iteration: 940 c: 3.3062499999999995 loss: 30.31 found optimum: True\n",
      "search: 6 iteration: 960 c: 3.3062499999999995 loss: 30.63 found optimum: True\n",
      "search: 6 iteration: 980 c: 3.3062499999999995 loss: 36.15 found optimum: True\n",
      "search: 6 iteration: 1000 c: 3.3062499999999995 loss: 44.52 found optimum: True\n",
      "search: 7 iteration: 20 c: 1.7031249999999998 loss: 14.14 found optimum: False\n",
      "search: 7 iteration: 40 c: 1.7031249999999998 loss: 14.39 found optimum: False\n",
      "search: 7 iteration: 60 c: 1.7031249999999998 loss: 14.43 found optimum: False\n",
      "search: 7 iteration: 80 c: 1.7031249999999998 loss: 14.42 found optimum: False\n",
      "search: 7 iteration: 100 c: 1.7031249999999998 loss: 14.43 found optimum: False\n",
      "search: 7 iteration: 120 c: 1.7031249999999998 loss: 14.45 found optimum: False\n",
      "search: 7 iteration: 140 c: 1.7031249999999998 loss: 14.43 found optimum: False\n",
      "search: 7 iteration: 160 c: 1.7031249999999998 loss: 14.44 found optimum: False\n",
      "search: 7 iteration: 180 c: 1.7031249999999998 loss: 14.45 found optimum: False\n",
      "search: 7 iteration: 200 c: 1.7031249999999998 loss: 14.51 found optimum: False\n",
      "search: 7 iteration: 220 c: 1.7031249999999998 loss: 14.48 found optimum: False\n",
      "search: 7 iteration: 240 c: 1.7031249999999998 loss: 14.49 found optimum: False\n",
      "search: 7 iteration: 260 c: 1.7031249999999998 loss: 14.50 found optimum: False\n",
      "search: 7 iteration: 280 c: 1.7031249999999998 loss: 14.51 found optimum: False\n",
      "search: 7 iteration: 300 c: 1.7031249999999998 loss: 14.52 found optimum: False\n",
      "search: 7 iteration: 320 c: 1.7031249999999998 loss: 14.58 found optimum: False\n",
      "search: 7 iteration: 340 c: 1.7031249999999998 loss: 14.58 found optimum: False\n",
      "search: 7 iteration: 360 c: 1.7031249999999998 loss: 14.61 found optimum: False\n",
      "search: 7 iteration: 380 c: 1.7031249999999998 loss: 14.59 found optimum: False\n",
      "search: 7 iteration: 400 c: 1.7031249999999998 loss: 14.62 found optimum: False\n",
      "search: 7 iteration: 420 c: 1.7031249999999998 loss: 14.64 found optimum: False\n",
      "search: 7 iteration: 440 c: 1.7031249999999998 loss: 14.68 found optimum: False\n",
      "search: 7 iteration: 460 c: 1.7031249999999998 loss: 14.72 found optimum: False\n",
      "search: 7 iteration: 480 c: 1.7031249999999998 loss: 15.18 found optimum: False\n",
      "search: 7 iteration: 500 c: 1.7031249999999998 loss: 15.48 found optimum: False\n",
      "search: 7 iteration: 520 c: 1.7031249999999998 loss: 15.47 found optimum: False\n",
      "search: 7 iteration: 540 c: 1.7031249999999998 loss: 15.46 found optimum: False\n",
      "search: 7 iteration: 560 c: 1.7031249999999998 loss: 15.92 found optimum: False\n",
      "search: 7 iteration: 580 c: 1.7031249999999998 loss: 16.02 found optimum: False\n",
      "search: 7 iteration: 600 c: 1.7031249999999998 loss: 16.00 found optimum: False\n",
      "search: 7 iteration: 620 c: 1.7031249999999998 loss: 15.99 found optimum: False\n",
      "search: 7 iteration: 640 c: 1.7031249999999998 loss: 16.01 found optimum: False\n",
      "search: 7 iteration: 660 c: 1.7031249999999998 loss: 16.02 found optimum: False\n"
     ]
    }
   ],
   "source": [
    "# find pertinent negatives\n",
    "mode = \"PN\"\n",
    "CEM.fista(image, mode=mode)"
   ]
  },
  {
   "cell_type": "code",
   "execution_count": null,
   "metadata": {},
   "outputs": [],
   "source": [
    "plt.imshow(image.squeeze())"
   ]
  },
  {
   "cell_type": "code",
   "execution_count": null,
   "metadata": {},
   "outputs": [],
   "source": [
    "# perturbation\n",
    "plt.imshow(image.squeeze()- CEM.best_delta.view(28,28), cmap=\"gray\")\n",
    "plt.show()\n",
    "plt.imshow(CEM.best_delta.view(28,28) - image.squeeze(), cmap=\"gray\")\n",
    "plt.show()"
   ]
  },
  {
   "cell_type": "code",
   "execution_count": null,
   "metadata": {},
   "outputs": [],
   "source": [
    "# original image with perturbation\n",
    "plt.imshow(CEM.best_delta.view(28,28))\n",
    "plt.show()\n",
    "\n",
    "plt.imshow(image.view(28,28))\n",
    "plt.show()"
   ]
  },
  {
   "cell_type": "code",
   "execution_count": null,
   "metadata": {},
   "outputs": [],
   "source": [
    "# classification before\n",
    "before = np.argmax(cnn(image.squeeze(-1)).detach()).item()\n",
    "before"
   ]
  },
  {
   "cell_type": "code",
   "execution_count": null,
   "metadata": {},
   "outputs": [],
   "source": [
    "# classification after\n",
    "after = np.argmax(cnn(CEM.best_delta.view(1,28,28)).detach()).item()\n",
    "after"
   ]
  },
  {
   "cell_type": "code",
   "execution_count": null,
   "metadata": {
    "scrolled": true
   },
   "outputs": [],
   "source": [
    "# classification of delta\n",
    "class_delta = np.argmax(cnn(image.squeeze(-1) - CEM.best_delta.view(1,28,28)).detach()).item()\n",
    "class_delta"
   ]
  },
  {
   "cell_type": "code",
   "execution_count": null,
   "metadata": {},
   "outputs": [],
   "source": [
    "dirname = \"saved_perturbations/mode-{}-kappa-{}-gamma-{}-beta-{}-lr-{}\".format(mode, kappa, gamma, beta, lr)\n",
    "os.makedirs(dirname, exist_ok=True)\n",
    "fname_orig = dirname + \"/{}-cb-{}-ca-{}-orig.png\".format(int(time.time()), before, after)\n",
    "fname_pert = dirname + \"/{}-before-{}-after-{}-pert.png\".format(int(time.time()), before, after)\n",
    "fname_combined = dirname + \"/{}-before-{}-after-{}-pn.png\".format(int(time.time()), before, after)\n",
    "fname_combined_pp = dirname + \"/{}-before-{}-after-{}-pp.png\".format(int(time.time()), before, after)\n",
    "plt.imsave(fname_orig, image.squeeze(), cmap=\"gray\")\n",
    "plt.imsave(fname_pert, CEM.best_delta.view(28,28) - image.squeeze(), cmap=\"gray\")\n",
    "plt.imsave(fname_combined, CEM.best_delta.view(28,28), cmap=\"gray\")\n",
    "plt.imsave(fname_combined_pp, image.squeeze() - CEM.best_delta.view(28,28), cmap=\"gray\")"
   ]
  },
  {
   "cell_type": "code",
   "execution_count": 18,
   "metadata": {},
   "outputs": [
    {
     "data": {
      "text/plain": [
       "<matplotlib.image.AxesImage at 0x1c296de0a90>"
      ]
     },
     "execution_count": 18,
     "metadata": {},
     "output_type": "execute_result"
    },
    {
     "data": {
      "image/png": "[encoded data removed]",
      "text/plain": [
       "<Figure size 432x288 with 1 Axes>"
      ]
     },
     "metadata": {
      "needs_background": "light"
     },
     "output_type": "display_data"
    }
   ],
   "source": [
    "plt.imshow(cae(CEM.best_delta.view(1,1,28,28)+0.5).view(28,28).detach())"
   ]
  },
  {
   "cell_type": "code",
   "execution_count": 19,
   "metadata": {},
   "outputs": [
    {
     "data": {
      "text/plain": [
       "<matplotlib.image.AxesImage at 0x1c29a6f7f28>"
      ]
     },
     "execution_count": 19,
     "metadata": {},
     "output_type": "execute_result"
    },
    {
     "data": {
      "image/png": "[encoded data removed]",
      "text/plain": [
       "<Figure size 432x288 with 1 Axes>"
      ]
     },
     "metadata": {
      "needs_background": "light"
     },
     "output_type": "display_data"
    }
   ],
   "source": [
    "plt.imshow(image.squeeze() - CEM.best_delta.view(28,28).detach())"
   ]
  },
  {
   "cell_type": "code",
   "execution_count": 20,
   "metadata": {},
   "outputs": [],
   "source": [
    "# for d in CEM.saved_deltas:\n",
    "#     plt.imshow(d.view(28,28), cmap=\"gray\")\n",
    "#     plt.show()\n",
    "#     plt.imshow(d.view(28,28) - image.squeeze(), cmap=\"gray\")\n",
    "#     plt.show()"
   ]
  },
  {
   "cell_type": "code",
   "execution_count": null,
   "metadata": {},
   "outputs": [],
   "source": []
  }
 ],
 "metadata": {
  "kernelspec": {
   "display_name": "Python 3",
   "language": "python",
   "name": "python3"
  },
  "language_info": {
   "codemirror_mode": {
    "name": "ipython",
    "version": 3
   },
   "file_extension": ".py",
   "mimetype": "text/x-python",
   "name": "python",
   "nbconvert_exporter": "python",
   "pygments_lexer": "ipython3",
   "version": "3.7.0"
  }
 },
 "nbformat": 4,
 "nbformat_minor": 2
}
