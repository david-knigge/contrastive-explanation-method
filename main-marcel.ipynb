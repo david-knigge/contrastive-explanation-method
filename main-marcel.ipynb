{
 "cells": [
  {
   "cell_type": "code",
   "execution_count": 1,
   "metadata": {},
   "outputs": [],
   "source": [
    "import matplotlib.pyplot as plt\n",
    "import numpy as np\n",
    "\n",
    "from datasets.mnist import MNIST\n",
    "\n",
    "from models.cae_model import CAE\n",
    "from models.conv_model import CNN\n",
    "\n",
    "from train import train_ae, train_cnn\n",
    "\n",
    "from models.cem_ibm_model import AEADEN "
   ]
  },
  {
   "cell_type": "code",
   "execution_count": 2,
   "metadata": {},
   "outputs": [],
   "source": [
    "dataset = MNIST(batch_size=64)\n",
    "# dataset = FashionMNIST()"
   ]
  },
  {
   "cell_type": "markdown",
   "metadata": {},
   "source": [
    "# Training the classifier"
   ]
  },
  {
   "cell_type": "code",
   "execution_count": 3,
   "metadata": {},
   "outputs": [],
   "source": [
    "cnn = CNN(device='cpu')\n",
    "\n",
    "train_cnn(cnn, dataset, iterations=50, lr=0.01, device='cpu', save_fn='mnist-cnn-rescaled', load_path=\"models/saved_models/mnist-cnn.h5\")"
   ]
  },
  {
   "cell_type": "code",
   "execution_count": 4,
   "metadata": {},
   "outputs": [
    {
     "name": "stderr",
     "output_type": "stream",
     "text": [
      "D:\\Programmeren\\uva-fact-ai\\models\\conv_model.py:50: UserWarning: Implicit dimension choice for softmax has been deprecated. Change the call to include dim=X as an argument.\n",
      "  out = nn.functional.softmax(out)\n"
     ]
    }
   ],
   "source": [
    "images, _ = dataset.get_batch()\n",
    "\n",
    "output = cnn(images)\n",
    "\n",
    "images = images.numpy()\n",
    "output = output.detach().numpy()\n"
   ]
  },
  {
   "cell_type": "markdown",
   "metadata": {},
   "source": [
    "# Training the autoencoder"
   ]
  },
  {
   "cell_type": "markdown",
   "metadata": {},
   "source": [
    "This section trains the autoencoder which will be used as regularizer for the data space which the perturbations are found in."
   ]
  },
  {
   "cell_type": "code",
   "execution_count": 5,
   "metadata": {},
   "outputs": [],
   "source": [
    "# Train or load autoencoder\n",
    "cae = CAE()\n",
    "\n",
    "train_ae(cae, dataset, iterations=2, save_fn=\"mnist-cae\", load_path=\"./models/saved_models/mnist-cae-no-rs.h5\")"
   ]
  },
  {
   "cell_type": "code",
   "execution_count": 6,
   "metadata": {},
   "outputs": [
    {
     "data": {
      "image/png": "[encoded data removed]",
      "text/plain": [
       "<Figure size 1800x288 with 8 Axes>"
      ]
     },
     "metadata": {
      "needs_background": "light"
     },
     "output_type": "display_data"
    }
   ],
   "source": [
    "# obtain one batch of test images\n",
    "images, _ = dataset.get_batch()\n",
    "\n",
    "#images_flatten = images.view(images.size(0), -1)\n",
    "# get sample outputs\n",
    "output = cae(images)\n",
    "# prep images for display\n",
    "images = images.numpy()\n",
    "\n",
    "# output is resized into a batch of images\n",
    "# output = output.view(batch_size, 1, 28, 28)\n",
    "# use detach when it's an output that requires_grad\n",
    "output = output.detach().numpy()\n",
    "\n",
    "# plot the first ten input images and then reconstructed images\n",
    "fig, axes = plt.subplots(nrows=2, ncols=4, sharex=True, sharey=True, figsize=(25,4))\n",
    "\n",
    "# input images on top row, reconstructions on bottom\n",
    "for images, row in zip([images, output], axes):\n",
    "    for img, ax in zip(images, row):\n",
    "        ax.imshow(np.squeeze(img), cmap='gray')\n",
    "        ax.get_xaxis().set_visible(False)\n",
    "        ax.get_yaxis().set_visible(False)"
   ]
  },
  {
   "cell_type": "markdown",
   "metadata": {},
   "source": [
    "# Contrastive Explanation Method"
   ]
  },
  {
   "cell_type": "code",
   "execution_count": 7,
   "metadata": {},
   "outputs": [],
   "source": [
    "CEM = AEADEN(model=cnn, AE=cae, max_iterations=1000, n_searches=9, kappa=10, gamma=100)"
   ]
  },
  {
   "cell_type": "code",
   "execution_count": 8,
   "metadata": {},
   "outputs": [
    {
     "name": "stdout",
     "output_type": "stream",
     "text": [
      "tensor(1)\n"
     ]
    },
    {
     "data": {
      "image/png": "[encoded data removed]",
      "text/plain": [
       "<Figure size 432x288 with 1 Axes>"
      ]
     },
     "metadata": {
      "needs_background": "light"
     },
     "output_type": "display_data"
    }
   ],
   "source": [
    "# obtain one sample\n",
    "image, label = dataset.get_sample()\n",
    "\n",
    "plt.imshow(image.squeeze())\n",
    "print(label)"
   ]
  },
  {
   "cell_type": "code",
   "execution_count": 9,
   "metadata": {
    "scrolled": false
   },
   "outputs": [
    {
     "name": "stdout",
     "output_type": "stream",
     "text": [
      "search:0 iteration:20 lr:0.10 c value:0.10 loss: 994.81 delta sum:25.19 optimum:False y grad:-23093.060\n",
      "search:0 iteration:40 lr:0.10 c value:0.10 loss: 993.88 delta sum:31.50 optimum:False y grad:-7610.878\n",
      "search:0 iteration:60 lr:0.10 c value:0.10 loss: 997.15 delta sum:47.49 optimum:False y grad:-22650.726\n",
      "search:0 iteration:80 lr:0.10 c value:0.10 loss: 995.11 delta sum:43.42 optimum:False y grad:-5574.372\n",
      "search:0 iteration:100 lr:0.09 c value:0.10 loss: 996.53 delta sum:58.16 optimum:False y grad:-9871.067\n",
      "search:0 iteration:120 lr:0.09 c value:0.10 loss: 996.35 delta sum:44.11 optimum:False y grad:-216.879\n",
      "search:0 iteration:140 lr:0.09 c value:0.10 loss: 995.78 delta sum:54.89 optimum:False y grad:-3941.289\n",
      "search:0 iteration:160 lr:0.09 c value:0.10 loss: 994.03 delta sum:51.29 optimum:False y grad:-15609.650\n",
      "search:0 iteration:180 lr:0.09 c value:0.10 loss: 996.24 delta sum:41.87 optimum:False y grad:-12396.888\n",
      "search:0 iteration:200 lr:0.09 c value:0.10 loss: 994.18 delta sum:48.11 optimum:False y grad:-6916.216\n",
      "search:0 iteration:220 lr:0.09 c value:0.10 loss: 997.06 delta sum:58.56 optimum:False y grad:-2108.615\n",
      "search:0 iteration:240 lr:0.09 c value:0.10 loss: 994.61 delta sum:56.29 optimum:False y grad:-2619.621\n",
      "search:0 iteration:260 lr:0.09 c value:0.10 loss: 994.10 delta sum:65.26 optimum:False y grad:-5868.525\n",
      "search:0 iteration:280 lr:0.08 c value:0.10 loss: 995.59 delta sum:56.68 optimum:False y grad:-10114.793\n",
      "search:0 iteration:300 lr:0.08 c value:0.10 loss: 996.71 delta sum:58.34 optimum:False y grad:-2298.464\n",
      "search:0 iteration:320 lr:0.08 c value:0.10 loss: 996.41 delta sum:70.04 optimum:False y grad:-7192.340\n",
      "search:0 iteration:340 lr:0.08 c value:0.10 loss: 995.44 delta sum:57.97 optimum:False y grad:-3406.128\n",
      "search:0 iteration:360 lr:0.08 c value:0.10 loss: 995.23 delta sum:64.03 optimum:False y grad:-14483.846\n",
      "search:0 iteration:380 lr:0.08 c value:0.10 loss: 996.16 delta sum:42.60 optimum:False y grad:-12409.353\n",
      "search:0 iteration:400 lr:0.08 c value:0.10 loss: 995.00 delta sum:63.32 optimum:False y grad:2737.548\n",
      "search:0 iteration:420 lr:0.08 c value:0.10 loss: 992.93 delta sum:71.46 optimum:False y grad:917.472\n",
      "search:0 iteration:440 lr:0.07 c value:0.10 loss: 997.17 delta sum:62.27 optimum:False y grad:6326.079\n",
      "search:0 iteration:460 lr:0.07 c value:0.10 loss: 995.16 delta sum:54.66 optimum:False y grad:-5243.084\n",
      "search:0 iteration:480 lr:0.07 c value:0.10 loss: 994.80 delta sum:52.22 optimum:False y grad:247.944\n",
      "search:0 iteration:500 lr:0.07 c value:0.10 loss: 996.58 delta sum:58.61 optimum:False y grad:2019.164\n",
      "search:0 iteration:520 lr:0.07 c value:0.10 loss: 995.88 delta sum:76.85 optimum:False y grad:-4941.306\n",
      "search:0 iteration:540 lr:0.07 c value:0.10 loss: 995.11 delta sum:50.79 optimum:False y grad:-715.701\n",
      "search:0 iteration:560 lr:0.07 c value:0.10 loss: 994.07 delta sum:51.05 optimum:False y grad:-8624.422\n",
      "search:0 iteration:580 lr:0.06 c value:0.10 loss: 995.07 delta sum:57.00 optimum:False y grad:-5022.204\n",
      "search:0 iteration:600 lr:0.06 c value:0.10 loss: 993.64 delta sum:79.99 optimum:False y grad:9658.312\n",
      "search:0 iteration:620 lr:0.06 c value:0.10 loss: 995.61 delta sum:50.92 optimum:False y grad:-927.884\n",
      "search:0 iteration:640 lr:0.06 c value:0.10 loss: 994.23 delta sum:46.62 optimum:False y grad:-12060.433\n",
      "search:0 iteration:660 lr:0.06 c value:0.10 loss: 995.16 delta sum:58.34 optimum:False y grad:6493.523\n",
      "search:0 iteration:680 lr:0.06 c value:0.10 loss: 996.35 delta sum:70.44 optimum:False y grad:681.707\n",
      "search:0 iteration:700 lr:0.05 c value:0.10 loss: 993.33 delta sum:67.51 optimum:False y grad:2490.291\n",
      "search:0 iteration:720 lr:0.05 c value:0.10 loss: 993.83 delta sum:55.37 optimum:False y grad:9596.593\n",
      "search:0 iteration:740 lr:0.05 c value:0.10 loss: 998.04 delta sum:63.67 optimum:False y grad:-17714.644\n",
      "search:0 iteration:760 lr:0.05 c value:0.10 loss: 995.94 delta sum:62.35 optimum:False y grad:-5810.759\n",
      "search:0 iteration:780 lr:0.05 c value:0.10 loss: 995.22 delta sum:56.65 optimum:False y grad:-10200.782\n",
      "search:0 iteration:800 lr:0.04 c value:0.10 loss: 996.76 delta sum:59.18 optimum:False y grad:-8010.180\n",
      "search:0 iteration:820 lr:0.04 c value:0.10 loss: 996.39 delta sum:61.91 optimum:False y grad:-11386.317\n",
      "search:0 iteration:840 lr:0.04 c value:0.10 loss: 996.51 delta sum:51.71 optimum:False y grad:-2003.597\n",
      "search:0 iteration:860 lr:0.04 c value:0.10 loss: 995.82 delta sum:52.59 optimum:False y grad:-3601.913\n",
      "search:0 iteration:880 lr:0.03 c value:0.10 loss: 995.14 delta sum:51.30 optimum:False y grad:1009.433\n",
      "search:0 iteration:900 lr:0.03 c value:0.10 loss: 994.02 delta sum:72.58 optimum:False y grad:-198.864\n",
      "search:0 iteration:920 lr:0.03 c value:0.10 loss: 993.05 delta sum:55.88 optimum:False y grad:-7826.880\n",
      "search:0 iteration:940 lr:0.02 c value:0.10 loss: 990.48 delta sum:84.68 optimum:False y grad:-9361.494\n",
      "search:0 iteration:960 lr:0.02 c value:0.10 loss: 995.67 delta sum:89.91 optimum:False y grad:-8818.926\n",
      "search:0 iteration:980 lr:0.01 c value:0.10 loss: 996.74 delta sum:94.47 optimum:False y grad:-7918.780\n",
      "search:0 iteration:1000 lr:0.00 c value:0.10 loss: 994.10 delta sum:145.60 optimum:False y grad:-13474.441\n",
      "search:1 iteration:20 lr:0.10 c value:1.00 loss: 9953.05 delta sum:65.48 optimum:False y grad:-1481.159\n",
      "search:1 iteration:40 lr:0.10 c value:1.00 loss: 9954.92 delta sum:44.14 optimum:False y grad:-7820.686\n",
      "search:1 iteration:60 lr:0.10 c value:1.00 loss: 9953.57 delta sum:46.64 optimum:False y grad:-6273.194\n",
      "search:1 iteration:80 lr:0.10 c value:1.00 loss: 9949.06 delta sum:47.16 optimum:False y grad:-9616.826\n",
      "search:1 iteration:100 lr:0.09 c value:1.00 loss: 9971.52 delta sum:40.05 optimum:False y grad:-6684.161\n",
      "search:1 iteration:120 lr:0.09 c value:1.00 loss: 9967.65 delta sum:41.09 optimum:False y grad:-562.088\n",
      "search:1 iteration:140 lr:0.09 c value:1.00 loss: 9977.87 delta sum:63.58 optimum:False y grad:-7609.199\n",
      "search:1 iteration:160 lr:0.09 c value:1.00 loss: 9957.71 delta sum:56.31 optimum:False y grad:-5516.311\n",
      "search:1 iteration:180 lr:0.09 c value:1.00 loss: 9947.34 delta sum:41.12 optimum:False y grad:-11539.709\n",
      "search:1 iteration:200 lr:0.09 c value:1.00 loss: 9975.91 delta sum:32.77 optimum:False y grad:-3195.158\n",
      "search:1 iteration:220 lr:0.09 c value:1.00 loss: 9969.94 delta sum:36.05 optimum:False y grad:-11772.018\n",
      "search:1 iteration:240 lr:0.09 c value:1.00 loss: 9949.40 delta sum:65.30 optimum:False y grad:-17316.189\n",
      "search:1 iteration:260 lr:0.09 c value:1.00 loss: 9972.49 delta sum:75.63 optimum:False y grad:-5532.243\n",
      "search:1 iteration:280 lr:0.08 c value:1.00 loss: 9978.65 delta sum:44.07 optimum:False y grad:6933.576\n",
      "search:1 iteration:300 lr:0.08 c value:1.00 loss: 9936.28 delta sum:62.07 optimum:False y grad:-7737.757\n",
      "search:1 iteration:320 lr:0.08 c value:1.00 loss: 9956.60 delta sum:55.61 optimum:False y grad:417.238\n",
      "search:1 iteration:340 lr:0.08 c value:1.00 loss: 9961.93 delta sum:61.03 optimum:False y grad:-11304.545\n",
      "search:1 iteration:360 lr:0.08 c value:1.00 loss: 9955.14 delta sum:37.53 optimum:False y grad:-11051.958\n",
      "search:1 iteration:380 lr:0.08 c value:1.00 loss: 9965.06 delta sum:52.40 optimum:False y grad:-8868.697\n",
      "search:1 iteration:400 lr:0.08 c value:1.00 loss: 9946.39 delta sum:42.65 optimum:False y grad:-22933.469\n",
      "search:1 iteration:420 lr:0.08 c value:1.00 loss: 9967.31 delta sum:59.93 optimum:False y grad:-12062.868\n",
      "search:1 iteration:440 lr:0.07 c value:1.00 loss: 9951.12 delta sum:56.68 optimum:False y grad:-14273.541\n",
      "search:1 iteration:460 lr:0.07 c value:1.00 loss: 9962.43 delta sum:56.70 optimum:False y grad:2244.325\n",
      "search:1 iteration:480 lr:0.07 c value:1.00 loss: 9968.02 delta sum:54.35 optimum:False y grad:-18674.527\n",
      "search:1 iteration:500 lr:0.07 c value:1.00 loss: 9955.46 delta sum:50.52 optimum:False y grad:-8201.622\n",
      "search:1 iteration:520 lr:0.07 c value:1.00 loss: 9967.65 delta sum:51.01 optimum:False y grad:-17202.603\n",
      "search:1 iteration:540 lr:0.07 c value:1.00 loss: 9946.34 delta sum:78.85 optimum:False y grad:-6825.077\n",
      "search:1 iteration:560 lr:0.07 c value:1.00 loss: 9943.72 delta sum:54.74 optimum:False y grad:-4082.823\n",
      "search:1 iteration:580 lr:0.06 c value:1.00 loss: 9980.14 delta sum:69.09 optimum:False y grad:-2878.537\n"
     ]
    },
    {
     "name": "stdout",
     "output_type": "stream",
     "text": [
      "search:1 iteration:600 lr:0.06 c value:1.00 loss: 9955.88 delta sum:58.89 optimum:False y grad:3951.254\n",
      "search:1 iteration:620 lr:0.06 c value:1.00 loss: 9964.95 delta sum:53.90 optimum:False y grad:-11929.206\n",
      "search:1 iteration:640 lr:0.06 c value:1.00 loss: 9962.67 delta sum:54.85 optimum:False y grad:-8509.800\n",
      "search:1 iteration:660 lr:0.06 c value:1.00 loss: 9945.08 delta sum:68.22 optimum:False y grad:-4718.837\n",
      "search:1 iteration:680 lr:0.06 c value:1.00 loss: 9967.96 delta sum:56.58 optimum:False y grad:-14708.228\n",
      "search:1 iteration:700 lr:0.05 c value:1.00 loss: 9955.36 delta sum:63.31 optimum:False y grad:-3209.608\n",
      "search:1 iteration:720 lr:0.05 c value:1.00 loss: 9972.11 delta sum:52.86 optimum:False y grad:-6824.837\n",
      "search:1 iteration:740 lr:0.05 c value:1.00 loss: 9967.67 delta sum:39.01 optimum:False y grad:-15813.772\n",
      "search:1 iteration:760 lr:0.05 c value:1.00 loss: 9952.49 delta sum:51.84 optimum:False y grad:-17515.019\n",
      "search:1 iteration:780 lr:0.05 c value:1.00 loss: 9947.91 delta sum:47.71 optimum:False y grad:-13422.929\n",
      "search:1 iteration:800 lr:0.04 c value:1.00 loss: 9970.68 delta sum:55.75 optimum:False y grad:-2984.290\n",
      "search:1 iteration:820 lr:0.04 c value:1.00 loss: 9971.89 delta sum:65.77 optimum:False y grad:-5944.420\n",
      "search:1 iteration:840 lr:0.04 c value:1.00 loss: 9949.19 delta sum:77.46 optimum:False y grad:1097.094\n",
      "search:1 iteration:860 lr:0.04 c value:1.00 loss: 9943.18 delta sum:58.79 optimum:False y grad:-1088.007\n",
      "search:1 iteration:880 lr:0.03 c value:1.00 loss: 9944.04 delta sum:67.50 optimum:False y grad:-2697.658\n",
      "search:1 iteration:900 lr:0.03 c value:1.00 loss: 9959.46 delta sum:71.94 optimum:False y grad:-3559.435\n",
      "search:1 iteration:920 lr:0.03 c value:1.00 loss: 9961.32 delta sum:63.06 optimum:False y grad:1542.443\n",
      "search:1 iteration:940 lr:0.02 c value:1.00 loss: 9949.62 delta sum:67.75 optimum:False y grad:3150.034\n",
      "search:1 iteration:960 lr:0.02 c value:1.00 loss: 9953.51 delta sum:63.06 optimum:False y grad:-6480.093\n",
      "search:1 iteration:980 lr:0.01 c value:1.00 loss: 9959.44 delta sum:89.96 optimum:False y grad:-17854.544\n",
      "search:1 iteration:1000 lr:0.00 c value:1.00 loss: 9999.64 delta sum:142.34 optimum:False y grad:-10925.567\n",
      "search:2 iteration:20 lr:0.10 c value:10.00 loss: 99762.98 delta sum:42.70 optimum:False y grad:-4467.977\n",
      "search:2 iteration:40 lr:0.10 c value:10.00 loss: 99788.09 delta sum:69.99 optimum:False y grad:-10649.602\n",
      "search:2 iteration:60 lr:0.10 c value:10.00 loss: 99793.41 delta sum:62.69 optimum:False y grad:-13104.846\n",
      "search:2 iteration:80 lr:0.10 c value:10.00 loss: 99606.45 delta sum:66.13 optimum:False y grad:2353.940\n",
      "search:2 iteration:100 lr:0.09 c value:10.00 loss: 99668.44 delta sum:56.92 optimum:False y grad:-10210.217\n",
      "search:2 iteration:120 lr:0.09 c value:10.00 loss: 99811.94 delta sum:68.38 optimum:False y grad:-9621.157\n",
      "search:2 iteration:140 lr:0.09 c value:10.00 loss: 99548.35 delta sum:46.95 optimum:False y grad:-9335.622\n",
      "search:2 iteration:160 lr:0.09 c value:10.00 loss: 99847.07 delta sum:28.59 optimum:False y grad:-16383.903\n",
      "search:2 iteration:180 lr:0.09 c value:10.00 loss: 99638.90 delta sum:31.05 optimum:False y grad:-2579.350\n",
      "search:2 iteration:200 lr:0.09 c value:10.00 loss: 99473.19 delta sum:55.60 optimum:False y grad:-14050.569\n",
      "search:2 iteration:220 lr:0.09 c value:10.00 loss: 99606.76 delta sum:55.48 optimum:False y grad:-13350.784\n",
      "search:2 iteration:240 lr:0.09 c value:10.00 loss: 99502.20 delta sum:55.17 optimum:False y grad:-22223.145\n",
      "search:2 iteration:260 lr:0.09 c value:10.00 loss: 99428.59 delta sum:53.21 optimum:False y grad:-21994.903\n",
      "search:2 iteration:280 lr:0.08 c value:10.00 loss: 99728.61 delta sum:37.54 optimum:False y grad:-5221.502\n",
      "search:2 iteration:300 lr:0.08 c value:10.00 loss: 99470.41 delta sum:54.82 optimum:False y grad:3213.924\n",
      "search:2 iteration:320 lr:0.08 c value:10.00 loss: 99728.42 delta sum:60.01 optimum:False y grad:-8382.110\n",
      "search:2 iteration:340 lr:0.08 c value:10.00 loss: 99260.14 delta sum:54.03 optimum:False y grad:-1947.818\n",
      "search:2 iteration:360 lr:0.08 c value:10.00 loss: 99646.76 delta sum:45.58 optimum:False y grad:-5070.477\n",
      "search:2 iteration:380 lr:0.08 c value:10.00 loss: 99557.98 delta sum:67.25 optimum:False y grad:-4024.506\n",
      "search:2 iteration:400 lr:0.08 c value:10.00 loss: 99616.57 delta sum:41.29 optimum:False y grad:-10720.268\n",
      "search:2 iteration:420 lr:0.08 c value:10.00 loss: 99646.69 delta sum:59.82 optimum:False y grad:-9827.438\n",
      "search:2 iteration:440 lr:0.07 c value:10.00 loss: 99689.56 delta sum:37.37 optimum:False y grad:-15348.139\n",
      "search:2 iteration:460 lr:0.07 c value:10.00 loss: 99467.62 delta sum:33.69 optimum:False y grad:-12023.718\n",
      "search:2 iteration:480 lr:0.07 c value:10.00 loss: 99622.03 delta sum:38.37 optimum:False y grad:-16675.775\n",
      "search:2 iteration:500 lr:0.07 c value:10.00 loss: 99627.75 delta sum:41.87 optimum:False y grad:-6560.555\n",
      "search:2 iteration:520 lr:0.07 c value:10.00 loss: 99736.79 delta sum:46.28 optimum:False y grad:-10394.994\n",
      "search:2 iteration:540 lr:0.07 c value:10.00 loss: 99544.96 delta sum:55.58 optimum:False y grad:-10508.042\n",
      "search:2 iteration:560 lr:0.07 c value:10.00 loss: 99487.53 delta sum:51.63 optimum:False y grad:-14858.482\n",
      "search:2 iteration:580 lr:0.06 c value:10.00 loss: 99685.75 delta sum:48.61 optimum:False y grad:-15376.807\n",
      "search:2 iteration:600 lr:0.06 c value:10.00 loss: 99748.94 delta sum:38.25 optimum:False y grad:-7740.723\n",
      "search:2 iteration:620 lr:0.06 c value:10.00 loss: 99370.34 delta sum:64.92 optimum:False y grad:-9399.681\n",
      "search:2 iteration:640 lr:0.06 c value:10.00 loss: 99426.73 delta sum:48.37 optimum:False y grad:-6293.173\n",
      "search:2 iteration:660 lr:0.06 c value:10.00 loss: 99518.94 delta sum:60.73 optimum:False y grad:-12361.059\n",
      "search:2 iteration:680 lr:0.06 c value:10.00 loss: 99634.22 delta sum:59.52 optimum:False y grad:-3892.896\n",
      "search:2 iteration:700 lr:0.05 c value:10.00 loss: 99655.16 delta sum:56.02 optimum:False y grad:-12422.754\n",
      "search:2 iteration:720 lr:0.05 c value:10.00 loss: 99490.59 delta sum:62.99 optimum:False y grad:-16514.826\n",
      "search:2 iteration:740 lr:0.05 c value:10.00 loss: 99173.29 delta sum:55.70 optimum:False y grad:-8058.526\n",
      "search:2 iteration:760 lr:0.05 c value:10.00 loss: 99828.42 delta sum:79.19 optimum:False y grad:-9041.602\n",
      "search:2 iteration:780 lr:0.05 c value:10.00 loss: 99514.16 delta sum:44.25 optimum:False y grad:-9747.306\n",
      "search:2 iteration:800 lr:0.04 c value:10.00 loss: 99893.12 delta sum:62.41 optimum:False y grad:-416.225\n",
      "search:2 iteration:820 lr:0.04 c value:10.00 loss: 99608.24 delta sum:65.24 optimum:False y grad:-7509.331\n",
      "search:2 iteration:840 lr:0.04 c value:10.00 loss: 99703.74 delta sum:84.08 optimum:False y grad:-10327.766\n",
      "search:2 iteration:860 lr:0.04 c value:10.00 loss: 99507.54 delta sum:73.57 optimum:False y grad:-10823.829\n",
      "search:2 iteration:880 lr:0.03 c value:10.00 loss: 99259.75 delta sum:58.40 optimum:False y grad:-6595.004\n",
      "search:2 iteration:900 lr:0.03 c value:10.00 loss: 99578.03 delta sum:57.11 optimum:False y grad:-20070.379\n",
      "search:2 iteration:920 lr:0.03 c value:10.00 loss: 99818.89 delta sum:43.61 optimum:False y grad:-20518.425\n",
      "search:2 iteration:940 lr:0.02 c value:10.00 loss: 99705.52 delta sum:74.67 optimum:False y grad:-6687.875\n"
     ]
    },
    {
     "ename": "KeyboardInterrupt",
     "evalue": "",
     "output_type": "error",
     "traceback": [
      "\u001b[1;31m---------------------------------------------------------------------------\u001b[0m",
      "\u001b[1;31mKeyboardInterrupt\u001b[0m                         Traceback (most recent call last)",
      "\u001b[1;32m<ipython-input-9-a436eb15ad6d>\u001b[0m in \u001b[0;36m<module>\u001b[1;34m\u001b[0m\n\u001b[0;32m      1\u001b[0m \u001b[1;31m# find pertinent negatives\u001b[0m\u001b[1;33m\u001b[0m\u001b[1;33m\u001b[0m\u001b[1;33m\u001b[0m\u001b[0m\n\u001b[1;32m----> 2\u001b[1;33m \u001b[0mCEM\u001b[0m\u001b[1;33m.\u001b[0m\u001b[0mcompute_CEM\u001b[0m\u001b[1;33m(\u001b[0m\u001b[0mimage\u001b[0m\u001b[1;33m)\u001b[0m\u001b[1;33m\u001b[0m\u001b[1;33m\u001b[0m\u001b[0m\n\u001b[0m",
      "\u001b[1;32mD:\\Programmeren\\uva-fact-ai\\models\\cem_ibm_model.py\u001b[0m in \u001b[0;36mcompute_CEM\u001b[1;34m(self, img)\u001b[0m\n\u001b[0;32m     97\u001b[0m \u001b[1;33m\u001b[0m\u001b[0m\n\u001b[0;32m     98\u001b[0m \u001b[1;33m\u001b[0m\u001b[0m\n\u001b[1;32m---> 99\u001b[1;33m                 \u001b[0moptim\u001b[0m\u001b[1;33m.\u001b[0m\u001b[0mstep\u001b[0m\u001b[1;33m(\u001b[0m\u001b[1;33m)\u001b[0m\u001b[1;33m\u001b[0m\u001b[1;33m\u001b[0m\u001b[0m\n\u001b[0m\u001b[0;32m    100\u001b[0m \u001b[1;33m\u001b[0m\u001b[0m\n\u001b[0;32m    101\u001b[0m                 \u001b[0mself\u001b[0m\u001b[1;33m.\u001b[0m\u001b[0my_k\u001b[0m\u001b[1;33m.\u001b[0m\u001b[0mrequires_grad_\u001b[0m\u001b[1;33m(\u001b[0m\u001b[1;32mFalse\u001b[0m\u001b[1;33m)\u001b[0m\u001b[1;33m\u001b[0m\u001b[1;33m\u001b[0m\u001b[0m\n",
      "\u001b[1;32mc:\\users\\alright\\anaconda3\\envs\\py36\\lib\\site-packages\\torch\\optim\\sgd.py\u001b[0m in \u001b[0;36mstep\u001b[1;34m(self, closure)\u001b[0m\n\u001b[0;32m    104\u001b[0m                         \u001b[0md_p\u001b[0m \u001b[1;33m=\u001b[0m \u001b[0mbuf\u001b[0m\u001b[1;33m\u001b[0m\u001b[1;33m\u001b[0m\u001b[0m\n\u001b[0;32m    105\u001b[0m \u001b[1;33m\u001b[0m\u001b[0m\n\u001b[1;32m--> 106\u001b[1;33m                 \u001b[0mp\u001b[0m\u001b[1;33m.\u001b[0m\u001b[0mdata\u001b[0m\u001b[1;33m.\u001b[0m\u001b[0madd_\u001b[0m\u001b[1;33m(\u001b[0m\u001b[1;33m-\u001b[0m\u001b[0mgroup\u001b[0m\u001b[1;33m[\u001b[0m\u001b[1;34m'lr'\u001b[0m\u001b[1;33m]\u001b[0m\u001b[1;33m,\u001b[0m \u001b[0md_p\u001b[0m\u001b[1;33m)\u001b[0m\u001b[1;33m\u001b[0m\u001b[1;33m\u001b[0m\u001b[0m\n\u001b[0m\u001b[0;32m    107\u001b[0m \u001b[1;33m\u001b[0m\u001b[0m\n\u001b[0;32m    108\u001b[0m         \u001b[1;32mreturn\u001b[0m \u001b[0mloss\u001b[0m\u001b[1;33m\u001b[0m\u001b[1;33m\u001b[0m\u001b[0m\n",
      "\u001b[1;31mKeyboardInterrupt\u001b[0m: "
     ]
    }
   ],
   "source": [
    "# find pertinent negatives\n",
    "CEM.compute_CEM(image)"
   ]
  },
  {
   "cell_type": "code",
   "execution_count": null,
   "metadata": {
    "scrolled": true
   },
   "outputs": [],
   "source": [
    "# import os\n",
    "# os.environ[\"PATH\"] += os.pathsep + 'D:/Program Files/Graphviz/bin'\n",
    "\n",
    "# from torchviz import make_dot\n",
    "# make_dot(CEM.loss).view()"
   ]
  },
  {
   "cell_type": "code",
   "execution_count": null,
   "metadata": {},
   "outputs": [],
   "source": [
    "print(CEM.best_delta - image.view(28*28))"
   ]
  },
  {
   "cell_type": "code",
   "execution_count": null,
   "metadata": {},
   "outputs": [],
   "source": [
    "plt.imshow(image.squeeze())"
   ]
  },
  {
   "cell_type": "code",
   "execution_count": null,
   "metadata": {},
   "outputs": [],
   "source": [
    "plt.imshow(CEM.best_delta.view(28,28) - image.squeeze())"
   ]
  },
  {
   "cell_type": "code",
   "execution_count": null,
   "metadata": {},
   "outputs": [],
   "source": [
    "# classification after\n",
    "np.argmax(cnn(CEM.best_delta.view(1,28,28)).detach())"
   ]
  },
  {
   "cell_type": "code",
   "execution_count": null,
   "metadata": {},
   "outputs": [],
   "source": [
    "# classification before\n",
    "np.argmax(cnn(image.squeeze(-1)).detach())"
   ]
  },
  {
   "cell_type": "code",
   "execution_count": null,
   "metadata": {},
   "outputs": [],
   "source": [
    "print(CEM.best_loss)"
   ]
  },
  {
   "cell_type": "code",
   "execution_count": null,
   "metadata": {},
   "outputs": [],
   "source": [
    "print(CEM.best_pert_loss)"
   ]
  },
  {
   "cell_type": "code",
   "execution_count": null,
   "metadata": {},
   "outputs": [],
   "source": [
    "print(CEM.best_c)"
   ]
  },
  {
   "cell_type": "code",
   "execution_count": null,
   "metadata": {},
   "outputs": [],
   "source": []
  }
 ],
 "metadata": {
  "kernelspec": {
   "display_name": "Python 3",
   "language": "python",
   "name": "python3"
  },
  "language_info": {
   "codemirror_mode": {
    "name": "ipython",
    "version": 3
   },
   "file_extension": ".py",
   "mimetype": "text/x-python",
   "name": "python",
   "nbconvert_exporter": "python",
   "pygments_lexer": "ipython3",
   "version": "3.6.9"
  }
 },
 "nbformat": 4,
 "nbformat_minor": 2
}
