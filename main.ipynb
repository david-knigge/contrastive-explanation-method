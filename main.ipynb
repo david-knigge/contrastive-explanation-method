{
 "cells": [
  {
   "cell_type": "code",
   "execution_count": 1,
   "metadata": {},
   "outputs": [],
   "source": [
    "%matplotlib inline\n",
    "import matplotlib.pyplot as plt\n",
    "import numpy as np\n",
    "\n",
    "import time\n",
    "import os\n",
    "\n",
    "from datasets.mnist import MNIST\n",
    "\n",
    "from models.cae_model import CAE\n",
    "from models.conv_model import CNN\n",
    "\n",
    "from train import train_ae, train_cnn\n",
    "\n",
    "from cem import ContrastiveExplanationMethod"
   ]
  },
  {
   "cell_type": "code",
   "execution_count": 2,
   "metadata": {},
   "outputs": [],
   "source": [
    "dataset = MNIST(batch_size=64)\n",
    "# dataset = FashionMNIST()"
   ]
  },
  {
   "cell_type": "markdown",
   "metadata": {},
   "source": [
    "# Training the classifier"
   ]
  },
  {
   "cell_type": "code",
   "execution_count": 3,
   "metadata": {},
   "outputs": [],
   "source": [
    "cnn = CNN(device=\"cpu\")\n",
    "\n",
    "train_cnn(cnn, dataset, iterations=20, lr=0.01, save_fn='mnist-cnn', device=\"cpu\", load_path=\"models/saved_models/mnist-cnn.h5\")"
   ]
  },
  {
   "cell_type": "code",
   "execution_count": 4,
   "metadata": {},
   "outputs": [
    {
     "name": "stderr",
     "output_type": "stream",
     "text": [
      "D:\\david\\Coding\\uva-fact-ai\\models\\conv_model.py:50: UserWarning: Implicit dimension choice for softmax has been deprecated. Change the call to include dim=X as an argument.\n",
      "  out = nn.functional.softmax(out)\n"
     ]
    }
   ],
   "source": [
    "images, _ = dataset.get_batch()\n",
    "\n",
    "output = cnn(images)\n",
    "\n",
    "images = images.numpy()\n",
    "output = output.detach().numpy()\n"
   ]
  },
  {
   "cell_type": "markdown",
   "metadata": {},
   "source": [
    "# Training the autoencoder"
   ]
  },
  {
   "cell_type": "markdown",
   "metadata": {},
   "source": [
    "This section trains the autoencoder which will be used as regularizer for the data space which the perturbations are found in."
   ]
  },
  {
   "cell_type": "code",
   "execution_count": null,
   "metadata": {},
   "outputs": [],
   "source": [
    "# Train or load autoencoder\n",
    "cae = CAE(device=\"cpu\")\n",
    "\n",
    "train_ae(cae, dataset, iterations=10, save_fn=\"mnist-cae\", device=\"cpu\", load_path=\"models/saved_models/mnist-cae-no-rs.h5\")"
   ]
  },
  {
   "cell_type": "code",
   "execution_count": null,
   "metadata": {},
   "outputs": [
    {
     "data": {
      "image/png": "[encoded data removed]",
      "text/plain": [
       "<Figure size 1800x288 with 8 Axes>"
      ]
     },
     "metadata": {
      "needs_background": "light"
     },
     "output_type": "display_data"
    }
   ],
   "source": [
    "# obtain one batch of test images\n",
    "images, _ = dataset.get_batch()\n",
    "\n",
    "#images_flatten = images.view(images.size(0), -1)\n",
    "# get sample outputs\n",
    "output = cae(images + .5)\n",
    "# prep images for display\n",
    "images = images.numpy()\n",
    "\n",
    "# output is resized into a batch of images\n",
    "# output = output.view(batch_size, 1, 28, 28)\n",
    "# use detach when it's an output that requires_grad\n",
    "output = output.detach().numpy()\n",
    "\n",
    "# plot the first ten input images and then reconstructed images\n",
    "fig, axes = plt.subplots(nrows=2, ncols=4, sharex=True, sharey=True, figsize=(25,4))\n",
    "\n",
    "# input images on top row, reconstructions on bottom\n",
    "for images, row in zip([images, output], axes):\n",
    "    for img, ax in zip(images, row):\n",
    "        ax.imshow(np.squeeze(img), cmap='gray')\n",
    "        ax.get_xaxis().set_visible(False)\n",
    "        ax.get_yaxis().set_visible(False)"
   ]
  },
  {
   "cell_type": "markdown",
   "metadata": {},
   "source": [
    "# Contrastive Explanation Method"
   ]
  },
  {
   "cell_type": "code",
   "execution_count": null,
   "metadata": {},
   "outputs": [],
   "source": [
    "kappa = 10\n",
    "gamma = 100\n",
    "beta = 0.1\n",
    "lr = 0.1\n",
    "CEM = ContrastiveExplanationMethod(cnn, cae, iterations=1000, n_searches=9, kappa=kappa, gamma=gamma, beta=beta, learning_rate=lr)"
   ]
  },
  {
   "cell_type": "code",
   "execution_count": null,
   "metadata": {},
   "outputs": [
    {
     "data": {
      "text/plain": [
       "<matplotlib.image.AxesImage at 0x18c13ef10f0>"
      ]
     },
     "execution_count": 8,
     "metadata": {},
     "output_type": "execute_result"
    },
    {
     "data": {
      "image/png": "[encoded data removed]",
      "text/plain": [
       "<Figure size 432x288 with 1 Axes>"
      ]
     },
     "metadata": {
      "needs_background": "light"
     },
     "output_type": "display_data"
    }
   ],
   "source": [
    "# obtain one sample\n",
    "image = dataset.get_sample_by_class(class_label=3, show_image=False)\n",
    "\n",
    "plt.imshow(image.squeeze())"
   ]
  },
  {
   "cell_type": "code",
   "execution_count": null,
   "metadata": {
    "scrolled": true
   },
   "outputs": [
    {
     "name": "stdout",
     "output_type": "stream",
     "text": [
      "search:0 iteration:0 lr:0.10 c value:10.00 loss: 98.46 delta sum:0.00 optimum:False y grad:-13.911\n",
      "search:0 iteration:20 lr:0.10 c value:10.00 loss: 15694.15 delta sum:-4.73 optimum:False y grad:-7391.049\n",
      "search:0 iteration:40 lr:0.10 c value:10.00 loss: 17544.69 delta sum:-15.07 optimum:False y grad:2288.994\n",
      "search:0 iteration:60 lr:0.10 c value:10.00 loss: 18978.85 delta sum:-19.26 optimum:False y grad:-5069.271\n",
      "search:0 iteration:80 lr:0.10 c value:10.00 loss: 18606.64 delta sum:-15.29 optimum:False y grad:-11291.536\n",
      "search:0 iteration:100 lr:0.09 c value:10.00 loss: 19249.04 delta sum:-22.10 optimum:False y grad:-2777.761\n",
      "search:0 iteration:120 lr:0.09 c value:10.00 loss: 18248.95 delta sum:-26.21 optimum:False y grad:-7988.075\n",
      "search:0 iteration:140 lr:0.09 c value:10.00 loss: 18221.00 delta sum:-18.90 optimum:False y grad:-10649.554\n",
      "search:0 iteration:160 lr:0.09 c value:10.00 loss: 17375.80 delta sum:-11.70 optimum:False y grad:-8832.442\n",
      "search:0 iteration:180 lr:0.09 c value:10.00 loss: 17144.30 delta sum:-1.31 optimum:False y grad:-7489.716\n",
      "search:0 iteration:200 lr:0.09 c value:10.00 loss: 18466.73 delta sum:-15.08 optimum:False y grad:-7398.812\n",
      "search:0 iteration:220 lr:0.09 c value:10.00 loss: 18993.38 delta sum:-25.67 optimum:False y grad:-4511.737\n",
      "search:0 iteration:240 lr:0.09 c value:10.00 loss: 19786.36 delta sum:-18.81 optimum:False y grad:-10046.978\n",
      "search:0 iteration:260 lr:0.09 c value:10.00 loss: 18803.12 delta sum:-32.74 optimum:False y grad:-18007.119\n",
      "search:0 iteration:280 lr:0.08 c value:10.00 loss: 17900.72 delta sum:-22.40 optimum:False y grad:-15427.592\n",
      "search:0 iteration:300 lr:0.08 c value:10.00 loss: 19148.71 delta sum:-25.02 optimum:False y grad:-7980.433\n",
      "search:0 iteration:320 lr:0.08 c value:10.00 loss: 17664.42 delta sum:-16.48 optimum:False y grad:-11576.634\n",
      "search:0 iteration:340 lr:0.08 c value:10.00 loss: 18679.91 delta sum:-22.69 optimum:False y grad:-11253.459\n",
      "search:0 iteration:360 lr:0.08 c value:10.00 loss: 19208.02 delta sum:-25.13 optimum:False y grad:-9695.109\n",
      "search:0 iteration:380 lr:0.08 c value:10.00 loss: 20223.06 delta sum:-15.09 optimum:False y grad:-10713.460\n",
      "search:0 iteration:400 lr:0.08 c value:10.00 loss: 19569.91 delta sum:-15.22 optimum:False y grad:-9973.111\n",
      "search:0 iteration:420 lr:0.08 c value:10.00 loss: 18886.31 delta sum:-13.88 optimum:False y grad:-18034.734\n",
      "search:0 iteration:440 lr:0.07 c value:10.00 loss: 18239.80 delta sum:-12.51 optimum:False y grad:-7857.789\n",
      "search:0 iteration:460 lr:0.07 c value:10.00 loss: 19545.71 delta sum:-19.01 optimum:False y grad:-4180.261\n",
      "search:0 iteration:480 lr:0.07 c value:10.00 loss: 20474.62 delta sum:-24.70 optimum:False y grad:-10561.899\n",
      "search:0 iteration:500 lr:0.07 c value:10.00 loss: 18676.01 delta sum:-29.77 optimum:False y grad:-4284.987\n",
      "search:0 iteration:520 lr:0.07 c value:10.00 loss: 19885.41 delta sum:-33.07 optimum:False y grad:-15917.723\n",
      "search:0 iteration:540 lr:0.07 c value:10.00 loss: 18790.96 delta sum:-21.49 optimum:False y grad:-11502.983\n",
      "search:0 iteration:560 lr:0.07 c value:10.00 loss: 19269.56 delta sum:-15.41 optimum:False y grad:-12691.069\n",
      "search:0 iteration:580 lr:0.06 c value:10.00 loss: 18565.18 delta sum:-20.62 optimum:False y grad:-10614.834\n",
      "search:0 iteration:600 lr:0.06 c value:10.00 loss: 18623.36 delta sum:-20.39 optimum:False y grad:-12543.545\n",
      "search:0 iteration:620 lr:0.06 c value:10.00 loss: 18594.09 delta sum:-28.48 optimum:False y grad:-19673.750\n",
      "search:0 iteration:640 lr:0.06 c value:10.00 loss: 19237.77 delta sum:-16.23 optimum:False y grad:-11038.164\n",
      "search:0 iteration:660 lr:0.06 c value:10.00 loss: 19334.16 delta sum:-21.65 optimum:False y grad:-14796.760\n",
      "search:0 iteration:680 lr:0.06 c value:10.00 loss: 19867.12 delta sum:-16.51 optimum:False y grad:-3509.975\n",
      "search:0 iteration:700 lr:0.05 c value:10.00 loss: 19113.11 delta sum:-25.23 optimum:False y grad:-7429.933\n",
      "search:0 iteration:720 lr:0.05 c value:10.00 loss: 19661.45 delta sum:-21.69 optimum:False y grad:-8796.657\n",
      "search:0 iteration:740 lr:0.05 c value:10.00 loss: 17823.65 delta sum:-6.28 optimum:False y grad:-5836.476\n",
      "search:0 iteration:760 lr:0.05 c value:10.00 loss: 17777.53 delta sum:-14.69 optimum:False y grad:-12987.947\n",
      "search:0 iteration:780 lr:0.05 c value:10.00 loss: 18795.16 delta sum:-11.01 optimum:False y grad:-10636.503\n",
      "search:0 iteration:800 lr:0.04 c value:10.00 loss: 17550.76 delta sum:-14.17 optimum:False y grad:934.470\n",
      "search:0 iteration:820 lr:0.04 c value:10.00 loss: 17228.00 delta sum:-6.80 optimum:False y grad:1059.875\n",
      "search:0 iteration:840 lr:0.04 c value:10.00 loss: 16795.32 delta sum:-17.88 optimum:False y grad:-5065.016\n",
      "search:0 iteration:860 lr:0.04 c value:10.00 loss: 19074.13 delta sum:-25.66 optimum:False y grad:-7354.813\n",
      "search:0 iteration:880 lr:0.03 c value:10.00 loss: 17575.65 delta sum:-17.82 optimum:False y grad:-9187.302\n",
      "search:0 iteration:900 lr:0.03 c value:10.00 loss: 17061.37 delta sum:-21.11 optimum:False y grad:-15481.691\n",
      "search:0 iteration:920 lr:0.03 c value:10.00 loss: 17826.31 delta sum:-28.27 optimum:False y grad:-18908.219\n",
      "search:0 iteration:940 lr:0.02 c value:10.00 loss: 19244.37 delta sum:-24.42 optimum:False y grad:-18009.785\n",
      "search:0 iteration:960 lr:0.02 c value:10.00 loss: 16516.59 delta sum:-26.44 optimum:False y grad:-17683.402\n",
      "search:0 iteration:980 lr:0.01 c value:10.00 loss: 14807.97 delta sum:-3.01 optimum:False y grad:-11879.175\n",
      "search:1 iteration:0 lr:0.10 c value:100.00 loss: 984.61 delta sum:0.00 optimum:False y grad:-14.087\n",
      "search:1 iteration:20 lr:0.10 c value:100.00 loss: 16373.28 delta sum:4.13 optimum:False y grad:-1179.712\n",
      "search:1 iteration:40 lr:0.10 c value:100.00 loss: 15894.16 delta sum:-0.39 optimum:False y grad:-10419.893\n",
      "search:1 iteration:60 lr:0.10 c value:100.00 loss: 17710.55 delta sum:-14.51 optimum:False y grad:-3369.131\n",
      "search:1 iteration:80 lr:0.10 c value:100.00 loss: 16831.52 delta sum:-1.80 optimum:False y grad:-10496.028\n",
      "search:1 iteration:100 lr:0.09 c value:100.00 loss: 17095.72 delta sum:-22.45 optimum:False y grad:-13321.416\n",
      "search:1 iteration:120 lr:0.09 c value:100.00 loss: 18900.91 delta sum:-3.40 optimum:False y grad:-11102.929\n",
      "search:1 iteration:140 lr:0.09 c value:100.00 loss: 18319.79 delta sum:-16.01 optimum:False y grad:-8182.916\n",
      "search:1 iteration:160 lr:0.09 c value:100.00 loss: 16966.34 delta sum:-6.73 optimum:False y grad:-4321.908\n",
      "search:1 iteration:180 lr:0.09 c value:100.00 loss: 16425.23 delta sum:-4.94 optimum:False y grad:-2286.085\n",
      "search:1 iteration:200 lr:0.09 c value:100.00 loss: 17217.78 delta sum:-22.83 optimum:False y grad:-12137.334\n",
      "search:1 iteration:220 lr:0.09 c value:100.00 loss: 18978.94 delta sum:-16.19 optimum:False y grad:-4697.042\n",
      "search:1 iteration:240 lr:0.09 c value:100.00 loss: 17948.35 delta sum:-15.58 optimum:False y grad:-15599.996\n",
      "search:1 iteration:260 lr:0.09 c value:100.00 loss: 17507.12 delta sum:-28.22 optimum:False y grad:-12222.021\n",
      "search:1 iteration:280 lr:0.08 c value:100.00 loss: 18154.60 delta sum:-11.75 optimum:False y grad:-12610.098\n",
      "search:1 iteration:300 lr:0.08 c value:100.00 loss: 17589.70 delta sum:-15.38 optimum:False y grad:-17456.971\n",
      "search:1 iteration:320 lr:0.08 c value:100.00 loss: 17048.18 delta sum:-15.79 optimum:False y grad:-11381.414\n",
      "search:1 iteration:340 lr:0.08 c value:100.00 loss: 17161.59 delta sum:-24.15 optimum:False y grad:-2631.308\n",
      "search:1 iteration:360 lr:0.08 c value:100.00 loss: 17836.47 delta sum:-32.64 optimum:False y grad:-15004.787\n",
      "search:1 iteration:380 lr:0.08 c value:100.00 loss: 18866.64 delta sum:-25.24 optimum:False y grad:-12702.826\n",
      "search:1 iteration:400 lr:0.08 c value:100.00 loss: 17397.62 delta sum:-12.08 optimum:False y grad:-17496.158\n",
      "search:1 iteration:420 lr:0.08 c value:100.00 loss: 18475.14 delta sum:-10.45 optimum:False y grad:4351.670\n",
      "search:1 iteration:440 lr:0.07 c value:100.00 loss: 18188.80 delta sum:-29.26 optimum:False y grad:-9383.788\n",
      "search:1 iteration:460 lr:0.07 c value:100.00 loss: 18535.68 delta sum:-31.92 optimum:False y grad:-14863.845\n",
      "search:1 iteration:480 lr:0.07 c value:100.00 loss: 18533.14 delta sum:-23.17 optimum:False y grad:-6620.471\n"
     ]
    },
    {
     "name": "stdout",
     "output_type": "stream",
     "text": [
      "search:1 iteration:500 lr:0.07 c value:100.00 loss: 16401.31 delta sum:-22.53 optimum:False y grad:-11283.601\n",
      "search:1 iteration:520 lr:0.07 c value:100.00 loss: 17407.30 delta sum:-21.71 optimum:False y grad:-8200.927\n",
      "search:1 iteration:540 lr:0.07 c value:100.00 loss: 15900.01 delta sum:-28.24 optimum:False y grad:-5461.118\n",
      "NEW BEST: 15427.2822265625 - C: 100\n",
      "search:1 iteration:560 lr:0.07 c value:100.00 loss: 15359.62 delta sum:-20.75 optimum:True y grad:-11397.081\n",
      "search:1 iteration:580 lr:0.06 c value:100.00 loss: 16948.51 delta sum:-2.24 optimum:True y grad:-7609.821\n",
      "search:1 iteration:600 lr:0.06 c value:100.00 loss: 18697.92 delta sum:-15.06 optimum:True y grad:-7682.330\n",
      "search:1 iteration:620 lr:0.06 c value:100.00 loss: 18545.10 delta sum:-18.60 optimum:True y grad:-9401.584\n",
      "search:1 iteration:640 lr:0.06 c value:100.00 loss: 17152.85 delta sum:-17.53 optimum:True y grad:-20590.916\n",
      "search:1 iteration:660 lr:0.06 c value:100.00 loss: 18249.25 delta sum:-29.01 optimum:True y grad:-15386.957\n",
      "search:1 iteration:680 lr:0.06 c value:100.00 loss: 19126.37 delta sum:-19.01 optimum:True y grad:-5546.889\n",
      "search:1 iteration:700 lr:0.05 c value:100.00 loss: 18949.14 delta sum:-16.66 optimum:True y grad:-8739.720\n",
      "search:1 iteration:720 lr:0.05 c value:100.00 loss: 19525.58 delta sum:-24.37 optimum:True y grad:-7572.716\n",
      "search:1 iteration:740 lr:0.05 c value:100.00 loss: 18861.04 delta sum:-32.11 optimum:True y grad:-16532.918\n",
      "search:1 iteration:760 lr:0.05 c value:100.00 loss: 19541.95 delta sum:-24.91 optimum:True y grad:-18831.566\n",
      "search:1 iteration:780 lr:0.05 c value:100.00 loss: 18006.30 delta sum:-15.00 optimum:True y grad:-8527.068\n",
      "search:1 iteration:800 lr:0.04 c value:100.00 loss: 17868.89 delta sum:-27.37 optimum:True y grad:-6523.944\n",
      "search:1 iteration:820 lr:0.04 c value:100.00 loss: 16235.75 delta sum:-12.59 optimum:True y grad:-10753.164\n",
      "search:1 iteration:840 lr:0.04 c value:100.00 loss: 16004.42 delta sum:-14.86 optimum:True y grad:-12922.522\n",
      "search:1 iteration:860 lr:0.04 c value:100.00 loss: 16810.11 delta sum:-10.30 optimum:True y grad:-13847.396\n",
      "search:1 iteration:880 lr:0.03 c value:100.00 loss: 19553.57 delta sum:-27.55 optimum:True y grad:-17596.105\n",
      "search:1 iteration:900 lr:0.03 c value:100.00 loss: 18079.41 delta sum:-29.76 optimum:True y grad:-8578.364\n",
      "search:1 iteration:920 lr:0.03 c value:100.00 loss: 17332.97 delta sum:-12.84 optimum:True y grad:-10538.899\n"
     ]
    }
   ],
   "source": [
    "# find pertinent negatives\n",
    "mode = \"PN\"\n",
    "CEM.fista(image, mode=mode)"
   ]
  },
  {
   "cell_type": "code",
   "execution_count": null,
   "metadata": {},
   "outputs": [],
   "source": [
    "plt.imshow(image.squeeze())"
   ]
  },
  {
   "cell_type": "code",
   "execution_count": null,
   "metadata": {},
   "outputs": [],
   "source": [
    "# perturbation\n",
    "plt.imshow(image.squeeze()- CEM.best_delta.view(28,28), cmap=\"gray\")\n",
    "plt.show()\n",
    "plt.imshow(CEM.best_delta.view(28,28) - image.squeeze(), cmap=\"gray\")\n",
    "plt.show()"
   ]
  },
  {
   "cell_type": "code",
   "execution_count": null,
   "metadata": {},
   "outputs": [],
   "source": [
    "# original image with perturbation\n",
    "plt.imshow(CEM.best_delta.view(28,28))"
   ]
  },
  {
   "cell_type": "code",
   "execution_count": null,
   "metadata": {},
   "outputs": [],
   "source": [
    "for d in CEM.all_best:\n",
    "    plt.imshow(d.view(28,28), cmap=\"gray\")\n",
    "    plt.show()\n",
    "    plt.imshow(d.view(28,28) - image.squeeze(), cmap=\"gray\")\n",
    "    plt.show()"
   ]
  },
  {
   "cell_type": "code",
   "execution_count": null,
   "metadata": {},
   "outputs": [],
   "source": [
    "# classification before\n",
    "before = np.argmax(cnn(image.squeeze(-1)).detach()).item()\n",
    "before"
   ]
  },
  {
   "cell_type": "code",
   "execution_count": null,
   "metadata": {},
   "outputs": [],
   "source": [
    "# classification after\n",
    "after = np.argmax(cnn(CEM.best_delta.view(1,28,28)).detach()).item()\n",
    "after"
   ]
  },
  {
   "cell_type": "code",
   "execution_count": null,
   "metadata": {
    "scrolled": true
   },
   "outputs": [],
   "source": [
    "# classification of delta\n",
    "class_delta = np.argmax(cnn(image.squeeze(-1) - CEM.best_delta.view(1,28,28)).detach()).item()\n",
    "class_delta"
   ]
  },
  {
   "cell_type": "code",
   "execution_count": null,
   "metadata": {},
   "outputs": [],
   "source": [
    "dirname = \"saved_perturbations/mode-{}-kappa-{}-gamma-{}-beta-{}-lr-{}\".format(mode, kappa, gamma, beta, lr)\n",
    "os.makedirs(dirname, exist_ok=True)\n",
    "fname_orig = dirname + \"/{}-cb-{}-ca-{}-orig.png\".format(int(time.time()), before, after)\n",
    "fname_pert = dirname + \"/{}-before-{}-after-{}-pert.png\".format(int(time.time()), before, after)\n",
    "fname_combined = dirname + \"/{}-before-{}-after-{}-pn.png\".format(int(time.time()), before, after)\n",
    "fname_combined_pp = dirname + \"/{}-before-{}-after-{}-pp.png\".format(int(time.time()), before, after)\n",
    "plt.imsave(fname_orig, image.squeeze(), cmap=\"gray\")\n",
    "plt.imsave(fname_pert, CEM.best_delta.view(28,28) - image.squeeze(), cmap=\"gray\")\n",
    "plt.imsave(fname_combined, CEM.best_delta.view(28,28), cmap=\"gray\")\n",
    "plt.imsave(fname_combined_pp, image.squeeze() - CEM.best_delta.view(28,28), cmap=\"gray\")"
   ]
  },
  {
   "cell_type": "code",
   "execution_count": null,
   "metadata": {},
   "outputs": [],
   "source": [
    "plt.imshow(cae(CEM.best_delta.view(1,1,28,28)+0.5).view(28,28).detach())"
   ]
  },
  {
   "cell_type": "code",
   "execution_count": null,
   "metadata": {},
   "outputs": [],
   "source": [
    "plt.imshow(image.squeeze() - CEM.best_delta.view(28,28).detach())"
   ]
  },
  {
   "cell_type": "code",
   "execution_count": null,
   "metadata": {},
   "outputs": [],
   "source": []
  }
 ],
 "metadata": {
  "kernelspec": {
   "display_name": "Python 3",
   "language": "python",
   "name": "python3"
  },
  "language_info": {
   "codemirror_mode": {
    "name": "ipython",
    "version": 3
   },
   "file_extension": ".py",
   "mimetype": "text/x-python",
   "name": "python",
   "nbconvert_exporter": "python",
   "pygments_lexer": "ipython3",
   "version": "3.7.0"
  }
 },
 "nbformat": 4,
 "nbformat_minor": 2
}
