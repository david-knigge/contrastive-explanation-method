{
 "cells": [
  {
   "cell_type": "code",
   "execution_count": 1,
   "metadata": {},
   "outputs": [],
   "source": [
    "%matplotlib inline\n",
    "import matplotlib.pyplot as plt\n",
    "import numpy as np\n",
    "\n",
    "import time\n",
    "import os\n",
    "import torch\n",
    "\n",
    "from datasets.mnist import MNIST\n",
    "from datasets.fashion_mnist import FashionMNIST\n",
    "\n",
    "from models.cae_model import CAE\n",
    "from models.conv_model import CNN\n",
    "\n",
    "from train import train_ae, train_cnn\n",
    "\n",
    "from cem import ContrastiveExplanationMethod\n",
    "\n",
    "# set random seeds for reproducability (although the CEM is fully determininstic)\n",
    "torch.manual_seed(0)\n",
    "np.random.seed(0)"
   ]
  },
  {
   "cell_type": "code",
   "execution_count": 2,
   "metadata": {},
   "outputs": [],
   "source": [
    "# dataset = MNIST(batch_size=64)\n",
    "dataset = FashionMNIST(batch_size=64, download=True)\n",
    "device = 'cpu'"
   ]
  },
  {
   "cell_type": "markdown",
   "metadata": {},
   "source": [
    "# Training the classifier"
   ]
  },
  {
   "cell_type": "code",
   "execution_count": 3,
   "metadata": {},
   "outputs": [],
   "source": [
    "cnn = CNN(device=device)\n",
    "\n",
    "train_cnn(cnn, dataset, iterations=20, lr=0.01, save_fn='fashion-mnist-cnn', device=device, load_path=\"./models/saved_models/fashion-mnist-cnn.h5\")"
   ]
  },
  {
   "cell_type": "code",
   "execution_count": 4,
   "metadata": {},
   "outputs": [
    {
     "name": "stdout",
     "output_type": "stream",
     "text": [
      "[1 8 8 0 1 4 2 1 0 7 5 8 0 8 8 1 8 8 3 8 5 9 8 2 5 5 5 8 5 5 1 9 5 2 5 9 8\n",
      " 5 4 4 8 5 8 3 2 3 8 5 8 5 8 0 5 6 8 5 0 8 8 9 7 7 3 9]\n",
      "tensor([1, 4, 8, 0, 1, 4, 2, 1, 4, 7, 0, 4, 0, 4, 0, 1, 8, 8, 3, 8, 5, 9, 8, 4,\n",
      "        5, 5, 5, 4, 5, 7, 1, 9, 5, 2, 5, 9, 8, 5, 4, 4, 8, 0, 8, 3, 2, 3, 4, 7,\n",
      "        8, 5, 2, 0, 3, 6, 6, 2, 0, 8, 6, 9, 7, 7, 3, 9])\n"
     ]
    },
    {
     "name": "stderr",
     "output_type": "stream",
     "text": [
      "/Users/davidvos/Studie/Master/FACTAI/uva-fact-ai/models/conv_model.py:46: UserWarning: Implicit dimension choice for softmax has been deprecated. Change the call to include dim=X as an argument.\n",
      "  out = nn.functional.softmax(out)\n"
     ]
    }
   ],
   "source": [
    "images, label = dataset.get_batch()\n",
    "\n",
    "output = cnn(images)\n",
    "\n",
    "images = images.numpy()\n",
    "output = output.cpu().detach().numpy()\n",
    "print(output.argmax(1))\n",
    "print(label)"
   ]
  },
  {
   "cell_type": "code",
   "execution_count": 5,
   "metadata": {},
   "outputs": [],
   "source": [
    "# evaluate the cnn by uncommenting this cell\n",
    "\n",
    "# total_acc = 0\n",
    "# total_batches = 0\n",
    "# for step, (batch_inputs, batch_targets) in enumerate(dataset.test_loader):\n",
    "    \n",
    "#     predictions = cnn(batch_inputs.cuda())\n",
    "#     acc = (predictions.argmax(1).cpu().numpy() == batch_targets.cpu().numpy()).sum()/(predictions.shape[0] )\n",
    "#     total_batches += 1\n",
    "#     total_acc += acc\n",
    "    \n",
    "# print(\"acc: {}\".format(total_acc / total_batches))"
   ]
  },
  {
   "cell_type": "markdown",
   "metadata": {},
   "source": [
    "# Training the autoencoder"
   ]
  },
  {
   "cell_type": "markdown",
   "metadata": {},
   "source": [
    "This section trains the autoencoder which will be used as regularizer for the data space which the perturbations are found in."
   ]
  },
  {
   "cell_type": "code",
   "execution_count": 6,
   "metadata": {},
   "outputs": [],
   "source": [
    "# Train or load autoencoder\n",
    "cae = CAE(device=device)\n",
    "\n",
    "train_ae(cae, dataset, iterations=10, save_fn=\"fashion-mnist-cae\", device=device, load_path=\"./models/saved_models/fashion-mnist-cae.h5\")"
   ]
  },
  {
   "cell_type": "code",
   "execution_count": 7,
   "metadata": {},
   "outputs": [
    {
     "data": {
      "image/png": "[encoded data removed]",
      "text/plain": [
       "<Figure size 1800x288 with 8 Axes>"
      ]
     },
     "metadata": {
      "needs_background": "light"
     },
     "output_type": "display_data"
    }
   ],
   "source": [
    "# obtain one batch of test images\n",
    "images, _ = dataset.get_batch()\n",
    "\n",
    "images += 1\n",
    "\n",
    "#images_flatten = images.view(images.size(0), -1)\n",
    "# get sample outputs\n",
    "output = cae(images)\n",
    "# prep images for display\n",
    "images = images.numpy()\n",
    "\n",
    "# output is resized into a batch of images\n",
    "# output = output.view(batch_size, 1, 28, 28)\n",
    "# use detach when it's an output that requires_grad\n",
    "output = output.cpu().detach().numpy()\n",
    "\n",
    "# plot the first ten input images and then reconstructed images\n",
    "fig, axes = plt.subplots(nrows=2, ncols=4, sharex=True, sharey=True, figsize=(25,4))\n",
    "\n",
    "# input images on top row, reconstructions on bottom\n",
    "for images, row in zip([images, output], axes):\n",
    "    for img, ax in zip(images, row):\n",
    "        ax.imshow(np.squeeze(img))\n",
    "        ax.get_xaxis().set_visible(False)\n",
    "        ax.get_yaxis().set_visible(False)"
   ]
  },
  {
   "cell_type": "markdown",
   "metadata": {},
   "source": [
    "# Contrastive Explanation Method"
   ]
  },
  {
   "cell_type": "code",
   "execution_count": 11,
   "metadata": {},
   "outputs": [],
   "source": [
    "# optimal: kappa 30, gamma 1.0, beta 0.1, lr 0.01\n",
    "\n",
    "kappa = 10\n",
    "gamma = 1.0\n",
    "beta = 0.1\n",
    "lr = 0.01\n",
    "CEM = ContrastiveExplanationMethod(\n",
    "    cnn,\n",
    "    cae,\n",
    "    iterations=1000,\n",
    "    n_searches=9,\n",
    "    kappa=kappa,\n",
    "    gamma=gamma,\n",
    "    beta=beta,\n",
    "    learning_rate=lr,\n",
    "    c_init=10.0\n",
    ")"
   ]
  },
  {
   "cell_type": "code",
   "execution_count": 12,
   "metadata": {},
   "outputs": [],
   "source": [
    "def save_imgs():\n",
    "    # save the created images\n",
    "    dirname = \"saved_perturbations_fashion/mode-{}-kappa-{}-gamma-{}-beta-{}-lr-{}\".format(mode, kappa, gamma, beta, lr)\n",
    "    os.makedirs(dirname, exist_ok=True)\n",
    "    \n",
    "    fname_orig = dirname + \"/{}-cb-{}-ca-{}-orig.png\".format(int(time.time()), before, after)\n",
    "    fname_pert = dirname + \"/{}-before-{}-after-{}-pert.png\".format(int(time.time()), before, after)\n",
    "    fname_combined = dirname + \"/{}-before-{}-after-{}-pn.png\".format(int(time.time()), before, after)\n",
    "    fname_combined_pp = dirname + \"/{}-before-{}-after-{}-pp.png\".format(int(time.time()), before, after)\n",
    "    \n",
    "    plt.imsave(fname_orig, image.squeeze(), cmap=\"gray\")\n",
    "    plt.imsave(fname_pert, best_delta.view(28,28) - image.squeeze(), cmap=\"gray\")\n",
    "    plt.imsave(fname_combined, best_delta.view(28,28), cmap=\"gray\")\n",
    "    plt.imsave(fname_combined_pp, image.squeeze() - best_delta.view(28,28), cmap=\"gray\")"
   ]
  },
  {
   "cell_type": "code",
   "execution_count": 13,
   "metadata": {},
   "outputs": [
    {
     "name": "stdout",
     "output_type": "stream",
     "text": [
      "IMAGE FROM CLASS: 1\n",
      "mode: PP\n",
      "mode: PN\n",
      "IMAGE FROM CLASS: 2\n",
      "mode: PP\n",
      "mode: PN\n",
      "IMAGE FROM CLASS: 3\n",
      "mode: PP\n",
      "mode: PN\n",
      "IMAGE FROM CLASS: 4\n",
      "mode: PP\n",
      "mode: PN\n",
      "IMAGE FROM CLASS: 5\n",
      "mode: PP\n",
      "mode: PN\n",
      "IMAGE FROM CLASS: 6\n",
      "mode: PP\n",
      "mode: PN\n",
      "IMAGE FROM CLASS: 7\n",
      "mode: PP\n",
      "mode: PN\n",
      "IMAGE FROM CLASS: 8\n",
      "mode: PP\n",
      "mode: PN\n",
      "IMAGE FROM CLASS: 9\n",
      "mode: PP\n",
      "mode: PN\n"
     ]
    }
   ],
   "source": [
    "for i in range(1,10):\n",
    "    # obtain one sample\n",
    "    image = dataset.get_sample_by_class(class_label=i, show_image=False).to(device)\n",
    "\n",
    "    print(\"IMAGE FROM CLASS: {}\".format(i))\n",
    "    before = np.argmax(cnn(image.squeeze(-1)).detach().cpu()).item()\n",
    "    \n",
    "    for mode in [\"PP\", \"PN\"]:\n",
    "        print(\"mode: {}\".format(mode))\n",
    "        best_delta = CEM.explain(image, mode=mode)\n",
    "        \n",
    "        if mode == \"PP\":\n",
    "            after = np.argmax(cnn(image.squeeze(-1) - best_delta.view(1,28,28)).detach().cpu()).item()\n",
    "        else:\n",
    "            after = np.argmax(cnn(best_delta.view(-1,1,28,28)).detach().cpu()).item()\n",
    "        \n",
    "        save_imgs()"
   ]
  },
  {
   "cell_type": "code",
   "execution_count": 59,
   "metadata": {},
   "outputs": [
    {
     "data": {
      "image/png": "[encoded data removed]",
      "text/plain": [
       "<Figure size 432x288 with 1 Axes>"
      ]
     },
     "metadata": {
      "needs_background": "light"
     },
     "output_type": "display_data"
    },
    {
     "name": "stdout",
     "output_type": "stream",
     "text": [
      "classification before perturbation: 7\n"
     ]
    },
    {
     "data": {
      "image/png": "[encoded data removed]",
      "text/plain": [
       "<Figure size 432x288 with 1 Axes>"
      ]
     },
     "metadata": {
      "needs_background": "light"
     },
     "output_type": "display_data"
    },
    {
     "name": "stdout",
     "output_type": "stream",
     "text": [
      "classification after perturbation: 9\n"
     ]
    }
   ],
   "source": [
    "# print original image\n",
    "plt.imshow(image.view(28,28), cmap=\"gray\")\n",
    "plt.show()\n",
    "\n",
    "# classification before\n",
    "before = np.argmax(cnn(image.squeeze(-1)).detach()).item()\n",
    "print(\"classification before perturbation: {}\".format(before))\n",
    "\n",
    "if mode == \"PP\":\n",
    "    plt.imshow(image.squeeze() - CEM.best_delta.view(28,28), cmap=\"gray\")\n",
    "    plt.show()\n",
    "    after = np.argmax(cnn(image.squeeze(-1) - CEM.best_delta.view(1,28,28)).detach()).item()\n",
    "    print(\"classification of delta: {}\".format(after))\n",
    "else:\n",
    "    plt.imshow(CEM.best_delta.view(28,28),  cmap=\"gray\")\n",
    "    plt.show()\n",
    "    after = np.argmax(cnn(CEM.best_delta.view(1,28,28)).detach()).item()\n",
    "    print(\"classification after perturbation: {}\".format(after))"
   ]
  },
  {
   "cell_type": "code",
   "execution_count": null,
   "metadata": {},
   "outputs": [],
   "source": []
  },
  {
   "cell_type": "code",
   "execution_count": null,
   "metadata": {},
   "outputs": [],
   "source": []
  }
 ],
 "metadata": {
  "kernelspec": {
   "display_name": "Python 3",
   "language": "python",
   "name": "python3"
  },
  "language_info": {
   "codemirror_mode": {
    "name": "ipython",
    "version": 3
   },
   "file_extension": ".py",
   "mimetype": "text/x-python",
   "name": "python",
   "nbconvert_exporter": "python",
   "pygments_lexer": "ipython3",
   "version": "3.7.4"
  }
 },
 "nbformat": 4,
 "nbformat_minor": 2
}
