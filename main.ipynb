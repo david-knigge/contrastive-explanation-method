{
 "cells": [
  {
   "cell_type": "code",
   "execution_count": 1,
   "metadata": {},
   "outputs": [],
   "source": [
    "%matplotlib inline\n",
    "import matplotlib.pyplot as plt\n",
    "import numpy as np\n",
    "\n",
    "import time\n",
    "import os\n",
    "\n",
    "from datasets.mnist import MNIST\n",
    "\n",
    "from models.cae_model import CAE\n",
    "from models.conv_model import CNN\n",
    "\n",
    "from train import train_ae, train_cnn\n",
    "\n",
    "from cem import ContrastiveExplanationMethod"
   ]
  },
  {
   "cell_type": "code",
   "execution_count": 2,
   "metadata": {},
   "outputs": [],
   "source": [
    "dataset = MNIST(batch_size=64)\n",
    "# dataset = FashionMNIST()"
   ]
  },
  {
   "cell_type": "markdown",
   "metadata": {},
   "source": [
    "# Training the classifier"
   ]
  },
  {
   "cell_type": "code",
   "execution_count": 3,
   "metadata": {},
   "outputs": [],
   "source": [
    "cnn = CNN(device=\"cpu\")\n",
    "\n",
    "train_cnn(cnn, dataset, iterations=20, lr=0.01, save_fn='mnist-cnn', device=\"cpu\", load_path=\"models/saved_models/mnist-cnn.h5\")"
   ]
  },
  {
   "cell_type": "code",
   "execution_count": 4,
   "metadata": {},
   "outputs": [
    {
     "name": "stderr",
     "output_type": "stream",
     "text": [
      "D:\\david\\Coding\\uva-fact-ai\\models\\conv_model.py:50: UserWarning: Implicit dimension choice for softmax has been deprecated. Change the call to include dim=X as an argument.\n",
      "  out = nn.functional.softmax(out)\n"
     ]
    }
   ],
   "source": [
    "images, _ = dataset.get_batch()\n",
    "\n",
    "output = cnn(images)\n",
    "\n",
    "images = images.numpy()\n",
    "output = output.detach().numpy()\n"
   ]
  },
  {
   "cell_type": "markdown",
   "metadata": {},
   "source": [
    "# Training the autoencoder"
   ]
  },
  {
   "cell_type": "markdown",
   "metadata": {},
   "source": [
    "This section trains the autoencoder which will be used as regularizer for the data space which the perturbations are found in."
   ]
  },
  {
   "cell_type": "code",
   "execution_count": 5,
   "metadata": {},
   "outputs": [],
   "source": [
    "# Train or load autoencoder\n",
    "cae = CAE(device=\"cpu\")\n",
    "\n",
    "train_ae(cae, dataset, iterations=10, save_fn=\"mnist-cae\", device=\"cpu\", load_path=\"models/saved_models/mnist-cae-no-rs.h5\")"
   ]
  },
  {
   "cell_type": "code",
   "execution_count": 6,
   "metadata": {},
   "outputs": [
    {
     "data": {
      "image/png": "[encoded data removed]",
      "text/plain": [
       "<Figure size 1800x288 with 8 Axes>"
      ]
     },
     "metadata": {
      "needs_background": "light"
     },
     "output_type": "display_data"
    }
   ],
   "source": [
    "# obtain one batch of test images\n",
    "images, _ = dataset.get_batch()\n",
    "\n",
    "#images_flatten = images.view(images.size(0), -1)\n",
    "# get sample outputs\n",
    "output = cae(images + .5)\n",
    "# prep images for display\n",
    "images = images.numpy()\n",
    "\n",
    "# output is resized into a batch of images\n",
    "# output = output.view(batch_size, 1, 28, 28)\n",
    "# use detach when it's an output that requires_grad\n",
    "output = output.detach().numpy()\n",
    "\n",
    "# plot the first ten input images and then reconstructed images\n",
    "fig, axes = plt.subplots(nrows=2, ncols=4, sharex=True, sharey=True, figsize=(25,4))\n",
    "\n",
    "# input images on top row, reconstructions on bottom\n",
    "for images, row in zip([images, output], axes):\n",
    "    for img, ax in zip(images, row):\n",
    "        ax.imshow(np.squeeze(img), cmap='gray')\n",
    "        ax.get_xaxis().set_visible(False)\n",
    "        ax.get_yaxis().set_visible(False)"
   ]
  },
  {
   "cell_type": "markdown",
   "metadata": {},
   "source": [
    "# Contrastive Explanation Method"
   ]
  },
  {
   "cell_type": "code",
   "execution_count": 32,
   "metadata": {},
   "outputs": [],
   "source": [
    "kappa = 1\n",
    "gamma = 0\n",
    "beta = 1.\n",
    "lr = 0.1\n",
    "CEM = ContrastiveExplanationMethod(cnn, cae, iterations=1000, n_searches=4, kappa=kappa, gamma=gamma, beta=beta, learning_rate=lr)"
   ]
  },
  {
   "cell_type": "code",
   "execution_count": 33,
   "metadata": {},
   "outputs": [
    {
     "data": {
      "text/plain": [
       "<matplotlib.image.AxesImage at 0x25ca4e87a90>"
      ]
     },
     "execution_count": 33,
     "metadata": {},
     "output_type": "execute_result"
    },
    {
     "data": {
      "image/png": "[encoded data removed]",
      "text/plain": [
       "<Figure size 432x288 with 1 Axes>"
      ]
     },
     "metadata": {
      "needs_background": "light"
     },
     "output_type": "display_data"
    }
   ],
   "source": [
    "# obtain one sample\n",
    "image, _ = dataset.get_sample()\n",
    "\n",
    "plt.imshow(image.squeeze())"
   ]
  },
  {
   "cell_type": "code",
   "execution_count": 34,
   "metadata": {
    "scrolled": false
   },
   "outputs": [
    {
     "name": "stdout",
     "output_type": "stream",
     "text": [
      "search:0 iteration:0 lr:0.10 c value:10.00 loss: 99.08 delta sum:0.00 optimum:False y grad:-0.040\n",
      "search:0 iteration:20 lr:0.10 c value:10.00 loss: 385.69 delta sum:-307.22 optimum:False y grad:-157.302\n",
      "search:0 iteration:40 lr:0.10 c value:10.00 loss: 385.69 delta sum:-307.22 optimum:False y grad:-157.302\n",
      "search:0 iteration:60 lr:0.10 c value:10.00 loss: 385.69 delta sum:-307.22 optimum:False y grad:-157.302\n",
      "search:0 iteration:80 lr:0.10 c value:10.00 loss: 385.69 delta sum:-307.22 optimum:False y grad:-157.302\n",
      "search:0 iteration:100 lr:0.09 c value:10.00 loss: 385.69 delta sum:-307.22 optimum:False y grad:-157.302\n",
      "search:0 iteration:120 lr:0.09 c value:10.00 loss: 390.65 delta sum:-307.72 optimum:False y grad:-148.455\n",
      "search:0 iteration:140 lr:0.09 c value:10.00 loss: 390.65 delta sum:-307.72 optimum:False y grad:-148.455\n",
      "search:0 iteration:160 lr:0.09 c value:10.00 loss: 388.75 delta sum:-307.61 optimum:False y grad:-168.125\n",
      "search:0 iteration:180 lr:0.09 c value:10.00 loss: 389.72 delta sum:-307.68 optimum:False y grad:-151.472\n",
      "search:0 iteration:200 lr:0.09 c value:10.00 loss: 390.65 delta sum:-307.72 optimum:False y grad:-148.455\n",
      "search:0 iteration:220 lr:0.09 c value:10.00 loss: 390.65 delta sum:-307.72 optimum:False y grad:-148.455\n",
      "search:0 iteration:240 lr:0.09 c value:10.00 loss: 390.13 delta sum:-307.67 optimum:False y grad:-151.521\n",
      "search:0 iteration:260 lr:0.09 c value:10.00 loss: 390.65 delta sum:-307.72 optimum:False y grad:-148.455\n",
      "search:0 iteration:280 lr:0.08 c value:10.00 loss: 390.65 delta sum:-307.72 optimum:False y grad:-148.455\n",
      "search:0 iteration:300 lr:0.08 c value:10.00 loss: 390.65 delta sum:-307.72 optimum:False y grad:-148.455\n",
      "search:0 iteration:320 lr:0.08 c value:10.00 loss: 390.65 delta sum:-307.72 optimum:False y grad:-148.455\n",
      "search:0 iteration:340 lr:0.08 c value:10.00 loss: 390.65 delta sum:-307.72 optimum:False y grad:-148.455\n",
      "search:0 iteration:360 lr:0.08 c value:10.00 loss: 390.65 delta sum:-307.72 optimum:False y grad:-148.455\n",
      "search:0 iteration:380 lr:0.08 c value:10.00 loss: 390.65 delta sum:-307.72 optimum:False y grad:-148.455\n",
      "search:0 iteration:400 lr:0.08 c value:10.00 loss: 390.65 delta sum:-307.72 optimum:False y grad:-148.455\n",
      "search:0 iteration:420 lr:0.08 c value:10.00 loss: 390.65 delta sum:-307.72 optimum:False y grad:-148.455\n",
      "search:0 iteration:440 lr:0.07 c value:10.00 loss: 390.65 delta sum:-307.72 optimum:False y grad:-148.455\n",
      "search:0 iteration:460 lr:0.07 c value:10.00 loss: 390.65 delta sum:-307.72 optimum:False y grad:-148.455\n",
      "search:0 iteration:480 lr:0.07 c value:10.00 loss: 390.65 delta sum:-307.72 optimum:False y grad:-148.455\n",
      "search:0 iteration:500 lr:0.07 c value:10.00 loss: 391.45 delta sum:-307.75 optimum:False y grad:-134.965\n",
      "search:0 iteration:520 lr:0.07 c value:10.00 loss: 391.72 delta sum:-307.77 optimum:False y grad:-135.649\n",
      "search:0 iteration:540 lr:0.07 c value:10.00 loss: 392.59 delta sum:-307.79 optimum:False y grad:-119.268\n",
      "search:0 iteration:560 lr:0.07 c value:10.00 loss: 391.01 delta sum:-307.77 optimum:False y grad:-135.016\n",
      "search:0 iteration:580 lr:0.06 c value:10.00 loss: 389.77 delta sum:-307.78 optimum:False y grad:-161.062\n",
      "search:0 iteration:600 lr:0.06 c value:10.00 loss: 405.96 delta sum:-308.50 optimum:False y grad:-82.844\n",
      "search:0 iteration:620 lr:0.06 c value:10.00 loss: 400.20 delta sum:-308.17 optimum:False y grad:-104.859\n",
      "search:0 iteration:640 lr:0.06 c value:10.00 loss: 399.26 delta sum:-308.52 optimum:False y grad:-106.323\n",
      "search:0 iteration:660 lr:0.06 c value:10.00 loss: 426.80 delta sum:-308.93 optimum:False y grad:-99.426\n",
      "search:0 iteration:680 lr:0.06 c value:10.00 loss: 407.67 delta sum:-309.01 optimum:False y grad:-82.363\n",
      "search:0 iteration:700 lr:0.05 c value:10.00 loss: 400.65 delta sum:-308.41 optimum:False y grad:-103.232\n",
      "search:0 iteration:720 lr:0.05 c value:10.00 loss: 406.59 delta sum:-308.63 optimum:False y grad:-107.888\n",
      "search:0 iteration:740 lr:0.05 c value:10.00 loss: 437.31 delta sum:-310.22 optimum:False y grad:-111.081\n",
      "search:0 iteration:760 lr:0.05 c value:10.00 loss: 437.31 delta sum:-310.22 optimum:False y grad:-111.081\n",
      "search:0 iteration:780 lr:0.05 c value:10.00 loss: 437.31 delta sum:-310.22 optimum:False y grad:-111.081\n",
      "search:0 iteration:800 lr:0.04 c value:10.00 loss: 437.31 delta sum:-310.22 optimum:False y grad:-111.081\n",
      "search:0 iteration:820 lr:0.04 c value:10.00 loss: 437.31 delta sum:-310.22 optimum:False y grad:-111.081\n",
      "search:0 iteration:840 lr:0.04 c value:10.00 loss: 437.31 delta sum:-310.22 optimum:False y grad:-111.081\n",
      "search:0 iteration:860 lr:0.04 c value:10.00 loss: 437.31 delta sum:-310.22 optimum:False y grad:-111.081\n",
      "search:0 iteration:880 lr:0.03 c value:10.00 loss: 437.31 delta sum:-310.22 optimum:False y grad:-111.081\n",
      "search:0 iteration:900 lr:0.03 c value:10.00 loss: 437.31 delta sum:-310.22 optimum:False y grad:-111.081\n",
      "search:0 iteration:920 lr:0.03 c value:10.00 loss: 437.31 delta sum:-310.22 optimum:False y grad:-111.081\n",
      "search:0 iteration:940 lr:0.02 c value:10.00 loss: 437.31 delta sum:-310.22 optimum:False y grad:-111.081\n",
      "search:0 iteration:960 lr:0.02 c value:10.00 loss: 437.31 delta sum:-310.22 optimum:False y grad:-111.081\n",
      "search:0 iteration:980 lr:0.01 c value:10.00 loss: 437.31 delta sum:-310.22 optimum:False y grad:-111.081\n",
      "search:1 iteration:0 lr:0.10 c value:100.00 loss: 990.84 delta sum:0.00 optimum:False y grad:-0.403\n",
      "NEW BEST: 207.1256866455078 - C: 100\n",
      "search:1 iteration:20 lr:0.10 c value:100.00 loss: 2694.07 delta sum:-310.22 optimum:True y grad:4473.211\n",
      "search:1 iteration:40 lr:0.10 c value:100.00 loss: 2694.07 delta sum:-310.22 optimum:True y grad:4473.211\n",
      "search:1 iteration:60 lr:0.10 c value:100.00 loss: 2694.07 delta sum:-310.22 optimum:True y grad:4473.211\n",
      "search:1 iteration:80 lr:0.10 c value:100.00 loss: 2694.07 delta sum:-310.22 optimum:True y grad:4473.211\n",
      "search:1 iteration:100 lr:0.09 c value:100.00 loss: 2694.07 delta sum:-310.22 optimum:True y grad:4473.211\n",
      "search:1 iteration:120 lr:0.09 c value:100.00 loss: 2694.07 delta sum:-310.22 optimum:True y grad:4473.211\n",
      "search:1 iteration:140 lr:0.09 c value:100.00 loss: 2694.07 delta sum:-310.22 optimum:True y grad:4473.211\n",
      "search:1 iteration:160 lr:0.09 c value:100.00 loss: 2694.07 delta sum:-310.22 optimum:True y grad:4473.211\n",
      "search:1 iteration:180 lr:0.09 c value:100.00 loss: 2694.07 delta sum:-310.22 optimum:True y grad:4473.211\n",
      "search:1 iteration:200 lr:0.09 c value:100.00 loss: 2694.07 delta sum:-310.22 optimum:True y grad:4473.211\n",
      "search:1 iteration:220 lr:0.09 c value:100.00 loss: 2694.07 delta sum:-310.22 optimum:True y grad:4473.211\n",
      "search:1 iteration:240 lr:0.09 c value:100.00 loss: 2694.07 delta sum:-310.22 optimum:True y grad:4473.211\n",
      "search:1 iteration:260 lr:0.09 c value:100.00 loss: 2694.07 delta sum:-310.22 optimum:True y grad:4473.211\n",
      "search:1 iteration:280 lr:0.08 c value:100.00 loss: 2694.07 delta sum:-310.22 optimum:True y grad:4473.211\n",
      "search:1 iteration:300 lr:0.08 c value:100.00 loss: 2694.07 delta sum:-310.22 optimum:True y grad:4473.211\n",
      "search:1 iteration:320 lr:0.08 c value:100.00 loss: 2694.07 delta sum:-310.22 optimum:True y grad:4473.211\n",
      "search:1 iteration:340 lr:0.08 c value:100.00 loss: 2694.07 delta sum:-310.22 optimum:True y grad:4473.211\n",
      "search:1 iteration:360 lr:0.08 c value:100.00 loss: 2694.07 delta sum:-310.22 optimum:True y grad:4473.211\n",
      "search:1 iteration:380 lr:0.08 c value:100.00 loss: 2694.07 delta sum:-310.22 optimum:True y grad:4473.211\n",
      "search:1 iteration:400 lr:0.08 c value:100.00 loss: 2694.07 delta sum:-310.22 optimum:True y grad:4473.211\n",
      "search:1 iteration:420 lr:0.08 c value:100.00 loss: 2694.07 delta sum:-310.22 optimum:True y grad:4473.211\n",
      "search:1 iteration:440 lr:0.07 c value:100.00 loss: 2694.07 delta sum:-310.22 optimum:True y grad:4473.211\n",
      "search:1 iteration:460 lr:0.07 c value:100.00 loss: 2694.07 delta sum:-310.22 optimum:True y grad:4473.211\n",
      "search:1 iteration:480 lr:0.07 c value:100.00 loss: 2694.07 delta sum:-310.22 optimum:True y grad:4473.211\n",
      "search:1 iteration:500 lr:0.07 c value:100.00 loss: 2694.07 delta sum:-310.22 optimum:True y grad:4473.211\n"
     ]
    },
    {
     "name": "stdout",
     "output_type": "stream",
     "text": [
      "search:1 iteration:520 lr:0.07 c value:100.00 loss: 2694.07 delta sum:-310.22 optimum:True y grad:4473.211\n",
      "search:1 iteration:540 lr:0.07 c value:100.00 loss: 2694.07 delta sum:-310.22 optimum:True y grad:4473.211\n",
      "search:1 iteration:560 lr:0.07 c value:100.00 loss: 2694.07 delta sum:-310.22 optimum:True y grad:4473.211\n",
      "search:1 iteration:580 lr:0.06 c value:100.00 loss: 2694.07 delta sum:-310.22 optimum:True y grad:4473.211\n",
      "search:1 iteration:600 lr:0.06 c value:100.00 loss: 2694.07 delta sum:-310.22 optimum:True y grad:4473.211\n",
      "search:1 iteration:620 lr:0.06 c value:100.00 loss: 2694.07 delta sum:-310.22 optimum:True y grad:4473.211\n",
      "search:1 iteration:640 lr:0.06 c value:100.00 loss: 2694.07 delta sum:-310.22 optimum:True y grad:4473.211\n",
      "search:1 iteration:660 lr:0.06 c value:100.00 loss: 2694.07 delta sum:-310.22 optimum:True y grad:4473.211\n",
      "search:1 iteration:680 lr:0.06 c value:100.00 loss: 2694.07 delta sum:-310.22 optimum:True y grad:4473.211\n",
      "search:1 iteration:700 lr:0.05 c value:100.00 loss: 2694.07 delta sum:-310.22 optimum:True y grad:4473.211\n",
      "search:1 iteration:720 lr:0.05 c value:100.00 loss: 2694.07 delta sum:-310.22 optimum:True y grad:4473.211\n",
      "search:1 iteration:740 lr:0.05 c value:100.00 loss: 2694.07 delta sum:-310.22 optimum:True y grad:4473.211\n",
      "search:1 iteration:760 lr:0.05 c value:100.00 loss: 2694.07 delta sum:-310.22 optimum:True y grad:4473.211\n",
      "search:1 iteration:780 lr:0.05 c value:100.00 loss: 2694.07 delta sum:-310.22 optimum:True y grad:4473.211\n",
      "search:1 iteration:800 lr:0.04 c value:100.00 loss: 2694.07 delta sum:-310.22 optimum:True y grad:4473.211\n",
      "search:1 iteration:820 lr:0.04 c value:100.00 loss: 2694.07 delta sum:-310.22 optimum:True y grad:4473.211\n",
      "search:1 iteration:840 lr:0.04 c value:100.00 loss: 2694.07 delta sum:-310.22 optimum:True y grad:4473.211\n",
      "search:1 iteration:860 lr:0.04 c value:100.00 loss: 2694.07 delta sum:-310.22 optimum:True y grad:4473.211\n",
      "search:1 iteration:880 lr:0.03 c value:100.00 loss: 2694.07 delta sum:-310.22 optimum:True y grad:4473.211\n",
      "search:1 iteration:900 lr:0.03 c value:100.00 loss: 2694.07 delta sum:-310.22 optimum:True y grad:4473.211\n",
      "search:1 iteration:920 lr:0.03 c value:100.00 loss: 2694.07 delta sum:-310.22 optimum:True y grad:4473.211\n",
      "search:1 iteration:940 lr:0.02 c value:100.00 loss: 215.26 delta sum:-291.41 optimum:True y grad:-565.792\n",
      "search:1 iteration:960 lr:0.02 c value:100.00 loss: 1332.17 delta sum:-297.97 optimum:True y grad:3272.375\n",
      "search:1 iteration:980 lr:0.01 c value:100.00 loss: 1481.77 delta sum:-297.49 optimum:True y grad:3770.816\n",
      "search:2 iteration:0 lr:0.10 c value:50.05 loss: 495.92 delta sum:0.00 optimum:False y grad:-0.202\n",
      "NEW BEST: 205.38792419433594 - C: 50.05\n",
      "search:2 iteration:20 lr:0.10 c value:50.05 loss: 1441.57 delta sum:-310.22 optimum:True y grad:1928.929\n",
      "search:2 iteration:40 lr:0.10 c value:50.05 loss: 1441.57 delta sum:-310.22 optimum:True y grad:1928.929\n",
      "search:2 iteration:60 lr:0.10 c value:50.05 loss: 1441.57 delta sum:-310.22 optimum:True y grad:1928.929\n",
      "search:2 iteration:80 lr:0.10 c value:50.05 loss: 1441.57 delta sum:-310.22 optimum:True y grad:1928.929\n",
      "search:2 iteration:100 lr:0.09 c value:50.05 loss: 1441.57 delta sum:-310.22 optimum:True y grad:1928.929\n",
      "search:2 iteration:120 lr:0.09 c value:50.05 loss: 1441.57 delta sum:-310.22 optimum:True y grad:1928.929\n",
      "search:2 iteration:140 lr:0.09 c value:50.05 loss: 1441.57 delta sum:-310.22 optimum:True y grad:1928.929\n",
      "search:2 iteration:160 lr:0.09 c value:50.05 loss: 1441.57 delta sum:-310.22 optimum:True y grad:1928.929\n",
      "search:2 iteration:180 lr:0.09 c value:50.05 loss: 1441.57 delta sum:-310.22 optimum:True y grad:1928.929\n",
      "search:2 iteration:200 lr:0.09 c value:50.05 loss: 1441.57 delta sum:-310.22 optimum:True y grad:1928.929\n",
      "search:2 iteration:220 lr:0.09 c value:50.05 loss: 1441.57 delta sum:-310.22 optimum:True y grad:1928.929\n",
      "search:2 iteration:240 lr:0.09 c value:50.05 loss: 1441.57 delta sum:-310.22 optimum:True y grad:1928.929\n",
      "search:2 iteration:260 lr:0.09 c value:50.05 loss: 1441.57 delta sum:-310.22 optimum:True y grad:1928.929\n",
      "search:2 iteration:280 lr:0.08 c value:50.05 loss: 1441.57 delta sum:-310.22 optimum:True y grad:1928.929\n",
      "search:2 iteration:300 lr:0.08 c value:50.05 loss: 1441.57 delta sum:-310.22 optimum:True y grad:1928.929\n",
      "search:2 iteration:320 lr:0.08 c value:50.05 loss: 1441.57 delta sum:-310.22 optimum:True y grad:1928.929\n",
      "search:2 iteration:340 lr:0.08 c value:50.05 loss: 1441.57 delta sum:-310.22 optimum:True y grad:1928.929\n",
      "search:2 iteration:360 lr:0.08 c value:50.05 loss: 1441.57 delta sum:-310.22 optimum:True y grad:1928.929\n",
      "search:2 iteration:380 lr:0.08 c value:50.05 loss: 1441.57 delta sum:-310.22 optimum:True y grad:1928.929\n",
      "search:2 iteration:400 lr:0.08 c value:50.05 loss: 1441.57 delta sum:-310.22 optimum:True y grad:1928.929\n",
      "search:2 iteration:420 lr:0.08 c value:50.05 loss: 1441.57 delta sum:-310.22 optimum:True y grad:1928.929\n",
      "search:2 iteration:440 lr:0.07 c value:50.05 loss: 1441.57 delta sum:-310.22 optimum:True y grad:1928.929\n",
      "search:2 iteration:460 lr:0.07 c value:50.05 loss: 1441.57 delta sum:-310.22 optimum:True y grad:1928.929\n",
      "search:2 iteration:480 lr:0.07 c value:50.05 loss: 1441.57 delta sum:-310.22 optimum:True y grad:1928.929\n",
      "search:2 iteration:500 lr:0.07 c value:50.05 loss: 1441.57 delta sum:-310.22 optimum:True y grad:1928.929\n",
      "search:2 iteration:520 lr:0.07 c value:50.05 loss: 1441.57 delta sum:-310.22 optimum:True y grad:1928.929\n",
      "search:2 iteration:540 lr:0.07 c value:50.05 loss: 1441.57 delta sum:-310.22 optimum:True y grad:1928.929\n",
      "search:2 iteration:560 lr:0.07 c value:50.05 loss: 1441.57 delta sum:-310.22 optimum:True y grad:1928.929\n",
      "search:2 iteration:580 lr:0.06 c value:50.05 loss: 1441.57 delta sum:-310.22 optimum:True y grad:1928.929\n",
      "search:2 iteration:600 lr:0.06 c value:50.05 loss: 1441.57 delta sum:-310.22 optimum:True y grad:1928.929\n",
      "search:2 iteration:620 lr:0.06 c value:50.05 loss: 1441.57 delta sum:-310.22 optimum:True y grad:1928.929\n",
      "search:2 iteration:640 lr:0.06 c value:50.05 loss: 1441.57 delta sum:-310.22 optimum:True y grad:1928.929\n",
      "search:2 iteration:660 lr:0.06 c value:50.05 loss: 1441.57 delta sum:-310.22 optimum:True y grad:1928.929\n",
      "search:2 iteration:680 lr:0.06 c value:50.05 loss: 1441.57 delta sum:-310.22 optimum:True y grad:1928.929\n",
      "search:2 iteration:700 lr:0.05 c value:50.05 loss: 216.15 delta sum:-289.88 optimum:True y grad:-561.965\n",
      "search:2 iteration:720 lr:0.05 c value:50.05 loss: 285.76 delta sum:-297.50 optimum:True y grad:1072.977\n",
      "search:2 iteration:740 lr:0.05 c value:50.05 loss: 1441.57 delta sum:-310.22 optimum:True y grad:1928.929\n",
      "search:2 iteration:760 lr:0.05 c value:50.05 loss: 213.32 delta sum:-292.56 optimum:True y grad:-569.177\n",
      "search:2 iteration:780 lr:0.05 c value:50.05 loss: 599.51 delta sum:-295.72 optimum:True y grad:1292.177\n",
      "search:2 iteration:800 lr:0.04 c value:50.05 loss: 681.97 delta sum:-290.62 optimum:True y grad:1197.400\n",
      "search:2 iteration:820 lr:0.04 c value:50.05 loss: 706.97 delta sum:-291.75 optimum:True y grad:1363.596\n",
      "search:2 iteration:840 lr:0.04 c value:50.05 loss: 756.32 delta sum:-293.64 optimum:True y grad:1281.946\n",
      "search:2 iteration:860 lr:0.04 c value:50.05 loss: 772.21 delta sum:-294.55 optimum:True y grad:1418.993\n",
      "search:2 iteration:880 lr:0.03 c value:50.05 loss: 825.11 delta sum:-296.68 optimum:True y grad:1412.599\n",
      "search:2 iteration:900 lr:0.03 c value:50.05 loss: 858.86 delta sum:-297.72 optimum:True y grad:1552.911\n",
      "search:2 iteration:920 lr:0.03 c value:50.05 loss: 873.68 delta sum:-298.51 optimum:True y grad:1635.496\n",
      "search:2 iteration:940 lr:0.02 c value:50.05 loss: 939.83 delta sum:-300.14 optimum:True y grad:1758.997\n",
      "search:2 iteration:960 lr:0.02 c value:50.05 loss: 1137.59 delta sum:-306.05 optimum:True y grad:1648.898\n",
      "search:2 iteration:980 lr:0.01 c value:50.05 loss: 1157.40 delta sum:-307.22 optimum:True y grad:1674.036\n",
      "search:3 iteration:0 lr:0.10 c value:25.07 loss: 248.45 delta sum:0.00 optimum:False y grad:-0.101\n",
      "search:3 iteration:20 lr:0.10 c value:25.07 loss: 815.32 delta sum:-310.22 optimum:True y grad:656.788\n",
      "search:3 iteration:40 lr:0.10 c value:25.07 loss: 212.20 delta sum:-292.97 optimum:True y grad:-570.688\n"
     ]
    },
    {
     "name": "stdout",
     "output_type": "stream",
     "text": [
      "search:3 iteration:60 lr:0.10 c value:25.07 loss: 815.32 delta sum:-310.22 optimum:True y grad:656.788\n",
      "search:3 iteration:80 lr:0.10 c value:25.07 loss: 815.32 delta sum:-310.22 optimum:True y grad:656.788\n",
      "search:3 iteration:100 lr:0.09 c value:25.07 loss: 220.33 delta sum:-292.43 optimum:True y grad:281.757\n",
      "search:3 iteration:120 lr:0.09 c value:25.07 loss: 434.69 delta sum:-292.31 optimum:True y grad:313.456\n",
      "search:3 iteration:140 lr:0.09 c value:25.07 loss: 415.85 delta sum:-288.22 optimum:True y grad:245.123\n",
      "search:3 iteration:160 lr:0.09 c value:25.07 loss: 418.73 delta sum:-288.49 optimum:True y grad:244.608\n",
      "search:3 iteration:180 lr:0.09 c value:25.07 loss: 418.87 delta sum:-288.50 optimum:True y grad:244.806\n",
      "search:3 iteration:200 lr:0.09 c value:25.07 loss: 418.82 delta sum:-288.51 optimum:True y grad:244.836\n",
      "search:3 iteration:220 lr:0.09 c value:25.07 loss: 419.46 delta sum:-288.55 optimum:True y grad:245.397\n",
      "search:3 iteration:240 lr:0.09 c value:25.07 loss: 431.47 delta sum:-289.24 optimum:True y grad:379.187\n",
      "search:3 iteration:260 lr:0.09 c value:25.07 loss: 440.69 delta sum:-289.92 optimum:True y grad:348.172\n",
      "search:3 iteration:280 lr:0.08 c value:25.07 loss: 418.38 delta sum:-289.11 optimum:True y grad:250.268\n",
      "search:3 iteration:300 lr:0.08 c value:25.07 loss: 442.11 delta sum:-289.94 optimum:True y grad:338.169\n",
      "search:3 iteration:320 lr:0.08 c value:25.07 loss: 435.45 delta sum:-289.89 optimum:True y grad:335.594\n",
      "search:3 iteration:340 lr:0.08 c value:25.07 loss: 461.84 delta sum:-291.72 optimum:True y grad:402.331\n",
      "search:3 iteration:360 lr:0.08 c value:25.07 loss: 460.72 delta sum:-292.12 optimum:True y grad:367.992\n",
      "search:3 iteration:380 lr:0.08 c value:25.07 loss: 461.68 delta sum:-291.70 optimum:True y grad:398.628\n",
      "search:3 iteration:400 lr:0.08 c value:25.07 loss: 478.99 delta sum:-296.09 optimum:True y grad:526.403\n",
      "search:3 iteration:420 lr:0.08 c value:25.07 loss: 465.79 delta sum:-296.04 optimum:True y grad:470.102\n",
      "search:3 iteration:440 lr:0.07 c value:25.07 loss: 486.13 delta sum:-296.23 optimum:True y grad:542.818\n",
      "search:3 iteration:460 lr:0.07 c value:25.07 loss: 476.96 delta sum:-297.02 optimum:True y grad:500.647\n",
      "search:3 iteration:480 lr:0.07 c value:25.07 loss: 470.64 delta sum:-296.54 optimum:True y grad:498.235\n",
      "search:3 iteration:500 lr:0.07 c value:25.07 loss: 472.89 delta sum:-296.72 optimum:True y grad:533.487\n",
      "search:3 iteration:520 lr:0.07 c value:25.07 loss: 488.03 delta sum:-296.93 optimum:True y grad:589.959\n",
      "search:3 iteration:540 lr:0.07 c value:25.07 loss: 473.06 delta sum:-296.72 optimum:True y grad:441.943\n",
      "search:3 iteration:560 lr:0.07 c value:25.07 loss: 482.06 delta sum:-297.21 optimum:True y grad:529.774\n",
      "search:3 iteration:580 lr:0.06 c value:25.07 loss: 522.37 delta sum:-299.04 optimum:True y grad:640.065\n",
      "search:3 iteration:600 lr:0.06 c value:25.07 loss: 503.79 delta sum:-298.52 optimum:True y grad:561.941\n",
      "search:3 iteration:620 lr:0.06 c value:25.07 loss: 498.98 delta sum:-299.05 optimum:True y grad:527.413\n",
      "search:3 iteration:640 lr:0.06 c value:25.07 loss: 562.54 delta sum:-299.99 optimum:True y grad:697.634\n",
      "search:3 iteration:660 lr:0.06 c value:25.07 loss: 497.87 delta sum:-298.26 optimum:True y grad:570.461\n",
      "search:3 iteration:680 lr:0.06 c value:25.07 loss: 488.78 delta sum:-298.63 optimum:True y grad:571.904\n",
      "search:3 iteration:700 lr:0.05 c value:25.07 loss: 545.03 delta sum:-300.30 optimum:True y grad:678.319\n",
      "search:3 iteration:720 lr:0.05 c value:25.07 loss: 563.57 delta sum:-301.02 optimum:True y grad:751.880\n",
      "search:3 iteration:740 lr:0.05 c value:25.07 loss: 541.01 delta sum:-300.88 optimum:True y grad:643.676\n",
      "search:3 iteration:760 lr:0.05 c value:25.07 loss: 529.16 delta sum:-300.98 optimum:True y grad:606.223\n",
      "search:3 iteration:780 lr:0.05 c value:25.07 loss: 582.60 delta sum:-301.66 optimum:True y grad:719.796\n",
      "search:3 iteration:800 lr:0.04 c value:25.07 loss: 588.41 delta sum:-302.20 optimum:True y grad:722.534\n",
      "search:3 iteration:820 lr:0.04 c value:25.07 loss: 578.60 delta sum:-301.84 optimum:True y grad:682.914\n",
      "search:3 iteration:840 lr:0.04 c value:25.07 loss: 611.98 delta sum:-303.05 optimum:True y grad:757.557\n",
      "search:3 iteration:860 lr:0.04 c value:25.07 loss: 657.42 delta sum:-305.22 optimum:True y grad:716.769\n",
      "search:3 iteration:880 lr:0.03 c value:25.07 loss: 713.09 delta sum:-307.62 optimum:True y grad:570.671\n",
      "search:3 iteration:900 lr:0.03 c value:25.07 loss: 692.72 delta sum:-307.72 optimum:True y grad:555.535\n",
      "search:3 iteration:920 lr:0.03 c value:25.07 loss: 692.72 delta sum:-307.72 optimum:True y grad:555.535\n",
      "search:3 iteration:940 lr:0.02 c value:25.07 loss: 691.01 delta sum:-307.72 optimum:True y grad:548.520\n",
      "search:3 iteration:960 lr:0.02 c value:25.07 loss: 735.93 delta sum:-308.72 optimum:True y grad:699.033\n",
      "search:3 iteration:980 lr:0.01 c value:25.07 loss: 815.32 delta sum:-310.22 optimum:True y grad:656.788\n"
     ]
    }
   ],
   "source": [
    "# find pertinent negatives\n",
    "CEM.fista(image, mode=\"PN\")"
   ]
  },
  {
   "cell_type": "code",
   "execution_count": 35,
   "metadata": {},
   "outputs": [
    {
     "data": {
      "text/plain": [
       "<matplotlib.image.AxesImage at 0x25ca4ee5588>"
      ]
     },
     "execution_count": 35,
     "metadata": {},
     "output_type": "execute_result"
    },
    {
     "data": {
      "image/png": "[encoded data removed]",
      "text/plain": [
       "<Figure size 432x288 with 1 Axes>"
      ]
     },
     "metadata": {
      "needs_background": "light"
     },
     "output_type": "display_data"
    }
   ],
   "source": [
    "plt.imshow(image.squeeze())"
   ]
  },
  {
   "cell_type": "code",
   "execution_count": 36,
   "metadata": {},
   "outputs": [
    {
     "data": {
      "text/plain": [
       "<matplotlib.image.AxesImage at 0x25ca4f42358>"
      ]
     },
     "execution_count": 36,
     "metadata": {},
     "output_type": "execute_result"
    },
    {
     "data": {
      "image/png": "[encoded data removed]",
      "text/plain": [
       "<Figure size 432x288 with 1 Axes>"
      ]
     },
     "metadata": {
      "needs_background": "light"
     },
     "output_type": "display_data"
    }
   ],
   "source": [
    "# perturbation\n",
    "plt.imshow(image.squeeze()- CEM.best_delta.view(28,28), cmap=\"gray\")"
   ]
  },
  {
   "cell_type": "code",
   "execution_count": 37,
   "metadata": {},
   "outputs": [
    {
     "data": {
      "text/plain": [
       "<matplotlib.image.AxesImage at 0x25ca4f95e10>"
      ]
     },
     "execution_count": 37,
     "metadata": {},
     "output_type": "execute_result"
    },
    {
     "data": {
      "image/png": "[encoded data removed]",
      "text/plain": [
       "<Figure size 432x288 with 1 Axes>"
      ]
     },
     "metadata": {
      "needs_background": "light"
     },
     "output_type": "display_data"
    }
   ],
   "source": [
    "# original image with perturbation\n",
    "plt.imshow(CEM.best_delta.view(28,28))"
   ]
  },
  {
   "cell_type": "code",
   "execution_count": 38,
   "metadata": {},
   "outputs": [
    {
     "data": {
      "text/plain": [
       "1"
      ]
     },
     "execution_count": 38,
     "metadata": {},
     "output_type": "execute_result"
    }
   ],
   "source": [
    "# classification before\n",
    "before = np.argmax(cnn(image.squeeze(-1)).detach()).item()\n",
    "before"
   ]
  },
  {
   "cell_type": "code",
   "execution_count": 39,
   "metadata": {},
   "outputs": [
    {
     "data": {
      "text/plain": [
       "2"
      ]
     },
     "execution_count": 39,
     "metadata": {},
     "output_type": "execute_result"
    }
   ],
   "source": [
    "# classification after\n",
    "after = np.argmax(cnn(CEM.best_delta.view(1,28,28)).detach()).item()\n",
    "after"
   ]
  },
  {
   "cell_type": "code",
   "execution_count": 40,
   "metadata": {},
   "outputs": [
    {
     "data": {
      "text/plain": [
       "7"
      ]
     },
     "execution_count": 40,
     "metadata": {},
     "output_type": "execute_result"
    }
   ],
   "source": [
    "# classification of delta\n",
    "class_delta = np.argmax(cnn(image.squeeze(-1) - CEM.best_delta.view(1,28,28)).detach()).item()\n",
    "class_delta"
   ]
  },
  {
   "cell_type": "code",
   "execution_count": 42,
   "metadata": {},
   "outputs": [],
   "source": [
    "dirname = \"saved_perturbations/kappa-{}-gamma-{}-beta-{}-lr-{}\".format(kappa, gamma, beta, lr)\n",
    "os.makedirs(dirname, exist_ok=True)\n",
    "fname_orig = dirname + \"/{}-cb-{}-ca-{}-orig.png\".format(int(time.time()), before, after)\n",
    "fname_pert = dirname + \"/{}-before-{}-after-{}-pert.png\".format(int(time.time()), before, after)\n",
    "fname_combined = dirname + \"/{}-before-{}-after-{}-pn.png\".format(int(time.time()), before, after)\n",
    "fname_combined_pp = dirname + \"/{}-before-{}-after-{}-pp.png\".format(int(time.time()), before, after)\n",
    "plt.imsave(fname_orig, image.squeeze(), cmap=\"gray\")\n",
    "plt.imsave(fname_pert, CEM.best_delta.view(28,28) - image.squeeze(), cmap=\"gray\")\n",
    "plt.imsave(fname_combined, CEM.best_delta.view(28,28), cmap=\"gray\")\n",
    "plt.imsave(fname_combined_pp, image.squeeze() - CEM.best_delta.view(28,28))"
   ]
  },
  {
   "cell_type": "code",
   "execution_count": null,
   "metadata": {},
   "outputs": [],
   "source": [
    "print(CEM.best_loss)"
   ]
  },
  {
   "cell_type": "code",
   "execution_count": null,
   "metadata": {},
   "outputs": [],
   "source": [
    "print(CEM.best_pert_loss)"
   ]
  },
  {
   "cell_type": "code",
   "execution_count": null,
   "metadata": {},
   "outputs": [],
   "source": [
    "print(image)"
   ]
  },
  {
   "cell_type": "code",
   "execution_count": null,
   "metadata": {},
   "outputs": [],
   "source": []
  }
 ],
 "metadata": {
  "kernelspec": {
   "display_name": "Python 3",
   "language": "python",
   "name": "python3"
  },
  "language_info": {
   "codemirror_mode": {
    "name": "ipython",
    "version": 3
   },
   "file_extension": ".py",
   "mimetype": "text/x-python",
   "name": "python",
   "nbconvert_exporter": "python",
   "pygments_lexer": "ipython3",
   "version": "3.7.0"
  }
 },
 "nbformat": 4,
 "nbformat_minor": 2
}
