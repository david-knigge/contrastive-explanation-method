{
 "cells": [
  {
   "cell_type": "code",
   "execution_count": 1,
   "metadata": {},
   "outputs": [],
   "source": [
    "import matplotlib.pyplot as plt\n",
    "import numpy as np\n",
    "\n",
    "from datasets.mnist import MNIST\n",
    "\n",
    "from models.cae_model import CAE\n",
    "from models.conv_model import CNN\n",
    "\n",
    "from train import train_ae, train_cnn\n",
    "\n",
    "from cem import ContrastiveExplanationMethod"
   ]
  },
  {
   "cell_type": "code",
   "execution_count": 2,
   "metadata": {},
   "outputs": [],
   "source": [
    "dataset = MNIST(batch_size=64)\n",
    "# dataset = FashionMNIST()"
   ]
  },
  {
   "cell_type": "markdown",
   "metadata": {},
   "source": [
    "# Training the classifier"
   ]
  },
  {
   "cell_type": "code",
   "execution_count": 3,
   "metadata": {},
   "outputs": [],
   "source": [
    "cnn = CNN(device=\"cpu\")\n",
    "\n",
    "train_cnn(cnn, dataset, iterations=20, lr=0.01, save_fn='mnist-cnn', device=\"cpu\", load_path=\"models/saved_models/mnist-cnn.h5\")"
   ]
  },
  {
   "cell_type": "code",
   "execution_count": 4,
   "metadata": {},
   "outputs": [
    {
     "name": "stderr",
     "output_type": "stream",
     "text": [
      "D:\\david\\Coding\\uva-fact-ai\\models\\conv_model.py:50: UserWarning: Implicit dimension choice for softmax has been deprecated. Change the call to include dim=X as an argument.\n",
      "  out = nn.functional.softmax(out)\n"
     ]
    }
   ],
   "source": [
    "images, _ = dataset.get_batch()\n",
    "\n",
    "output = cnn(images)\n",
    "\n",
    "images = images.numpy()\n",
    "output = output.detach().numpy()\n"
   ]
  },
  {
   "cell_type": "markdown",
   "metadata": {},
   "source": [
    "# Training the autoencoder"
   ]
  },
  {
   "cell_type": "markdown",
   "metadata": {},
   "source": [
    "This section trains the autoencoder which will be used as regularizer for the data space which the perturbations are found in."
   ]
  },
  {
   "cell_type": "code",
   "execution_count": 5,
   "metadata": {},
   "outputs": [],
   "source": [
    "# Train or load autoencoder\n",
    "cae = CAE(device=\"cpu\")\n",
    "\n",
    "train_ae(cae, dataset, iterations=10, save_fn=\"mnist-cae\", device=\"cpu\", load_path=\"models/saved_models/mnist-cae-no-rs.h5\")"
   ]
  },
  {
   "cell_type": "code",
   "execution_count": 6,
   "metadata": {},
   "outputs": [
    {
     "data": {
      "image/png": "[encoded data removed]",
      "text/plain": [
       "<Figure size 1800x288 with 8 Axes>"
      ]
     },
     "metadata": {
      "needs_background": "light"
     },
     "output_type": "display_data"
    }
   ],
   "source": [
    "# obtain one batch of test images\n",
    "images, _ = dataset.get_batch()\n",
    "\n",
    "#images_flatten = images.view(images.size(0), -1)\n",
    "# get sample outputs\n",
    "output = cae(images + .5)\n",
    "# prep images for display\n",
    "images = images.numpy()\n",
    "\n",
    "# output is resized into a batch of images\n",
    "# output = output.view(batch_size, 1, 28, 28)\n",
    "# use detach when it's an output that requires_grad\n",
    "output = output.detach().numpy()\n",
    "\n",
    "# plot the first ten input images and then reconstructed images\n",
    "fig, axes = plt.subplots(nrows=2, ncols=4, sharex=True, sharey=True, figsize=(25,4))\n",
    "\n",
    "# input images on top row, reconstructions on bottom\n",
    "for images, row in zip([images, output], axes):\n",
    "    for img, ax in zip(images, row):\n",
    "        ax.imshow(np.squeeze(img), cmap='gray')\n",
    "        ax.get_xaxis().set_visible(False)\n",
    "        ax.get_yaxis().set_visible(False)"
   ]
  },
  {
   "cell_type": "markdown",
   "metadata": {},
   "source": [
    "# Contrastive Explanation Method"
   ]
  },
  {
   "cell_type": "code",
   "execution_count": 7,
   "metadata": {},
   "outputs": [],
   "source": [
    "CEM = ContrastiveExplanationMethod(cnn, cae, iterations=100, n_searches=4, kappa=0., gamma=10., beta=10., learning_rate=0)"
   ]
  },
  {
   "cell_type": "code",
   "execution_count": 8,
   "metadata": {},
   "outputs": [
    {
     "data": {
      "text/plain": [
       "<matplotlib.image.AxesImage at 0x1ba05c7e828>"
      ]
     },
     "execution_count": 8,
     "metadata": {},
     "output_type": "execute_result"
    },
    {
     "data": {
      "image/png": "[encoded data removed]",
      "text/plain": [
       "<Figure size 432x288 with 1 Axes>"
      ]
     },
     "metadata": {
      "needs_background": "light"
     },
     "output_type": "display_data"
    }
   ],
   "source": [
    "# obtain one sample\n",
    "image, _ = dataset.get_sample()\n",
    "\n",
    "plt.imshow(image.squeeze())"
   ]
  },
  {
   "cell_type": "code",
   "execution_count": 9,
   "metadata": {
    "scrolled": true
   },
   "outputs": [
    {
     "name": "stdout",
     "output_type": "stream",
     "text": [
      "search:0 iteration:0 lr:0.10 c value:10.00 loss: 6644.43 delta sum:0.00 optimum:False y grad:-12241.587\n",
      "search:0 iteration:20 lr:0.09 c value:10.00 loss: 15718.38 delta sum:-247.45 optimum:False y grad:-21157.227\n",
      "search:0 iteration:40 lr:0.08 c value:10.00 loss: 15718.38 delta sum:-247.45 optimum:False y grad:-21157.227\n",
      "search:0 iteration:60 lr:0.06 c value:10.00 loss: 15718.38 delta sum:-247.45 optimum:False y grad:-21157.227\n",
      "search:0 iteration:80 lr:0.04 c value:10.00 loss: 15718.38 delta sum:-247.45 optimum:False y grad:-21157.227\n",
      "search:1 iteration:0 lr:0.10 c value:100.00 loss: 8646.15 delta sum:0.00 optimum:False y grad:-9020.335\n",
      "search:1 iteration:20 lr:0.09 c value:100.00 loss: 17045.08 delta sum:-238.23 optimum:False y grad:-17910.051\n",
      "search:1 iteration:40 lr:0.08 c value:100.00 loss: 17354.46 delta sum:-239.95 optimum:False y grad:-17840.369\n",
      "search:1 iteration:60 lr:0.06 c value:100.00 loss: 17623.74 delta sum:-241.70 optimum:False y grad:-17817.625\n",
      "search:1 iteration:80 lr:0.04 c value:100.00 loss: 17909.27 delta sum:-243.42 optimum:False y grad:-17812.443\n",
      "search:2 iteration:0 lr:0.10 c value:1000.00 loss: 28663.39 delta sum:0.00 optimum:False y grad:23192.229\n",
      "search:2 iteration:20 lr:0.09 c value:1000.00 loss: 23660.67 delta sum:-213.90 optimum:False y grad:7712.631\n",
      "search:2 iteration:40 lr:0.08 c value:1000.00 loss: 23780.55 delta sum:-214.95 optimum:False y grad:7668.307\n",
      "search:2 iteration:60 lr:0.06 c value:1000.00 loss: 24174.38 delta sum:-217.95 optimum:False y grad:8421.887\n",
      "search:2 iteration:80 lr:0.04 c value:1000.00 loss: 24560.48 delta sum:-220.45 optimum:False y grad:8906.033\n",
      "search:3 iteration:0 lr:0.10 c value:10000.00 loss: 228835.84 delta sum:0.00 optimum:False y grad:345317.906\n",
      "search:3 iteration:20 lr:0.09 c value:10000.00 loss: 102803.08 delta sum:-190.95 optimum:False y grad:256547.281\n",
      "search:3 iteration:40 lr:0.08 c value:10000.00 loss: 100473.43 delta sum:-190.95 optimum:False y grad:257247.781\n",
      "search:3 iteration:60 lr:0.06 c value:10000.00 loss: 102811.21 delta sum:-193.50 optimum:False y grad:256604.312\n",
      "search:3 iteration:80 lr:0.04 c value:10000.00 loss: 100536.93 delta sum:-200.74 optimum:False y grad:255224.875\n"
     ]
    }
   ],
   "source": [
    "# find pertinent negatives\n",
    "CEM.fista(image, mode=\"PN\")"
   ]
  },
  {
   "cell_type": "code",
   "execution_count": 10,
   "metadata": {
    "scrolled": true
   },
   "outputs": [
    {
     "ename": "TypeError",
     "evalue": "rsub() received an invalid combination of arguments - got (Tensor, NoneType), but expected one of:\n * (Tensor input, Tensor other, Number alpha)\n * (Tensor input, Number other, Number alpha)\n",
     "output_type": "error",
     "traceback": [
      "\u001b[1;31m---------------------------------------------------------------------------\u001b[0m",
      "\u001b[1;31mTypeError\u001b[0m                                 Traceback (most recent call last)",
      "\u001b[1;32m<ipython-input-10-d7525bfc72f3>\u001b[0m in \u001b[0;36m<module>\u001b[1;34m\u001b[0m\n\u001b[1;32m----> 1\u001b[1;33m \u001b[0mprint\u001b[0m\u001b[1;33m(\u001b[0m\u001b[0mCEM\u001b[0m\u001b[1;33m.\u001b[0m\u001b[0mbest_delta\u001b[0m \u001b[1;33m-\u001b[0m \u001b[0mimage\u001b[0m\u001b[1;33m.\u001b[0m\u001b[0mview\u001b[0m\u001b[1;33m(\u001b[0m\u001b[1;36m28\u001b[0m\u001b[1;33m*\u001b[0m\u001b[1;36m28\u001b[0m\u001b[1;33m)\u001b[0m\u001b[1;33m)\u001b[0m\u001b[1;33m\u001b[0m\u001b[0m\n\u001b[0m",
      "\u001b[1;32md:\\david\\miniconda3\\lib\\site-packages\\torch\\tensor.py\u001b[0m in \u001b[0;36m__rsub__\u001b[1;34m(self, other)\u001b[0m\n\u001b[0;32m    323\u001b[0m \u001b[1;33m\u001b[0m\u001b[0m\n\u001b[0;32m    324\u001b[0m     \u001b[1;32mdef\u001b[0m \u001b[0m__rsub__\u001b[0m\u001b[1;33m(\u001b[0m\u001b[0mself\u001b[0m\u001b[1;33m,\u001b[0m \u001b[0mother\u001b[0m\u001b[1;33m)\u001b[0m\u001b[1;33m:\u001b[0m\u001b[1;33m\u001b[0m\u001b[0m\n\u001b[1;32m--> 325\u001b[1;33m         \u001b[1;32mreturn\u001b[0m \u001b[0m_C\u001b[0m\u001b[1;33m.\u001b[0m\u001b[0m_VariableFunctions\u001b[0m\u001b[1;33m.\u001b[0m\u001b[0mrsub\u001b[0m\u001b[1;33m(\u001b[0m\u001b[0mself\u001b[0m\u001b[1;33m,\u001b[0m \u001b[0mother\u001b[0m\u001b[1;33m)\u001b[0m\u001b[1;33m\u001b[0m\u001b[0m\n\u001b[0m\u001b[0;32m    326\u001b[0m \u001b[1;33m\u001b[0m\u001b[0m\n\u001b[0;32m    327\u001b[0m     \u001b[1;32mdef\u001b[0m \u001b[0m__rdiv__\u001b[0m\u001b[1;33m(\u001b[0m\u001b[0mself\u001b[0m\u001b[1;33m,\u001b[0m \u001b[0mother\u001b[0m\u001b[1;33m)\u001b[0m\u001b[1;33m:\u001b[0m\u001b[1;33m\u001b[0m\u001b[0m\n",
      "\u001b[1;31mTypeError\u001b[0m: rsub() received an invalid combination of arguments - got (Tensor, NoneType), but expected one of:\n * (Tensor input, Tensor other, Number alpha)\n * (Tensor input, Number other, Number alpha)\n"
     ]
    }
   ],
   "source": [
    "print(CEM.best_delta - image.view(28*28))"
   ]
  },
  {
   "cell_type": "code",
   "execution_count": null,
   "metadata": {},
   "outputs": [],
   "source": [
    "plt.imshow(image.squeeze())"
   ]
  },
  {
   "cell_type": "code",
   "execution_count": null,
   "metadata": {},
   "outputs": [],
   "source": [
    "# perturbation\n",
    "plt.imshow(CEM.best_delta.view(28,28) - image.squeeze())"
   ]
  },
  {
   "cell_type": "code",
   "execution_count": null,
   "metadata": {},
   "outputs": [],
   "source": [
    "# original image with perturbation\n",
    "plt.imshow(CEM.best_delta.view(28,28))"
   ]
  },
  {
   "cell_type": "code",
   "execution_count": null,
   "metadata": {},
   "outputs": [],
   "source": [
    "# classification after\n",
    "np.argmax(cnn(CEM.best_delta.view(1,28,28)).detach())"
   ]
  },
  {
   "cell_type": "code",
   "execution_count": null,
   "metadata": {},
   "outputs": [],
   "source": [
    "# classification before\n",
    "np.argmax(cnn(image.squeeze(-1)).detach())"
   ]
  },
  {
   "cell_type": "code",
   "execution_count": null,
   "metadata": {},
   "outputs": [],
   "source": [
    "print(CEM.best_loss)"
   ]
  },
  {
   "cell_type": "code",
   "execution_count": null,
   "metadata": {},
   "outputs": [],
   "source": [
    "print(CEM.best_pert_loss)"
   ]
  },
  {
   "cell_type": "code",
   "execution_count": null,
   "metadata": {},
   "outputs": [],
   "source": [
    "print(image)"
   ]
  },
  {
   "cell_type": "code",
   "execution_count": null,
   "metadata": {},
   "outputs": [],
   "source": []
  }
 ],
 "metadata": {
  "kernelspec": {
   "display_name": "Python 3",
   "language": "python",
   "name": "python3"
  },
  "language_info": {
   "codemirror_mode": {
    "name": "ipython",
    "version": 3
   },
   "file_extension": ".py",
   "mimetype": "text/x-python",
   "name": "python",
   "nbconvert_exporter": "python",
   "pygments_lexer": "ipython3",
   "version": "3.7.0"
  }
 },
 "nbformat": 4,
 "nbformat_minor": 2
}
