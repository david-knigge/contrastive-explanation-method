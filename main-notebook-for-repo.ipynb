{
 "cells": [
  {
   "cell_type": "markdown",
   "metadata": {},
   "source": [
    "# Contrastive Explanation Method\n",
    "## Table of content:\n",
    "* [Imports](#imports)\n",
    "* [Performance of the CEM on the MNIST dataset](#potcotmd)\n",
    "* [Training the MNIST classifier](#training_mnist_classifier)\n",
    "* [Training the MNIST autoencoder](#training_mnist_ae)\n",
    "* [MNIST Contrastive Explanation Method](#cem_mnist)\n",
    "* [Evaluate MNIST Contrastive Explanation Method](#eval_cem_mnist)\n",
    "* [Performance of the CEM on the Fashion MNIST dataset](#potcotfd)\n",
    "* [Training the Fashion MNIST classifier](#training_fashion_mnist_classifier)\n",
    "* [Training the Fashion MNIST autoencoder](#training_fashion_mnist_ae)\n",
    "* [Fashion MNIST Contrastive Explanation Method](#cem_fashion_mnist)\n",
    "* [Evaluate Fashion MNIST Contrastive Explanation Method](#eval_cem_fashion_mnist)"
   ]
  },
  {
   "cell_type": "markdown",
   "metadata": {},
   "source": [
    "# Imports <a class=\"anchor\" id=\"imports\"></a>"
   ]
  },
  {
   "cell_type": "code",
   "execution_count": 1,
   "metadata": {},
   "outputs": [],
   "source": [
    "%matplotlib inline\n",
    "import matplotlib.pyplot as plt\n",
    "import numpy as np\n",
    "\n",
    "import time\n",
    "import os\n",
    "\n",
    "import torch\n",
    "\n",
    "from cem.datasets.mnist import MNIST\n",
    "from cem.datasets.fashion_mnist import FashionMNIST\n",
    "\n",
    "from cem.models.cae_model import CAE\n",
    "from cem.models.conv_model import CNN\n",
    "\n",
    "from cem.train import train_ae, train_cnn\n",
    "\n",
    "from cem.cem import ContrastiveExplanationMethod\n",
    "\n",
    "# set random seeds for reproducability (although the CEM is fully determininstic)\n",
    "torch.manual_seed(0)\n",
    "np.random.seed(0)"
   ]
  },
  {
   "cell_type": "code",
   "execution_count": 2,
   "metadata": {},
   "outputs": [],
   "source": [
    "# Change the following variables to either include or skip over optional\n",
    "# evaluation metrics for the CNN and autoencoder\n",
    "EVALUATE_CNN = True\n",
    "EVALUATE_AUTOENCODER = True\n",
    "\n",
    "# Change these variables to force (re-)download of the datasets\n",
    "DOWNLOAD_MNIST = False\n",
    "DOWNLOAD_FASHION_MNIST = False\n",
    "\n",
    "# Device on which experiments are run\n",
    "DEVICE = 'cpu'"
   ]
  },
  {
   "cell_type": "markdown",
   "metadata": {},
   "source": [
    "# Performance of the CEM on the MNIST dataset <a class=\"anchor\" id=\"potcotmd\"></a>\n"
   ]
  },
  {
   "cell_type": "code",
   "execution_count": 3,
   "metadata": {},
   "outputs": [],
   "source": [
    "# specify which dataset we want to train on, batch size is only used\n",
    "# in training the CNN and AE.\n",
    "dataset = MNIST(batch_size=64, download=DOWNLOAD_MNIST)"
   ]
  },
  {
   "cell_type": "markdown",
   "metadata": {},
   "source": [
    "# Training the MNIST classifier <a class=\"anchor\" id=\"training_mnist_classifier\"></a>\n",
    "\n",
    "This section trains the classifier for which the pertinent positives and negatives will be constructed.\n",
    "If a load path is given and exists a model will be loaded from said file and will not train."
   ]
  },
  {
   "cell_type": "code",
   "execution_count": 4,
   "metadata": {},
   "outputs": [],
   "source": [
    "# Initialise the CNN object\n",
    "cnn = CNN()\n",
    "\n",
    "# The train function attempts to load the model from the specified path\n",
    "# if no path is specified (by empty string) the model will be trained\n",
    "# using the specified dataset.\n",
    "train_cnn(cnn, dataset, load_path=\"./cem/models/saved_models/mnist-cnn.h5\")"
   ]
  },
  {
   "cell_type": "code",
   "execution_count": 5,
   "metadata": {},
   "outputs": [
    {
     "name": "stdout",
     "output_type": "stream",
     "text": [
      "classifier accuracy on test set: 0.971437101910828\n"
     ]
    }
   ],
   "source": [
    "# This cell evaluates the performance of the CNN on the specified test set.\n",
    "if EVALUATE_CNN:\n",
    "\n",
    "    total_acc = 0\n",
    "    total_batches = 0\n",
    "    for step, (batch_inputs, batch_targets) in enumerate(dataset.test_loader):\n",
    "\n",
    "        predictions = cnn(batch_inputs)\n",
    "        acc = (predictions.argmax(1).cpu().numpy() == batch_targets.cpu().numpy()).sum()/(predictions.shape[0])\n",
    "        total_batches += 1\n",
    "        total_acc += acc\n",
    "\n",
    "    print(\"classifier accuracy on test set: {}\".format(total_acc / total_batches))"
   ]
  },
  {
   "cell_type": "markdown",
   "metadata": {},
   "source": [
    "# Training the MNIST autoencoder<a class=\"anchor\" id=\"training_mnist_ae\"></a>"
   ]
  },
  {
   "cell_type": "markdown",
   "metadata": {},
   "source": [
    "This section trains the autoencoder which will be used as regularizer for the data space which the perturbations are found in."
   ]
  },
  {
   "cell_type": "code",
   "execution_count": 6,
   "metadata": {},
   "outputs": [],
   "source": [
    "# Train or load autoencoder\n",
    "cae = CAE()\n",
    "\n",
    "# The train function attempts to load the model from the specified path\n",
    "# if no path is specified (by empty string) the model will be trained\n",
    "# using the specified dataset.\n",
    "train_ae(cae, dataset, load_path=\"./cem/models/saved_models/mnist-cae-no-rs.h5\")"
   ]
  },
  {
   "cell_type": "code",
   "execution_count": 7,
   "metadata": {},
   "outputs": [
    {
     "data": {
      "image/png": "[encoded data removed]",
      "text/plain": [
       "<Figure size 864x288 with 8 Axes>"
      ]
     },
     "metadata": {
      "needs_background": "light"
     },
     "output_type": "display_data"
    }
   ],
   "source": [
    "# This cell evaluates the performance of the autoencoder by visualising a batch of \n",
    "# in- and corresponding output images.\n",
    "if EVALUATE_AUTOENCODER:\n",
    "    images, _ = dataset.get_batch()\n",
    "    \n",
    "    # rescale images since our ae is trained on non-zero-mean images\n",
    "    images += 0.5\n",
    "\n",
    "    # get sample outputs\n",
    "    output = cae(images)\n",
    "    # prep images for display\n",
    "    images = images.numpy()\n",
    "    output = output.detach().numpy()\n",
    "\n",
    "    # plot the first ten input images and then reconstructed images\n",
    "    fig, axes = plt.subplots(nrows=2, ncols=4, sharex=True, sharey=True, figsize=(12,4))\n",
    "\n",
    "    # input images on top row, reconstructions on bottom\n",
    "    for images, row in zip([images, output], axes):\n",
    "        for img, ax in zip(images, row):\n",
    "            ax.imshow(np.squeeze(img))\n",
    "            ax.get_xaxis().set_visible(False)\n",
    "            ax.get_yaxis().set_visible(False)"
   ]
  },
  {
   "cell_type": "markdown",
   "metadata": {},
   "source": [
    "# MNIST Contrastive Explanation Method <a class=\"anchor\" id=\"cem_mnist\"></a>"
   ]
  },
  {
   "cell_type": "code",
   "execution_count": 8,
   "metadata": {},
   "outputs": [],
   "source": [
    "# In this cell the CEM object is initialised. For each parameter a short\n",
    "# description is given.\n",
    "\n",
    "# used in experiment: kappa 10, gamma 1.0, beta 0.1, c 0.1, lr 0.01\n",
    "\n",
    "# to understand the impact of the following parameters please refer\n",
    "# to the paper in this github.\n",
    "kappa = 10\n",
    "gamma = 1.0\n",
    "beta = 0.1\n",
    "c = 0.1\n",
    "lr = 0.01\n",
    "\n",
    "# number of iterations to train for\n",
    "iterations = 100\n",
    "# number of searches (equal to the number of times c gets updated)\n",
    "n_searches = 3\n",
    "# initial c value, in the original implementation the value for c \n",
    "# was initiated at 10 to prevent unnecessary iterations in which\n",
    "# no weight updates are performed.\n",
    "c_init = 10.0\n",
    "\n",
    "# print information during training\n",
    "verbose = True\n",
    "print_every = 50\n",
    "\n",
    "# the shape of a single sample, this is used to reshape input\n",
    "# and output of the classifier and autoencoder\n",
    "input_shape = (1, 28, 28)\n",
    "\n",
    "# Select either PP for pertinent postive or PN for pertinent negative\n",
    "mode = \"PP\"\n",
    "\n",
    "CEM = ContrastiveExplanationMethod(\n",
    "    cnn,\n",
    "    cae,\n",
    "    iterations=iterations,\n",
    "    n_searches=n_searches,\n",
    "    kappa=kappa,\n",
    "    gamma=gamma,\n",
    "    beta=beta,\n",
    "    learning_rate=lr,\n",
    "    c_init=c_init,\n",
    "    c_converge=c,\n",
    "    verbose=verbose,\n",
    "    print_every=print_every\n",
    ")"
   ]
  },
  {
   "cell_type": "markdown",
   "metadata": {},
   "source": [
    "# Example usage of MNIST Contrastive Explanation Method <a class=\"anchor\" id=\"eval_cem_mnist\"></a>"
   ]
  },
  {
   "cell_type": "code",
   "execution_count": 9,
   "metadata": {},
   "outputs": [
    {
     "name": "stdout",
     "output_type": "stream",
     "text": [
      "search: 0 iteration: 50 c: 10.00 loss: 138.56 solution: False\n",
      "search: 0 iteration: 100 c: 10.00 loss: 138.56 solution: False\n",
      "new best delta found, loss: 81.19241333007812\n",
      "new best delta found, loss: 73.32437896728516\n",
      "new best delta found, loss: 71.27554321289062\n",
      "search: 1 iteration: 50 c: 100.00 loss: 97.40 solution: True\n",
      "new best delta found, loss: 66.89830017089844\n",
      "new best delta found, loss: 63.62762451171875\n",
      "search: 1 iteration: 100 c: 100.00 loss: 306.96 solution: True\n",
      "search: 2 iteration: 50 c: 50.05 loss: 111.60 solution: True\n",
      "new best delta found, loss: 63.59101867675781\n",
      "search: 2 iteration: 100 c: 50.05 loss: 450.61 solution: True\n",
      "original image classified as: 1\n",
      "pertinent positive classified as: 1\n"
     ]
    },
    {
     "data": {
      "image/png": "[encoded data removed]",
      "text/plain": [
       "<Figure size 720x360 with 3 Axes>"
      ]
     },
     "metadata": {
      "needs_background": "light"
     },
     "output_type": "display_data"
    }
   ],
   "source": [
    "sample, _ = dataset.get_sample()\n",
    "delta = CEM.explain(sample, mode=mode)\n",
    "\n",
    "if delta is None:\n",
    "    print(\"no solution found...\")\n",
    "    raise\n",
    "\n",
    "before = torch.argmax(cnn(sample.view(-1, *input_shape)))\n",
    "\n",
    "print(\"original image classified as: {}\".format(before))\n",
    "\n",
    "if mode == \"PP\":\n",
    "    after = np.argmax(cnn(sample-delta.view(-1, *input_shape)).detach().cpu()).item()\n",
    "    print(\"pertinent positive classified as: {}\".format(after))\n",
    "\n",
    "elif mode == \"PN\":\n",
    "    after = np.argmax(cnn(delta.view(-1, *input_shape)).detach().cpu()).item()\n",
    "    print(\"image with pertinent negative added classified as: {}\".format(after))\n",
    "\n",
    "fig, (ax1, ax2, ax3) = plt.subplots(nrows=1, ncols=3, sharex=True, sharey=True, figsize=(10, 5))\n",
    "\n",
    "ax1.imshow(sample.squeeze(), cmap=\"gray\")\n",
    "ax1.title.set_text(\"original image\")\n",
    "\n",
    "ax2.imshow(delta.view(28, 28), cmap=\"gray\")\n",
    "ax2.title.set_text(\"image with perturbation\")\n",
    "\n",
    "if mode == \"PP\":\n",
    "    ax3.imshow(sample.squeeze() - delta.view(28, 28), cmap=\"gray\")\n",
    "    ax3.title.set_text(\"pertinent positive\")\n",
    "elif mode == \"PN\":\n",
    "    ax3.imshow(delta.view(28, 28) - sample.squeeze(), cmap=\"gray\")\n",
    "    ax3.title.set_text(\"pertinent negative\")\n"
   ]
  },
  {
   "cell_type": "markdown",
   "metadata": {},
   "source": [
    "# Performance of the CEM on the FashionMNIST dataset <a class=\"anchor\" id=\"potcotfd\"></a>"
   ]
  },
  {
   "cell_type": "code",
   "execution_count": 10,
   "metadata": {},
   "outputs": [],
   "source": [
    "dataset = FashionMNIST(batch_size=64, download=DOWNLOAD_FASHION_MNIST)"
   ]
  },
  {
   "cell_type": "markdown",
   "metadata": {},
   "source": [
    "# Training the Fashion MNIST classifier <a class=\"anchor\" id=\"training_fashion_mnist_classifier\"></a>\n",
    "\n",
    "This section trains the classifier for which the pertinent positives and negatives will be constructed.\n",
    "If a load path is given and exists a model will be loaded from said file and will not train."
   ]
  },
  {
   "cell_type": "code",
   "execution_count": 11,
   "metadata": {},
   "outputs": [],
   "source": [
    "cnn = CNN()\n",
    "\n",
    "train_cnn(cnn, dataset, load_path=\"./cem/models/saved_models/fashion-mnist-cnn.h5\")"
   ]
  },
  {
   "cell_type": "code",
   "execution_count": 12,
   "metadata": {},
   "outputs": [],
   "source": [
    "images, _ = dataset.get_batch()\n",
    "\n",
    "output = cnn(images)\n",
    "\n",
    "images = images.numpy()\n",
    "output = output.detach().numpy()"
   ]
  },
  {
   "cell_type": "code",
   "execution_count": 13,
   "metadata": {},
   "outputs": [
    {
     "name": "stdout",
     "output_type": "stream",
     "text": [
      "acc: 0.8946058917197452\n"
     ]
    }
   ],
   "source": [
    "# This cell evaluates the performance of the CNN on the specified test set.\n",
    "if EVALUATE_CNN:\n",
    "\n",
    "    total_acc = 0\n",
    "    total_batches = 0\n",
    "    for step, (batch_inputs, batch_targets) in enumerate(dataset.test_loader):\n",
    "\n",
    "        predictions = cnn(batch_inputs)\n",
    "        acc = (predictions.argmax(1).cpu().numpy() == batch_targets.cpu().numpy()).sum()/(predictions.shape[0])\n",
    "        total_batches += 1\n",
    "        total_acc += acc\n",
    "\n",
    "    print(\"acc: {}\".format(total_acc / total_batches))"
   ]
  },
  {
   "cell_type": "markdown",
   "metadata": {},
   "source": [
    "# Training the Fashion MNIST autoencoder<a class=\"anchor\" id=\"training_fashion_mnist_ae\"></a>"
   ]
  },
  {
   "cell_type": "code",
   "execution_count": 14,
   "metadata": {},
   "outputs": [],
   "source": [
    "# Train or load autoencoder\n",
    "cae = CAE(device=\"cpu\")\n",
    "\n",
    "train_ae(cae, dataset, iterations=10, save_fn=\"fashion-mnist-cae\", device=\"cpu\", load_path=\"./cem/models/saved_models/fashion-mnist-cae.h5\")"
   ]
  },
  {
   "cell_type": "code",
   "execution_count": 15,
   "metadata": {},
   "outputs": [
    {
     "data": {
      "image/png": "[encoded data removed]",
      "text/plain": [
       "<Figure size 864x288 with 8 Axes>"
      ]
     },
     "metadata": {
      "needs_background": "light"
     },
     "output_type": "display_data"
    }
   ],
   "source": [
    "# This cell evaluates the performance of the autoencoder by visualising a batch of \n",
    "# in- and corresponding output images.\n",
    "if EVALUATE_AUTOENCODER:\n",
    "    images, _ = dataset.get_batch()\n",
    "    images += 0.5 # rescale images\n",
    "\n",
    "    # get sample outputs\n",
    "    output = cae(images)\n",
    "    # prep images for display\n",
    "    images = images.numpy()\n",
    "    output = output.detach().numpy()\n",
    "\n",
    "    # plot the first ten input images and then reconstructed images\n",
    "    fig, axes = plt.subplots(nrows=2, ncols=4, sharex=True, sharey=True, figsize=(12,4))\n",
    "\n",
    "    # input images on top row, reconstructions on bottom\n",
    "    for images, row in zip([images, output], axes):\n",
    "        for img, ax in zip(images, row):\n",
    "            ax.imshow(np.squeeze(img))\n",
    "            ax.get_xaxis().set_visible(False)\n",
    "            ax.get_yaxis().set_visible(False)"
   ]
  },
  {
   "cell_type": "markdown",
   "metadata": {},
   "source": [
    "# Fashion MNIST Contrastive Explanation Method <a class=\"anchor\" id=\"cem_fashion_mnist\"></a>"
   ]
  },
  {
   "cell_type": "code",
   "execution_count": 16,
   "metadata": {},
   "outputs": [],
   "source": [
    "# In this cell the CEM object is initialised. For each parameter a short\n",
    "# description is given.\n",
    "\n",
    "# used in experiment: kappa 10, gamma 1.0, beta 0.1, c 0.1, lr 0.01\n",
    "\n",
    "# to understand the impact of the following parameters please refer\n",
    "# to the paper in this github.\n",
    "kappa = 10\n",
    "gamma = 1.0\n",
    "beta = 0.1\n",
    "c = 0.1\n",
    "lr = 0.01\n",
    "\n",
    "# number of iterations to train for\n",
    "iterations = 100\n",
    "# number of searches (equal to the number of times c gets updated)\n",
    "n_searches = 3\n",
    "# initial c value, in the original implementation the value for c \n",
    "# was initiated at 10 to prevent unnecessary iterations in which\n",
    "# no weight updates are performed.\n",
    "c_init = 10.0\n",
    "\n",
    "# print information during training\n",
    "verbose = True\n",
    "print_every = 50\n",
    "\n",
    "# the shape of a single sample, this is used to reshape input\n",
    "# and output of the classifier and autoencoder\n",
    "input_shape = (1, 28, 28)\n",
    "\n",
    "# Select either PP for pertinent postive or PN for pertinent negative\n",
    "mode = \"PP\"\n",
    "\n",
    "CEM = ContrastiveExplanationMethod(\n",
    "    cnn,\n",
    "    cae,\n",
    "    iterations=iterations,\n",
    "    n_searches=n_searches,\n",
    "    kappa=kappa,\n",
    "    gamma=gamma,\n",
    "    beta=beta,\n",
    "    learning_rate=lr,\n",
    "    c_init=c_init,\n",
    "    c_converge=c,\n",
    "    verbose=verbose,\n",
    "    print_every=print_every\n",
    ")"
   ]
  },
  {
   "cell_type": "markdown",
   "metadata": {},
   "source": [
    "# Example usage of Fashion MNIST Contrastive Explanation Method <a class=\"anchor\" id=\"eval_cem_fashion_mnist\"></a>"
   ]
  },
  {
   "cell_type": "code",
   "execution_count": 17,
   "metadata": {},
   "outputs": [
    {
     "name": "stdout",
     "output_type": "stream",
     "text": [
      "new best delta found, loss: 264.59136962890625\n",
      "new best delta found, loss: 13.1387939453125\n",
      "new best delta found, loss: 12.135979652404785\n",
      "new best delta found, loss: 7.947312355041504\n",
      "new best delta found, loss: 6.0954484939575195\n",
      "new best delta found, loss: 5.265645980834961\n",
      "new best delta found, loss: 3.6525661945343018\n",
      "search: 0 iteration: 50 c: 10.00 loss: 21.06 solution: True\n",
      "new best delta found, loss: 1.556190013885498\n",
      "new best delta found, loss: 1.2803924083709717\n",
      "search: 0 iteration: 100 c: 10.00 loss: 70.50 solution: True\n",
      "search: 1 iteration: 50 c: 5.05 loss: 4.55 solution: True\n",
      "new best delta found, loss: 1.078169345855713\n",
      "search: 1 iteration: 100 c: 5.05 loss: 55.91 solution: True\n",
      "search: 2 iteration: 50 c: 2.57 loss: 14.05 solution: True\n",
      "search: 2 iteration: 100 c: 2.57 loss: 28.52 solution: True\n",
      "original image classified as: 3\n",
      "pertinent positive classified as: 3\n"
     ]
    },
    {
     "data": {
      "image/png": "[encoded data removed]",
      "text/plain": [
       "<Figure size 720x360 with 3 Axes>"
      ]
     },
     "metadata": {
      "needs_background": "light"
     },
     "output_type": "display_data"
    }
   ],
   "source": [
    "sample, _ = dataset.get_sample()\n",
    "delta = CEM.explain(sample, mode=mode)\n",
    "\n",
    "if delta is None:\n",
    "    print(\"no solution found...\")\n",
    "    raise\n",
    "\n",
    "before = torch.argmax(cnn(sample.view(-1, *input_shape)))\n",
    "\n",
    "print(\"original image classified as: {}\".format(before))\n",
    "\n",
    "if mode == \"PP\":\n",
    "    after = np.argmax(cnn(sample-delta.view(-1, *input_shape)).detach().cpu()).item()\n",
    "    print(\"pertinent positive classified as: {}\".format(after))\n",
    "\n",
    "elif mode == \"PN\":\n",
    "    after = np.argmax(cnn(delta.view(-1, *input_shape)).detach().cpu()).item()\n",
    "    print(\"image with pertinent negative added classified as: {}\".format(after))\n",
    "\n",
    "fig, (ax1, ax2, ax3) = plt.subplots(nrows=1, ncols=3, sharex=True, sharey=True, figsize=(10, 5))\n",
    "\n",
    "ax1.imshow(sample.squeeze(), cmap=\"gray\")\n",
    "ax1.title.set_text(\"original image\")\n",
    "\n",
    "ax2.imshow(delta.view(28, 28), cmap=\"gray\")\n",
    "ax2.title.set_text(\"image with perturbation\")\n",
    "\n",
    "if mode == \"PP\":\n",
    "    ax3.imshow(sample.squeeze() - delta.view(28, 28), cmap=\"gray\")\n",
    "    ax3.title.set_text(\"pertinent positive\")\n",
    "elif mode == \"PN\":\n",
    "    ax3.imshow(delta.view(28, 28) - sample.squeeze(), cmap=\"gray\")\n",
    "    ax3.title.set_text(\"pertinent negative\")\n"
   ]
  }
 ],
 "metadata": {
  "kernelspec": {
   "display_name": "Python 3",
   "language": "python",
   "name": "python3"
  },
  "language_info": {
   "codemirror_mode": {
    "name": "ipython",
    "version": 3
   },
   "file_extension": ".py",
   "mimetype": "text/x-python",
   "name": "python",
   "nbconvert_exporter": "python",
   "pygments_lexer": "ipython3",
   "version": "3.7.0"
  }
 },
 "nbformat": 4,
 "nbformat_minor": 2
}
