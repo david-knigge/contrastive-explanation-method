{
 "cells": [
  {
   "cell_type": "code",
   "execution_count": 1,
   "metadata": {},
   "outputs": [],
   "source": [
    "import matplotlib.pyplot as plt\n",
    "import numpy as np\n",
    "\n",
    "from datasets.mnist import MNIST\n",
    "\n",
    "from models.cae_model import CAE\n",
    "from models.conv_model import CNN\n",
    "\n",
    "from train import train_ae, train_cnn\n",
    "\n",
    "from cem import ContrastiveExplanationMethod"
   ]
  },
  {
   "cell_type": "code",
   "execution_count": 2,
   "metadata": {},
   "outputs": [],
   "source": [
    "dataset = MNIST()\n",
    "# dataset = FashionMNIST()"
   ]
  },
  {
   "cell_type": "markdown",
   "metadata": {},
   "source": [
    "# Training the classifier"
   ]
  },
  {
   "cell_type": "code",
   "execution_count": 3,
   "metadata": {},
   "outputs": [],
   "source": [
    "cnn = CNN()\n",
    "\n",
    "train_cnn(cnn, dataset, iterations=2, lr=0.001, device='cpu', save_fn='mnist-cnn', load_path=\"./models/saved_models/b_mnist-cnn.h5\")"
   ]
  },
  {
   "cell_type": "code",
   "execution_count": 4,
   "metadata": {},
   "outputs": [
    {
     "name": "stderr",
     "output_type": "stream",
     "text": [
      "D:\\david\\Coding\\uva-fact-ai\\models\\conv_model.py:50: UserWarning: Implicit dimension choice for softmax has been deprecated. Change the call to include dim=X as an argument.\n",
      "  out = nn.functional.softmax(out)\n"
     ]
    }
   ],
   "source": [
    "images, _ = dataset.get_batch()\n",
    "\n",
    "output = cnn(images)\n",
    "\n",
    "images = images.numpy()\n",
    "output = output.detach().numpy()\n"
   ]
  },
  {
   "cell_type": "markdown",
   "metadata": {},
   "source": [
    "# Training the autoencoder"
   ]
  },
  {
   "cell_type": "markdown",
   "metadata": {},
   "source": [
    "This section trains the autoencoder which will be used as regularizer for the data space which the perturbations are found in."
   ]
  },
  {
   "cell_type": "code",
   "execution_count": 5,
   "metadata": {},
   "outputs": [],
   "source": [
    "# Train or load autoencoder\n",
    "cae = CAE()\n",
    "\n",
    "train_ae(cae, dataset, iterations=2, save_fn=\"mnist-cae\", load_path=\"./models/saved_models/b-mnist-cae.h5\")"
   ]
  },
  {
   "cell_type": "code",
   "execution_count": 6,
   "metadata": {},
   "outputs": [
    {
     "data": {
      "image/png": "[encoded data removed]",
      "text/plain": [
       "<Figure size 1800x288 with 8 Axes>"
      ]
     },
     "metadata": {
      "needs_background": "light"
     },
     "output_type": "display_data"
    }
   ],
   "source": [
    "# obtain one batch of test images\n",
    "images, _ = dataset.get_batch()\n",
    "\n",
    "#images_flatten = images.view(images.size(0), -1)\n",
    "# get sample outputs\n",
    "output = cae(images)\n",
    "# prep images for display\n",
    "images = images.numpy()\n",
    "\n",
    "# output is resized into a batch of images\n",
    "# output = output.view(batch_size, 1, 28, 28)\n",
    "# use detach when it's an output that requires_grad\n",
    "output = output.detach().numpy()\n",
    "\n",
    "# plot the first ten input images and then reconstructed images\n",
    "fig, axes = plt.subplots(nrows=2, ncols=4, sharex=True, sharey=True, figsize=(25,4))\n",
    "\n",
    "# input images on top row, reconstructions on bottom\n",
    "for images, row in zip([images, output], axes):\n",
    "    for img, ax in zip(images, row):\n",
    "        ax.imshow(np.squeeze(img), cmap='gray')\n",
    "        ax.get_xaxis().set_visible(False)\n",
    "        ax.get_yaxis().set_visible(False)"
   ]
  },
  {
   "cell_type": "markdown",
   "metadata": {},
   "source": [
    "# Contrastive Explanation Method"
   ]
  },
  {
   "cell_type": "code",
   "execution_count": 7,
   "metadata": {},
   "outputs": [],
   "source": [
    "CEM = ContrastiveExplanationMethod(cnn, cae, iterations=1000, n_searches=9, kappa=10, gamma=100)"
   ]
  },
  {
   "cell_type": "code",
   "execution_count": 8,
   "metadata": {},
   "outputs": [
    {
     "data": {
      "text/plain": [
       "<matplotlib.image.AxesImage at 0x1c20413be48>"
      ]
     },
     "execution_count": 8,
     "metadata": {},
     "output_type": "execute_result"
    },
    {
     "data": {
      "image/png": "[encoded data removed]",
      "text/plain": [
       "<Figure size 432x288 with 1 Axes>"
      ]
     },
     "metadata": {
      "needs_background": "light"
     },
     "output_type": "display_data"
    }
   ],
   "source": [
    "# obtain one sample\n",
    "image, _ = dataset.get_sample()\n",
    "\n",
    "plt.imshow(image.squeeze())"
   ]
  },
  {
   "cell_type": "code",
   "execution_count": 9,
   "metadata": {
    "scrolled": true
   },
   "outputs": [
    {
     "name": "stdout",
     "output_type": "stream",
     "text": [
      "search: 0 - iteration: 0 - c value:10.00 - loss: 247.46 - delta sum: 0.00 - has reached optimum: False\n",
      "NEW BEST: 2754.5771484375 - C: 10\n",
      "search: 0 - iteration: 20 - c value:10.00 - loss: 19686.38 - delta sum: 311.58 - has reached optimum: True\n",
      "search: 0 - iteration: 40 - c value:10.00 - loss: 21383.32 - delta sum: 308.69 - has reached optimum: True\n",
      "search: 0 - iteration: 60 - c value:10.00 - loss: 21804.48 - delta sum: 308.44 - has reached optimum: True\n",
      "search: 0 - iteration: 80 - c value:10.00 - loss: 21824.12 - delta sum: 307.84 - has reached optimum: True\n",
      "search: 0 - iteration: 100 - c value:10.00 - loss: 22065.51 - delta sum: 307.78 - has reached optimum: True\n",
      "search: 0 - iteration: 120 - c value:10.00 - loss: 22150.53 - delta sum: 307.33 - has reached optimum: True\n",
      "search: 0 - iteration: 140 - c value:10.00 - loss: 22728.99 - delta sum: 310.37 - has reached optimum: True\n",
      "search: 0 - iteration: 160 - c value:10.00 - loss: 22546.96 - delta sum: 311.27 - has reached optimum: True\n",
      "search: 0 - iteration: 180 - c value:10.00 - loss: 22888.17 - delta sum: 311.60 - has reached optimum: True\n",
      "search: 0 - iteration: 200 - c value:10.00 - loss: 22840.33 - delta sum: 309.90 - has reached optimum: True\n",
      "search: 0 - iteration: 220 - c value:10.00 - loss: 22756.55 - delta sum: 308.82 - has reached optimum: True\n",
      "search: 0 - iteration: 240 - c value:10.00 - loss: 22829.81 - delta sum: 308.64 - has reached optimum: True\n",
      "search: 0 - iteration: 260 - c value:10.00 - loss: 22855.90 - delta sum: 308.95 - has reached optimum: True\n",
      "search: 0 - iteration: 280 - c value:10.00 - loss: 22707.47 - delta sum: 307.60 - has reached optimum: True\n",
      "search: 0 - iteration: 300 - c value:10.00 - loss: 22689.18 - delta sum: 309.26 - has reached optimum: True\n",
      "search: 0 - iteration: 320 - c value:10.00 - loss: 22584.85 - delta sum: 308.31 - has reached optimum: True\n",
      "search: 0 - iteration: 340 - c value:10.00 - loss: 22593.52 - delta sum: 308.57 - has reached optimum: True\n",
      "search: 0 - iteration: 360 - c value:10.00 - loss: 22357.49 - delta sum: 307.72 - has reached optimum: True\n",
      "search: 0 - iteration: 380 - c value:10.00 - loss: 23070.40 - delta sum: 309.06 - has reached optimum: True\n",
      "search: 0 - iteration: 400 - c value:10.00 - loss: 23271.04 - delta sum: 309.54 - has reached optimum: True\n",
      "search: 0 - iteration: 420 - c value:10.00 - loss: 23242.92 - delta sum: 309.49 - has reached optimum: True\n",
      "search: 0 - iteration: 440 - c value:10.00 - loss: 23260.83 - delta sum: 309.60 - has reached optimum: True\n",
      "search: 0 - iteration: 460 - c value:10.00 - loss: 23230.40 - delta sum: 309.48 - has reached optimum: True\n",
      "search: 0 - iteration: 480 - c value:10.00 - loss: 23217.58 - delta sum: 309.42 - has reached optimum: True\n",
      "search: 0 - iteration: 500 - c value:10.00 - loss: 23229.96 - delta sum: 309.43 - has reached optimum: True\n",
      "search: 0 - iteration: 520 - c value:10.00 - loss: 23203.61 - delta sum: 309.23 - has reached optimum: True\n",
      "search: 0 - iteration: 540 - c value:10.00 - loss: 23304.49 - delta sum: 309.77 - has reached optimum: True\n",
      "search: 0 - iteration: 560 - c value:10.00 - loss: 23172.32 - delta sum: 309.35 - has reached optimum: True\n",
      "search: 0 - iteration: 580 - c value:10.00 - loss: 23171.93 - delta sum: 309.11 - has reached optimum: True\n",
      "search: 0 - iteration: 600 - c value:10.00 - loss: 23261.12 - delta sum: 309.64 - has reached optimum: True\n",
      "search: 0 - iteration: 620 - c value:10.00 - loss: 23231.62 - delta sum: 309.51 - has reached optimum: True\n",
      "search: 0 - iteration: 640 - c value:10.00 - loss: 23174.93 - delta sum: 309.24 - has reached optimum: True\n",
      "search: 0 - iteration: 660 - c value:10.00 - loss: 23176.51 - delta sum: 310.28 - has reached optimum: True\n",
      "search: 0 - iteration: 680 - c value:10.00 - loss: 22717.94 - delta sum: 309.61 - has reached optimum: True\n",
      "search: 0 - iteration: 700 - c value:10.00 - loss: 22735.14 - delta sum: 308.59 - has reached optimum: True\n",
      "search: 0 - iteration: 720 - c value:10.00 - loss: 22715.17 - delta sum: 307.51 - has reached optimum: True\n",
      "search: 0 - iteration: 740 - c value:10.00 - loss: 22705.69 - delta sum: 307.68 - has reached optimum: True\n",
      "search: 0 - iteration: 760 - c value:10.00 - loss: 22820.62 - delta sum: 308.54 - has reached optimum: True\n",
      "search: 0 - iteration: 780 - c value:10.00 - loss: 22332.64 - delta sum: 307.04 - has reached optimum: True\n",
      "search: 0 - iteration: 800 - c value:10.00 - loss: 22684.63 - delta sum: 306.69 - has reached optimum: True\n",
      "search: 0 - iteration: 820 - c value:10.00 - loss: 22393.54 - delta sum: 306.70 - has reached optimum: True\n",
      "search: 0 - iteration: 840 - c value:10.00 - loss: 22286.44 - delta sum: 307.53 - has reached optimum: True\n",
      "search: 0 - iteration: 860 - c value:10.00 - loss: 22375.02 - delta sum: 308.22 - has reached optimum: True\n",
      "search: 0 - iteration: 880 - c value:10.00 - loss: 22384.59 - delta sum: 308.28 - has reached optimum: True\n",
      "search: 0 - iteration: 900 - c value:10.00 - loss: 22294.62 - delta sum: 308.58 - has reached optimum: True\n",
      "search: 0 - iteration: 920 - c value:10.00 - loss: 21601.72 - delta sum: 306.23 - has reached optimum: True\n",
      "search: 0 - iteration: 940 - c value:10.00 - loss: 21524.55 - delta sum: 308.47 - has reached optimum: True\n",
      "search: 0 - iteration: 960 - c value:10.00 - loss: 20522.64 - delta sum: 306.63 - has reached optimum: True\n",
      "search: 0 - iteration: 980 - c value:10.00 - loss: 18479.29 - delta sum: 297.77 - has reached optimum: True\n",
      "NEW BEST: 2284.42236328125 - C: 10\n",
      "search: 1 - iteration: 0 - c value:5.05 - loss: 195.70 - delta sum: 0.00 - has reached optimum: False\n",
      "search: 1 - iteration: 20 - c value:5.05 - loss: 19730.92 - delta sum: 317.74 - has reached optimum: True\n",
      "search: 1 - iteration: 40 - c value:5.05 - loss: 21414.15 - delta sum: 316.68 - has reached optimum: True\n",
      "search: 1 - iteration: 60 - c value:5.05 - loss: 22252.66 - delta sum: 318.45 - has reached optimum: True\n",
      "search: 1 - iteration: 80 - c value:5.05 - loss: 22529.08 - delta sum: 317.93 - has reached optimum: True\n",
      "search: 1 - iteration: 100 - c value:5.05 - loss: 22639.07 - delta sum: 316.82 - has reached optimum: True\n",
      "search: 1 - iteration: 120 - c value:5.05 - loss: 22657.70 - delta sum: 317.29 - has reached optimum: True\n",
      "search: 1 - iteration: 140 - c value:5.05 - loss: 22577.26 - delta sum: 317.40 - has reached optimum: True\n",
      "search: 1 - iteration: 160 - c value:5.05 - loss: 22657.33 - delta sum: 316.62 - has reached optimum: True\n",
      "search: 1 - iteration: 180 - c value:5.05 - loss: 22737.88 - delta sum: 316.86 - has reached optimum: True\n",
      "search: 1 - iteration: 200 - c value:5.05 - loss: 22942.48 - delta sum: 317.08 - has reached optimum: True\n",
      "search: 1 - iteration: 220 - c value:5.05 - loss: 22797.49 - delta sum: 316.21 - has reached optimum: True\n",
      "search: 1 - iteration: 240 - c value:5.05 - loss: 22936.62 - delta sum: 316.69 - has reached optimum: True\n",
      "search: 1 - iteration: 260 - c value:5.05 - loss: 22930.41 - delta sum: 317.48 - has reached optimum: True\n",
      "search: 1 - iteration: 280 - c value:5.05 - loss: 22894.97 - delta sum: 316.01 - has reached optimum: True\n",
      "search: 1 - iteration: 300 - c value:5.05 - loss: 23919.19 - delta sum: 317.44 - has reached optimum: True\n",
      "search: 1 - iteration: 320 - c value:5.05 - loss: 23895.19 - delta sum: 318.51 - has reached optimum: True\n",
      "search: 1 - iteration: 340 - c value:5.05 - loss: 23831.67 - delta sum: 316.67 - has reached optimum: True\n",
      "search: 1 - iteration: 360 - c value:5.05 - loss: 23476.38 - delta sum: 317.28 - has reached optimum: True\n",
      "search: 1 - iteration: 380 - c value:5.05 - loss: 23742.57 - delta sum: 316.22 - has reached optimum: True\n",
      "search: 1 - iteration: 400 - c value:5.05 - loss: 23497.21 - delta sum: 315.05 - has reached optimum: True\n",
      "search: 1 - iteration: 420 - c value:5.05 - loss: 23094.54 - delta sum: 313.31 - has reached optimum: True\n",
      "search: 1 - iteration: 440 - c value:5.05 - loss: 23104.29 - delta sum: 313.21 - has reached optimum: True\n",
      "search: 1 - iteration: 460 - c value:5.05 - loss: 23349.68 - delta sum: 313.26 - has reached optimum: True\n",
      "search: 1 - iteration: 480 - c value:5.05 - loss: 23355.60 - delta sum: 313.59 - has reached optimum: True\n"
     ]
    },
    {
     "name": "stdout",
     "output_type": "stream",
     "text": [
      "search: 1 - iteration: 500 - c value:5.05 - loss: 23436.71 - delta sum: 313.80 - has reached optimum: True\n",
      "search: 1 - iteration: 520 - c value:5.05 - loss: 23343.33 - delta sum: 313.43 - has reached optimum: True\n",
      "search: 1 - iteration: 540 - c value:5.05 - loss: 23560.40 - delta sum: 314.29 - has reached optimum: True\n",
      "search: 1 - iteration: 560 - c value:5.05 - loss: 22868.43 - delta sum: 312.97 - has reached optimum: True\n",
      "search: 1 - iteration: 580 - c value:5.05 - loss: 22961.47 - delta sum: 313.12 - has reached optimum: True\n",
      "search: 1 - iteration: 600 - c value:5.05 - loss: 23088.14 - delta sum: 314.25 - has reached optimum: True\n",
      "search: 1 - iteration: 620 - c value:5.05 - loss: 23069.25 - delta sum: 312.63 - has reached optimum: True\n",
      "search: 1 - iteration: 640 - c value:5.05 - loss: 23170.76 - delta sum: 314.13 - has reached optimum: True\n",
      "search: 1 - iteration: 660 - c value:5.05 - loss: 23140.99 - delta sum: 312.86 - has reached optimum: True\n",
      "search: 1 - iteration: 680 - c value:5.05 - loss: 22860.74 - delta sum: 311.53 - has reached optimum: True\n",
      "search: 1 - iteration: 700 - c value:5.05 - loss: 22776.63 - delta sum: 310.99 - has reached optimum: True\n",
      "search: 1 - iteration: 720 - c value:5.05 - loss: 23167.92 - delta sum: 312.71 - has reached optimum: True\n",
      "search: 1 - iteration: 740 - c value:5.05 - loss: 23103.74 - delta sum: 312.43 - has reached optimum: True\n",
      "search: 1 - iteration: 760 - c value:5.05 - loss: 22939.98 - delta sum: 311.58 - has reached optimum: True\n",
      "search: 1 - iteration: 780 - c value:5.05 - loss: 22582.62 - delta sum: 310.71 - has reached optimum: True\n",
      "search: 1 - iteration: 800 - c value:5.05 - loss: 22676.23 - delta sum: 311.04 - has reached optimum: True\n",
      "search: 1 - iteration: 820 - c value:5.05 - loss: 22444.05 - delta sum: 313.01 - has reached optimum: True\n",
      "search: 1 - iteration: 840 - c value:5.05 - loss: 22619.05 - delta sum: 309.79 - has reached optimum: True\n",
      "search: 1 - iteration: 860 - c value:5.05 - loss: 21941.51 - delta sum: 308.51 - has reached optimum: True\n",
      "search: 1 - iteration: 880 - c value:5.05 - loss: 21744.28 - delta sum: 307.66 - has reached optimum: True\n",
      "search: 1 - iteration: 900 - c value:5.05 - loss: 21738.07 - delta sum: 309.47 - has reached optimum: True\n",
      "search: 1 - iteration: 920 - c value:5.05 - loss: 21309.95 - delta sum: 306.87 - has reached optimum: True\n",
      "search: 1 - iteration: 940 - c value:5.05 - loss: 21479.56 - delta sum: 308.94 - has reached optimum: True\n",
      "search: 1 - iteration: 960 - c value:5.05 - loss: 21212.01 - delta sum: 308.03 - has reached optimum: True\n",
      "search: 1 - iteration: 980 - c value:5.05 - loss: 18609.05 - delta sum: 304.13 - has reached optimum: True\n",
      "search: 2 - iteration: 0 - c value:2.57 - loss: 169.82 - delta sum: 0.00 - has reached optimum: False\n",
      "search: 2 - iteration: 20 - c value:2.57 - loss: 19954.08 - delta sum: 311.11 - has reached optimum: True\n",
      "search: 2 - iteration: 40 - c value:2.57 - loss: 21398.10 - delta sum: 310.37 - has reached optimum: True\n",
      "search: 2 - iteration: 60 - c value:2.57 - loss: 22666.64 - delta sum: 315.21 - has reached optimum: True\n",
      "search: 2 - iteration: 80 - c value:2.57 - loss: 22927.60 - delta sum: 315.18 - has reached optimum: True\n",
      "search: 2 - iteration: 100 - c value:2.57 - loss: 23157.25 - delta sum: 314.80 - has reached optimum: True\n",
      "search: 2 - iteration: 120 - c value:2.57 - loss: 23557.11 - delta sum: 315.28 - has reached optimum: True\n",
      "search: 2 - iteration: 140 - c value:2.57 - loss: 23861.35 - delta sum: 317.89 - has reached optimum: True\n",
      "search: 2 - iteration: 160 - c value:2.57 - loss: 23374.60 - delta sum: 316.43 - has reached optimum: True\n",
      "search: 2 - iteration: 180 - c value:2.57 - loss: 23502.38 - delta sum: 317.67 - has reached optimum: True\n",
      "search: 2 - iteration: 200 - c value:2.57 - loss: 23263.61 - delta sum: 315.69 - has reached optimum: True\n",
      "search: 2 - iteration: 220 - c value:2.57 - loss: 22765.16 - delta sum: 314.42 - has reached optimum: True\n",
      "search: 2 - iteration: 240 - c value:2.57 - loss: 23333.90 - delta sum: 317.56 - has reached optimum: True\n",
      "search: 2 - iteration: 260 - c value:2.57 - loss: 23046.27 - delta sum: 316.86 - has reached optimum: True\n",
      "search: 2 - iteration: 280 - c value:2.57 - loss: 22629.62 - delta sum: 313.49 - has reached optimum: True\n",
      "search: 2 - iteration: 300 - c value:2.57 - loss: 22660.20 - delta sum: 314.62 - has reached optimum: True\n",
      "search: 2 - iteration: 320 - c value:2.57 - loss: 23085.63 - delta sum: 315.83 - has reached optimum: True\n",
      "search: 2 - iteration: 340 - c value:2.57 - loss: 23373.35 - delta sum: 316.09 - has reached optimum: True\n",
      "search: 2 - iteration: 360 - c value:2.57 - loss: 23272.39 - delta sum: 315.75 - has reached optimum: True\n",
      "search: 2 - iteration: 380 - c value:2.57 - loss: 23221.95 - delta sum: 315.81 - has reached optimum: True\n",
      "search: 2 - iteration: 400 - c value:2.57 - loss: 23146.04 - delta sum: 314.90 - has reached optimum: True\n",
      "search: 2 - iteration: 420 - c value:2.57 - loss: 23048.60 - delta sum: 314.57 - has reached optimum: True\n",
      "search: 2 - iteration: 440 - c value:2.57 - loss: 23009.45 - delta sum: 314.20 - has reached optimum: True\n",
      "search: 2 - iteration: 460 - c value:2.57 - loss: 23073.86 - delta sum: 314.69 - has reached optimum: True\n",
      "search: 2 - iteration: 480 - c value:2.57 - loss: 23101.53 - delta sum: 313.62 - has reached optimum: True\n",
      "search: 2 - iteration: 500 - c value:2.57 - loss: 23394.08 - delta sum: 316.03 - has reached optimum: True\n",
      "search: 2 - iteration: 520 - c value:2.57 - loss: 23122.11 - delta sum: 313.86 - has reached optimum: True\n",
      "search: 2 - iteration: 540 - c value:2.57 - loss: 22965.78 - delta sum: 312.76 - has reached optimum: True\n",
      "search: 2 - iteration: 560 - c value:2.57 - loss: 22769.71 - delta sum: 312.08 - has reached optimum: True\n",
      "search: 2 - iteration: 580 - c value:2.57 - loss: 23076.73 - delta sum: 313.76 - has reached optimum: True\n",
      "search: 2 - iteration: 600 - c value:2.57 - loss: 23137.40 - delta sum: 312.93 - has reached optimum: True\n",
      "search: 2 - iteration: 620 - c value:2.57 - loss: 23125.63 - delta sum: 312.88 - has reached optimum: True\n",
      "search: 2 - iteration: 640 - c value:2.57 - loss: 23077.45 - delta sum: 314.08 - has reached optimum: True\n",
      "search: 2 - iteration: 660 - c value:2.57 - loss: 23003.38 - delta sum: 312.59 - has reached optimum: True\n",
      "search: 2 - iteration: 680 - c value:2.57 - loss: 23170.88 - delta sum: 313.20 - has reached optimum: True\n",
      "search: 2 - iteration: 700 - c value:2.57 - loss: 23008.48 - delta sum: 312.68 - has reached optimum: True\n",
      "search: 2 - iteration: 720 - c value:2.57 - loss: 22897.72 - delta sum: 313.03 - has reached optimum: True\n",
      "search: 2 - iteration: 740 - c value:2.57 - loss: 22838.02 - delta sum: 311.33 - has reached optimum: True\n",
      "search: 2 - iteration: 760 - c value:2.57 - loss: 22997.31 - delta sum: 313.08 - has reached optimum: True\n",
      "search: 2 - iteration: 780 - c value:2.57 - loss: 22549.34 - delta sum: 312.11 - has reached optimum: True\n",
      "search: 2 - iteration: 800 - c value:2.57 - loss: 22264.07 - delta sum: 311.81 - has reached optimum: True\n",
      "search: 2 - iteration: 820 - c value:2.57 - loss: 22224.33 - delta sum: 310.73 - has reached optimum: True\n",
      "search: 2 - iteration: 840 - c value:2.57 - loss: 21967.73 - delta sum: 310.12 - has reached optimum: True\n",
      "search: 2 - iteration: 860 - c value:2.57 - loss: 21818.85 - delta sum: 308.50 - has reached optimum: True\n",
      "search: 2 - iteration: 880 - c value:2.57 - loss: 22240.00 - delta sum: 309.21 - has reached optimum: True\n",
      "search: 2 - iteration: 900 - c value:2.57 - loss: 21928.28 - delta sum: 308.97 - has reached optimum: True\n",
      "search: 2 - iteration: 920 - c value:2.57 - loss: 21355.43 - delta sum: 308.21 - has reached optimum: True\n",
      "search: 2 - iteration: 940 - c value:2.57 - loss: 21096.38 - delta sum: 306.97 - has reached optimum: True\n",
      "search: 2 - iteration: 960 - c value:2.57 - loss: 20657.58 - delta sum: 306.23 - has reached optimum: True\n",
      "search: 2 - iteration: 980 - c value:2.57 - loss: 17724.61 - delta sum: 302.15 - has reached optimum: True\n",
      "search: 3 - iteration: 0 - c value:1.34 - loss: 156.88 - delta sum: 0.00 - has reached optimum: False\n"
     ]
    },
    {
     "name": "stdout",
     "output_type": "stream",
     "text": [
      "search: 3 - iteration: 20 - c value:1.34 - loss: 20049.65 - delta sum: 312.06 - has reached optimum: True\n",
      "search: 3 - iteration: 40 - c value:1.34 - loss: 20609.30 - delta sum: 310.39 - has reached optimum: True\n",
      "search: 3 - iteration: 60 - c value:1.34 - loss: 21322.30 - delta sum: 312.23 - has reached optimum: True\n",
      "search: 3 - iteration: 80 - c value:1.34 - loss: 21637.21 - delta sum: 312.16 - has reached optimum: True\n",
      "search: 3 - iteration: 100 - c value:1.34 - loss: 21786.17 - delta sum: 314.65 - has reached optimum: True\n",
      "search: 3 - iteration: 120 - c value:1.34 - loss: 22428.24 - delta sum: 316.27 - has reached optimum: True\n",
      "search: 3 - iteration: 140 - c value:1.34 - loss: 21980.26 - delta sum: 317.07 - has reached optimum: True\n",
      "search: 3 - iteration: 160 - c value:1.34 - loss: 22044.41 - delta sum: 316.04 - has reached optimum: True\n",
      "search: 3 - iteration: 180 - c value:1.34 - loss: 22050.90 - delta sum: 314.37 - has reached optimum: True\n",
      "search: 3 - iteration: 200 - c value:1.34 - loss: 22051.12 - delta sum: 314.53 - has reached optimum: True\n",
      "search: 3 - iteration: 220 - c value:1.34 - loss: 22069.43 - delta sum: 314.50 - has reached optimum: True\n",
      "search: 3 - iteration: 240 - c value:1.34 - loss: 21960.72 - delta sum: 313.90 - has reached optimum: True\n",
      "search: 3 - iteration: 260 - c value:1.34 - loss: 22243.29 - delta sum: 313.83 - has reached optimum: True\n",
      "search: 3 - iteration: 280 - c value:1.34 - loss: 21903.09 - delta sum: 313.01 - has reached optimum: True\n",
      "search: 3 - iteration: 300 - c value:1.34 - loss: 21692.98 - delta sum: 311.87 - has reached optimum: True\n",
      "search: 3 - iteration: 320 - c value:1.34 - loss: 21610.86 - delta sum: 312.79 - has reached optimum: True\n",
      "search: 3 - iteration: 340 - c value:1.34 - loss: 21889.65 - delta sum: 313.55 - has reached optimum: True\n",
      "search: 3 - iteration: 360 - c value:1.34 - loss: 22008.87 - delta sum: 311.48 - has reached optimum: True\n",
      "search: 3 - iteration: 380 - c value:1.34 - loss: 21994.28 - delta sum: 312.66 - has reached optimum: True\n",
      "search: 3 - iteration: 400 - c value:1.34 - loss: 22131.39 - delta sum: 313.10 - has reached optimum: True\n",
      "search: 3 - iteration: 420 - c value:1.34 - loss: 22252.24 - delta sum: 313.22 - has reached optimum: True\n",
      "search: 3 - iteration: 440 - c value:1.34 - loss: 22276.19 - delta sum: 313.16 - has reached optimum: True\n",
      "search: 3 - iteration: 460 - c value:1.34 - loss: 22224.15 - delta sum: 313.51 - has reached optimum: True\n",
      "search: 3 - iteration: 480 - c value:1.34 - loss: 22163.73 - delta sum: 313.68 - has reached optimum: True\n",
      "search: 3 - iteration: 500 - c value:1.34 - loss: 22547.61 - delta sum: 313.57 - has reached optimum: True\n",
      "search: 3 - iteration: 520 - c value:1.34 - loss: 22437.54 - delta sum: 313.04 - has reached optimum: True\n",
      "search: 3 - iteration: 540 - c value:1.34 - loss: 22190.19 - delta sum: 313.14 - has reached optimum: True\n",
      "search: 3 - iteration: 560 - c value:1.34 - loss: 22156.33 - delta sum: 312.81 - has reached optimum: True\n",
      "search: 3 - iteration: 580 - c value:1.34 - loss: 22091.72 - delta sum: 312.42 - has reached optimum: True\n",
      "search: 3 - iteration: 600 - c value:1.34 - loss: 22647.03 - delta sum: 314.80 - has reached optimum: True\n",
      "search: 3 - iteration: 620 - c value:1.34 - loss: 22246.88 - delta sum: 312.75 - has reached optimum: True\n",
      "search: 3 - iteration: 640 - c value:1.34 - loss: 22236.93 - delta sum: 312.80 - has reached optimum: True\n",
      "search: 3 - iteration: 660 - c value:1.34 - loss: 22050.77 - delta sum: 312.19 - has reached optimum: True\n",
      "search: 3 - iteration: 680 - c value:1.34 - loss: 22102.95 - delta sum: 313.23 - has reached optimum: True\n",
      "search: 3 - iteration: 700 - c value:1.34 - loss: 22322.75 - delta sum: 312.49 - has reached optimum: True\n",
      "search: 3 - iteration: 720 - c value:1.34 - loss: 22106.85 - delta sum: 312.88 - has reached optimum: True\n",
      "search: 3 - iteration: 740 - c value:1.34 - loss: 22085.53 - delta sum: 311.21 - has reached optimum: True\n",
      "search: 3 - iteration: 760 - c value:1.34 - loss: 21943.43 - delta sum: 311.10 - has reached optimum: True\n",
      "search: 3 - iteration: 780 - c value:1.34 - loss: 21932.63 - delta sum: 310.50 - has reached optimum: True\n",
      "search: 3 - iteration: 800 - c value:1.34 - loss: 21664.03 - delta sum: 310.02 - has reached optimum: True\n",
      "search: 3 - iteration: 820 - c value:1.34 - loss: 21847.57 - delta sum: 310.76 - has reached optimum: True\n",
      "search: 3 - iteration: 840 - c value:1.34 - loss: 21449.27 - delta sum: 309.32 - has reached optimum: True\n",
      "search: 3 - iteration: 860 - c value:1.34 - loss: 21817.01 - delta sum: 312.07 - has reached optimum: True\n",
      "search: 3 - iteration: 880 - c value:1.34 - loss: 21211.75 - delta sum: 310.09 - has reached optimum: True\n",
      "search: 3 - iteration: 900 - c value:1.34 - loss: 20786.03 - delta sum: 311.37 - has reached optimum: True\n",
      "search: 3 - iteration: 920 - c value:1.34 - loss: 20560.61 - delta sum: 310.03 - has reached optimum: True\n",
      "search: 3 - iteration: 940 - c value:1.34 - loss: 20633.55 - delta sum: 310.76 - has reached optimum: True\n",
      "search: 3 - iteration: 960 - c value:1.34 - loss: 19868.47 - delta sum: 307.87 - has reached optimum: True\n",
      "search: 3 - iteration: 980 - c value:1.34 - loss: 18320.12 - delta sum: 305.89 - has reached optimum: True\n",
      "search: 4 - iteration: 0 - c value:0.72 - loss: 150.41 - delta sum: 0.00 - has reached optimum: False\n",
      "search: 4 - iteration: 20 - c value:0.72 - loss: 19967.26 - delta sum: 310.70 - has reached optimum: False\n",
      "search: 4 - iteration: 40 - c value:0.72 - loss: 21098.89 - delta sum: 313.36 - has reached optimum: False\n",
      "search: 4 - iteration: 60 - c value:0.72 - loss: 21395.00 - delta sum: 313.21 - has reached optimum: False\n",
      "search: 4 - iteration: 80 - c value:0.72 - loss: 21772.14 - delta sum: 312.29 - has reached optimum: False\n",
      "search: 4 - iteration: 100 - c value:0.72 - loss: 21857.14 - delta sum: 313.89 - has reached optimum: False\n",
      "search: 4 - iteration: 120 - c value:0.72 - loss: 21649.02 - delta sum: 311.39 - has reached optimum: False\n",
      "search: 4 - iteration: 140 - c value:0.72 - loss: 21775.93 - delta sum: 311.60 - has reached optimum: False\n",
      "search: 4 - iteration: 160 - c value:0.72 - loss: 22053.35 - delta sum: 312.34 - has reached optimum: False\n",
      "search: 4 - iteration: 180 - c value:0.72 - loss: 22063.11 - delta sum: 312.08 - has reached optimum: False\n",
      "search: 4 - iteration: 200 - c value:0.72 - loss: 22063.99 - delta sum: 312.46 - has reached optimum: False\n",
      "search: 4 - iteration: 220 - c value:0.72 - loss: 22097.04 - delta sum: 311.39 - has reached optimum: False\n",
      "search: 4 - iteration: 240 - c value:0.72 - loss: 22065.37 - delta sum: 311.74 - has reached optimum: False\n",
      "search: 4 - iteration: 260 - c value:0.72 - loss: 22064.85 - delta sum: 311.89 - has reached optimum: False\n",
      "search: 4 - iteration: 280 - c value:0.72 - loss: 22149.68 - delta sum: 311.38 - has reached optimum: False\n",
      "search: 4 - iteration: 300 - c value:0.72 - loss: 22073.13 - delta sum: 310.85 - has reached optimum: False\n",
      "search: 4 - iteration: 320 - c value:0.72 - loss: 22100.09 - delta sum: 310.95 - has reached optimum: False\n",
      "search: 4 - iteration: 340 - c value:0.72 - loss: 22083.00 - delta sum: 310.72 - has reached optimum: False\n",
      "search: 4 - iteration: 360 - c value:0.72 - loss: 22132.67 - delta sum: 311.00 - has reached optimum: False\n",
      "search: 4 - iteration: 380 - c value:0.72 - loss: 22148.72 - delta sum: 311.03 - has reached optimum: False\n",
      "search: 4 - iteration: 400 - c value:0.72 - loss: 22121.82 - delta sum: 310.87 - has reached optimum: False\n",
      "search: 4 - iteration: 420 - c value:0.72 - loss: 22138.02 - delta sum: 310.93 - has reached optimum: False\n",
      "search: 4 - iteration: 440 - c value:0.72 - loss: 22129.77 - delta sum: 310.86 - has reached optimum: False\n",
      "search: 4 - iteration: 460 - c value:0.72 - loss: 22173.88 - delta sum: 311.01 - has reached optimum: False\n",
      "search: 4 - iteration: 480 - c value:0.72 - loss: 22072.28 - delta sum: 311.28 - has reached optimum: False\n",
      "search: 4 - iteration: 500 - c value:0.72 - loss: 22075.42 - delta sum: 311.30 - has reached optimum: False\n",
      "search: 4 - iteration: 520 - c value:0.72 - loss: 22075.76 - delta sum: 311.32 - has reached optimum: False\n"
     ]
    },
    {
     "name": "stdout",
     "output_type": "stream",
     "text": [
      "search: 4 - iteration: 540 - c value:0.72 - loss: 22078.71 - delta sum: 311.30 - has reached optimum: False\n",
      "search: 4 - iteration: 560 - c value:0.72 - loss: 22074.51 - delta sum: 311.20 - has reached optimum: False\n",
      "search: 4 - iteration: 580 - c value:0.72 - loss: 22075.74 - delta sum: 311.22 - has reached optimum: False\n",
      "search: 4 - iteration: 600 - c value:0.72 - loss: 22077.12 - delta sum: 311.25 - has reached optimum: False\n",
      "search: 4 - iteration: 620 - c value:0.72 - loss: 22078.46 - delta sum: 311.27 - has reached optimum: False\n",
      "search: 4 - iteration: 640 - c value:0.72 - loss: 22080.71 - delta sum: 311.40 - has reached optimum: False\n",
      "search: 4 - iteration: 660 - c value:0.72 - loss: 22085.39 - delta sum: 311.37 - has reached optimum: False\n",
      "search: 4 - iteration: 680 - c value:0.72 - loss: 22104.66 - delta sum: 311.56 - has reached optimum: False\n",
      "search: 4 - iteration: 700 - c value:0.72 - loss: 22187.99 - delta sum: 310.72 - has reached optimum: False\n",
      "search: 4 - iteration: 720 - c value:0.72 - loss: 22146.26 - delta sum: 310.92 - has reached optimum: False\n",
      "search: 4 - iteration: 740 - c value:0.72 - loss: 22158.07 - delta sum: 310.77 - has reached optimum: False\n",
      "search: 4 - iteration: 760 - c value:0.72 - loss: 22071.83 - delta sum: 311.40 - has reached optimum: False\n",
      "search: 4 - iteration: 780 - c value:0.72 - loss: 22188.35 - delta sum: 314.14 - has reached optimum: False\n",
      "search: 4 - iteration: 800 - c value:0.72 - loss: 21635.10 - delta sum: 313.96 - has reached optimum: False\n",
      "search: 4 - iteration: 820 - c value:0.72 - loss: 21619.43 - delta sum: 314.24 - has reached optimum: False\n",
      "search: 4 - iteration: 840 - c value:0.72 - loss: 21633.17 - delta sum: 313.78 - has reached optimum: False\n",
      "search: 4 - iteration: 860 - c value:0.72 - loss: 21455.28 - delta sum: 313.56 - has reached optimum: False\n",
      "search: 4 - iteration: 880 - c value:0.72 - loss: 20999.02 - delta sum: 311.18 - has reached optimum: False\n",
      "search: 4 - iteration: 900 - c value:0.72 - loss: 20812.69 - delta sum: 311.29 - has reached optimum: False\n",
      "search: 4 - iteration: 920 - c value:0.72 - loss: 20389.62 - delta sum: 312.16 - has reached optimum: False\n",
      "search: 4 - iteration: 940 - c value:0.72 - loss: 20017.68 - delta sum: 315.86 - has reached optimum: False\n",
      "search: 4 - iteration: 960 - c value:0.72 - loss: 19874.32 - delta sum: 313.30 - has reached optimum: False\n",
      "search: 4 - iteration: 980 - c value:0.72 - loss: 17352.69 - delta sum: 307.82 - has reached optimum: False\n",
      "search: 5 - iteration: 0 - c value:7.19 - loss: 218.05 - delta sum: 0.00 - has reached optimum: False\n",
      "search: 5 - iteration: 20 - c value:7.19 - loss: 19772.96 - delta sum: 309.14 - has reached optimum: True\n",
      "search: 5 - iteration: 40 - c value:7.19 - loss: 21115.80 - delta sum: 313.50 - has reached optimum: True\n",
      "search: 5 - iteration: 60 - c value:7.19 - loss: 21972.81 - delta sum: 312.77 - has reached optimum: True\n",
      "search: 5 - iteration: 80 - c value:7.19 - loss: 21824.02 - delta sum: 311.75 - has reached optimum: True\n",
      "search: 5 - iteration: 100 - c value:7.19 - loss: 21779.54 - delta sum: 312.18 - has reached optimum: True\n",
      "search: 5 - iteration: 120 - c value:7.19 - loss: 22024.42 - delta sum: 312.56 - has reached optimum: True\n",
      "search: 5 - iteration: 140 - c value:7.19 - loss: 21582.34 - delta sum: 309.73 - has reached optimum: True\n",
      "search: 5 - iteration: 160 - c value:7.19 - loss: 21568.04 - delta sum: 310.29 - has reached optimum: True\n",
      "search: 5 - iteration: 180 - c value:7.19 - loss: 21805.68 - delta sum: 311.17 - has reached optimum: True\n",
      "search: 5 - iteration: 200 - c value:7.19 - loss: 21602.75 - delta sum: 312.64 - has reached optimum: True\n",
      "search: 5 - iteration: 220 - c value:7.19 - loss: 21193.12 - delta sum: 310.71 - has reached optimum: True\n",
      "search: 5 - iteration: 240 - c value:7.19 - loss: 21190.34 - delta sum: 310.99 - has reached optimum: True\n",
      "search: 5 - iteration: 260 - c value:7.19 - loss: 21634.64 - delta sum: 312.61 - has reached optimum: True\n",
      "search: 5 - iteration: 280 - c value:7.19 - loss: 21471.40 - delta sum: 311.66 - has reached optimum: True\n",
      "search: 5 - iteration: 300 - c value:7.19 - loss: 21526.06 - delta sum: 312.13 - has reached optimum: True\n",
      "search: 5 - iteration: 320 - c value:7.19 - loss: 21308.23 - delta sum: 311.20 - has reached optimum: True\n",
      "search: 5 - iteration: 340 - c value:7.19 - loss: 21426.21 - delta sum: 311.29 - has reached optimum: True\n",
      "search: 5 - iteration: 360 - c value:7.19 - loss: 21458.86 - delta sum: 311.12 - has reached optimum: True\n",
      "search: 5 - iteration: 380 - c value:7.19 - loss: 21464.88 - delta sum: 310.98 - has reached optimum: True\n",
      "search: 5 - iteration: 400 - c value:7.19 - loss: 21368.88 - delta sum: 310.98 - has reached optimum: True\n",
      "search: 5 - iteration: 420 - c value:7.19 - loss: 21365.46 - delta sum: 310.89 - has reached optimum: True\n",
      "search: 5 - iteration: 440 - c value:7.19 - loss: 21215.10 - delta sum: 310.46 - has reached optimum: True\n",
      "search: 5 - iteration: 460 - c value:7.19 - loss: 21370.99 - delta sum: 311.07 - has reached optimum: True\n",
      "search: 5 - iteration: 480 - c value:7.19 - loss: 21350.58 - delta sum: 310.97 - has reached optimum: True\n",
      "search: 5 - iteration: 500 - c value:7.19 - loss: 21143.85 - delta sum: 310.11 - has reached optimum: True\n",
      "search: 5 - iteration: 520 - c value:7.19 - loss: 21128.21 - delta sum: 309.71 - has reached optimum: True\n",
      "search: 5 - iteration: 540 - c value:7.19 - loss: 21036.58 - delta sum: 309.43 - has reached optimum: True\n",
      "search: 5 - iteration: 560 - c value:7.19 - loss: 21020.63 - delta sum: 309.31 - has reached optimum: True\n",
      "search: 5 - iteration: 580 - c value:7.19 - loss: 21051.54 - delta sum: 309.38 - has reached optimum: True\n",
      "search: 5 - iteration: 600 - c value:7.19 - loss: 21060.12 - delta sum: 309.47 - has reached optimum: True\n",
      "search: 5 - iteration: 620 - c value:7.19 - loss: 20990.76 - delta sum: 309.18 - has reached optimum: True\n",
      "search: 5 - iteration: 640 - c value:7.19 - loss: 20993.87 - delta sum: 308.96 - has reached optimum: True\n",
      "search: 5 - iteration: 660 - c value:7.19 - loss: 20970.90 - delta sum: 309.02 - has reached optimum: True\n",
      "search: 5 - iteration: 680 - c value:7.19 - loss: 20968.01 - delta sum: 309.04 - has reached optimum: True\n",
      "search: 5 - iteration: 700 - c value:7.19 - loss: 21064.63 - delta sum: 309.02 - has reached optimum: True\n",
      "search: 5 - iteration: 720 - c value:7.19 - loss: 21089.14 - delta sum: 309.03 - has reached optimum: True\n",
      "search: 5 - iteration: 740 - c value:7.19 - loss: 21213.20 - delta sum: 309.59 - has reached optimum: True\n",
      "search: 5 - iteration: 760 - c value:7.19 - loss: 20972.81 - delta sum: 309.24 - has reached optimum: True\n",
      "search: 5 - iteration: 780 - c value:7.19 - loss: 20887.33 - delta sum: 309.10 - has reached optimum: True\n",
      "search: 5 - iteration: 800 - c value:7.19 - loss: 21176.81 - delta sum: 308.59 - has reached optimum: True\n",
      "search: 5 - iteration: 820 - c value:7.19 - loss: 20999.67 - delta sum: 307.57 - has reached optimum: True\n",
      "search: 5 - iteration: 840 - c value:7.19 - loss: 20745.82 - delta sum: 305.91 - has reached optimum: True\n",
      "search: 5 - iteration: 860 - c value:7.19 - loss: 20617.17 - delta sum: 304.88 - has reached optimum: True\n",
      "search: 5 - iteration: 880 - c value:7.19 - loss: 20601.95 - delta sum: 306.01 - has reached optimum: True\n",
      "search: 5 - iteration: 900 - c value:7.19 - loss: 20608.31 - delta sum: 306.05 - has reached optimum: True\n",
      "search: 5 - iteration: 920 - c value:7.19 - loss: 20156.07 - delta sum: 305.39 - has reached optimum: True\n",
      "search: 5 - iteration: 940 - c value:7.19 - loss: 20082.09 - delta sum: 306.51 - has reached optimum: True\n",
      "search: 5 - iteration: 960 - c value:7.19 - loss: 19723.60 - delta sum: 303.91 - has reached optimum: True\n",
      "search: 5 - iteration: 980 - c value:7.19 - loss: 18564.80 - delta sum: 299.70 - has reached optimum: True\n",
      "search: 6 - iteration: 0 - c value:3.64 - loss: 180.99 - delta sum: 0.00 - has reached optimum: False\n",
      "search: 6 - iteration: 20 - c value:3.64 - loss: 19536.53 - delta sum: 308.51 - has reached optimum: True\n",
      "search: 6 - iteration: 40 - c value:3.64 - loss: 21724.62 - delta sum: 310.60 - has reached optimum: True\n"
     ]
    },
    {
     "name": "stdout",
     "output_type": "stream",
     "text": [
      "search: 6 - iteration: 60 - c value:3.64 - loss: 22116.35 - delta sum: 309.47 - has reached optimum: True\n",
      "search: 6 - iteration: 80 - c value:3.64 - loss: 22424.67 - delta sum: 309.03 - has reached optimum: True\n",
      "search: 6 - iteration: 100 - c value:3.64 - loss: 22563.17 - delta sum: 309.42 - has reached optimum: True\n",
      "search: 6 - iteration: 120 - c value:3.64 - loss: 22741.10 - delta sum: 309.60 - has reached optimum: True\n",
      "search: 6 - iteration: 140 - c value:3.64 - loss: 22907.23 - delta sum: 309.70 - has reached optimum: True\n",
      "search: 6 - iteration: 160 - c value:3.64 - loss: 22864.32 - delta sum: 308.50 - has reached optimum: True\n",
      "search: 6 - iteration: 180 - c value:3.64 - loss: 22692.62 - delta sum: 308.77 - has reached optimum: True\n",
      "search: 6 - iteration: 200 - c value:3.64 - loss: 22716.64 - delta sum: 308.75 - has reached optimum: True\n",
      "search: 6 - iteration: 220 - c value:3.64 - loss: 22792.33 - delta sum: 308.90 - has reached optimum: True\n",
      "search: 6 - iteration: 240 - c value:3.64 - loss: 22810.84 - delta sum: 308.89 - has reached optimum: True\n",
      "search: 6 - iteration: 260 - c value:3.64 - loss: 22924.31 - delta sum: 309.33 - has reached optimum: True\n",
      "search: 6 - iteration: 280 - c value:3.64 - loss: 22848.59 - delta sum: 308.91 - has reached optimum: True\n",
      "search: 6 - iteration: 300 - c value:3.64 - loss: 22861.38 - delta sum: 308.91 - has reached optimum: True\n",
      "search: 6 - iteration: 320 - c value:3.64 - loss: 22881.27 - delta sum: 309.10 - has reached optimum: True\n",
      "search: 6 - iteration: 340 - c value:3.64 - loss: 22962.07 - delta sum: 309.40 - has reached optimum: True\n",
      "search: 6 - iteration: 360 - c value:3.64 - loss: 23035.99 - delta sum: 309.06 - has reached optimum: True\n",
      "search: 6 - iteration: 380 - c value:3.64 - loss: 22842.56 - delta sum: 309.59 - has reached optimum: True\n",
      "search: 6 - iteration: 400 - c value:3.64 - loss: 23224.67 - delta sum: 310.04 - has reached optimum: True\n",
      "search: 6 - iteration: 420 - c value:3.64 - loss: 23201.98 - delta sum: 310.63 - has reached optimum: True\n",
      "search: 6 - iteration: 440 - c value:3.64 - loss: 23366.37 - delta sum: 310.26 - has reached optimum: True\n",
      "search: 6 - iteration: 460 - c value:3.64 - loss: 23276.52 - delta sum: 310.26 - has reached optimum: True\n",
      "search: 6 - iteration: 480 - c value:3.64 - loss: 23498.43 - delta sum: 311.69 - has reached optimum: True\n",
      "search: 6 - iteration: 500 - c value:3.64 - loss: 23291.70 - delta sum: 310.98 - has reached optimum: True\n",
      "search: 6 - iteration: 520 - c value:3.64 - loss: 23306.48 - delta sum: 311.07 - has reached optimum: True\n",
      "search: 6 - iteration: 540 - c value:3.64 - loss: 23292.77 - delta sum: 310.95 - has reached optimum: True\n",
      "search: 6 - iteration: 560 - c value:3.64 - loss: 23247.96 - delta sum: 310.87 - has reached optimum: True\n",
      "search: 6 - iteration: 580 - c value:3.64 - loss: 23154.20 - delta sum: 311.95 - has reached optimum: True\n",
      "search: 6 - iteration: 600 - c value:3.64 - loss: 23110.87 - delta sum: 311.02 - has reached optimum: True\n",
      "search: 6 - iteration: 620 - c value:3.64 - loss: 23063.05 - delta sum: 310.60 - has reached optimum: True\n",
      "search: 6 - iteration: 640 - c value:3.64 - loss: 23376.61 - delta sum: 311.27 - has reached optimum: True\n",
      "search: 6 - iteration: 660 - c value:3.64 - loss: 23384.79 - delta sum: 311.99 - has reached optimum: True\n",
      "search: 6 - iteration: 680 - c value:3.64 - loss: 23263.75 - delta sum: 311.51 - has reached optimum: True\n",
      "search: 6 - iteration: 700 - c value:3.64 - loss: 23302.56 - delta sum: 311.70 - has reached optimum: True\n",
      "search: 6 - iteration: 720 - c value:3.64 - loss: 23145.88 - delta sum: 311.85 - has reached optimum: True\n",
      "search: 6 - iteration: 740 - c value:3.64 - loss: 23265.88 - delta sum: 312.01 - has reached optimum: True\n",
      "search: 6 - iteration: 760 - c value:3.64 - loss: 22777.57 - delta sum: 313.91 - has reached optimum: True\n",
      "search: 6 - iteration: 780 - c value:3.64 - loss: 22832.07 - delta sum: 314.30 - has reached optimum: True\n",
      "search: 6 - iteration: 800 - c value:3.64 - loss: 22531.79 - delta sum: 313.64 - has reached optimum: True\n",
      "search: 6 - iteration: 820 - c value:3.64 - loss: 22965.02 - delta sum: 314.13 - has reached optimum: True\n",
      "search: 6 - iteration: 840 - c value:3.64 - loss: 22647.33 - delta sum: 312.75 - has reached optimum: True\n",
      "search: 6 - iteration: 860 - c value:3.64 - loss: 22636.85 - delta sum: 312.82 - has reached optimum: True\n",
      "search: 6 - iteration: 880 - c value:3.64 - loss: 22423.08 - delta sum: 311.26 - has reached optimum: True\n",
      "search: 6 - iteration: 900 - c value:3.64 - loss: 22064.50 - delta sum: 310.74 - has reached optimum: True\n",
      "search: 6 - iteration: 920 - c value:3.64 - loss: 21331.24 - delta sum: 309.43 - has reached optimum: True\n",
      "search: 6 - iteration: 940 - c value:3.64 - loss: 21013.16 - delta sum: 308.53 - has reached optimum: True\n",
      "search: 6 - iteration: 960 - c value:3.64 - loss: 19731.96 - delta sum: 309.11 - has reached optimum: True\n",
      "search: 6 - iteration: 980 - c value:3.64 - loss: 17698.10 - delta sum: 298.74 - has reached optimum: True\n",
      "search: 7 - iteration: 0 - c value:1.87 - loss: 162.47 - delta sum: 0.00 - has reached optimum: False\n",
      "search: 7 - iteration: 20 - c value:1.87 - loss: 20040.88 - delta sum: 307.83 - has reached optimum: True\n",
      "search: 7 - iteration: 40 - c value:1.87 - loss: 22070.49 - delta sum: 309.89 - has reached optimum: True\n",
      "search: 7 - iteration: 60 - c value:1.87 - loss: 22260.53 - delta sum: 308.05 - has reached optimum: True\n",
      "search: 7 - iteration: 80 - c value:1.87 - loss: 22809.46 - delta sum: 308.80 - has reached optimum: True\n",
      "search: 7 - iteration: 100 - c value:1.87 - loss: 23330.08 - delta sum: 310.88 - has reached optimum: True\n",
      "search: 7 - iteration: 120 - c value:1.87 - loss: 22927.85 - delta sum: 310.89 - has reached optimum: True\n",
      "search: 7 - iteration: 140 - c value:1.87 - loss: 22805.52 - delta sum: 311.17 - has reached optimum: True\n",
      "search: 7 - iteration: 160 - c value:1.87 - loss: 22369.31 - delta sum: 307.82 - has reached optimum: True\n",
      "search: 7 - iteration: 180 - c value:1.87 - loss: 22663.58 - delta sum: 309.27 - has reached optimum: True\n",
      "search: 7 - iteration: 200 - c value:1.87 - loss: 22614.39 - delta sum: 309.29 - has reached optimum: True\n",
      "search: 7 - iteration: 220 - c value:1.87 - loss: 22683.11 - delta sum: 309.80 - has reached optimum: True\n",
      "search: 7 - iteration: 240 - c value:1.87 - loss: 22787.05 - delta sum: 309.22 - has reached optimum: True\n",
      "search: 7 - iteration: 260 - c value:1.87 - loss: 23164.98 - delta sum: 311.03 - has reached optimum: True\n",
      "search: 7 - iteration: 280 - c value:1.87 - loss: 22757.26 - delta sum: 309.73 - has reached optimum: True\n",
      "search: 7 - iteration: 300 - c value:1.87 - loss: 22560.50 - delta sum: 307.87 - has reached optimum: True\n",
      "search: 7 - iteration: 320 - c value:1.87 - loss: 22311.36 - delta sum: 306.94 - has reached optimum: True\n",
      "search: 7 - iteration: 340 - c value:1.87 - loss: 23259.16 - delta sum: 307.91 - has reached optimum: True\n",
      "search: 7 - iteration: 360 - c value:1.87 - loss: 22476.42 - delta sum: 306.66 - has reached optimum: True\n",
      "search: 7 - iteration: 380 - c value:1.87 - loss: 23161.67 - delta sum: 309.70 - has reached optimum: True\n",
      "search: 7 - iteration: 400 - c value:1.87 - loss: 23057.87 - delta sum: 310.24 - has reached optimum: True\n",
      "search: 7 - iteration: 420 - c value:1.87 - loss: 23355.51 - delta sum: 309.47 - has reached optimum: True\n",
      "search: 7 - iteration: 440 - c value:1.87 - loss: 23196.10 - delta sum: 311.17 - has reached optimum: True\n",
      "search: 7 - iteration: 460 - c value:1.87 - loss: 23233.65 - delta sum: 310.83 - has reached optimum: True\n",
      "search: 7 - iteration: 480 - c value:1.87 - loss: 23027.40 - delta sum: 310.02 - has reached optimum: True\n",
      "search: 7 - iteration: 500 - c value:1.87 - loss: 23070.98 - delta sum: 310.72 - has reached optimum: True\n",
      "search: 7 - iteration: 520 - c value:1.87 - loss: 23204.82 - delta sum: 311.08 - has reached optimum: True\n",
      "search: 7 - iteration: 540 - c value:1.87 - loss: 23084.40 - delta sum: 310.52 - has reached optimum: True\n",
      "search: 7 - iteration: 560 - c value:1.87 - loss: 23104.62 - delta sum: 310.33 - has reached optimum: True\n"
     ]
    },
    {
     "name": "stdout",
     "output_type": "stream",
     "text": [
      "search: 7 - iteration: 580 - c value:1.87 - loss: 23225.80 - delta sum: 310.31 - has reached optimum: True\n",
      "search: 7 - iteration: 600 - c value:1.87 - loss: 23263.43 - delta sum: 310.48 - has reached optimum: True\n",
      "search: 7 - iteration: 620 - c value:1.87 - loss: 23208.48 - delta sum: 310.08 - has reached optimum: True\n",
      "search: 7 - iteration: 640 - c value:1.87 - loss: 23298.34 - delta sum: 310.18 - has reached optimum: True\n",
      "search: 7 - iteration: 660 - c value:1.87 - loss: 23224.72 - delta sum: 310.00 - has reached optimum: True\n",
      "search: 7 - iteration: 680 - c value:1.87 - loss: 23416.07 - delta sum: 312.00 - has reached optimum: True\n",
      "search: 7 - iteration: 700 - c value:1.87 - loss: 23127.47 - delta sum: 309.94 - has reached optimum: True\n",
      "search: 7 - iteration: 720 - c value:1.87 - loss: 23280.34 - delta sum: 310.58 - has reached optimum: True\n",
      "search: 7 - iteration: 740 - c value:1.87 - loss: 23286.20 - delta sum: 310.70 - has reached optimum: True\n",
      "search: 7 - iteration: 760 - c value:1.87 - loss: 23101.92 - delta sum: 310.47 - has reached optimum: True\n",
      "search: 7 - iteration: 780 - c value:1.87 - loss: 23010.25 - delta sum: 310.07 - has reached optimum: True\n",
      "search: 7 - iteration: 800 - c value:1.87 - loss: 23101.68 - delta sum: 310.92 - has reached optimum: True\n",
      "search: 7 - iteration: 820 - c value:1.87 - loss: 23037.82 - delta sum: 311.72 - has reached optimum: True\n",
      "search: 7 - iteration: 840 - c value:1.87 - loss: 22677.60 - delta sum: 310.27 - has reached optimum: True\n",
      "search: 7 - iteration: 860 - c value:1.87 - loss: 23032.48 - delta sum: 313.46 - has reached optimum: True\n",
      "search: 7 - iteration: 880 - c value:1.87 - loss: 22316.53 - delta sum: 309.31 - has reached optimum: True\n",
      "search: 7 - iteration: 900 - c value:1.87 - loss: 21697.96 - delta sum: 307.21 - has reached optimum: True\n",
      "search: 7 - iteration: 920 - c value:1.87 - loss: 21889.07 - delta sum: 309.50 - has reached optimum: True\n",
      "search: 7 - iteration: 940 - c value:1.87 - loss: 21453.72 - delta sum: 306.18 - has reached optimum: True\n",
      "search: 7 - iteration: 960 - c value:1.87 - loss: 20761.58 - delta sum: 305.04 - has reached optimum: True\n",
      "search: 7 - iteration: 980 - c value:1.87 - loss: 18514.26 - delta sum: 304.45 - has reached optimum: True\n",
      "search: 8 - iteration: 0 - c value:0.99 - loss: 153.20 - delta sum: 0.00 - has reached optimum: False\n",
      "search: 8 - iteration: 20 - c value:0.99 - loss: 19997.81 - delta sum: 316.39 - has reached optimum: True\n",
      "search: 8 - iteration: 40 - c value:0.99 - loss: 21560.76 - delta sum: 318.44 - has reached optimum: True\n",
      "search: 8 - iteration: 60 - c value:0.99 - loss: 22470.11 - delta sum: 318.13 - has reached optimum: True\n",
      "search: 8 - iteration: 80 - c value:0.99 - loss: 22415.11 - delta sum: 316.92 - has reached optimum: True\n",
      "search: 8 - iteration: 100 - c value:0.99 - loss: 23119.43 - delta sum: 320.32 - has reached optimum: True\n",
      "search: 8 - iteration: 120 - c value:0.99 - loss: 23794.04 - delta sum: 321.67 - has reached optimum: True\n",
      "search: 8 - iteration: 140 - c value:0.99 - loss: 23286.62 - delta sum: 319.51 - has reached optimum: True\n",
      "search: 8 - iteration: 160 - c value:0.99 - loss: 23707.96 - delta sum: 319.30 - has reached optimum: True\n",
      "search: 8 - iteration: 180 - c value:0.99 - loss: 23793.78 - delta sum: 319.56 - has reached optimum: True\n",
      "search: 8 - iteration: 200 - c value:0.99 - loss: 23828.12 - delta sum: 319.19 - has reached optimum: True\n",
      "search: 8 - iteration: 220 - c value:0.99 - loss: 23707.60 - delta sum: 318.93 - has reached optimum: True\n",
      "search: 8 - iteration: 240 - c value:0.99 - loss: 23436.29 - delta sum: 315.29 - has reached optimum: True\n",
      "search: 8 - iteration: 260 - c value:0.99 - loss: 23561.31 - delta sum: 315.52 - has reached optimum: True\n",
      "search: 8 - iteration: 280 - c value:0.99 - loss: 23501.12 - delta sum: 315.37 - has reached optimum: True\n",
      "search: 8 - iteration: 300 - c value:0.99 - loss: 23522.38 - delta sum: 315.56 - has reached optimum: True\n",
      "search: 8 - iteration: 320 - c value:0.99 - loss: 23509.84 - delta sum: 315.22 - has reached optimum: True\n",
      "search: 8 - iteration: 340 - c value:0.99 - loss: 23417.96 - delta sum: 315.11 - has reached optimum: True\n",
      "search: 8 - iteration: 360 - c value:0.99 - loss: 23653.57 - delta sum: 316.16 - has reached optimum: True\n",
      "search: 8 - iteration: 380 - c value:0.99 - loss: 23854.33 - delta sum: 316.31 - has reached optimum: True\n",
      "search: 8 - iteration: 400 - c value:0.99 - loss: 23482.22 - delta sum: 315.20 - has reached optimum: True\n",
      "search: 8 - iteration: 420 - c value:0.99 - loss: 23427.81 - delta sum: 314.94 - has reached optimum: True\n",
      "search: 8 - iteration: 440 - c value:0.99 - loss: 23572.74 - delta sum: 315.53 - has reached optimum: True\n",
      "search: 8 - iteration: 460 - c value:0.99 - loss: 23807.83 - delta sum: 315.53 - has reached optimum: True\n",
      "search: 8 - iteration: 480 - c value:0.99 - loss: 23411.15 - delta sum: 314.37 - has reached optimum: True\n",
      "search: 8 - iteration: 500 - c value:0.99 - loss: 23515.01 - delta sum: 314.63 - has reached optimum: True\n",
      "search: 8 - iteration: 520 - c value:0.99 - loss: 23747.43 - delta sum: 315.81 - has reached optimum: True\n",
      "search: 8 - iteration: 540 - c value:0.99 - loss: 23263.85 - delta sum: 315.55 - has reached optimum: True\n",
      "search: 8 - iteration: 560 - c value:0.99 - loss: 23397.86 - delta sum: 316.16 - has reached optimum: True\n",
      "search: 8 - iteration: 580 - c value:0.99 - loss: 23261.21 - delta sum: 317.26 - has reached optimum: True\n",
      "search: 8 - iteration: 600 - c value:0.99 - loss: 22938.27 - delta sum: 317.88 - has reached optimum: True\n",
      "search: 8 - iteration: 620 - c value:0.99 - loss: 22386.44 - delta sum: 314.61 - has reached optimum: True\n",
      "search: 8 - iteration: 640 - c value:0.99 - loss: 22858.81 - delta sum: 316.52 - has reached optimum: True\n",
      "search: 8 - iteration: 660 - c value:0.99 - loss: 22607.58 - delta sum: 315.02 - has reached optimum: True\n",
      "search: 8 - iteration: 680 - c value:0.99 - loss: 22773.83 - delta sum: 315.90 - has reached optimum: True\n",
      "search: 8 - iteration: 700 - c value:0.99 - loss: 22630.67 - delta sum: 314.84 - has reached optimum: True\n",
      "search: 8 - iteration: 720 - c value:0.99 - loss: 22625.91 - delta sum: 314.92 - has reached optimum: True\n",
      "search: 8 - iteration: 740 - c value:0.99 - loss: 22518.25 - delta sum: 314.51 - has reached optimum: True\n",
      "search: 8 - iteration: 760 - c value:0.99 - loss: 22501.91 - delta sum: 314.14 - has reached optimum: True\n",
      "search: 8 - iteration: 780 - c value:0.99 - loss: 22337.55 - delta sum: 313.57 - has reached optimum: True\n",
      "search: 8 - iteration: 800 - c value:0.99 - loss: 22323.64 - delta sum: 313.48 - has reached optimum: True\n",
      "search: 8 - iteration: 820 - c value:0.99 - loss: 22235.47 - delta sum: 312.75 - has reached optimum: True\n",
      "search: 8 - iteration: 840 - c value:0.99 - loss: 22304.30 - delta sum: 313.49 - has reached optimum: True\n",
      "search: 8 - iteration: 860 - c value:0.99 - loss: 22513.19 - delta sum: 313.83 - has reached optimum: True\n",
      "search: 8 - iteration: 880 - c value:0.99 - loss: 22420.47 - delta sum: 314.24 - has reached optimum: True\n",
      "search: 8 - iteration: 900 - c value:0.99 - loss: 22361.65 - delta sum: 313.81 - has reached optimum: True\n",
      "search: 8 - iteration: 920 - c value:0.99 - loss: 21713.01 - delta sum: 314.96 - has reached optimum: True\n",
      "search: 8 - iteration: 940 - c value:0.99 - loss: 21164.68 - delta sum: 312.36 - has reached optimum: True\n",
      "search: 8 - iteration: 960 - c value:0.99 - loss: 20615.25 - delta sum: 312.74 - has reached optimum: True\n",
      "search: 8 - iteration: 980 - c value:0.99 - loss: 18020.74 - delta sum: 309.80 - has reached optimum: True\n"
     ]
    }
   ],
   "source": [
    "# find pertinent negatives\n",
    "CEM.fista(image, mode=\"PN\")"
   ]
  },
  {
   "cell_type": "code",
   "execution_count": 10,
   "metadata": {
    "scrolled": true
   },
   "outputs": [],
   "source": [
    "# import os\n",
    "# os.environ[\"PATH\"] += os.pathsep + 'D:/Program Files/Graphviz/bin'\n",
    "\n",
    "# from torchviz import make_dot\n",
    "# make_dot(CEM.loss).view()"
   ]
  },
  {
   "cell_type": "code",
   "execution_count": 11,
   "metadata": {},
   "outputs": [
    {
     "name": "stdout",
     "output_type": "stream",
     "text": [
      "tensor([0.0000e+00, 0.0000e+00, 0.0000e+00, 0.0000e+00, 0.0000e+00, 0.0000e+00,\n",
      "        5.9613e-02, 4.7866e-02, 3.1371e-02, 0.0000e+00, 0.0000e+00, 3.6179e-02,\n",
      "        2.8884e-02, 1.0828e-01, 1.1487e-01, 5.5840e-02, 0.0000e+00, 0.0000e+00,\n",
      "        0.0000e+00, 0.0000e+00, 0.0000e+00, 5.9520e-02, 2.1343e-01, 6.0775e-02,\n",
      "        7.7795e-02, 1.3449e-01, 7.0172e-02, 0.0000e+00, 0.0000e+00, 1.9096e-02,\n",
      "        1.3520e-01, 2.1268e-02, 0.0000e+00, 2.4948e-01, 3.3255e-01, 8.0713e-02,\n",
      "        0.0000e+00, 0.0000e+00, 0.0000e+00, 2.7681e-01, 3.8272e-01, 2.2976e-01,\n",
      "        3.6382e-02, 0.0000e+00, 0.0000e+00, 0.0000e+00, 0.0000e+00, 0.0000e+00,\n",
      "        0.0000e+00, 9.2268e-03, 3.4552e-01, 3.0113e-01, 2.9788e-01, 1.8753e-01,\n",
      "        2.0720e-02, 0.0000e+00, 0.0000e+00, 4.4237e-02, 5.0000e-01, 1.3622e-01,\n",
      "        5.7168e-02, 4.3797e-01, 3.1996e-01, 3.6091e-02, 0.0000e+00, 0.0000e+00,\n",
      "        0.0000e+00, 8.3532e-02, 6.5676e-02, 1.8814e-02, 0.0000e+00, 0.0000e+00,\n",
      "        0.0000e+00, 0.0000e+00, 0.0000e+00, 0.0000e+00, 0.0000e+00, 1.0676e-03,\n",
      "        2.3600e-01, 1.9328e-01, 2.2855e-01, 4.2201e-01, 3.7230e-01, 5.4955e-03,\n",
      "        0.0000e+00, 4.3382e-02, 3.8003e-01, 1.7097e-01, 7.9008e-03, 0.0000e+00,\n",
      "        5.2848e-03, 0.0000e+00, 0.0000e+00, 0.0000e+00, 0.0000e+00, 0.0000e+00,\n",
      "        0.0000e+00, 0.0000e+00, 0.0000e+00, 0.0000e+00, 0.0000e+00, 0.0000e+00,\n",
      "        0.0000e+00, 0.0000e+00, 0.0000e+00, 0.0000e+00, 7.4168e-02, 5.7300e-02,\n",
      "        0.0000e+00, 1.5478e-01, 2.7140e-01, 0.0000e+00, 0.0000e+00, 0.0000e+00,\n",
      "        0.0000e+00, 2.5872e-01, 2.6986e-02, 9.1092e-02, 0.0000e+00, 0.0000e+00,\n",
      "        4.1632e-01, 1.0461e-01, 0.0000e+00, 0.0000e+00, 0.0000e+00, 0.0000e+00,\n",
      "        0.0000e+00, 3.1257e-01, 5.0000e-01, 1.1570e-01, 5.8461e-02, 3.3350e-01,\n",
      "        1.8318e-01, 0.0000e+00, 0.0000e+00, 5.6764e-02, 2.3815e-01, 5.0000e-01,\n",
      "        5.0000e-01, 0.0000e+00, 0.0000e+00, 0.0000e+00, 0.0000e+00, 1.2238e-01,\n",
      "        9.0006e-02, 5.9057e-02, 7.4462e-02, 3.0546e-01, 3.4430e-01, 1.0919e-01,\n",
      "        0.0000e+00, 0.0000e+00, 0.0000e+00, 0.0000e+00, 2.7558e-01, 1.4767e-03,\n",
      "        0.0000e+00, 0.0000e+00, 3.1130e-01, 3.7628e-01, 4.5567e-01, 8.7808e-02,\n",
      "        0.0000e+00, 0.0000e+00, 6.0146e-02, 3.4414e-01, 5.0000e-01, 0.0000e+00,\n",
      "        0.0000e+00, 0.0000e+00, 0.0000e+00, 0.0000e+00, 0.0000e+00, 5.7321e-02,\n",
      "        3.9118e-01, 2.4147e-01, 0.0000e+00, 0.0000e+00, 0.0000e+00, 0.0000e+00,\n",
      "        1.3100e-01, 0.0000e+00, 0.0000e+00, 0.0000e+00, 2.1617e-01, 3.6208e-01,\n",
      "        3.3423e-01, 2.7080e-03, 0.0000e+00, 2.6488e-01, 5.0000e-01, 0.0000e+00,\n",
      "        0.0000e+00, 0.0000e+00, 4.7374e-01, 0.0000e+00, 0.0000e+00, 0.0000e+00,\n",
      "        1.9637e-01, 2.8472e-01, 1.7561e-01, 4.7009e-01, 3.0244e-01, 0.0000e+00,\n",
      "        0.0000e+00, 1.0945e-01, 2.2467e-01, 2.0957e-01, 1.4235e-01, 0.0000e+00,\n",
      "        0.0000e+00, 0.0000e+00, 0.0000e+00, 0.0000e+00, 0.0000e+00, 0.0000e+00,\n",
      "        0.0000e+00, 0.0000e+00, 3.4947e-01, 0.0000e+00, 5.6513e-03, 1.7470e-01,\n",
      "        5.0000e-01, 0.0000e+00, 0.0000e+00, 5.9544e-02, 5.0000e-01, 4.2423e-01,\n",
      "        1.0582e-02, 4.6688e-02, 0.0000e+00, 0.0000e+00, 0.0000e+00, 2.4691e-01,\n",
      "        0.0000e+00, 5.0000e-01, 5.0000e-01, 0.0000e+00, 0.0000e+00, 4.2207e-01,\n",
      "        5.3889e-02, 1.2580e-01, 5.0000e-01, 2.2500e-01, 1.3107e-01, 0.0000e+00,\n",
      "        5.0000e-01, 0.0000e+00, 0.0000e+00, 2.4012e-01, 5.0000e-01, 9.2657e-03,\n",
      "        0.0000e+00, 1.8385e-01, 5.0000e-01, 3.9417e-01, 3.1880e-01, 2.0169e-01,\n",
      "        2.0642e-02, 0.0000e+00, 0.0000e+00, 0.0000e+00, 0.0000e+00, 0.0000e+00,\n",
      "        0.0000e+00, 3.9640e-01, 5.0000e-01, 5.7351e-02, 0.0000e+00, 3.8797e-01,\n",
      "        6.5965e-02, 1.0154e-01, 8.2196e-02, 0.0000e+00, 4.2357e-01, 5.6421e-02,\n",
      "        0.0000e+00, 3.3370e-01, 5.0000e-01, 0.0000e+00, 0.0000e+00, 1.5633e-02,\n",
      "        2.7600e-01, 1.0439e-01, 2.7316e-01, 2.2342e-01, 2.2180e-01, 1.5543e-01,\n",
      "        5.0000e-01, 4.1878e-01, 0.0000e+00, 0.0000e+00, 2.5731e-01, 4.9309e-01,\n",
      "        0.0000e+00, 0.0000e+00, 0.0000e+00, 1.7427e-01, 1.1873e-01, 2.8547e-01,\n",
      "        0.0000e+00, 1.8095e-01, 0.0000e+00, 0.0000e+00, 0.0000e+00, 4.8765e-01,\n",
      "        5.0000e-01, 0.0000e+00, 0.0000e+00, 0.0000e+00, 6.9067e-02, 2.0153e-01,\n",
      "        5.0000e-01, 5.0000e-01, 3.4453e-01, 1.0672e-01, 4.5809e-01, 5.0000e-01,\n",
      "        5.0000e-01, 5.0000e-01, 3.9386e-01, 4.2438e-01, 5.0000e-01, 5.0000e-01,\n",
      "        6.6468e-02, 0.0000e+00, 1.0653e-01, 8.1461e-03, 5.0000e-01, 9.3408e-02,\n",
      "        0.0000e+00, 0.0000e+00, 0.0000e+00, 4.2849e-01, 1.4186e-01, 0.0000e+00,\n",
      "        0.0000e+00, 0.0000e+00, 0.0000e+00, 3.6877e-01, 5.0000e-01, 1.4173e-01,\n",
      "        0.0000e+00, 0.0000e+00, 1.1272e-01, 4.4478e-01, 3.7925e-01, 4.7986e-01,\n",
      "        0.0000e+00, 0.0000e+00, 0.0000e+00, 1.4826e-01, 0.0000e+00, 0.0000e+00,\n",
      "        2.8540e-01, 5.0000e-01, 5.0664e-02, 3.5185e-01, 1.7304e-01, 0.0000e+00,\n",
      "        0.0000e+00, 2.7676e-01, 0.0000e+00, 0.0000e+00, 0.0000e+00, 0.0000e+00,\n",
      "        0.0000e+00, 2.6167e-01, 1.8281e-01, 6.8953e-02, 4.7748e-02, 2.9739e-02,\n",
      "        8.9768e-02, 5.0000e-01, 0.0000e+00, 6.1854e-02, 0.0000e+00, 0.0000e+00,\n",
      "        0.0000e+00, 3.3747e-01, 0.0000e+00, 0.0000e+00, 5.0000e-01, 0.0000e+00,\n",
      "        0.0000e+00, 1.3630e-01, 2.3426e-01, 2.2175e-01, 6.0104e-03, 1.3240e-01,\n",
      "        0.0000e+00, 0.0000e+00, 0.0000e+00, 1.3077e-01, 3.1290e-01, 1.2222e-02,\n",
      "        5.3657e-03, 1.1474e-01, 9.9467e-02, 9.8614e-02, 1.2622e-01, 3.1154e-01,\n",
      "        1.4274e-02, 3.5870e-01, 0.0000e+00, 1.6496e-01, 4.2123e-01, 4.7169e-01,\n",
      "        0.0000e+00, 0.0000e+00, 5.0000e-01, 0.0000e+00, 0.0000e+00, 0.0000e+00,\n",
      "        3.6606e-01, 5.0000e-01, 5.0000e-01, 4.6904e-01, 3.0206e-01, 0.0000e+00,\n",
      "        0.0000e+00, 2.2909e-01, 3.1419e-01, 2.7751e-01, 2.3995e-02, 2.1891e-01,\n",
      "        3.0397e-01, 1.4516e-01, 2.1111e-01, 5.0000e-01, 5.0000e-01, 5.0000e-01,\n",
      "        1.2285e-01, 0.0000e+00, 5.0000e-01, 5.0000e-01, 0.0000e+00, 0.0000e+00,\n",
      "        5.0000e-01, 0.0000e+00, 2.2684e-02, 4.2798e-01, 3.3553e-01, 3.4235e-01,\n",
      "        3.4465e-01, 5.0000e-01, 0.0000e+00, 0.0000e+00, 0.0000e+00, 0.0000e+00,\n",
      "        1.9605e-01, 2.0719e-01, 2.7269e-01, 5.0000e-01, 3.4121e-02, 2.3608e-02,\n",
      "        1.0439e-03, 1.2191e-01, 2.7920e-01, 5.0000e-01, 0.0000e+00, 0.0000e+00,\n",
      "        0.0000e+00, 4.6928e-02, 0.0000e+00, 1.8983e-01, 0.0000e+00, 3.1314e-01,\n",
      "        2.6601e-01, 8.5620e-02, 1.9986e-01, 1.1882e-01, 4.1407e-01, 5.0000e-01,\n",
      "        2.2288e-01, 0.0000e+00, 0.0000e+00, 0.0000e+00, 2.7715e-01, 0.0000e+00,\n",
      "        0.0000e+00, 0.0000e+00, 3.4751e-02, 5.0000e-01, 2.8371e-01, 2.6522e-01,\n",
      "        5.0000e-01, 5.0000e-01, 0.0000e+00, 0.0000e+00, 0.0000e+00, 0.0000e+00,\n",
      "        2.9962e-01, 1.1896e-01, 0.0000e+00, 3.8590e-01, 0.0000e+00, 0.0000e+00,\n",
      "        4.2068e-01, 2.8311e-01, 3.6758e-01, 3.5941e-01, 5.0537e-02, 0.0000e+00,\n",
      "        0.0000e+00, 0.0000e+00, 0.0000e+00, 6.2654e-02, 0.0000e+00, 6.6673e-03,\n",
      "        0.0000e+00, 5.0000e-01, 0.0000e+00, 0.0000e+00, 5.0000e-01, 4.9344e-01,\n",
      "        0.0000e+00, 0.0000e+00, 0.0000e+00, 0.0000e+00, 0.0000e+00, 0.0000e+00,\n",
      "        0.0000e+00, 0.0000e+00, 0.0000e+00, 0.0000e+00, 5.0000e-01, 2.6009e-01,\n",
      "        2.0318e-01, 7.0578e-02, 0.0000e+00, 0.0000e+00, 0.0000e+00, 0.0000e+00,\n",
      "        1.7790e-02, 0.0000e+00, 0.0000e+00, 0.0000e+00, 0.0000e+00, 0.0000e+00,\n",
      "        1.9116e-01, 0.0000e+00, 5.0000e-01, 2.3769e-01, 0.0000e+00, 0.0000e+00,\n",
      "        0.0000e+00, 5.0000e-01, 0.0000e+00, 0.0000e+00, 4.3940e-01, 0.0000e+00,\n",
      "        0.0000e+00, 0.0000e+00, 3.5426e-01, 1.4851e-01, 2.0035e-01, 1.6062e-01,\n",
      "        0.0000e+00, 0.0000e+00, 0.0000e+00, 0.0000e+00, 0.0000e+00, 0.0000e+00,\n",
      "        0.0000e+00, 0.0000e+00, 3.6767e-01, 4.7229e-01, 0.0000e+00, 5.0000e-01,\n",
      "        3.0168e-01, 4.0969e-02, 0.0000e+00, 0.0000e+00, 3.7574e-01, 3.5448e-01,\n",
      "        4.8321e-02, 0.0000e+00, 3.3075e-01, 0.0000e+00, 0.0000e+00, 0.0000e+00,\n",
      "        1.3235e-01, 3.1488e-01, 5.0000e-01, 5.0000e-01, 0.0000e+00, 0.0000e+00,\n",
      "        0.0000e+00, 0.0000e+00, 0.0000e+00, 0.0000e+00, 0.0000e+00, 0.0000e+00,\n",
      "        0.0000e+00, 4.3729e-01, 0.0000e+00, 0.0000e+00, 4.6115e-01, 0.0000e+00,\n",
      "        1.1222e-01, 2.2688e-01, 4.0278e-01, 0.0000e+00, 0.0000e+00, 0.0000e+00,\n",
      "        1.7788e-01, 1.8064e-02, 0.0000e+00, 0.0000e+00, 3.3038e-01, 4.0805e-01,\n",
      "        3.3812e-01, 1.7588e-01, 0.0000e+00, 0.0000e+00, 0.0000e+00, 0.0000e+00,\n",
      "        1.6282e-02, 3.8058e-01, 0.0000e+00, 0.0000e+00, 0.0000e+00, 5.0000e-01,\n",
      "        0.0000e+00, 0.0000e+00, 2.4440e-01, 2.1641e-01, 2.3168e-01, 1.4913e-02,\n",
      "        0.0000e+00, 0.0000e+00, 0.0000e+00, 1.9200e-01, 8.0740e-02, 1.6071e-01,\n",
      "        3.6200e-02, 0.0000e+00, 4.3432e-01, 3.2971e-01, 1.5869e-01, 1.7068e-01,\n",
      "        0.0000e+00, 0.0000e+00, 0.0000e+00, 0.0000e+00, 0.0000e+00, 4.2402e-01,\n",
      "        1.8168e-01, 0.0000e+00, 0.0000e+00, 0.0000e+00, 1.0755e-01, 0.0000e+00,\n",
      "        0.0000e+00, 0.0000e+00, 0.0000e+00, 0.0000e+00, 0.0000e+00, 0.0000e+00,\n",
      "        5.0000e-01, 0.0000e+00, 0.0000e+00, 2.0466e-01, 2.9795e-01, 4.0283e-01,\n",
      "        3.9437e-01, 2.3190e-01, 0.0000e+00, 0.0000e+00, 4.1579e-02, 0.0000e+00,\n",
      "        0.0000e+00, 0.0000e+00, 0.0000e+00, 7.5987e-02, 7.0097e-03, 0.0000e+00,\n",
      "        0.0000e+00, 0.0000e+00, 0.0000e+00, 9.9249e-02, 0.0000e+00, 0.0000e+00,\n",
      "        0.0000e+00, 0.0000e+00, 1.0808e-01, 5.0000e-01, 0.0000e+00, 0.0000e+00,\n",
      "        0.0000e+00, 3.1808e-02, 4.3143e-01, 1.1099e-01, 1.1551e-01, 2.1827e-01,\n",
      "        4.6167e-01, 5.0000e-01, 4.1123e-01, 8.9308e-03, 0.0000e+00, 0.0000e+00,\n",
      "        0.0000e+00, 0.0000e+00, 1.9932e-01, 2.0246e-01, 2.8571e-04, 0.0000e+00,\n",
      "        0.0000e+00, 0.0000e+00, 5.7344e-02, 4.9486e-04, 2.0948e-01, 2.4821e-01,\n",
      "        0.0000e+00, 0.0000e+00, 0.0000e+00, 0.0000e+00, 0.0000e+00, 2.8366e-02,\n",
      "        3.0066e-01, 1.5000e-02, 7.2127e-02, 2.9694e-01, 4.5406e-01, 3.8049e-01,\n",
      "        1.2353e-01, 0.0000e+00, 0.0000e+00, 0.0000e+00, 0.0000e+00, 0.0000e+00,\n",
      "        3.5927e-02, 2.4626e-01, 1.7594e-01, 0.0000e+00, 0.0000e+00, 0.0000e+00,\n",
      "        0.0000e+00, 0.0000e+00, 0.0000e+00, 0.0000e+00, 0.0000e+00, 0.0000e+00,\n",
      "        4.2712e-02, 3.5536e-02, 8.0575e-02, 3.6106e-02, 1.4686e-01, 5.7940e-03,\n",
      "        3.7323e-02, 1.7065e-01, 1.3325e-01, 0.0000e+00, 0.0000e+00, 0.0000e+00,\n",
      "        0.0000e+00, 0.0000e+00, 0.0000e+00, 2.3207e-03, 0.0000e+00, 0.0000e+00,\n",
      "        1.8302e-02, 0.0000e+00, 0.0000e+00, 0.0000e+00, 0.0000e+00, 0.0000e+00,\n",
      "        0.0000e+00, 0.0000e+00, 0.0000e+00, 0.0000e+00, 0.0000e+00, 0.0000e+00,\n",
      "        0.0000e+00, 0.0000e+00, 0.0000e+00, 0.0000e+00, 0.0000e+00, 0.0000e+00,\n"
     ]
    },
    {
     "name": "stdout",
     "output_type": "stream",
     "text": [
      "        0.0000e+00, 0.0000e+00, 0.0000e+00, 0.0000e+00])\n"
     ]
    }
   ],
   "source": [
    "print(CEM.best_delta - image.view(28*28))"
   ]
  },
  {
   "cell_type": "code",
   "execution_count": 12,
   "metadata": {},
   "outputs": [
    {
     "data": {
      "text/plain": [
       "<matplotlib.image.AxesImage at 0x1c2042bb9b0>"
      ]
     },
     "execution_count": 12,
     "metadata": {},
     "output_type": "execute_result"
    },
    {
     "data": {
      "image/png": "[encoded data removed]",
      "text/plain": [
       "<Figure size 432x288 with 1 Axes>"
      ]
     },
     "metadata": {
      "needs_background": "light"
     },
     "output_type": "display_data"
    }
   ],
   "source": [
    "plt.imshow(image.squeeze())"
   ]
  },
  {
   "cell_type": "code",
   "execution_count": 13,
   "metadata": {},
   "outputs": [
    {
     "data": {
      "text/plain": [
       "<matplotlib.image.AxesImage at 0x1c20431df60>"
      ]
     },
     "execution_count": 13,
     "metadata": {},
     "output_type": "execute_result"
    },
    {
     "data": {
      "image/png": "[encoded data removed]",
      "text/plain": [
       "<Figure size 432x288 with 1 Axes>"
      ]
     },
     "metadata": {
      "needs_background": "light"
     },
     "output_type": "display_data"
    }
   ],
   "source": [
    "plt.imshow(CEM.best_delta.view(28,28) - image.squeeze())"
   ]
  },
  {
   "cell_type": "code",
   "execution_count": 14,
   "metadata": {},
   "outputs": [
    {
     "data": {
      "text/plain": [
       "tensor(8)"
      ]
     },
     "execution_count": 14,
     "metadata": {},
     "output_type": "execute_result"
    }
   ],
   "source": [
    "# classification after\n",
    "np.argmax(cnn(CEM.best_delta.view(1,28,28)).detach())"
   ]
  },
  {
   "cell_type": "code",
   "execution_count": 15,
   "metadata": {},
   "outputs": [
    {
     "data": {
      "text/plain": [
       "tensor(3)"
      ]
     },
     "execution_count": 15,
     "metadata": {},
     "output_type": "execute_result"
    }
   ],
   "source": [
    "# classification before\n",
    "np.argmax(cnn(image.squeeze(-1)).detach())"
   ]
  },
  {
   "cell_type": "code",
   "execution_count": 16,
   "metadata": {},
   "outputs": [
    {
     "name": "stdout",
     "output_type": "stream",
     "text": [
      "2284.42236328125\n"
     ]
    }
   ],
   "source": [
    "print(CEM.best_loss)"
   ]
  },
  {
   "cell_type": "code",
   "execution_count": 17,
   "metadata": {},
   "outputs": [
    {
     "name": "stdout",
     "output_type": "stream",
     "text": [
      "tensor(0.)\n"
     ]
    }
   ],
   "source": [
    "print(CEM.best_pert_loss)"
   ]
  },
  {
   "cell_type": "code",
   "execution_count": 18,
   "metadata": {},
   "outputs": [
    {
     "name": "stdout",
     "output_type": "stream",
     "text": [
      "10\n"
     ]
    }
   ],
   "source": [
    "print(CEM.best_c)"
   ]
  },
  {
   "cell_type": "code",
   "execution_count": null,
   "metadata": {},
   "outputs": [],
   "source": []
  }
 ],
 "metadata": {
  "kernelspec": {
   "display_name": "Python 3",
   "language": "python",
   "name": "python3"
  },
  "language_info": {
   "codemirror_mode": {
    "name": "ipython",
    "version": 3
   },
   "file_extension": ".py",
   "mimetype": "text/x-python",
   "name": "python",
   "nbconvert_exporter": "python",
   "pygments_lexer": "ipython3",
   "version": "3.7.0"
  }
 },
 "nbformat": 4,
 "nbformat_minor": 2
}
