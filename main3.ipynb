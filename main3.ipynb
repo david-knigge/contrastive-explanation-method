{
 "cells": [
  {
   "cell_type": "code",
   "execution_count": 1,
   "metadata": {},
   "outputs": [],
   "source": [
    "%matplotlib inline\n",
    "import matplotlib.pyplot as plt\n",
    "import numpy as np\n",
    "\n",
    "import time\n",
    "import os\n",
    "\n",
    "from datasets.mnist import MNIST\n",
    "\n",
    "from models.cae_model import CAE\n",
    "from models.conv_model import CNN\n",
    "\n",
    "from train import train_ae, train_cnn\n",
    "\n",
    "from cem3 import ContrastiveExplanationMethod"
   ]
  },
  {
   "cell_type": "code",
   "execution_count": 2,
   "metadata": {},
   "outputs": [],
   "source": [
    "dataset = MNIST(batch_size=64)\n",
    "# dataset = FashionMNIST()"
   ]
  },
  {
   "cell_type": "markdown",
   "metadata": {},
   "source": [
    "# Training the classifier"
   ]
  },
  {
   "cell_type": "code",
   "execution_count": 3,
   "metadata": {},
   "outputs": [],
   "source": [
    "cnn = CNN(device=\"cpu\")\n",
    "\n",
    "train_cnn(cnn, dataset, iterations=20, lr=0.01, save_fn='mnist-cnn', device=\"cpu\", load_path=\"models/saved_models/mnist-cnn.h5\")"
   ]
  },
  {
   "cell_type": "code",
   "execution_count": 4,
   "metadata": {},
   "outputs": [
    {
     "name": "stderr",
     "output_type": "stream",
     "text": [
      "D:\\david\\Coding\\uva-fact-ai\\models\\conv_model.py:50: UserWarning: Implicit dimension choice for softmax has been deprecated. Change the call to include dim=X as an argument.\n",
      "  out = nn.functional.softmax(out)\n"
     ]
    }
   ],
   "source": [
    "images, _ = dataset.get_batch()\n",
    "\n",
    "output = cnn(images)\n",
    "\n",
    "images = images.numpy()\n",
    "output = output.detach().numpy()\n"
   ]
  },
  {
   "cell_type": "markdown",
   "metadata": {},
   "source": [
    "# Training the autoencoder"
   ]
  },
  {
   "cell_type": "markdown",
   "metadata": {},
   "source": [
    "This section trains the autoencoder which will be used as regularizer for the data space which the perturbations are found in."
   ]
  },
  {
   "cell_type": "code",
   "execution_count": 5,
   "metadata": {},
   "outputs": [],
   "source": [
    "# Train or load autoencoder\n",
    "cae = CAE(device=\"cpu\")\n",
    "\n",
    "train_ae(cae, dataset, iterations=10, save_fn=\"mnist-cae\", device=\"cpu\", load_path=\"models/saved_models/mnist-cae-no-rs.h5\")"
   ]
  },
  {
   "cell_type": "code",
   "execution_count": 6,
   "metadata": {},
   "outputs": [
    {
     "data": {
      "image/png": "[encoded data removed]",
      "text/plain": [
       "<Figure size 1800x288 with 8 Axes>"
      ]
     },
     "metadata": {
      "needs_background": "light"
     },
     "output_type": "display_data"
    }
   ],
   "source": [
    "# obtain one batch of test images\n",
    "images, _ = dataset.get_batch()\n",
    "\n",
    "#images_flatten = images.view(images.size(0), -1)\n",
    "# get sample outputs\n",
    "output = cae(images + .5)\n",
    "# prep images for display\n",
    "images = images.numpy()\n",
    "\n",
    "# output is resized into a batch of images\n",
    "# output = output.view(batch_size, 1, 28, 28)\n",
    "# use detach when it's an output that requires_grad\n",
    "output = output.detach().numpy()\n",
    "\n",
    "# plot the first ten input images and then reconstructed images\n",
    "fig, axes = plt.subplots(nrows=2, ncols=4, sharex=True, sharey=True, figsize=(25,4))\n",
    "\n",
    "# input images on top row, reconstructions on bottom\n",
    "for images, row in zip([images, output], axes):\n",
    "    for img, ax in zip(images, row):\n",
    "        ax.imshow(np.squeeze(img), cmap='gray')\n",
    "        ax.get_xaxis().set_visible(False)\n",
    "        ax.get_yaxis().set_visible(False)"
   ]
  },
  {
   "cell_type": "markdown",
   "metadata": {},
   "source": [
    "# Contrastive Explanation Method"
   ]
  },
  {
   "cell_type": "code",
   "execution_count": 7,
   "metadata": {},
   "outputs": [],
   "source": [
    "kappa = 10\n",
    "gamma = 0.1\n",
    "beta = 0.5\n",
    "lr = 0.1\n",
    "CEM = ContrastiveExplanationMethod(cnn, cae, iterations=1000, n_searches=2, kappa=kappa, gamma=gamma, beta=beta, learning_rate=lr)"
   ]
  },
  {
   "cell_type": "code",
   "execution_count": 8,
   "metadata": {},
   "outputs": [
    {
     "data": {
      "image/png": "[encoded data removed]",
      "text/plain": [
       "<Figure size 432x288 with 1 Axes>"
      ]
     },
     "metadata": {
      "needs_background": "light"
     },
     "output_type": "display_data"
    },
    {
     "name": "stdout",
     "output_type": "stream",
     "text": [
      "classified as: 5\n"
     ]
    }
   ],
   "source": [
    "# obtain one sample\n",
    "image = dataset.get_sample_by_class(class_label=3, show_image=False)\n",
    "image, _ = dataset.get_sample(show_image=False)\n",
    "\n",
    "plt.imshow(image.squeeze())\n",
    "plt.show()\n",
    "print(\"classified as: {}\".format(np.argmax(cnn(image.view(-1,1,28,28)).detach())))"
   ]
  },
  {
   "cell_type": "code",
   "execution_count": 9,
   "metadata": {
    "scrolled": true
   },
   "outputs": [
    {
     "name": "stdout",
     "output_type": "stream",
     "text": [
      "new best: 18.200748443603516\n",
      "new best: 16.72410011291504\n",
      "search: 0 iteration: 20 c: 10 loss: 19.00 found optimum: True\n",
      "new best: 16.548419952392578\n",
      "search: 0 iteration: 40 c: 10 loss: 346.95 found optimum: True\n",
      "new best: 16.320419311523438\n",
      "search: 0 iteration: 60 c: 10 loss: 432.03 found optimum: True\n",
      "search: 0 iteration: 80 c: 10 loss: 19.78 found optimum: True\n",
      "search: 0 iteration: 100 c: 10 loss: 20.08 found optimum: True\n",
      "search: 0 iteration: 120 c: 10 loss: 357.42 found optimum: True\n",
      "new best: 16.253503799438477\n",
      "search: 0 iteration: 140 c: 10 loss: 412.64 found optimum: True\n",
      "search: 0 iteration: 160 c: 10 loss: 19.51 found optimum: True\n",
      "search: 0 iteration: 180 c: 10 loss: 15.99 found optimum: True\n",
      "search: 0 iteration: 200 c: 10 loss: 357.30 found optimum: True\n",
      "search: 0 iteration: 220 c: 10 loss: 401.24 found optimum: True\n",
      "search: 0 iteration: 240 c: 10 loss: 429.46 found optimum: True\n",
      "search: 0 iteration: 260 c: 10 loss: 18.79 found optimum: True\n",
      "search: 0 iteration: 280 c: 10 loss: 16.93 found optimum: True\n",
      "search: 0 iteration: 300 c: 10 loss: 340.02 found optimum: True\n",
      "search: 0 iteration: 320 c: 10 loss: 387.00 found optimum: True\n",
      "search: 0 iteration: 340 c: 10 loss: 15.91 found optimum: True\n",
      "search: 0 iteration: 360 c: 10 loss: 405.98 found optimum: True\n",
      "search: 0 iteration: 380 c: 10 loss: 418.55 found optimum: True\n",
      "new best: 16.210412979125977\n",
      "search: 0 iteration: 400 c: 10 loss: 375.23 found optimum: True\n",
      "new best: 15.960245132446289\n",
      "search: 0 iteration: 420 c: 10 loss: 409.60 found optimum: True\n",
      "search: 0 iteration: 440 c: 10 loss: 16.40 found optimum: True\n",
      "search: 0 iteration: 460 c: 10 loss: 13.75 found optimum: True\n",
      "search: 0 iteration: 480 c: 10 loss: 11.06 found optimum: True\n",
      "search: 0 iteration: 500 c: 10 loss: 402.55 found optimum: True\n",
      "search: 0 iteration: 520 c: 10 loss: 12.89 found optimum: True\n",
      "search: 0 iteration: 540 c: 10 loss: 12.47 found optimum: True\n",
      "search: 0 iteration: 560 c: 10 loss: 368.50 found optimum: True\n",
      "search: 0 iteration: 580 c: 10 loss: 13.34 found optimum: True\n",
      "search: 0 iteration: 600 c: 10 loss: 11.25 found optimum: True\n",
      "new best: 15.919098854064941\n",
      "search: 0 iteration: 620 c: 10 loss: 422.43 found optimum: True\n",
      "search: 0 iteration: 640 c: 10 loss: 395.06 found optimum: True\n",
      "search: 0 iteration: 660 c: 10 loss: 31.85 found optimum: True\n",
      "search: 0 iteration: 680 c: 10 loss: 394.09 found optimum: True\n",
      "search: 0 iteration: 700 c: 10 loss: 14.23 found optimum: True\n",
      "search: 0 iteration: 720 c: 10 loss: 431.25 found optimum: True\n",
      "search: 0 iteration: 740 c: 10 loss: 15.05 found optimum: True\n",
      "search: 0 iteration: 760 c: 10 loss: 14.24 found optimum: True\n",
      "search: 0 iteration: 780 c: 10 loss: 160.59 found optimum: True\n",
      "search: 0 iteration: 800 c: 10 loss: 12.97 found optimum: True\n",
      "search: 0 iteration: 820 c: 10 loss: 11.84 found optimum: True\n",
      "search: 0 iteration: 840 c: 10 loss: 364.35 found optimum: True\n",
      "search: 0 iteration: 860 c: 10 loss: 361.33 found optimum: True\n",
      "search: 0 iteration: 880 c: 10 loss: 369.89 found optimum: True\n",
      "search: 0 iteration: 900 c: 10 loss: 380.59 found optimum: True\n",
      "search: 0 iteration: 920 c: 10 loss: 400.50 found optimum: True\n",
      "search: 0 iteration: 940 c: 10 loss: 417.31 found optimum: True\n",
      "search: 0 iteration: 960 c: 10 loss: 417.31 found optimum: True\n",
      "search: 0 iteration: 980 c: 10 loss: 448.67 found optimum: True\n",
      "search: 0 iteration: 1000 c: 10 loss: 448.67 found optimum: True\n",
      "search: 1 iteration: 20 c: 5.05 loss: 11.35 found optimum: True\n",
      "search: 1 iteration: 40 c: 5.05 loss: 13.93 found optimum: True\n",
      "search: 1 iteration: 60 c: 5.05 loss: 120.58 found optimum: True\n",
      "search: 1 iteration: 80 c: 5.05 loss: 12.57 found optimum: True\n",
      "search: 1 iteration: 100 c: 5.05 loss: 15.40 found optimum: True\n",
      "search: 1 iteration: 120 c: 5.05 loss: 36.89 found optimum: True\n",
      "search: 1 iteration: 140 c: 5.05 loss: 59.30 found optimum: True\n",
      "search: 1 iteration: 160 c: 5.05 loss: 81.81 found optimum: True\n",
      "search: 1 iteration: 180 c: 5.05 loss: 11.71 found optimum: True\n",
      "search: 1 iteration: 200 c: 5.05 loss: 15.74 found optimum: True\n",
      "search: 1 iteration: 220 c: 5.05 loss: 39.59 found optimum: True\n",
      "search: 1 iteration: 240 c: 5.05 loss: 13.24 found optimum: True\n",
      "search: 1 iteration: 260 c: 5.05 loss: 186.59 found optimum: True\n",
      "search: 1 iteration: 280 c: 5.05 loss: 186.85 found optimum: True\n",
      "search: 1 iteration: 300 c: 5.05 loss: 187.49 found optimum: True\n",
      "search: 1 iteration: 320 c: 5.05 loss: 187.29 found optimum: True\n",
      "search: 1 iteration: 340 c: 5.05 loss: 187.58 found optimum: True\n",
      "search: 1 iteration: 360 c: 5.05 loss: 185.91 found optimum: True\n",
      "search: 1 iteration: 380 c: 5.05 loss: 188.56 found optimum: True\n",
      "search: 1 iteration: 400 c: 5.05 loss: 186.22 found optimum: True\n",
      "search: 1 iteration: 420 c: 5.05 loss: 186.18 found optimum: True\n",
      "search: 1 iteration: 440 c: 5.05 loss: 186.22 found optimum: True\n",
      "search: 1 iteration: 460 c: 5.05 loss: 186.81 found optimum: True\n",
      "search: 1 iteration: 480 c: 5.05 loss: 190.98 found optimum: True\n",
      "search: 1 iteration: 500 c: 5.05 loss: 190.98 found optimum: True\n",
      "search: 1 iteration: 520 c: 5.05 loss: 190.98 found optimum: True\n",
      "search: 1 iteration: 540 c: 5.05 loss: 193.24 found optimum: True\n",
      "search: 1 iteration: 560 c: 5.05 loss: 193.06 found optimum: True\n",
      "search: 1 iteration: 580 c: 5.05 loss: 195.88 found optimum: True\n",
      "search: 1 iteration: 600 c: 5.05 loss: 195.88 found optimum: True\n",
      "search: 1 iteration: 620 c: 5.05 loss: 195.88 found optimum: True\n",
      "search: 1 iteration: 640 c: 5.05 loss: 199.47 found optimum: True\n",
      "search: 1 iteration: 660 c: 5.05 loss: 205.65 found optimum: True\n",
      "search: 1 iteration: 680 c: 5.05 loss: 205.65 found optimum: True\n",
      "search: 1 iteration: 700 c: 5.05 loss: 208.84 found optimum: True\n",
      "search: 1 iteration: 720 c: 5.05 loss: 210.69 found optimum: True\n",
      "search: 1 iteration: 740 c: 5.05 loss: 211.28 found optimum: True\n",
      "search: 1 iteration: 760 c: 5.05 loss: 213.91 found optimum: True\n",
      "search: 1 iteration: 780 c: 5.05 loss: 213.91 found optimum: True\n",
      "search: 1 iteration: 800 c: 5.05 loss: 213.91 found optimum: True\n",
      "search: 1 iteration: 820 c: 5.05 loss: 213.91 found optimum: True\n",
      "search: 1 iteration: 840 c: 5.05 loss: 213.91 found optimum: True\n",
      "search: 1 iteration: 860 c: 5.05 loss: 213.91 found optimum: True\n",
      "search: 1 iteration: 880 c: 5.05 loss: 217.25 found optimum: True\n",
      "search: 1 iteration: 900 c: 5.05 loss: 225.96 found optimum: True\n",
      "search: 1 iteration: 920 c: 5.05 loss: 229.53 found optimum: True\n",
      "search: 1 iteration: 940 c: 5.05 loss: 229.53 found optimum: True\n",
      "search: 1 iteration: 960 c: 5.05 loss: 229.53 found optimum: True\n",
      "search: 1 iteration: 980 c: 5.05 loss: 229.53 found optimum: True\n",
      "search: 1 iteration: 1000 c: 5.05 loss: 229.53 found optimum: True\n"
     ]
    }
   ],
   "source": [
    "# find pertinent negatives\n",
    "mode = \"PN\"\n",
    "CEM.fista(image, mode=mode)"
   ]
  },
  {
   "cell_type": "code",
   "execution_count": 10,
   "metadata": {},
   "outputs": [
    {
     "data": {
      "text/plain": [
       "<matplotlib.image.AxesImage at 0x1b6907f38d0>"
      ]
     },
     "execution_count": 10,
     "metadata": {},
     "output_type": "execute_result"
    },
    {
     "data": {
      "image/png": "[encoded data removed]",
      "text/plain": [
       "<Figure size 432x288 with 1 Axes>"
      ]
     },
     "metadata": {
      "needs_background": "light"
     },
     "output_type": "display_data"
    }
   ],
   "source": [
    "plt.imshow(image.squeeze())"
   ]
  },
  {
   "cell_type": "code",
   "execution_count": 11,
   "metadata": {},
   "outputs": [
    {
     "data": {
      "image/png": "[encoded data removed]",
      "text/plain": [
       "<Figure size 432x288 with 1 Axes>"
      ]
     },
     "metadata": {
      "needs_background": "light"
     },
     "output_type": "display_data"
    },
    {
     "data": {
      "image/png": "[encoded data removed]",
      "text/plain": [
       "<Figure size 432x288 with 1 Axes>"
      ]
     },
     "metadata": {
      "needs_background": "light"
     },
     "output_type": "display_data"
    }
   ],
   "source": [
    "# perturbation\n",
    "plt.imshow(image.squeeze()- CEM.best_delta.view(28,28), cmap=\"gray\")\n",
    "plt.show()\n",
    "plt.imshow(CEM.best_delta.view(28,28) - image.squeeze(), cmap=\"gray\")\n",
    "plt.show()"
   ]
  },
  {
   "cell_type": "code",
   "execution_count": 12,
   "metadata": {},
   "outputs": [
    {
     "data": {
      "image/png": "[encoded data removed]",
      "text/plain": [
       "<Figure size 432x288 with 1 Axes>"
      ]
     },
     "metadata": {
      "needs_background": "light"
     },
     "output_type": "display_data"
    },
    {
     "data": {
      "image/png": "[encoded data removed]",
      "text/plain": [
       "<Figure size 432x288 with 1 Axes>"
      ]
     },
     "metadata": {
      "needs_background": "light"
     },
     "output_type": "display_data"
    }
   ],
   "source": [
    "# original image with perturbation\n",
    "plt.imshow(CEM.best_delta.view(28,28))\n",
    "plt.show()\n",
    "\n",
    "plt.imshow(image.view(28,28))\n",
    "plt.show()"
   ]
  },
  {
   "cell_type": "code",
   "execution_count": 13,
   "metadata": {},
   "outputs": [
    {
     "data": {
      "text/plain": [
       "5"
      ]
     },
     "execution_count": 13,
     "metadata": {},
     "output_type": "execute_result"
    }
   ],
   "source": [
    "# classification before\n",
    "before = np.argmax(cnn(image.squeeze(-1)).detach()).item()\n",
    "before"
   ]
  },
  {
   "cell_type": "code",
   "execution_count": 14,
   "metadata": {},
   "outputs": [
    {
     "data": {
      "text/plain": [
       "5"
      ]
     },
     "execution_count": 14,
     "metadata": {},
     "output_type": "execute_result"
    }
   ],
   "source": [
    "# classification after\n",
    "after = np.argmax(cnn(CEM.best_delta.view(1,28,28)).detach()).item()\n",
    "after"
   ]
  },
  {
   "cell_type": "code",
   "execution_count": 15,
   "metadata": {
    "scrolled": true
   },
   "outputs": [
    {
     "data": {
      "text/plain": [
       "7"
      ]
     },
     "execution_count": 15,
     "metadata": {},
     "output_type": "execute_result"
    }
   ],
   "source": [
    "# classification of delta\n",
    "class_delta = np.argmax(cnn(image.squeeze(-1) - CEM.best_delta.view(1,28,28)).detach()).item()\n",
    "class_delta"
   ]
  },
  {
   "cell_type": "code",
   "execution_count": 16,
   "metadata": {},
   "outputs": [],
   "source": [
    "dirname = \"saved_perturbations/mode-{}-kappa-{}-gamma-{}-beta-{}-lr-{}\".format(mode, kappa, gamma, beta, lr)\n",
    "os.makedirs(dirname, exist_ok=True)\n",
    "fname_orig = dirname + \"/{}-cb-{}-ca-{}-orig.png\".format(int(time.time()), before, after)\n",
    "fname_pert = dirname + \"/{}-before-{}-after-{}-pert.png\".format(int(time.time()), before, after)\n",
    "fname_combined = dirname + \"/{}-before-{}-after-{}-pn.png\".format(int(time.time()), before, after)\n",
    "fname_combined_pp = dirname + \"/{}-before-{}-after-{}-pp.png\".format(int(time.time()), before, after)\n",
    "plt.imsave(fname_orig, image.squeeze(), cmap=\"gray\")\n",
    "plt.imsave(fname_pert, CEM.best_delta.view(28,28) - image.squeeze(), cmap=\"gray\")\n",
    "plt.imsave(fname_combined, CEM.best_delta.view(28,28), cmap=\"gray\")\n",
    "plt.imsave(fname_combined_pp, image.squeeze() - CEM.best_delta.view(28,28), cmap=\"gray\")"
   ]
  },
  {
   "cell_type": "code",
   "execution_count": 17,
   "metadata": {},
   "outputs": [
    {
     "data": {
      "text/plain": [
       "<matplotlib.image.AxesImage at 0x1b6a4b59940>"
      ]
     },
     "execution_count": 17,
     "metadata": {},
     "output_type": "execute_result"
    },
    {
     "data": {
      "image/png": "[encoded data removed]",
      "text/plain": [
       "<Figure size 432x288 with 1 Axes>"
      ]
     },
     "metadata": {
      "needs_background": "light"
     },
     "output_type": "display_data"
    }
   ],
   "source": [
    "plt.imshow(cae(CEM.best_delta.view(1,1,28,28)+0.5).view(28,28).detach())"
   ]
  },
  {
   "cell_type": "code",
   "execution_count": 18,
   "metadata": {},
   "outputs": [
    {
     "data": {
      "text/plain": [
       "<matplotlib.image.AxesImage at 0x1b6b60dcb38>"
      ]
     },
     "execution_count": 18,
     "metadata": {},
     "output_type": "execute_result"
    },
    {
     "data": {
      "image/png": "[encoded data removed]",
      "text/plain": [
       "<Figure size 432x288 with 1 Axes>"
      ]
     },
     "metadata": {
      "needs_background": "light"
     },
     "output_type": "display_data"
    }
   ],
   "source": [
    "plt.imshow(image.squeeze() - CEM.best_delta.view(28,28).detach())"
   ]
  },
  {
   "cell_type": "code",
   "execution_count": 20,
   "metadata": {},
   "outputs": [],
   "source": [
    "# for d in CEM.saved_deltas:\n",
    "#     plt.imshow(d.view(28,28), cmap=\"gray\")\n",
    "#     plt.show()\n",
    "#     plt.imshow(d.view(28,28) - image.squeeze(), cmap=\"gray\")\n",
    "#     plt.show()"
   ]
  },
  {
   "cell_type": "code",
   "execution_count": null,
   "metadata": {},
   "outputs": [],
   "source": []
  }
 ],
 "metadata": {
  "kernelspec": {
   "display_name": "Python 3",
   "language": "python",
   "name": "python3"
  },
  "language_info": {
   "codemirror_mode": {
    "name": "ipython",
    "version": 3
   },
   "file_extension": ".py",
   "mimetype": "text/x-python",
   "name": "python",
   "nbconvert_exporter": "python",
   "pygments_lexer": "ipython3",
   "version": "3.7.0"
  }
 },
 "nbformat": 4,
 "nbformat_minor": 2
}
