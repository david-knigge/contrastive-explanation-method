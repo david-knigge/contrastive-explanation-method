{
 "cells": [
  {
   "cell_type": "code",
   "execution_count": 1,
   "metadata": {},
   "outputs": [],
   "source": [
    "%matplotlib inline\n",
    "import matplotlib.pyplot as plt\n",
    "import numpy as np\n",
    "\n",
    "import time\n",
    "import os\n",
    "\n",
    "from datasets.mnist import MNIST\n",
    "\n",
    "from models.cae_model import CAE\n",
    "from models.conv_model import CNN\n",
    "\n",
    "from train import train_ae, train_cnn\n",
    "\n",
    "from cem import ContrastiveExplanationMethod"
   ]
  },
  {
   "cell_type": "code",
   "execution_count": 2,
   "metadata": {},
   "outputs": [],
   "source": [
    "dataset = MNIST(batch_size=64)\n",
    "# dataset = FashionMNIST()"
   ]
  },
  {
   "cell_type": "markdown",
   "metadata": {},
   "source": [
    "# Training the classifier"
   ]
  },
  {
   "cell_type": "code",
   "execution_count": 3,
   "metadata": {},
   "outputs": [],
   "source": [
    "cnn = CNN(device=\"cpu\")\n",
    "\n",
    "train_cnn(cnn, dataset, iterations=20, lr=0.01, save_fn='mnist-cnn', device=\"cpu\", load_path=\"models/saved_models/mnist-cnn.h5\")"
   ]
  },
  {
   "cell_type": "code",
   "execution_count": 4,
   "metadata": {},
   "outputs": [
    {
     "name": "stderr",
     "output_type": "stream",
     "text": [
      "D:\\david\\Coding\\uva-fact-ai\\models\\conv_model.py:50: UserWarning: Implicit dimension choice for softmax has been deprecated. Change the call to include dim=X as an argument.\n",
      "  out = nn.functional.softmax(out)\n"
     ]
    }
   ],
   "source": [
    "images, _ = dataset.get_batch()\n",
    "\n",
    "output = cnn(images)\n",
    "\n",
    "images = images.numpy()\n",
    "output = output.detach().numpy()\n"
   ]
  },
  {
   "cell_type": "markdown",
   "metadata": {},
   "source": [
    "# Training the autoencoder"
   ]
  },
  {
   "cell_type": "markdown",
   "metadata": {},
   "source": [
    "This section trains the autoencoder which will be used as regularizer for the data space which the perturbations are found in."
   ]
  },
  {
   "cell_type": "code",
   "execution_count": 5,
   "metadata": {},
   "outputs": [],
   "source": [
    "# Train or load autoencoder\n",
    "cae = CAE(device=\"cpu\")\n",
    "\n",
    "train_ae(cae, dataset, iterations=10, save_fn=\"mnist-cae\", device=\"cpu\", load_path=\"models/saved_models/mnist-cae-no-rs.h5\")"
   ]
  },
  {
   "cell_type": "code",
   "execution_count": 6,
   "metadata": {},
   "outputs": [
    {
     "data": {
      "image/png": "[encoded data removed]",
      "text/plain": [
       "<Figure size 1800x288 with 8 Axes>"
      ]
     },
     "metadata": {
      "needs_background": "light"
     },
     "output_type": "display_data"
    }
   ],
   "source": [
    "# obtain one batch of test images\n",
    "images, _ = dataset.get_batch()\n",
    "\n",
    "#images_flatten = images.view(images.size(0), -1)\n",
    "# get sample outputs\n",
    "output = cae(images + .5)\n",
    "# prep images for display\n",
    "images = images.numpy()\n",
    "\n",
    "# output is resized into a batch of images\n",
    "# output = output.view(batch_size, 1, 28, 28)\n",
    "# use detach when it's an output that requires_grad\n",
    "output = output.detach().numpy()\n",
    "\n",
    "# plot the first ten input images and then reconstructed images\n",
    "fig, axes = plt.subplots(nrows=2, ncols=4, sharex=True, sharey=True, figsize=(25,4))\n",
    "\n",
    "# input images on top row, reconstructions on bottom\n",
    "for images, row in zip([images, output], axes):\n",
    "    for img, ax in zip(images, row):\n",
    "        ax.imshow(np.squeeze(img), cmap='gray')\n",
    "        ax.get_xaxis().set_visible(False)\n",
    "        ax.get_yaxis().set_visible(False)"
   ]
  },
  {
   "cell_type": "markdown",
   "metadata": {},
   "source": [
    "# Contrastive Explanation Method"
   ]
  },
  {
   "cell_type": "code",
   "execution_count": 7,
   "metadata": {},
   "outputs": [],
   "source": [
    "kappa = 10\n",
    "gamma = 1\n",
    "beta = 0.1\n",
    "lr = 0.1\n",
    "CEM = ContrastiveExplanationMethod(cnn, cae, iterations=1000, n_searches=1, kappa=kappa, gamma=gamma, beta=beta, learning_rate=lr)"
   ]
  },
  {
   "cell_type": "code",
   "execution_count": 8,
   "metadata": {},
   "outputs": [
    {
     "data": {
      "text/plain": [
       "<matplotlib.image.AxesImage at 0x1d1b3260fd0>"
      ]
     },
     "execution_count": 8,
     "metadata": {},
     "output_type": "execute_result"
    },
    {
     "data": {
      "image/png": "[encoded data removed]",
      "text/plain": [
       "<Figure size 432x288 with 1 Axes>"
      ]
     },
     "metadata": {
      "needs_background": "light"
     },
     "output_type": "display_data"
    }
   ],
   "source": [
    "# obtain one sample\n",
    "image = dataset.get_sample_by_class(class_label=3, show_image=False)\n",
    "\n",
    "plt.imshow(image.squeeze())"
   ]
  },
  {
   "cell_type": "code",
   "execution_count": 9,
   "metadata": {
    "scrolled": true
   },
   "outputs": [
    {
     "name": "stdout",
     "output_type": "stream",
     "text": [
      "search:0 iteration:0 lr:0.10 c value:10.00 loss: 276.74 delta sum:0.00 optimum:False y grad:502.532\n",
      "NEW BEST: 185.04519653320312 - C: 10\n",
      "NEW BEST: 182.31866455078125 - C: 10\n",
      "search:0 iteration:20 lr:0.10 c value:10.00 loss: 182.32 delta sum:-198.29 optimum:True y grad:-481.224\n",
      "NEW BEST: 181.5362091064453 - C: 10\n",
      "NEW BEST: 178.30511474609375 - C: 10\n",
      "search:0 iteration:40 lr:0.10 c value:10.00 loss: 182.97 delta sum:-194.39 optimum:True y grad:-462.572\n",
      "search:0 iteration:60 lr:0.10 c value:10.00 loss: 180.61 delta sum:-200.46 optimum:True y grad:-485.231\n",
      "search:0 iteration:80 lr:0.10 c value:10.00 loss: 180.69 delta sum:-199.06 optimum:True y grad:-485.510\n",
      "search:0 iteration:100 lr:0.09 c value:10.00 loss: 180.65 delta sum:-198.65 optimum:True y grad:-484.526\n",
      "search:0 iteration:120 lr:0.09 c value:10.00 loss: 182.94 delta sum:-197.28 optimum:True y grad:-459.341\n",
      "search:0 iteration:140 lr:0.09 c value:10.00 loss: 185.06 delta sum:-196.23 optimum:True y grad:-444.906\n",
      "search:0 iteration:160 lr:0.09 c value:10.00 loss: 182.60 delta sum:-201.09 optimum:True y grad:-499.262\n",
      "search:0 iteration:180 lr:0.09 c value:10.00 loss: 181.13 delta sum:-201.37 optimum:True y grad:-471.346\n",
      "search:0 iteration:200 lr:0.09 c value:10.00 loss: 183.29 delta sum:-199.31 optimum:True y grad:-467.433\n",
      "search:0 iteration:220 lr:0.09 c value:10.00 loss: 184.80 delta sum:-200.07 optimum:True y grad:-482.662\n",
      "search:0 iteration:240 lr:0.09 c value:10.00 loss: 183.37 delta sum:-202.59 optimum:True y grad:-487.823\n",
      "search:0 iteration:260 lr:0.09 c value:10.00 loss: 181.55 delta sum:-202.84 optimum:True y grad:-507.578\n",
      "search:0 iteration:280 lr:0.08 c value:10.00 loss: 183.10 delta sum:-202.68 optimum:True y grad:-493.017\n",
      "search:0 iteration:300 lr:0.08 c value:10.00 loss: 185.08 delta sum:-203.49 optimum:True y grad:-508.787\n",
      "search:0 iteration:320 lr:0.08 c value:10.00 loss: 183.93 delta sum:-203.65 optimum:True y grad:-506.021\n",
      "search:0 iteration:340 lr:0.08 c value:10.00 loss: 184.24 delta sum:-206.48 optimum:True y grad:-516.044\n",
      "search:0 iteration:360 lr:0.08 c value:10.00 loss: 186.86 delta sum:-202.43 optimum:True y grad:-498.855\n",
      "search:0 iteration:380 lr:0.08 c value:10.00 loss: 183.32 delta sum:-207.51 optimum:True y grad:-517.493\n",
      "search:0 iteration:400 lr:0.08 c value:10.00 loss: 185.12 delta sum:-206.80 optimum:True y grad:-516.111\n",
      "search:0 iteration:420 lr:0.08 c value:10.00 loss: 184.00 delta sum:-208.73 optimum:True y grad:-523.338\n",
      "search:0 iteration:440 lr:0.07 c value:10.00 loss: 184.87 delta sum:-208.08 optimum:True y grad:-517.098\n",
      "search:0 iteration:460 lr:0.07 c value:10.00 loss: 183.45 delta sum:-208.68 optimum:True y grad:-526.995\n",
      "search:0 iteration:480 lr:0.07 c value:10.00 loss: 183.84 delta sum:-209.11 optimum:True y grad:-528.071\n",
      "search:0 iteration:500 lr:0.07 c value:10.00 loss: 185.31 delta sum:-209.81 optimum:True y grad:-526.412\n",
      "search:0 iteration:520 lr:0.07 c value:10.00 loss: 184.35 delta sum:-210.46 optimum:True y grad:-536.347\n",
      "search:0 iteration:540 lr:0.07 c value:10.00 loss: 185.70 delta sum:-210.35 optimum:True y grad:-538.502\n",
      "search:0 iteration:560 lr:0.07 c value:10.00 loss: 185.24 delta sum:-211.45 optimum:True y grad:-543.864\n",
      "search:0 iteration:580 lr:0.06 c value:10.00 loss: 184.10 delta sum:-213.53 optimum:True y grad:-562.044\n",
      "search:0 iteration:600 lr:0.06 c value:10.00 loss: 184.25 delta sum:-211.65 optimum:True y grad:-531.130\n",
      "search:0 iteration:620 lr:0.06 c value:10.00 loss: 184.06 delta sum:-214.86 optimum:True y grad:-564.128\n",
      "search:0 iteration:640 lr:0.06 c value:10.00 loss: 184.01 delta sum:-213.49 optimum:True y grad:-557.012\n",
      "search:0 iteration:660 lr:0.06 c value:10.00 loss: 184.10 delta sum:-215.16 optimum:True y grad:-569.096\n",
      "search:0 iteration:680 lr:0.06 c value:10.00 loss: 183.38 delta sum:-216.47 optimum:True y grad:-574.227\n",
      "search:0 iteration:700 lr:0.05 c value:10.00 loss: 183.38 delta sum:-216.04 optimum:True y grad:-557.073\n",
      "search:0 iteration:720 lr:0.05 c value:10.00 loss: 186.33 delta sum:-216.80 optimum:True y grad:-573.618\n",
      "search:0 iteration:740 lr:0.05 c value:10.00 loss: 185.06 delta sum:-217.99 optimum:True y grad:-577.275\n",
      "search:0 iteration:760 lr:0.05 c value:10.00 loss: 185.25 delta sum:-218.68 optimum:True y grad:-583.339\n",
      "search:0 iteration:780 lr:0.05 c value:10.00 loss: 185.95 delta sum:-219.21 optimum:True y grad:-583.404\n",
      "search:0 iteration:800 lr:0.04 c value:10.00 loss: 184.77 delta sum:-214.43 optimum:True y grad:-546.297\n",
      "search:0 iteration:820 lr:0.04 c value:10.00 loss: 183.56 delta sum:-215.53 optimum:True y grad:-568.706\n",
      "search:0 iteration:840 lr:0.04 c value:10.00 loss: 183.76 delta sum:-215.38 optimum:True y grad:-572.854\n",
      "search:0 iteration:860 lr:0.04 c value:10.00 loss: 188.09 delta sum:-214.98 optimum:True y grad:-354.516\n",
      "search:0 iteration:880 lr:0.03 c value:10.00 loss: 191.57 delta sum:-216.31 optimum:True y grad:-310.199\n",
      "search:0 iteration:900 lr:0.03 c value:10.00 loss: 195.01 delta sum:-217.54 optimum:True y grad:-311.166\n",
      "search:0 iteration:920 lr:0.03 c value:10.00 loss: 197.58 delta sum:-218.56 optimum:True y grad:-345.142\n",
      "search:0 iteration:940 lr:0.02 c value:10.00 loss: 199.87 delta sum:-219.40 optimum:True y grad:-331.121\n",
      "search:0 iteration:960 lr:0.02 c value:10.00 loss: 211.92 delta sum:-221.86 optimum:True y grad:-286.043\n",
      "search:0 iteration:980 lr:0.01 c value:10.00 loss: 237.24 delta sum:-226.80 optimum:True y grad:-213.184\n"
     ]
    }
   ],
   "source": [
    "# find pertinent negatives\n",
    "mode = \"PN\"\n",
    "CEM.fista(image, mode=mode)"
   ]
  },
  {
   "cell_type": "code",
   "execution_count": 10,
   "metadata": {},
   "outputs": [
    {
     "data": {
      "text/plain": [
       "<matplotlib.image.AxesImage at 0x1d1b3ec7eb8>"
      ]
     },
     "execution_count": 10,
     "metadata": {},
     "output_type": "execute_result"
    },
    {
     "data": {
      "image/png": "[encoded data removed]",
      "text/plain": [
       "<Figure size 432x288 with 1 Axes>"
      ]
     },
     "metadata": {
      "needs_background": "light"
     },
     "output_type": "display_data"
    }
   ],
   "source": [
    "plt.imshow(image.squeeze())"
   ]
  },
  {
   "cell_type": "code",
   "execution_count": 11,
   "metadata": {},
   "outputs": [
    {
     "data": {
      "image/png": "[encoded data removed]",
      "text/plain": [
       "<Figure size 432x288 with 1 Axes>"
      ]
     },
     "metadata": {
      "needs_background": "light"
     },
     "output_type": "display_data"
    },
    {
     "data": {
      "image/png": "[encoded data removed]",
      "text/plain": [
       "<Figure size 432x288 with 1 Axes>"
      ]
     },
     "metadata": {
      "needs_background": "light"
     },
     "output_type": "display_data"
    }
   ],
   "source": [
    "# perturbation\n",
    "plt.imshow(image.squeeze()- CEM.best_delta.view(28,28), cmap=\"gray\")\n",
    "plt.show()\n",
    "plt.imshow(CEM.best_delta.view(28,28) - image.squeeze(), cmap=\"gray\")\n",
    "plt.show()"
   ]
  },
  {
   "cell_type": "code",
   "execution_count": 12,
   "metadata": {},
   "outputs": [
    {
     "data": {
      "text/plain": [
       "<matplotlib.image.AxesImage at 0x1d1c87457b8>"
      ]
     },
     "execution_count": 12,
     "metadata": {},
     "output_type": "execute_result"
    },
    {
     "data": {
      "image/png": "[encoded data removed]",
      "text/plain": [
       "<Figure size 432x288 with 1 Axes>"
      ]
     },
     "metadata": {
      "needs_background": "light"
     },
     "output_type": "display_data"
    }
   ],
   "source": [
    "# original image with perturbation\n",
    "plt.imshow(CEM.best_delta.view(28,28))"
   ]
  },
  {
   "cell_type": "code",
   "execution_count": 13,
   "metadata": {},
   "outputs": [
    {
     "data": {
      "image/png": "[encoded data removed]",
      "text/plain": [
       "<Figure size 432x288 with 1 Axes>"
      ]
     },
     "metadata": {
      "needs_background": "light"
     },
     "output_type": "display_data"
    },
    {
     "data": {
      "image/png": "[encoded data removed]",
      "text/plain": [
       "<Figure size 432x288 with 1 Axes>"
      ]
     },
     "metadata": {
      "needs_background": "light"
     },
     "output_type": "display_data"
    },
    {
     "data": {
      "image/png": "[encoded data removed]",
      "text/plain": [
       "<Figure size 432x288 with 1 Axes>"
      ]
     },
     "metadata": {
      "needs_background": "light"
     },
     "output_type": "display_data"
    },
    {
     "data": {
      "image/png": "[encoded data removed]",
      "text/plain": [
       "<Figure size 432x288 with 1 Axes>"
      ]
     },
     "metadata": {
      "needs_background": "light"
     },
     "output_type": "display_data"
    },
    {
     "data": {
      "image/png": "[encoded data removed]",
      "text/plain": [
       "<Figure size 432x288 with 1 Axes>"
      ]
     },
     "metadata": {
      "needs_background": "light"
     },
     "output_type": "display_data"
    },
    {
     "data": {
      "image/png": "[encoded data removed]",
      "text/plain": [
       "<Figure size 432x288 with 1 Axes>"
      ]
     },
     "metadata": {
      "needs_background": "light"
     },
     "output_type": "display_data"
    },
    {
     "data": {
      "image/png": "[encoded data removed]",
      "text/plain": [
       "<Figure size 432x288 with 1 Axes>"
      ]
     },
     "metadata": {
      "needs_background": "light"
     },
     "output_type": "display_data"
    },
    {
     "data": {
      "image/png": "[encoded data removed]",
      "text/plain": [
       "<Figure size 432x288 with 1 Axes>"
      ]
     },
     "metadata": {
      "needs_background": "light"
     },
     "output_type": "display_data"
    }
   ],
   "source": [
    "for d in CEM.all_best:\n",
    "    plt.imshow(d.view(28,28), cmap=\"gray\")\n",
    "    plt.show()\n",
    "    plt.imshow(d.view(28,28) - image.squeeze(), cmap=\"gray\")\n",
    "    plt.show()"
   ]
  },
  {
   "cell_type": "code",
   "execution_count": null,
   "metadata": {},
   "outputs": [],
   "source": [
    "# classification before\n",
    "before = np.argmax(cnn(image.squeeze(-1)).detach()).item()\n",
    "before"
   ]
  },
  {
   "cell_type": "code",
   "execution_count": null,
   "metadata": {},
   "outputs": [],
   "source": [
    "# classification after\n",
    "after = np.argmax(cnn(CEM.best_delta.view(1,28,28)).detach()).item()\n",
    "after"
   ]
  },
  {
   "cell_type": "code",
   "execution_count": null,
   "metadata": {
    "scrolled": true
   },
   "outputs": [],
   "source": [
    "# classification of delta\n",
    "class_delta = np.argmax(cnn(image.squeeze(-1) - CEM.best_delta.view(1,28,28)).detach()).item()\n",
    "class_delta"
   ]
  },
  {
   "cell_type": "code",
   "execution_count": null,
   "metadata": {},
   "outputs": [],
   "source": [
    "dirname = \"saved_perturbations/mode-{}-kappa-{}-gamma-{}-beta-{}-lr-{}\".format(mode, kappa, gamma, beta, lr)\n",
    "os.makedirs(dirname, exist_ok=True)\n",
    "fname_orig = dirname + \"/{}-cb-{}-ca-{}-orig.png\".format(int(time.time()), before, after)\n",
    "fname_pert = dirname + \"/{}-before-{}-after-{}-pert.png\".format(int(time.time()), before, after)\n",
    "fname_combined = dirname + \"/{}-before-{}-after-{}-pn.png\".format(int(time.time()), before, after)\n",
    "fname_combined_pp = dirname + \"/{}-before-{}-after-{}-pp.png\".format(int(time.time()), before, after)\n",
    "plt.imsave(fname_orig, image.squeeze(), cmap=\"gray\")\n",
    "plt.imsave(fname_pert, CEM.best_delta.view(28,28) - image.squeeze(), cmap=\"gray\")\n",
    "plt.imsave(fname_combined, CEM.best_delta.view(28,28), cmap=\"gray\")\n",
    "plt.imsave(fname_combined_pp, image.squeeze() - CEM.best_delta.view(28,28), cmap=\"gray\")"
   ]
  },
  {
   "cell_type": "code",
   "execution_count": null,
   "metadata": {},
   "outputs": [],
   "source": [
    "plt.imshow(cae(CEM.best_delta.view(1,1,28,28)+0.5).view(28,28).detach())"
   ]
  },
  {
   "cell_type": "code",
   "execution_count": null,
   "metadata": {},
   "outputs": [],
   "source": [
    "plt.imshow(image.squeeze() - CEM.best_delta.view(28,28).detach())"
   ]
  },
  {
   "cell_type": "code",
   "execution_count": null,
   "metadata": {},
   "outputs": [],
   "source": []
  }
 ],
 "metadata": {
  "kernelspec": {
   "display_name": "Python 3",
   "language": "python",
   "name": "python3"
  },
  "language_info": {
   "codemirror_mode": {
    "name": "ipython",
    "version": 3
   },
   "file_extension": ".py",
   "mimetype": "text/x-python",
   "name": "python",
   "nbconvert_exporter": "python",
   "pygments_lexer": "ipython3",
   "version": "3.7.0"
  }
 },
 "nbformat": 4,
 "nbformat_minor": 2
}
