{
 "cells": [
  {
   "cell_type": "code",
   "execution_count": 1,
   "metadata": {},
   "outputs": [],
   "source": [
    "import matplotlib.pyplot as plt\n",
    "import numpy as np\n",
    "\n",
    "from datasets.mnist import MNIST\n",
    "\n",
    "from models.cae_model import CAE\n",
    "from models.conv_model import CNN\n",
    "\n",
    "from train import train_ae, train_cnn\n",
    "\n",
    "from models.cem_ibm_model import AEADEN \n",
    "\n",
    "import os\n",
    "import time"
   ]
  },
  {
   "cell_type": "code",
   "execution_count": 2,
   "metadata": {},
   "outputs": [],
   "source": [
    "dataset = MNIST(batch_size=64)\n",
    "# dataset = FashionMNIST()"
   ]
  },
  {
   "cell_type": "markdown",
   "metadata": {},
   "source": [
    "# Training the classifier"
   ]
  },
  {
   "cell_type": "code",
   "execution_count": 3,
   "metadata": {},
   "outputs": [
    {
     "name": "stderr",
     "output_type": "stream",
     "text": [
      "D:\\Programmeren\\uva-fact-ai\\models\\conv_model.py:50: UserWarning: Implicit dimension choice for softmax has been deprecated. Change the call to include dim=X as an argument.\n",
      "  out = nn.functional.softmax(out)\n"
     ]
    },
    {
     "name": "stdout",
     "output_type": "stream",
     "text": [
      "loss after step 0:2.3022170066833496 accuracy: 0.125\n",
      "loss after step 100:2.302828788757324 accuracy: 0.09375\n",
      "loss after step 200:2.3030812740325928 accuracy: 0.109375\n",
      "loss after step 300:2.303525686264038 accuracy: 0.03125\n",
      "loss after step 400:2.3024940490722656 accuracy: 0.078125\n",
      "loss after step 500:2.3018853664398193 accuracy: 0.09375\n",
      "loss after step 600:2.301913261413574 accuracy: 0.109375\n",
      "loss after step 700:2.3032169342041016 accuracy: 0.015625\n",
      "loss after step 800:2.3021368980407715 accuracy: 0.15625\n",
      "loss after step 900:2.302349805831909 accuracy: 0.078125\n",
      "done with iteration: 0/25\n",
      "loss after step 0:2.301616668701172 accuracy: 0.140625\n",
      "loss after step 100:2.302093029022217 accuracy: 0.078125\n",
      "loss after step 200:2.3017687797546387 accuracy: 0.109375\n",
      "loss after step 300:2.302215337753296 accuracy: 0.078125\n",
      "loss after step 400:2.3019769191741943 accuracy: 0.203125\n",
      "loss after step 500:2.3017895221710205 accuracy: 0.265625\n",
      "loss after step 600:2.3023319244384766 accuracy: 0.1875\n",
      "loss after step 700:2.302459239959717 accuracy: 0.15625\n",
      "loss after step 800:2.3017578125 accuracy: 0.203125\n",
      "loss after step 900:2.3019630908966064 accuracy: 0.234375\n",
      "done with iteration: 1/25\n",
      "loss after step 0:2.301358699798584 accuracy: 0.203125\n",
      "loss after step 100:2.302184581756592 accuracy: 0.1875\n",
      "loss after step 200:2.302368402481079 accuracy: 0.15625\n",
      "loss after step 300:2.3017215728759766 accuracy: 0.234375\n",
      "loss after step 400:2.302712917327881 accuracy: 0.125\n",
      "loss after step 500:2.302630662918091 accuracy: 0.171875\n",
      "loss after step 600:2.302675485610962 accuracy: 0.109375\n",
      "loss after step 700:2.3014838695526123 accuracy: 0.21875\n",
      "loss after step 800:2.300457000732422 accuracy: 0.265625\n",
      "loss after step 900:2.3017802238464355 accuracy: 0.140625\n",
      "done with iteration: 2/25\n",
      "loss after step 0:2.3014814853668213 accuracy: 0.1875\n",
      "loss after step 100:2.300713062286377 accuracy: 0.21875\n",
      "loss after step 200:2.300985097885132 accuracy: 0.28125\n",
      "loss after step 300:2.300966501235962 accuracy: 0.203125\n",
      "loss after step 400:2.2993626594543457 accuracy: 0.28125\n",
      "loss after step 500:2.299487352371216 accuracy: 0.25\n",
      "loss after step 600:2.2989838123321533 accuracy: 0.25\n",
      "loss after step 700:2.299715995788574 accuracy: 0.234375\n",
      "loss after step 800:2.2986137866973877 accuracy: 0.296875\n",
      "loss after step 900:2.297079086303711 accuracy: 0.4375\n",
      "done with iteration: 3/25\n",
      "loss after step 0:2.29731822013855 accuracy: 0.328125\n",
      "loss after step 100:2.296370506286621 accuracy: 0.375\n",
      "loss after step 200:2.292687177658081 accuracy: 0.453125\n",
      "loss after step 300:2.2797300815582275 accuracy: 0.40625\n",
      "loss after step 400:2.188779354095459 accuracy: 0.375\n",
      "loss after step 500:1.9146901369094849 accuracy: 0.609375\n",
      "loss after step 600:1.7114211320877075 accuracy: 0.765625\n",
      "loss after step 700:1.6821457147598267 accuracy: 0.765625\n",
      "loss after step 800:1.6679258346557617 accuracy: 0.78125\n",
      "loss after step 900:1.6854475736618042 accuracy: 0.765625\n",
      "done with iteration: 4/25\n",
      "loss after step 0:1.677469253540039 accuracy: 0.78125\n",
      "loss after step 100:1.6201788187026978 accuracy: 0.84375\n",
      "loss after step 200:1.6265171766281128 accuracy: 0.828125\n",
      "loss after step 300:1.6389005184173584 accuracy: 0.8125\n",
      "loss after step 400:1.7502555847167969 accuracy: 0.6875\n",
      "loss after step 500:1.5924452543258667 accuracy: 0.875\n",
      "loss after step 600:1.6236685514450073 accuracy: 0.828125\n",
      "loss after step 700:1.5991675853729248 accuracy: 0.875\n",
      "loss after step 800:1.6895772218704224 accuracy: 0.765625\n",
      "loss after step 900:1.5804744958877563 accuracy: 0.875\n",
      "done with iteration: 5/25\n",
      "loss after step 0:1.6451356410980225 accuracy: 0.8125\n",
      "loss after step 100:1.648017168045044 accuracy: 0.828125\n",
      "loss after step 200:1.6734248399734497 accuracy: 0.8125\n",
      "loss after step 300:1.6200027465820312 accuracy: 0.84375\n",
      "loss after step 400:1.5846596956253052 accuracy: 0.875\n",
      "loss after step 500:1.639655590057373 accuracy: 0.828125\n",
      "loss after step 600:1.5124238729476929 accuracy: 0.953125\n",
      "loss after step 700:1.5010470151901245 accuracy: 0.953125\n",
      "loss after step 800:1.5256457328796387 accuracy: 0.9375\n",
      "loss after step 900:1.5359429121017456 accuracy: 0.9375\n",
      "done with iteration: 6/25\n",
      "loss after step 0:1.5881330966949463 accuracy: 0.875\n",
      "loss after step 100:1.5292623043060303 accuracy: 0.9375\n",
      "loss after step 200:1.528449535369873 accuracy: 0.921875\n",
      "loss after step 300:1.5256708860397339 accuracy: 0.9375\n",
      "loss after step 400:1.5410447120666504 accuracy: 0.921875\n",
      "loss after step 500:1.5367333889007568 accuracy: 0.921875\n",
      "loss after step 600:1.5979377031326294 accuracy: 0.859375\n",
      "loss after step 700:1.561469316482544 accuracy: 0.90625\n",
      "loss after step 800:1.5304757356643677 accuracy: 0.9375\n",
      "loss after step 900:1.5552611351013184 accuracy: 0.90625\n",
      "done with iteration: 7/25\n",
      "loss after step 0:1.5006977319717407 accuracy: 0.96875\n",
      "loss after step 100:1.5651836395263672 accuracy: 0.890625\n",
      "loss after step 200:1.494836688041687 accuracy: 0.96875\n",
      "loss after step 300:1.496443510055542 accuracy: 0.96875\n",
      "loss after step 400:1.537515640258789 accuracy: 0.921875\n",
      "loss after step 500:1.4984238147735596 accuracy: 0.96875\n",
      "loss after step 600:1.4825718402862549 accuracy: 0.984375\n",
      "loss after step 700:1.5255732536315918 accuracy: 0.9375\n",
      "loss after step 800:1.5099698305130005 accuracy: 0.953125\n",
      "loss after step 900:1.553905963897705 accuracy: 0.90625\n",
      "done with iteration: 8/25\n",
      "loss after step 0:1.5564155578613281 accuracy: 0.90625\n",
      "loss after step 100:1.5153189897537231 accuracy: 0.953125\n",
      "loss after step 200:1.4981322288513184 accuracy: 0.96875\n",
      "loss after step 300:1.5062386989593506 accuracy: 0.953125\n",
      "loss after step 400:1.5191044807434082 accuracy: 0.9375\n",
      "loss after step 500:1.526529312133789 accuracy: 0.9375\n",
      "loss after step 600:1.5562940835952759 accuracy: 0.90625\n",
      "loss after step 700:1.540077567100525 accuracy: 0.921875\n",
      "loss after step 800:1.4939616918563843 accuracy: 0.96875\n",
      "loss after step 900:1.50352942943573 accuracy: 0.953125\n",
      "done with iteration: 9/25\n",
      "loss after step 0:1.5320007801055908 accuracy: 0.921875\n",
      "loss after step 100:1.569534420967102 accuracy: 0.890625\n",
      "loss after step 200:1.5171884298324585 accuracy: 0.953125\n",
      "loss after step 300:1.5439921617507935 accuracy: 0.90625\n",
      "loss after step 400:1.5228395462036133 accuracy: 0.9375\n",
      "loss after step 500:1.5311970710754395 accuracy: 0.9375\n",
      "loss after step 600:1.5193994045257568 accuracy: 0.9375\n",
      "loss after step 700:1.531710147857666 accuracy: 0.9375\n",
      "loss after step 800:1.5563075542449951 accuracy: 0.890625\n",
      "loss after step 900:1.5101885795593262 accuracy: 0.953125\n",
      "done with iteration: 10/25\n",
      "loss after step 0:1.5104891061782837 accuracy: 0.953125\n",
      "loss after step 100:1.550818681716919 accuracy: 0.921875\n",
      "loss after step 200:1.5010820627212524 accuracy: 0.953125\n",
      "loss after step 300:1.4750697612762451 accuracy: 0.984375\n",
      "loss after step 400:1.4865247011184692 accuracy: 0.96875\n",
      "loss after step 500:1.483364462852478 accuracy: 0.984375\n",
      "loss after step 600:1.526755452156067 accuracy: 0.953125\n",
      "loss after step 700:1.534351110458374 accuracy: 0.9375\n",
      "loss after step 800:1.4888733625411987 accuracy: 0.96875\n",
      "loss after step 900:1.4971338510513306 accuracy: 0.96875\n",
      "done with iteration: 11/25\n",
      "loss after step 0:1.5329910516738892 accuracy: 0.921875\n",
      "loss after step 100:1.5019875764846802 accuracy: 0.953125\n",
      "loss after step 200:1.5181024074554443 accuracy: 0.9375\n",
      "loss after step 300:1.528340220451355 accuracy: 0.9375\n",
      "loss after step 400:1.5263874530792236 accuracy: 0.9375\n",
      "loss after step 500:1.5236682891845703 accuracy: 0.921875\n",
      "loss after step 600:1.4854438304901123 accuracy: 0.984375\n",
      "loss after step 700:1.5168534517288208 accuracy: 0.953125\n",
      "loss after step 800:1.4689698219299316 accuracy: 1.0\n",
      "loss after step 900:1.5120103359222412 accuracy: 0.953125\n",
      "done with iteration: 12/25\n",
      "loss after step 0:1.4648120403289795 accuracy: 1.0\n",
      "loss after step 100:1.542550802230835 accuracy: 0.90625\n",
      "loss after step 200:1.4918057918548584 accuracy: 0.96875\n",
      "loss after step 300:1.5179868936538696 accuracy: 0.9375\n",
      "loss after step 400:1.5144413709640503 accuracy: 0.9375\n",
      "loss after step 500:1.505886197090149 accuracy: 0.953125\n",
      "loss after step 600:1.501560926437378 accuracy: 0.953125\n",
      "loss after step 700:1.478975534439087 accuracy: 0.96875\n",
      "loss after step 800:1.4968687295913696 accuracy: 0.96875\n",
      "loss after step 900:1.5217158794403076 accuracy: 0.9375\n"
     ]
    },
    {
     "name": "stdout",
     "output_type": "stream",
     "text": [
      "done with iteration: 13/25\n",
      "loss after step 0:1.541780710220337 accuracy: 0.90625\n",
      "loss after step 100:1.4713952541351318 accuracy: 1.0\n",
      "loss after step 200:1.4832686185836792 accuracy: 0.96875\n",
      "loss after step 300:1.5127252340316772 accuracy: 0.953125\n",
      "loss after step 400:1.5123679637908936 accuracy: 0.953125\n",
      "loss after step 500:1.4834167957305908 accuracy: 0.984375\n",
      "loss after step 600:1.4932405948638916 accuracy: 0.96875\n",
      "loss after step 700:1.5203105211257935 accuracy: 0.9375\n",
      "loss after step 800:1.5255910158157349 accuracy: 0.9375\n",
      "loss after step 900:1.5037399530410767 accuracy: 0.953125\n",
      "done with iteration: 14/25\n",
      "loss after step 0:1.5014501810073853 accuracy: 0.953125\n",
      "loss after step 100:1.4955178499221802 accuracy: 0.96875\n",
      "loss after step 200:1.4919843673706055 accuracy: 0.96875\n",
      "loss after step 300:1.536779761314392 accuracy: 0.921875\n",
      "loss after step 400:1.5078556537628174 accuracy: 0.953125\n",
      "loss after step 500:1.5080397129058838 accuracy: 0.953125\n",
      "loss after step 600:1.4924887418746948 accuracy: 0.96875\n",
      "loss after step 700:1.4897737503051758 accuracy: 0.96875\n",
      "loss after step 800:1.4680273532867432 accuracy: 1.0\n",
      "loss after step 900:1.4824368953704834 accuracy: 0.984375\n",
      "done with iteration: 15/25\n",
      "loss after step 0:1.4788542985916138 accuracy: 0.984375\n",
      "loss after step 100:1.4855070114135742 accuracy: 0.96875\n",
      "loss after step 200:1.4615157842636108 accuracy: 1.0\n",
      "loss after step 300:1.4785116910934448 accuracy: 0.984375\n",
      "loss after step 400:1.5083134174346924 accuracy: 0.953125\n",
      "loss after step 500:1.4928008317947388 accuracy: 0.96875\n",
      "loss after step 600:1.5132176876068115 accuracy: 0.953125\n",
      "loss after step 700:1.4923956394195557 accuracy: 0.96875\n",
      "loss after step 800:1.499266266822815 accuracy: 0.953125\n",
      "loss after step 900:1.4899022579193115 accuracy: 0.96875\n",
      "done with iteration: 16/25\n",
      "loss after step 0:1.5046027898788452 accuracy: 0.953125\n",
      "loss after step 100:1.4954750537872314 accuracy: 0.96875\n",
      "loss after step 200:1.46380615234375 accuracy: 1.0\n",
      "loss after step 300:1.478092908859253 accuracy: 0.984375\n",
      "loss after step 400:1.511162281036377 accuracy: 0.953125\n",
      "loss after step 500:1.5473085641860962 accuracy: 0.90625\n",
      "loss after step 600:1.496641755104065 accuracy: 0.96875\n",
      "loss after step 700:1.5069310665130615 accuracy: 0.953125\n",
      "loss after step 800:1.5068291425704956 accuracy: 0.953125\n",
      "loss after step 900:1.494996428489685 accuracy: 0.96875\n",
      "done with iteration: 17/25\n",
      "loss after step 0:1.513475775718689 accuracy: 0.953125\n",
      "loss after step 100:1.52274489402771 accuracy: 0.9375\n",
      "loss after step 200:1.5115926265716553 accuracy: 0.953125\n",
      "loss after step 300:1.4993083477020264 accuracy: 0.96875\n",
      "loss after step 400:1.5017588138580322 accuracy: 0.953125\n",
      "loss after step 500:1.5003039836883545 accuracy: 0.96875\n",
      "loss after step 600:1.4769275188446045 accuracy: 0.984375\n",
      "loss after step 700:1.490861415863037 accuracy: 0.96875\n",
      "loss after step 800:1.5145915746688843 accuracy: 0.953125\n",
      "loss after step 900:1.4613252878189087 accuracy: 1.0\n",
      "done with iteration: 18/25\n",
      "loss after step 0:1.5019593238830566 accuracy: 0.953125\n",
      "loss after step 100:1.4767796993255615 accuracy: 0.984375\n",
      "loss after step 200:1.4771597385406494 accuracy: 0.984375\n",
      "loss after step 300:1.5568106174468994 accuracy: 0.90625\n",
      "loss after step 400:1.5365992784500122 accuracy: 0.921875\n",
      "loss after step 500:1.4766477346420288 accuracy: 0.984375\n",
      "loss after step 600:1.5308804512023926 accuracy: 0.921875\n",
      "loss after step 700:1.4624004364013672 accuracy: 1.0\n",
      "loss after step 800:1.592968225479126 accuracy: 0.875\n",
      "loss after step 900:1.5151551961898804 accuracy: 0.953125\n",
      "done with iteration: 19/25\n",
      "loss after step 0:1.4789283275604248 accuracy: 0.984375\n",
      "loss after step 100:1.4875761270523071 accuracy: 0.96875\n",
      "loss after step 200:1.4648562669754028 accuracy: 1.0\n",
      "loss after step 300:1.4662753343582153 accuracy: 1.0\n",
      "loss after step 400:1.4750628471374512 accuracy: 0.984375\n",
      "loss after step 500:1.4734865427017212 accuracy: 1.0\n",
      "loss after step 600:1.4924685955047607 accuracy: 0.96875\n",
      "loss after step 700:1.4729613065719604 accuracy: 1.0\n",
      "loss after step 800:1.5093148946762085 accuracy: 0.953125\n",
      "loss after step 900:1.4842822551727295 accuracy: 0.984375\n",
      "done with iteration: 20/25\n",
      "loss after step 0:1.477883219718933 accuracy: 0.984375\n",
      "loss after step 100:1.5228915214538574 accuracy: 0.9375\n",
      "loss after step 200:1.4780641794204712 accuracy: 0.984375\n",
      "loss after step 300:1.4818047285079956 accuracy: 0.984375\n",
      "loss after step 400:1.5383927822113037 accuracy: 0.921875\n",
      "loss after step 500:1.4921605587005615 accuracy: 0.96875\n",
      "loss after step 600:1.4768438339233398 accuracy: 0.984375\n",
      "loss after step 700:1.4764600992202759 accuracy: 0.984375\n",
      "loss after step 800:1.5015721321105957 accuracy: 0.953125\n",
      "loss after step 900:1.4834340810775757 accuracy: 0.984375\n",
      "done with iteration: 21/25\n",
      "loss after step 0:1.5080111026763916 accuracy: 0.953125\n",
      "loss after step 100:1.4975358247756958 accuracy: 0.96875\n",
      "loss after step 200:1.5073996782302856 accuracy: 0.953125\n",
      "loss after step 300:1.502621054649353 accuracy: 0.953125\n",
      "loss after step 400:1.4664466381072998 accuracy: 1.0\n",
      "loss after step 500:1.476792812347412 accuracy: 0.984375\n",
      "loss after step 600:1.5103788375854492 accuracy: 0.953125\n",
      "loss after step 700:1.477673053741455 accuracy: 0.984375\n",
      "loss after step 800:1.4924144744873047 accuracy: 0.96875\n",
      "loss after step 900:1.462550401687622 accuracy: 1.0\n",
      "done with iteration: 22/25\n",
      "loss after step 0:1.5081385374069214 accuracy: 0.953125\n",
      "loss after step 100:1.483893871307373 accuracy: 0.96875\n",
      "loss after step 200:1.481474757194519 accuracy: 0.984375\n",
      "loss after step 300:1.4765678644180298 accuracy: 0.984375\n",
      "loss after step 400:1.4885488748550415 accuracy: 0.96875\n",
      "loss after step 500:1.4771863222122192 accuracy: 0.984375\n",
      "loss after step 600:1.4806811809539795 accuracy: 0.984375\n",
      "loss after step 700:1.4985337257385254 accuracy: 0.96875\n",
      "loss after step 800:1.4939876794815063 accuracy: 0.96875\n",
      "loss after step 900:1.4989309310913086 accuracy: 0.96875\n",
      "done with iteration: 23/25\n",
      "loss after step 0:1.4630502462387085 accuracy: 1.0\n",
      "loss after step 100:1.4740760326385498 accuracy: 0.984375\n",
      "loss after step 200:1.478119134902954 accuracy: 0.984375\n",
      "loss after step 300:1.4820586442947388 accuracy: 0.984375\n",
      "loss after step 400:1.5093437433242798 accuracy: 0.953125\n",
      "loss after step 500:1.5069350004196167 accuracy: 0.953125\n",
      "loss after step 600:1.5032095909118652 accuracy: 0.96875\n",
      "loss after step 700:1.4773441553115845 accuracy: 0.984375\n",
      "loss after step 800:1.4948750734329224 accuracy: 0.96875\n",
      "loss after step 900:1.5171411037445068 accuracy: 0.9375\n",
      "done with iteration: 24/25\n",
      "Done training.\n"
     ]
    }
   ],
   "source": [
    "cnn = CNN(device='cuda:0')\n",
    "\n",
    "train_cnn(cnn, dataset, iterations=25, lr=0.01, device='cuda:0', save_fn='mnist-cnn-m', load_path=\"\")#\"models/saved_models/mnist-cnn-m.h5\")"
   ]
  },
  {
   "cell_type": "code",
   "execution_count": 4,
   "metadata": {},
   "outputs": [],
   "source": [
    "images, _ = dataset.get_batch()\n",
    "cnn.cpu()\n",
    "output = cnn(images)\n",
    "\n",
    "images = images.numpy()\n",
    "output = output.detach().numpy()\n"
   ]
  },
  {
   "cell_type": "markdown",
   "metadata": {},
   "source": [
    "# Training the autoencoder"
   ]
  },
  {
   "cell_type": "markdown",
   "metadata": {},
   "source": [
    "This section trains the autoencoder which will be used as regularizer for the data space which the perturbations are found in."
   ]
  },
  {
   "cell_type": "code",
   "execution_count": 5,
   "metadata": {},
   "outputs": [
    {
     "name": "stdout",
     "output_type": "stream",
     "text": [
      "loss after epoch 0:0.003592866938561201\n",
      "loss after epoch 1:0.0025469784159213305\n",
      "loss after epoch 2:0.0019472016720101237\n",
      "loss after epoch 3:0.0021112742833793163\n",
      "loss after epoch 4:0.002084490843117237\n",
      "loss after epoch 5:0.0015514128608629107\n",
      "loss after epoch 6:0.0019547543488442898\n",
      "loss after epoch 7:0.001455993391573429\n",
      "loss after epoch 8:0.0015807426534593105\n",
      "loss after epoch 9:0.0015778376255184412\n",
      "loss after epoch 10:0.0014438290381804109\n",
      "loss after epoch 11:0.0017360105412080884\n",
      "loss after epoch 12:0.0014669690281152725\n",
      "loss after epoch 13:0.0012213758891448379\n",
      "loss after epoch 14:0.0012671292060986161\n",
      "loss after epoch 15:0.00140152289532125\n",
      "loss after epoch 16:0.0014618884306401014\n",
      "loss after epoch 17:0.0012866591569036245\n",
      "loss after epoch 18:0.0012531594838947058\n",
      "loss after epoch 19:0.0014301910996437073\n",
      "loss after epoch 20:0.0013531059958040714\n",
      "loss after epoch 21:0.0013855083379894495\n",
      "loss after epoch 22:0.001296713948249817\n",
      "loss after epoch 23:0.0012495736591517925\n",
      "loss after epoch 24:0.0012640904169529676\n",
      "Done training.\n"
     ]
    }
   ],
   "source": [
    "# Train or load autoencoder\n",
    "cae = CAE(device='cuda:0')\n",
    "\n",
    "train_ae(cae, dataset, iterations=25, device='cuda:0', save_fn=\"mnist-cae-m\", load_path=\"\")"
   ]
  },
  {
   "cell_type": "code",
   "execution_count": 30,
   "metadata": {},
   "outputs": [
    {
     "data": {
      "image/png": "[encoded data removed]",
      "text/plain": [
       "<Figure size 1800x288 with 8 Axes>"
      ]
     },
     "metadata": {
      "needs_background": "light"
     },
     "output_type": "display_data"
    }
   ],
   "source": [
    "# obtain one batch of test images\n",
    "images, _ = dataset.get_batch()\n",
    "\n",
    "#images_flatten = images.view(images.size(0), -1)\n",
    "# get sample outputs\n",
    "cae.float()\n",
    "output = cae(images.cpu()+0.5)\n",
    "# prep images for display\n",
    "images = images.cpu().numpy()\n",
    "\n",
    "# output is resized into a batch of images\n",
    "# output = output.view(batch_size, 1, 28, 28)\n",
    "# use detach when it's an output that requires_grad\n",
    "output = output.cpu().detach().numpy()\n",
    "\n",
    "# plot the first ten input images and then reconstructed images\n",
    "fig, axes = plt.subplots(nrows=2, ncols=4, sharex=True, sharey=True, figsize=(25,4))\n",
    "\n",
    "# input images on top row, reconstructions on bottom\n",
    "for images, row in zip([images, output], axes):\n",
    "    for img, ax in zip(images, row):\n",
    "        ax.imshow(np.squeeze(img))#, cmap='gray')\n",
    "        ax.get_xaxis().set_visible(False)\n",
    "        ax.get_yaxis().set_visible(False)"
   ]
  },
  {
   "cell_type": "markdown",
   "metadata": {},
   "source": [
    "# Contrastive Explanation Method"
   ]
  },
  {
   "cell_type": "code",
   "execution_count": 31,
   "metadata": {},
   "outputs": [],
   "source": [
    "kappa = 10\n",
    "gamma = 10\n",
    "beta = 0\n",
    "lr = 0.1\n",
    "cae.cpu()\n",
    "cnn.cpu()\n",
    "\n",
    "CEM = AEADEN(model=cnn, AE=cae, max_iterations=300, evaluate_every=50, n_searches=10, mode=\"PP\", init_learning_rate=lr, c_init=0.1, kappa=kappa, gamma=gamma, beta=beta)"
   ]
  },
  {
   "cell_type": "code",
   "execution_count": 32,
   "metadata": {},
   "outputs": [
    {
     "data": {
      "text/plain": [
       "<matplotlib.image.AxesImage at 0x22f3482f588>"
      ]
     },
     "execution_count": 32,
     "metadata": {},
     "output_type": "execute_result"
    },
    {
     "data": {
      "image/png": "[encoded data removed]",
      "text/plain": [
       "<Figure size 432x288 with 1 Axes>"
      ]
     },
     "metadata": {
      "needs_background": "light"
     },
     "output_type": "display_data"
    }
   ],
   "source": [
    "# obtain one sample\n",
    "image, _ = dataset.get_sample()\n",
    "\n",
    "plt.imshow(image.squeeze())\n"
   ]
  },
  {
   "cell_type": "code",
   "execution_count": 33,
   "metadata": {
    "scrolled": true
   },
   "outputs": [
    {
     "name": "stdout",
     "output_type": "stream",
     "text": [
      "search:0 iteration:50 lr:0.09 c value:0.10 loss: 1.23 delta sum:-338.39 optimum:True y grad:-125.143\n",
      "search:0 iteration:100 lr:0.08 c value:0.10 loss: 0.00 delta sum:-341.23 optimum:True y grad:-143.056\n",
      "search:0 iteration:150 lr:0.07 c value:0.10 loss: 0.00 delta sum:-345.78 optimum:True y grad:-337.276\n",
      "search:0 iteration:200 lr:0.06 c value:0.10 loss: 0.16 delta sum:-324.21 optimum:True y grad:-242.427\n",
      "search:0 iteration:250 lr:0.04 c value:0.10 loss: 1.08 delta sum:-280.63 optimum:True y grad:-71.166\n",
      "search:0 iteration:300 lr:0.01 c value:0.10 loss: 1.14 delta sum:-280.03 optimum:True y grad:-81.371\n",
      "hallo\n",
      "search:1 iteration:50 lr:0.09 c value:0.10 loss: 0.13 delta sum:-340.69 optimum:True y grad:-229.961\n",
      "search:1 iteration:100 lr:0.08 c value:0.10 loss: 0.30 delta sum:-343.17 optimum:True y grad:-230.288\n",
      "search:1 iteration:150 lr:0.07 c value:0.10 loss: 0.07 delta sum:-343.96 optimum:True y grad:-162.286\n",
      "search:1 iteration:200 lr:0.06 c value:0.10 loss: 0.00 delta sum:-328.15 optimum:True y grad:-181.872\n",
      "search:1 iteration:250 lr:0.04 c value:0.10 loss: 0.47 delta sum:-288.87 optimum:True y grad:-123.640\n",
      "search:1 iteration:300 lr:0.01 c value:0.10 loss: 1.09 delta sum:-277.59 optimum:True y grad:-79.295\n",
      "hallo\n",
      "search:2 iteration:50 lr:0.09 c value:0.10 loss: 0.00 delta sum:-340.95 optimum:True y grad:-401.340\n",
      "search:2 iteration:100 lr:0.08 c value:0.10 loss: 2.13 delta sum:-342.33 optimum:True y grad:-210.904\n",
      "search:2 iteration:150 lr:0.07 c value:0.10 loss: 1.24 delta sum:-346.54 optimum:True y grad:-330.673\n",
      "search:2 iteration:200 lr:0.06 c value:0.10 loss: 1.53 delta sum:-325.24 optimum:True y grad:-191.623\n",
      "search:2 iteration:250 lr:0.04 c value:0.10 loss: 0.50 delta sum:-284.74 optimum:True y grad:-79.792\n",
      "search:2 iteration:300 lr:0.01 c value:0.10 loss: 0.79 delta sum:-281.30 optimum:True y grad:-72.973\n",
      "hallo\n",
      "search:3 iteration:50 lr:0.09 c value:0.10 loss: 0.03 delta sum:-343.43 optimum:True y grad:-231.492\n",
      "search:3 iteration:100 lr:0.08 c value:0.10 loss: 0.54 delta sum:-344.35 optimum:True y grad:-275.480\n",
      "search:3 iteration:150 lr:0.07 c value:0.10 loss: 1.15 delta sum:-349.60 optimum:True y grad:-437.587\n",
      "search:3 iteration:200 lr:0.06 c value:0.10 loss: 0.50 delta sum:-329.74 optimum:True y grad:-262.357\n",
      "search:3 iteration:250 lr:0.04 c value:0.10 loss: 0.87 delta sum:-284.49 optimum:True y grad:-61.787\n",
      "search:3 iteration:300 lr:0.01 c value:0.10 loss: 0.67 delta sum:-281.33 optimum:True y grad:-70.736\n",
      "hallo\n",
      "search:4 iteration:50 lr:0.09 c value:0.10 loss: 0.23 delta sum:-337.60 optimum:True y grad:-333.942\n",
      "search:4 iteration:100 lr:0.08 c value:0.10 loss: 0.00 delta sum:-340.24 optimum:True y grad:-296.781\n",
      "search:4 iteration:150 lr:0.07 c value:0.10 loss: 0.00 delta sum:-344.20 optimum:True y grad:-261.090\n",
      "search:4 iteration:200 lr:0.06 c value:0.10 loss: 1.14 delta sum:-330.45 optimum:True y grad:-254.911\n",
      "search:4 iteration:250 lr:0.04 c value:0.10 loss: 0.54 delta sum:-294.08 optimum:True y grad:-114.745\n",
      "search:4 iteration:300 lr:0.01 c value:0.10 loss: 0.81 delta sum:-282.29 optimum:True y grad:-72.225\n",
      "hallo\n",
      "search:5 iteration:50 lr:0.09 c value:0.10 loss: 0.68 delta sum:-342.29 optimum:True y grad:-375.957\n",
      "search:5 iteration:100 lr:0.08 c value:0.10 loss: 0.00 delta sum:-346.79 optimum:True y grad:-393.206\n",
      "search:5 iteration:150 lr:0.07 c value:0.10 loss: 0.52 delta sum:-344.31 optimum:True y grad:-253.316\n",
      "search:5 iteration:200 lr:0.06 c value:0.10 loss: 0.80 delta sum:-337.96 optimum:True y grad:-375.068\n",
      "search:5 iteration:250 lr:0.04 c value:0.10 loss: 1.13 delta sum:-286.54 optimum:True y grad:-100.156\n",
      "search:5 iteration:300 lr:0.01 c value:0.10 loss: 0.97 delta sum:-283.18 optimum:True y grad:-67.949\n",
      "hallo\n",
      "search:6 iteration:50 lr:0.09 c value:0.10 loss: 1.81 delta sum:-345.33 optimum:True y grad:-344.601\n",
      "search:6 iteration:100 lr:0.08 c value:0.10 loss: 0.45 delta sum:-347.15 optimum:True y grad:-502.532\n",
      "search:6 iteration:150 lr:0.07 c value:0.10 loss: 0.45 delta sum:-350.92 optimum:True y grad:-577.259\n",
      "search:6 iteration:200 lr:0.06 c value:0.10 loss: 1.72 delta sum:-325.60 optimum:True y grad:-318.770\n",
      "search:6 iteration:250 lr:0.04 c value:0.10 loss: 0.90 delta sum:-286.96 optimum:True y grad:-83.168\n",
      "search:6 iteration:300 lr:0.01 c value:0.10 loss: 1.09 delta sum:-281.22 optimum:True y grad:-75.107\n",
      "hallo\n",
      "search:7 iteration:50 lr:0.09 c value:0.10 loss: 0.77 delta sum:-341.90 optimum:True y grad:-97.448\n",
      "search:7 iteration:100 lr:0.08 c value:0.10 loss: 1.66 delta sum:-343.00 optimum:True y grad:-187.555\n",
      "search:7 iteration:150 lr:0.07 c value:0.10 loss: 1.88 delta sum:-345.94 optimum:True y grad:-346.467\n",
      "search:7 iteration:200 lr:0.06 c value:0.10 loss: 1.53 delta sum:-335.08 optimum:True y grad:-229.891\n",
      "search:7 iteration:250 lr:0.04 c value:0.10 loss: 2.16 delta sum:-286.49 optimum:True y grad:-152.518\n",
      "search:7 iteration:300 lr:0.01 c value:0.10 loss: 1.10 delta sum:-278.27 optimum:True y grad:-75.612\n",
      "hallo\n",
      "search:8 iteration:50 lr:0.09 c value:0.10 loss: 0.92 delta sum:-341.51 optimum:True y grad:-237.328\n",
      "search:8 iteration:100 lr:0.08 c value:0.10 loss: 2.79 delta sum:-340.33 optimum:True y grad:-351.633\n",
      "search:8 iteration:150 lr:0.07 c value:0.10 loss: 0.72 delta sum:-347.12 optimum:True y grad:-348.297\n",
      "search:8 iteration:200 lr:0.06 c value:0.10 loss: 0.00 delta sum:-327.22 optimum:True y grad:-420.583\n",
      "search:8 iteration:250 lr:0.04 c value:0.10 loss: 0.79 delta sum:-284.86 optimum:True y grad:-105.775\n",
      "search:8 iteration:300 lr:0.01 c value:0.10 loss: 0.91 delta sum:-280.00 optimum:True y grad:-70.716\n",
      "hallo\n",
      "search:9 iteration:50 lr:0.09 c value:0.10 loss: 2.21 delta sum:-341.63 optimum:True y grad:-484.095\n",
      "search:9 iteration:100 lr:0.08 c value:0.10 loss: 0.22 delta sum:-344.03 optimum:True y grad:-389.526\n",
      "search:9 iteration:150 lr:0.07 c value:0.10 loss: 0.77 delta sum:-345.30 optimum:True y grad:-471.211\n",
      "search:9 iteration:200 lr:0.06 c value:0.10 loss: 0.00 delta sum:-328.60 optimum:True y grad:-197.440\n",
      "search:9 iteration:250 lr:0.04 c value:0.10 loss: 1.12 delta sum:-284.84 optimum:True y grad:-82.729\n",
      "search:9 iteration:300 lr:0.01 c value:0.10 loss: 1.03 delta sum:-280.53 optimum:True y grad:-72.115\n",
      "hallo\n"
     ]
    }
   ],
   "source": [
    "# find pertinent negatives\n",
    "cnn.float()\n",
    "CEM.compute_CEM(image)"
   ]
  },
  {
   "cell_type": "code",
   "execution_count": 18,
   "metadata": {
    "scrolled": true
   },
   "outputs": [
    {
     "data": {
      "text/plain": [
       "<matplotlib.image.AxesImage at 0x22f20b39b38>"
      ]
     },
     "execution_count": 18,
     "metadata": {},
     "output_type": "execute_result"
    },
    {
     "data": {
      "image/png": "[encoded data removed]",
      "text/plain": [
       "<Figure size 432x288 with 1 Axes>"
      ]
     },
     "metadata": {
      "needs_background": "light"
     },
     "output_type": "display_data"
    }
   ],
   "source": [
    "# perturbation\n",
    "plt.imshow(image.squeeze()- CEM.delta_tracker[-1].view(28,28), cmap=\"gray\")"
   ]
  },
  {
   "cell_type": "code",
   "execution_count": 20,
   "metadata": {},
   "outputs": [
    {
     "data": {
      "text/plain": [
       "<matplotlib.image.AxesImage at 0x22f20e2dda0>"
      ]
     },
     "execution_count": 20,
     "metadata": {},
     "output_type": "execute_result"
    },
    {
     "data": {
      "image/png": "[encoded data removed]",
      "text/plain": [
       "<Figure size 432x288 with 1 Axes>"
      ]
     },
     "metadata": {
      "needs_background": "light"
     },
     "output_type": "display_data"
    }
   ],
   "source": [
    "# original image with perturbation\n",
    "plt.imshow(CEM.delta_tracker[-4].view(28,28))"
   ]
  },
  {
   "cell_type": "code",
   "execution_count": 21,
   "metadata": {},
   "outputs": [
    {
     "data": {
      "text/plain": [
       "<matplotlib.image.AxesImage at 0x22f267d8f60>"
      ]
     },
     "execution_count": 21,
     "metadata": {},
     "output_type": "execute_result"
    },
    {
     "data": {
      "image/png": "[encoded data removed]",
      "text/plain": [
       "<Figure size 432x288 with 1 Axes>"
      ]
     },
     "metadata": {
      "needs_background": "light"
     },
     "output_type": "display_data"
    }
   ],
   "source": [
    "plt.imshow(image.view(28,28)-CEM.delta_tracker[-4].view(28,28))"
   ]
  },
  {
   "cell_type": "code",
   "execution_count": 23,
   "metadata": {},
   "outputs": [
    {
     "data": {
      "text/plain": [
       "5"
      ]
     },
     "execution_count": 23,
     "metadata": {},
     "output_type": "execute_result"
    }
   ],
   "source": [
    "# classification before\n",
    "cnn.float()\n",
    "before = np.argmax(cnn(image.squeeze(-1)).detach()).item()\n",
    "before"
   ]
  },
  {
   "cell_type": "code",
   "execution_count": 25,
   "metadata": {},
   "outputs": [
    {
     "data": {
      "text/plain": [
       "2"
      ]
     },
     "execution_count": 25,
     "metadata": {},
     "output_type": "execute_result"
    }
   ],
   "source": [
    "cnn.double()\n",
    "# classification after\n",
    "after = np.argmax(cnn(CEM.delta_tracker[-4].view(1,28,28)).detach()).item()\n",
    "after"
   ]
  },
  {
   "cell_type": "code",
   "execution_count": 15,
   "metadata": {},
   "outputs": [
    {
     "data": {
      "text/plain": [
       "7"
      ]
     },
     "execution_count": 15,
     "metadata": {},
     "output_type": "execute_result"
    }
   ],
   "source": [
    "# classification after\n",
    "cnn.double()\n",
    "# classification of delta\n",
    "class_delta = np.argmax(cnn(image.squeeze(-1) - CEM.best_delta.view(1,28,28)).detach()).item()\n",
    "class_delta"
   ]
  },
  {
   "cell_type": "code",
   "execution_count": 16,
   "metadata": {},
   "outputs": [],
   "source": [
    "dirname = \"saved_perturbations/kappa-{}-gamma-{}-beta-{}-lr-{}\".format(kappa, gamma, beta, lr)\n",
    "os.makedirs(dirname, exist_ok=True)\n",
    "fname_orig = dirname + \"/{}-cb-{}-ca-{}-orig.png\".format(int(time.time()), before, after)\n",
    "fname_pert = dirname + \"/{}-before-{}-after-{}-pert.png\".format(int(time.time()), before, after)\n",
    "fname_combined = dirname + \"/{}-before-{}-after-{}-pn.png\".format(int(time.time()), before, after)\n",
    "fname_combined_pp = dirname + \"/{}-before-{}-after-{}-pp.png\".format(int(time.time()), before, after)\n",
    "plt.imsave(fname_orig, image.squeeze(), cmap=\"gray\")\n",
    "plt.imsave(fname_pert, CEM.best_delta.view(28,28) - image.squeeze(), cmap=\"gray\")\n",
    "plt.imsave(fname_combined, CEM.best_delta.view(28,28), cmap=\"gray\")\n",
    "plt.imsave(fname_combined_pp, image.squeeze() - CEM.best_delta.view(28,28))"
   ]
  },
  {
   "cell_type": "code",
   "execution_count": 17,
   "metadata": {},
   "outputs": [
    {
     "ename": "AttributeError",
     "evalue": "'AEADEN' object has no attribute 'best_loss'",
     "output_type": "error",
     "traceback": [
      "\u001b[1;31m---------------------------------------------------------------------------\u001b[0m",
      "\u001b[1;31mAttributeError\u001b[0m                            Traceback (most recent call last)",
      "\u001b[1;32m<ipython-input-17-150317fd0181>\u001b[0m in \u001b[0;36m<module>\u001b[1;34m\u001b[0m\n\u001b[1;32m----> 1\u001b[1;33m \u001b[0mprint\u001b[0m\u001b[1;33m(\u001b[0m\u001b[0mCEM\u001b[0m\u001b[1;33m.\u001b[0m\u001b[0mbest_loss\u001b[0m\u001b[1;33m)\u001b[0m\u001b[1;33m\u001b[0m\u001b[1;33m\u001b[0m\u001b[0m\n\u001b[0m",
      "\u001b[1;31mAttributeError\u001b[0m: 'AEADEN' object has no attribute 'best_loss'"
     ]
    }
   ],
   "source": [
    "print(CEM.best_loss)"
   ]
  },
  {
   "cell_type": "code",
   "execution_count": null,
   "metadata": {},
   "outputs": [],
   "source": [
    "print(CEM.best_pert_loss)"
   ]
  },
  {
   "cell_type": "code",
   "execution_count": null,
   "metadata": {},
   "outputs": [],
   "source": [
    "print(CEM.best_c)"
   ]
  },
  {
   "cell_type": "code",
   "execution_count": null,
   "metadata": {},
   "outputs": [],
   "source": []
  }
 ],
 "metadata": {
  "kernelspec": {
   "display_name": "Python 3",
   "language": "python",
   "name": "python3"
  },
  "language_info": {
   "codemirror_mode": {
    "name": "ipython",
    "version": 3
   },
   "file_extension": ".py",
   "mimetype": "text/x-python",
   "name": "python",
   "nbconvert_exporter": "python",
   "pygments_lexer": "ipython3",
   "version": "3.6.9"
  }
 },
 "nbformat": 4,
 "nbformat_minor": 2
}
