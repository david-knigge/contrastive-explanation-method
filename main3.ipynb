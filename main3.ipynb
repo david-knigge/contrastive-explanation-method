{
 "cells": [
  {
   "cell_type": "code",
   "execution_count": 1,
   "metadata": {},
   "outputs": [],
   "source": [
    "%matplotlib inline\n",
    "import matplotlib.pyplot as plt\n",
    "import numpy as np\n",
    "\n",
    "import time\n",
    "import os\n",
    "\n",
    "from datasets.mnist import MNIST\n",
    "\n",
    "from models.cae_model import CAE\n",
    "from models.conv_model import CNN\n",
    "\n",
    "from train import train_ae, train_cnn\n",
    "\n",
    "from cem3 import ContrastiveExplanationMethod"
   ]
  },
  {
   "cell_type": "code",
   "execution_count": 2,
   "metadata": {},
   "outputs": [],
   "source": [
    "dataset = MNIST(batch_size=64)\n",
    "# dataset = FashionMNIST()"
   ]
  },
  {
   "cell_type": "markdown",
   "metadata": {},
   "source": [
    "# Training the classifier"
   ]
  },
  {
   "cell_type": "code",
   "execution_count": 3,
   "metadata": {},
   "outputs": [],
   "source": [
    "cnn = CNN(device=\"cpu\")\n",
    "\n",
    "train_cnn(cnn, dataset, iterations=20, lr=0.01, save_fn='mnist-cnn', device=\"cpu\", load_path=\"models/saved_models/mnist-cnn.h5\")"
   ]
  },
  {
   "cell_type": "code",
   "execution_count": 4,
   "metadata": {},
   "outputs": [
    {
     "name": "stderr",
     "output_type": "stream",
     "text": [
      "D:\\david\\Coding\\uva-fact-ai\\models\\conv_model.py:50: UserWarning: Implicit dimension choice for softmax has been deprecated. Change the call to include dim=X as an argument.\n",
      "  out = nn.functional.softmax(out)\n"
     ]
    }
   ],
   "source": [
    "images, _ = dataset.get_batch()\n",
    "\n",
    "output = cnn(images)\n",
    "\n",
    "images = images.numpy()\n",
    "output = output.detach().numpy()\n"
   ]
  },
  {
   "cell_type": "code",
   "execution_count": 5,
   "metadata": {},
   "outputs": [],
   "source": [
    "# # evaluate the cnn by uncommenting this cell\n",
    "\n",
    "# total_acc = 0\n",
    "# total_batches = 0\n",
    "# for step, (batch_inputs, batch_targets) in enumerate(dataset.test_loader):\n",
    "    \n",
    "#     predictions = cnn(batch_inputs)\n",
    "#     acc = (predictions.argmax(1).cpu().numpy() == batch_targets.cpu().numpy()).sum()/(predictions.shape[0] )\n",
    "#     total_batches += 1\n",
    "#     total_acc += acc\n",
    "    \n",
    "# print(\"acc: {}\".format(total_acc / total_batches))"
   ]
  },
  {
   "cell_type": "markdown",
   "metadata": {},
   "source": [
    "# Training the autoencoder"
   ]
  },
  {
   "cell_type": "markdown",
   "metadata": {},
   "source": [
    "This section trains the autoencoder which will be used as regularizer for the data space which the perturbations are found in."
   ]
  },
  {
   "cell_type": "code",
   "execution_count": 6,
   "metadata": {},
   "outputs": [],
   "source": [
    "# Train or load autoencoder\n",
    "cae = CAE(device=\"cpu\")\n",
    "\n",
    "train_ae(cae, dataset, iterations=10, save_fn=\"mnist-cae\", device=\"cpu\", load_path=\"models/saved_models/mnist-cae-no-rs.h5\")"
   ]
  },
  {
   "cell_type": "code",
   "execution_count": 18,
   "metadata": {},
   "outputs": [
    {
     "data": {
      "image/png": "[encoded data removed]",
      "text/plain": [
       "<Figure size 1800x288 with 8 Axes>"
      ]
     },
     "metadata": {
      "needs_background": "light"
     },
     "output_type": "display_data"
    }
   ],
   "source": [
    "# obtain one batch of test images\n",
    "images, _ = dataset.get_batch()\n",
    "\n",
    "images += 0.5\n",
    "\n",
    "#images_flatten = images.view(images.size(0), -1)\n",
    "# get sample outputs\n",
    "output = cae(images)\n",
    "# prep images for display\n",
    "images = images.numpy()\n",
    "\n",
    "# output is resized into a batch of images\n",
    "# output = output.view(batch_size, 1, 28, 28)\n",
    "# use detach when it's an output that requires_grad\n",
    "output = output.detach().numpy()\n",
    "\n",
    "# plot the first ten input images and then reconstructed images\n",
    "fig, axes = plt.subplots(nrows=2, ncols=4, sharex=True, sharey=True, figsize=(25,4))\n",
    "\n",
    "# input images on top row, reconstructions on bottom\n",
    "for images, row in zip([images, output], axes):\n",
    "    for img, ax in zip(images, row):\n",
    "        ax.imshow(np.squeeze(img))\n",
    "        ax.get_xaxis().set_visible(False)\n",
    "        ax.get_yaxis().set_visible(False)"
   ]
  },
  {
   "cell_type": "code",
   "execution_count": 20,
   "metadata": {},
   "outputs": [
    {
     "ename": "AttributeError",
     "evalue": "'numpy.ndarray' object has no attribute 'detach'",
     "output_type": "error",
     "traceback": [
      "\u001b[1;31m---------------------------------------------------------------------------\u001b[0m",
      "\u001b[1;31mAttributeError\u001b[0m                            Traceback (most recent call last)",
      "\u001b[1;32m<ipython-input-20-c1c5fd570cdc>\u001b[0m in \u001b[0;36m<module>\u001b[1;34m\u001b[0m\n\u001b[1;32m----> 1\u001b[1;33m \u001b[0mprint\u001b[0m\u001b[1;33m(\u001b[0m\u001b[0mnp\u001b[0m\u001b[1;33m.\u001b[0m\u001b[0msum\u001b[0m\u001b[1;33m(\u001b[0m\u001b[1;33m(\u001b[0m\u001b[0mimages\u001b[0m \u001b[1;33m-\u001b[0m \u001b[0moutput\u001b[0m\u001b[1;33m)\u001b[0m\u001b[1;33m.\u001b[0m\u001b[0mdetach\u001b[0m\u001b[1;33m(\u001b[0m\u001b[1;33m)\u001b[0m\u001b[1;33m)\u001b[0m\u001b[1;33m)\u001b[0m\u001b[1;33m\u001b[0m\u001b[0m\n\u001b[0m",
      "\u001b[1;31mAttributeError\u001b[0m: 'numpy.ndarray' object has no attribute 'detach'"
     ]
    }
   ],
   "source": []
  },
  {
   "cell_type": "markdown",
   "metadata": {},
   "source": [
    "# Contrastive Explanation Method"
   ]
  },
  {
   "cell_type": "code",
   "execution_count": 39,
   "metadata": {},
   "outputs": [],
   "source": [
    "kappa = 10\n",
    "gamma = 1.0\n",
    "beta = 0.1\n",
    "lr = 0.1\n",
    "CEM = ContrastiveExplanationMethod(cnn, cae, iterations=1000, n_searches=9, kappa=kappa, gamma=gamma, beta=beta, learning_rate=lr)"
   ]
  },
  {
   "cell_type": "code",
   "execution_count": 40,
   "metadata": {},
   "outputs": [
    {
     "data": {
      "image/png": "[encoded data removed]",
      "text/plain": [
       "<Figure size 432x288 with 1 Axes>"
      ]
     },
     "metadata": {
      "needs_background": "light"
     },
     "output_type": "display_data"
    },
    {
     "name": "stdout",
     "output_type": "stream",
     "text": [
      "classified as: 3\n"
     ]
    }
   ],
   "source": [
    "# obtain one sample\n",
    "image = dataset.get_sample_by_class(class_label=3, show_image=False)\n",
    "#image, _ = dataset.get_sample(show_image=False)\n",
    "\n",
    "plt.imshow(image.squeeze())\n",
    "plt.show()\n",
    "print(\"classified as: {}\".format(np.argmax(cnn(image.view(-1,1,28,28)).detach())))"
   ]
  },
  {
   "cell_type": "code",
   "execution_count": null,
   "metadata": {},
   "outputs": [
    {
     "name": "stdout",
     "output_type": "stream",
     "text": [
      "new best: 178.803955078125\n",
      "new best: 67.60099029541016\n",
      "new best: 63.46223449707031\n",
      "new best: 61.5415153503418\n",
      "search: 0 iteration: 20 c: 10 loss: 85.74 found optimum: True\n",
      "new best: 60.85737228393555\n",
      "search: 0 iteration: 40 c: 10 loss: 234.69 found optimum: True\n",
      "search: 0 iteration: 60 c: 10 loss: 73.40 found optimum: True\n",
      "search: 0 iteration: 80 c: 10 loss: 77.20 found optimum: True\n",
      "search: 0 iteration: 100 c: 10 loss: 97.04 found optimum: True\n",
      "search: 0 iteration: 120 c: 10 loss: 197.11 found optimum: True\n",
      "search: 0 iteration: 140 c: 10 loss: 362.47 found optimum: True\n",
      "search: 0 iteration: 160 c: 10 loss: 110.40 found optimum: True\n",
      "search: 0 iteration: 180 c: 10 loss: 92.63 found optimum: True\n",
      "search: 0 iteration: 200 c: 10 loss: 92.17 found optimum: True\n",
      "search: 0 iteration: 220 c: 10 loss: 104.96 found optimum: True\n",
      "search: 0 iteration: 240 c: 10 loss: 87.69 found optimum: True\n",
      "new best: 56.591190338134766\n",
      "search: 0 iteration: 260 c: 10 loss: 82.40 found optimum: True\n",
      "search: 0 iteration: 280 c: 10 loss: 88.58 found optimum: True\n",
      "search: 0 iteration: 300 c: 10 loss: 80.86 found optimum: True\n",
      "search: 0 iteration: 320 c: 10 loss: 114.76 found optimum: True\n",
      "search: 0 iteration: 340 c: 10 loss: 94.62 found optimum: True\n",
      "search: 0 iteration: 360 c: 10 loss: 149.32 found optimum: True\n",
      "search: 0 iteration: 380 c: 10 loss: 69.73 found optimum: True\n",
      "search: 0 iteration: 400 c: 10 loss: 93.97 found optimum: True\n",
      "search: 0 iteration: 420 c: 10 loss: 83.36 found optimum: True\n",
      "search: 0 iteration: 440 c: 10 loss: 99.66 found optimum: True\n",
      "search: 0 iteration: 460 c: 10 loss: 151.95 found optimum: True\n",
      "search: 0 iteration: 480 c: 10 loss: 80.36 found optimum: True\n",
      "search: 0 iteration: 500 c: 10 loss: 133.74 found optimum: True\n",
      "search: 0 iteration: 520 c: 10 loss: 108.47 found optimum: True\n",
      "search: 0 iteration: 540 c: 10 loss: 61.03 found optimum: True\n",
      "search: 0 iteration: 560 c: 10 loss: 67.44 found optimum: True\n",
      "search: 0 iteration: 580 c: 10 loss: 86.42 found optimum: True\n",
      "search: 0 iteration: 600 c: 10 loss: 66.47 found optimum: True\n",
      "search: 0 iteration: 620 c: 10 loss: 200.06 found optimum: True\n",
      "search: 0 iteration: 640 c: 10 loss: 83.45 found optimum: True\n",
      "search: 0 iteration: 660 c: 10 loss: 75.65 found optimum: True\n",
      "search: 0 iteration: 680 c: 10 loss: 76.19 found optimum: True\n",
      "search: 0 iteration: 700 c: 10 loss: 80.86 found optimum: True\n",
      "search: 0 iteration: 720 c: 10 loss: 69.90 found optimum: True\n",
      "search: 0 iteration: 740 c: 10 loss: 139.99 found optimum: True\n",
      "search: 0 iteration: 760 c: 10 loss: 66.47 found optimum: True\n",
      "search: 0 iteration: 780 c: 10 loss: 138.28 found optimum: True\n",
      "search: 0 iteration: 800 c: 10 loss: 132.85 found optimum: True\n",
      "search: 0 iteration: 820 c: 10 loss: 130.42 found optimum: True\n",
      "search: 0 iteration: 840 c: 10 loss: 140.93 found optimum: True\n",
      "search: 0 iteration: 860 c: 10 loss: 129.94 found optimum: True\n",
      "search: 0 iteration: 880 c: 10 loss: 149.60 found optimum: True\n",
      "search: 0 iteration: 900 c: 10 loss: 134.58 found optimum: True\n",
      "search: 0 iteration: 920 c: 10 loss: 137.54 found optimum: True\n",
      "search: 0 iteration: 940 c: 10 loss: 139.17 found optimum: True\n",
      "search: 0 iteration: 960 c: 10 loss: 139.73 found optimum: True\n",
      "search: 0 iteration: 980 c: 10 loss: 142.27 found optimum: True\n",
      "search: 0 iteration: 1000 c: 10 loss: 143.90 found optimum: True\n",
      "new best: 54.308433532714844\n",
      "search: 1 iteration: 20 c: 5.05 loss: 78.04 found optimum: True\n",
      "search: 1 iteration: 40 c: 5.05 loss: 72.71 found optimum: True\n",
      "search: 1 iteration: 60 c: 5.05 loss: 76.97 found optimum: True\n",
      "search: 1 iteration: 80 c: 5.05 loss: 77.10 found optimum: True\n",
      "search: 1 iteration: 100 c: 5.05 loss: 80.90 found optimum: True\n",
      "search: 1 iteration: 120 c: 5.05 loss: 94.80 found optimum: True\n",
      "search: 1 iteration: 140 c: 5.05 loss: 74.48 found optimum: True\n",
      "search: 1 iteration: 160 c: 5.05 loss: 78.61 found optimum: True\n",
      "search: 1 iteration: 180 c: 5.05 loss: 102.80 found optimum: True\n",
      "search: 1 iteration: 200 c: 5.05 loss: 89.18 found optimum: True\n",
      "search: 1 iteration: 220 c: 5.05 loss: 90.56 found optimum: True\n",
      "search: 1 iteration: 240 c: 5.05 loss: 91.57 found optimum: True\n",
      "search: 1 iteration: 260 c: 5.05 loss: 101.71 found optimum: True\n",
      "search: 1 iteration: 280 c: 5.05 loss: 92.18 found optimum: True\n",
      "search: 1 iteration: 300 c: 5.05 loss: 94.50 found optimum: True\n",
      "search: 1 iteration: 320 c: 5.05 loss: 90.34 found optimum: True\n",
      "search: 1 iteration: 340 c: 5.05 loss: 90.66 found optimum: True\n",
      "search: 1 iteration: 360 c: 5.05 loss: 93.13 found optimum: True\n",
      "search: 1 iteration: 380 c: 5.05 loss: 99.15 found optimum: True\n",
      "search: 1 iteration: 400 c: 5.05 loss: 93.41 found optimum: True\n",
      "search: 1 iteration: 420 c: 5.05 loss: 90.71 found optimum: True\n",
      "search: 1 iteration: 440 c: 5.05 loss: 93.21 found optimum: True\n",
      "search: 1 iteration: 460 c: 5.05 loss: 91.08 found optimum: True\n",
      "search: 1 iteration: 480 c: 5.05 loss: 90.20 found optimum: True\n",
      "search: 1 iteration: 500 c: 5.05 loss: 88.83 found optimum: True\n",
      "search: 1 iteration: 520 c: 5.05 loss: 91.07 found optimum: True\n",
      "search: 1 iteration: 540 c: 5.05 loss: 88.17 found optimum: True\n",
      "search: 1 iteration: 560 c: 5.05 loss: 91.33 found optimum: True\n",
      "search: 1 iteration: 580 c: 5.05 loss: 90.81 found optimum: True\n",
      "search: 1 iteration: 600 c: 5.05 loss: 91.72 found optimum: True\n",
      "search: 1 iteration: 620 c: 5.05 loss: 93.09 found optimum: True\n",
      "search: 1 iteration: 640 c: 5.05 loss: 90.89 found optimum: True\n",
      "search: 1 iteration: 660 c: 5.05 loss: 91.10 found optimum: True\n",
      "search: 1 iteration: 680 c: 5.05 loss: 91.38 found optimum: True\n",
      "search: 1 iteration: 700 c: 5.05 loss: 91.85 found optimum: True\n",
      "search: 1 iteration: 720 c: 5.05 loss: 91.57 found optimum: True\n",
      "search: 1 iteration: 740 c: 5.05 loss: 92.07 found optimum: True\n",
      "search: 1 iteration: 760 c: 5.05 loss: 91.63 found optimum: True\n",
      "search: 1 iteration: 780 c: 5.05 loss: 92.35 found optimum: True\n",
      "search: 1 iteration: 800 c: 5.05 loss: 92.41 found optimum: True\n",
      "search: 1 iteration: 820 c: 5.05 loss: 92.10 found optimum: True\n",
      "search: 1 iteration: 840 c: 5.05 loss: 91.75 found optimum: True\n",
      "search: 1 iteration: 860 c: 5.05 loss: 92.43 found optimum: True\n",
      "search: 1 iteration: 880 c: 5.05 loss: 92.39 found optimum: True\n",
      "search: 1 iteration: 900 c: 5.05 loss: 92.64 found optimum: True\n",
      "search: 1 iteration: 920 c: 5.05 loss: 93.64 found optimum: True\n",
      "search: 1 iteration: 940 c: 5.05 loss: 93.64 found optimum: True\n",
      "search: 1 iteration: 960 c: 5.05 loss: 93.64 found optimum: True\n",
      "search: 1 iteration: 980 c: 5.05 loss: 93.64 found optimum: True\n",
      "search: 1 iteration: 1000 c: 5.05 loss: 93.64 found optimum: True\n",
      "new best: 53.150394439697266\n",
      "search: 2 iteration: 20 c: 2.5749999999999997 loss: 60.87 found optimum: True\n",
      "search: 2 iteration: 40 c: 2.5749999999999997 loss: 64.88 found optimum: True\n",
      "search: 2 iteration: 60 c: 2.5749999999999997 loss: 64.69 found optimum: True\n",
      "search: 2 iteration: 80 c: 2.5749999999999997 loss: 64.71 found optimum: True\n",
      "search: 2 iteration: 100 c: 2.5749999999999997 loss: 64.88 found optimum: True\n",
      "search: 2 iteration: 120 c: 2.5749999999999997 loss: 64.71 found optimum: True\n",
      "search: 2 iteration: 140 c: 2.5749999999999997 loss: 64.69 found optimum: True\n",
      "search: 2 iteration: 160 c: 2.5749999999999997 loss: 65.07 found optimum: True\n",
      "search: 2 iteration: 180 c: 2.5749999999999997 loss: 65.07 found optimum: True\n",
      "search: 2 iteration: 200 c: 2.5749999999999997 loss: 64.79 found optimum: True\n",
      "search: 2 iteration: 220 c: 2.5749999999999997 loss: 64.73 found optimum: True\n",
      "search: 2 iteration: 240 c: 2.5749999999999997 loss: 64.85 found optimum: True\n",
      "search: 2 iteration: 260 c: 2.5749999999999997 loss: 64.86 found optimum: True\n",
      "search: 2 iteration: 280 c: 2.5749999999999997 loss: 64.95 found optimum: True\n",
      "search: 2 iteration: 300 c: 2.5749999999999997 loss: 65.01 found optimum: True\n",
      "search: 2 iteration: 320 c: 2.5749999999999997 loss: 64.98 found optimum: True\n",
      "search: 2 iteration: 340 c: 2.5749999999999997 loss: 64.98 found optimum: True\n",
      "search: 2 iteration: 360 c: 2.5749999999999997 loss: 65.04 found optimum: True\n",
      "search: 2 iteration: 380 c: 2.5749999999999997 loss: 65.01 found optimum: True\n"
     ]
    },
    {
     "name": "stdout",
     "output_type": "stream",
     "text": [
      "search: 2 iteration: 400 c: 2.5749999999999997 loss: 65.05 found optimum: True\n",
      "search: 2 iteration: 420 c: 2.5749999999999997 loss: 65.05 found optimum: True\n",
      "search: 2 iteration: 440 c: 2.5749999999999997 loss: 65.07 found optimum: True\n",
      "search: 2 iteration: 460 c: 2.5749999999999997 loss: 65.08 found optimum: True\n",
      "search: 2 iteration: 480 c: 2.5749999999999997 loss: 65.06 found optimum: True\n",
      "search: 2 iteration: 500 c: 2.5749999999999997 loss: 65.07 found optimum: True\n",
      "search: 2 iteration: 520 c: 2.5749999999999997 loss: 65.08 found optimum: True\n",
      "search: 2 iteration: 540 c: 2.5749999999999997 loss: 65.22 found optimum: True\n",
      "search: 2 iteration: 560 c: 2.5749999999999997 loss: 65.19 found optimum: True\n",
      "search: 2 iteration: 580 c: 2.5749999999999997 loss: 65.24 found optimum: True\n",
      "search: 2 iteration: 600 c: 2.5749999999999997 loss: 65.27 found optimum: True\n",
      "search: 2 iteration: 620 c: 2.5749999999999997 loss: 65.62 found optimum: True\n",
      "search: 2 iteration: 640 c: 2.5749999999999997 loss: 65.95 found optimum: True\n",
      "search: 2 iteration: 660 c: 2.5749999999999997 loss: 66.01 found optimum: True\n",
      "search: 2 iteration: 680 c: 2.5749999999999997 loss: 66.06 found optimum: True\n",
      "search: 2 iteration: 700 c: 2.5749999999999997 loss: 66.19 found optimum: True\n",
      "search: 2 iteration: 720 c: 2.5749999999999997 loss: 66.54 found optimum: True\n",
      "search: 2 iteration: 740 c: 2.5749999999999997 loss: 66.55 found optimum: True\n",
      "search: 2 iteration: 760 c: 2.5749999999999997 loss: 67.43 found optimum: True\n",
      "search: 2 iteration: 780 c: 2.5749999999999997 loss: 67.81 found optimum: True\n",
      "search: 2 iteration: 800 c: 2.5749999999999997 loss: 67.88 found optimum: True\n",
      "search: 2 iteration: 820 c: 2.5749999999999997 loss: 67.95 found optimum: True\n",
      "search: 2 iteration: 840 c: 2.5749999999999997 loss: 68.13 found optimum: True\n",
      "search: 2 iteration: 860 c: 2.5749999999999997 loss: 68.19 found optimum: True\n",
      "search: 2 iteration: 880 c: 2.5749999999999997 loss: 68.26 found optimum: True\n",
      "search: 2 iteration: 900 c: 2.5749999999999997 loss: 68.19 found optimum: True\n",
      "search: 2 iteration: 920 c: 2.5749999999999997 loss: 68.51 found optimum: True\n",
      "search: 2 iteration: 940 c: 2.5749999999999997 loss: 68.51 found optimum: True\n",
      "search: 2 iteration: 960 c: 2.5749999999999997 loss: 68.51 found optimum: True\n",
      "search: 2 iteration: 980 c: 2.5749999999999997 loss: 68.51 found optimum: True\n",
      "search: 2 iteration: 1000 c: 2.5749999999999997 loss: 68.51 found optimum: True\n",
      "new best: 49.94095230102539\n",
      "search: 3 iteration: 20 c: 1.3375 loss: 55.35 found optimum: True\n",
      "search: 3 iteration: 40 c: 1.3375 loss: 55.35 found optimum: True\n",
      "search: 3 iteration: 60 c: 1.3375 loss: 55.38 found optimum: True\n",
      "search: 3 iteration: 80 c: 1.3375 loss: 55.37 found optimum: True\n",
      "search: 3 iteration: 100 c: 1.3375 loss: 55.37 found optimum: True\n",
      "search: 3 iteration: 120 c: 1.3375 loss: 55.41 found optimum: True\n",
      "search: 3 iteration: 140 c: 1.3375 loss: 55.55 found optimum: True\n",
      "search: 3 iteration: 160 c: 1.3375 loss: 55.55 found optimum: True\n",
      "search: 3 iteration: 180 c: 1.3375 loss: 55.54 found optimum: True\n",
      "search: 3 iteration: 200 c: 1.3375 loss: 55.56 found optimum: True\n",
      "search: 3 iteration: 220 c: 1.3375 loss: 55.62 found optimum: True\n",
      "search: 3 iteration: 240 c: 1.3375 loss: 55.61 found optimum: True\n",
      "search: 3 iteration: 260 c: 1.3375 loss: 55.84 found optimum: True\n",
      "search: 3 iteration: 280 c: 1.3375 loss: 55.83 found optimum: True\n",
      "search: 3 iteration: 300 c: 1.3375 loss: 55.84 found optimum: True\n",
      "search: 3 iteration: 320 c: 1.3375 loss: 55.83 found optimum: True\n",
      "search: 3 iteration: 340 c: 1.3375 loss: 55.86 found optimum: True\n",
      "search: 3 iteration: 360 c: 1.3375 loss: 55.87 found optimum: True\n",
      "search: 3 iteration: 380 c: 1.3375 loss: 55.89 found optimum: True\n",
      "search: 3 iteration: 400 c: 1.3375 loss: 55.88 found optimum: True\n",
      "search: 3 iteration: 420 c: 1.3375 loss: 55.89 found optimum: True\n",
      "search: 3 iteration: 440 c: 1.3375 loss: 55.89 found optimum: True\n",
      "search: 3 iteration: 460 c: 1.3375 loss: 55.98 found optimum: True\n",
      "search: 3 iteration: 480 c: 1.3375 loss: 55.95 found optimum: True\n",
      "search: 3 iteration: 500 c: 1.3375 loss: 55.95 found optimum: True\n",
      "search: 3 iteration: 520 c: 1.3375 loss: 55.95 found optimum: True\n",
      "search: 3 iteration: 540 c: 1.3375 loss: 55.95 found optimum: True\n",
      "search: 3 iteration: 560 c: 1.3375 loss: 55.95 found optimum: True\n",
      "search: 3 iteration: 580 c: 1.3375 loss: 55.95 found optimum: True\n",
      "search: 3 iteration: 600 c: 1.3375 loss: 55.95 found optimum: True\n",
      "search: 3 iteration: 620 c: 1.3375 loss: 55.95 found optimum: True\n",
      "search: 3 iteration: 640 c: 1.3375 loss: 55.95 found optimum: True\n",
      "search: 3 iteration: 660 c: 1.3375 loss: 55.95 found optimum: True\n",
      "search: 3 iteration: 680 c: 1.3375 loss: 55.95 found optimum: True\n",
      "search: 3 iteration: 700 c: 1.3375 loss: 55.95 found optimum: True\n",
      "search: 3 iteration: 720 c: 1.3375 loss: 55.95 found optimum: True\n",
      "search: 3 iteration: 740 c: 1.3375 loss: 55.95 found optimum: True\n",
      "search: 3 iteration: 760 c: 1.3375 loss: 55.95 found optimum: True\n",
      "search: 3 iteration: 780 c: 1.3375 loss: 55.95 found optimum: True\n",
      "search: 3 iteration: 800 c: 1.3375 loss: 55.95 found optimum: True\n",
      "search: 3 iteration: 820 c: 1.3375 loss: 55.95 found optimum: True\n",
      "search: 3 iteration: 840 c: 1.3375 loss: 55.95 found optimum: True\n",
      "search: 3 iteration: 860 c: 1.3375 loss: 55.95 found optimum: True\n",
      "search: 3 iteration: 880 c: 1.3375 loss: 55.95 found optimum: True\n",
      "search: 3 iteration: 900 c: 1.3375 loss: 55.95 found optimum: True\n",
      "search: 3 iteration: 920 c: 1.3375 loss: 55.95 found optimum: True\n",
      "search: 3 iteration: 940 c: 1.3375 loss: 55.95 found optimum: True\n",
      "search: 3 iteration: 960 c: 1.3375 loss: 55.95 found optimum: True\n",
      "search: 3 iteration: 980 c: 1.3375 loss: 55.95 found optimum: True\n",
      "search: 3 iteration: 1000 c: 1.3375 loss: 55.95 found optimum: True\n",
      "new best: 48.33623123168945\n",
      "search: 4 iteration: 20 c: 0.71875 loss: 49.66 found optimum: True\n",
      "search: 4 iteration: 40 c: 0.71875 loss: 49.66 found optimum: True\n",
      "search: 4 iteration: 60 c: 0.71875 loss: 49.66 found optimum: True\n",
      "search: 4 iteration: 80 c: 0.71875 loss: 49.66 found optimum: True\n",
      "search: 4 iteration: 100 c: 0.71875 loss: 49.66 found optimum: True\n",
      "search: 4 iteration: 120 c: 0.71875 loss: 49.66 found optimum: True\n",
      "search: 4 iteration: 140 c: 0.71875 loss: 49.66 found optimum: True\n",
      "search: 4 iteration: 160 c: 0.71875 loss: 49.66 found optimum: True\n",
      "search: 4 iteration: 180 c: 0.71875 loss: 49.66 found optimum: True\n",
      "search: 4 iteration: 200 c: 0.71875 loss: 49.66 found optimum: True\n",
      "search: 4 iteration: 220 c: 0.71875 loss: 49.66 found optimum: True\n",
      "search: 4 iteration: 240 c: 0.71875 loss: 49.66 found optimum: True\n",
      "search: 4 iteration: 260 c: 0.71875 loss: 49.66 found optimum: True\n",
      "search: 4 iteration: 280 c: 0.71875 loss: 49.66 found optimum: True\n",
      "search: 4 iteration: 300 c: 0.71875 loss: 49.66 found optimum: True\n",
      "search: 4 iteration: 320 c: 0.71875 loss: 49.66 found optimum: True\n"
     ]
    }
   ],
   "source": [
    "# find pertinent negatives\n",
    "mode = \"PP\"\n",
    "CEM.fista(image, mode=mode)"
   ]
  },
  {
   "cell_type": "code",
   "execution_count": 42,
   "metadata": {},
   "outputs": [
    {
     "data": {
      "text/plain": [
       "<matplotlib.image.AxesImage at 0x20b2919db00>"
      ]
     },
     "execution_count": 42,
     "metadata": {},
     "output_type": "execute_result"
    },
    {
     "data": {
      "image/png": "[encoded data removed]",
      "text/plain": [
       "<Figure size 432x288 with 1 Axes>"
      ]
     },
     "metadata": {
      "needs_background": "light"
     },
     "output_type": "display_data"
    }
   ],
   "source": [
    "plt.imshow(image.squeeze())"
   ]
  },
  {
   "cell_type": "code",
   "execution_count": 43,
   "metadata": {},
   "outputs": [
    {
     "data": {
      "image/png": "[encoded data removed]",
      "text/plain": [
       "<Figure size 432x288 with 1 Axes>"
      ]
     },
     "metadata": {
      "needs_background": "light"
     },
     "output_type": "display_data"
    },
    {
     "data": {
      "image/png": "[encoded data removed]",
      "text/plain": [
       "<Figure size 432x288 with 1 Axes>"
      ]
     },
     "metadata": {
      "needs_background": "light"
     },
     "output_type": "display_data"
    }
   ],
   "source": [
    "# perturbation\n",
    "plt.imshow(image.squeeze()- CEM.best_delta.view(28,28), cmap=\"gray\")\n",
    "plt.show()\n",
    "plt.imshow(CEM.best_delta.view(28,28) - image.squeeze(), cmap=\"gray\")\n",
    "plt.show()"
   ]
  },
  {
   "cell_type": "code",
   "execution_count": 44,
   "metadata": {},
   "outputs": [
    {
     "data": {
      "image/png": "[encoded data removed]",
      "text/plain": [
       "<Figure size 432x288 with 1 Axes>"
      ]
     },
     "metadata": {
      "needs_background": "light"
     },
     "output_type": "display_data"
    },
    {
     "data": {
      "image/png": "[encoded data removed]",
      "text/plain": [
       "<Figure size 432x288 with 1 Axes>"
      ]
     },
     "metadata": {
      "needs_background": "light"
     },
     "output_type": "display_data"
    }
   ],
   "source": [
    "# original image with perturbation\n",
    "plt.imshow(CEM.best_delta.view(28,28))\n",
    "plt.show()\n",
    "\n",
    "plt.imshow(image.view(28,28))\n",
    "plt.show()"
   ]
  },
  {
   "cell_type": "code",
   "execution_count": 45,
   "metadata": {},
   "outputs": [
    {
     "data": {
      "text/plain": [
       "3"
      ]
     },
     "execution_count": 45,
     "metadata": {},
     "output_type": "execute_result"
    }
   ],
   "source": [
    "# print original image\n",
    "plt.imshow(image.view(28,28), title=\"original image\", cmap=\"gray\")\n",
    "plt.show()\n",
    "\n",
    "# classification before\n",
    "before = np.argmax(cnn(image.squeeze(-1)).detach()).item()\n",
    "print(\"classification before perturbation: {}\".format(before))\n",
    "\n",
    "if mode == \"PP\":\n",
    "    plt.imshow(CEM.best_delta.view(28,28) - image.squeeze(), cmap=\"gray\")\n",
    "    plt.show()\n",
    "    after = np.argmax(cnn(image.squeeze(-1) - CEM.best_delta.view(1,28,28)).detach()).item()\n",
    "    print(\"classification of delta: {}\".format(after))\n",
    "else:\n",
    "    plt.imshow(CEM.best_delta.view(28,28),  cmap=\"gray\")\n",
    "    plt.show()\n",
    "    after = np.argmax(cnn(CEM.best_delta.view(1,28,28)).detach()).item()\n",
    "    print(\"classification after perturbation: {}\".format(after))"
   ]
  },
  {
   "cell_type": "code",
   "execution_count": 48,
   "metadata": {},
   "outputs": [],
   "source": [
    "# save the created images\n",
    "dirname = \"saved_perturbations/mode-{}-kappa-{}-gamma-{}-beta-{}-lr-{}\".format(mode, kappa, gamma, beta, lr)\n",
    "os.makedirs(dirname, exist_ok=True)\n",
    "fname_orig = dirname + \"/{}-cb-{}-ca-{}-orig.png\".format(int(time.time()), before, after)\n",
    "fname_pert = dirname + \"/{}-before-{}-after-{}-pert.png\".format(int(time.time()), before, after)\n",
    "fname_combined = dirname + \"/{}-before-{}-after-{}-pn.png\".format(int(time.time()), before, after)\n",
    "fname_combined_pp = dirname + \"/{}-before-{}-after-{}-pp.png\".format(int(time.time()), before, after)\n",
    "plt.imsave(fname_orig, image.squeeze(), cmap=\"gray\")\n",
    "plt.imsave(fname_pert, CEM.best_delta.view(28,28) - image.squeeze(), cmap=\"gray\")\n",
    "plt.imsave(fname_combined, CEM.best_delta.view(28,28), cmap=\"gray\")\n",
    "plt.imsave(fname_combined_pp, image.squeeze() - CEM.best_delta.view(28,28), cmap=\"gray\")"
   ]
  }
 ],
 "metadata": {
  "kernelspec": {
   "display_name": "Python 3",
   "language": "python",
   "name": "python3"
  },
  "language_info": {
   "codemirror_mode": {
    "name": "ipython",
    "version": 3
   },
   "file_extension": ".py",
   "mimetype": "text/x-python",
   "name": "python",
   "nbconvert_exporter": "python",
   "pygments_lexer": "ipython3",
   "version": "3.7.0"
  }
 },
 "nbformat": 4,
 "nbformat_minor": 2
}
