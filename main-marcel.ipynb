{
 "cells": [
  {
   "cell_type": "code",
   "execution_count": 1,
   "metadata": {},
   "outputs": [],
   "source": [
    "import matplotlib.pyplot as plt\n",
    "import numpy as np\n",
    "\n",
    "from datasets.mnist import MNIST\n",
    "\n",
    "from models.cae_model import CAE\n",
    "from models.conv_model import CNN\n",
    "\n",
    "from train import train_ae, train_cnn\n",
    "%load_ext autoreload\n",
    "\n",
    "%aimport models.cem_ibm_model\n",
    "\n",
    "\n",
    "import os\n",
    "import time"
   ]
  },
  {
   "cell_type": "code",
   "execution_count": 2,
   "metadata": {},
   "outputs": [],
   "source": [
    "dataset = MNIST(batch_size=64)\n",
    "# dataset = FashionMNIST()"
   ]
  },
  {
   "cell_type": "markdown",
   "metadata": {},
   "source": [
    "# Training the classifier"
   ]
  },
  {
   "cell_type": "code",
   "execution_count": 3,
   "metadata": {},
   "outputs": [],
   "source": [
    "cnn = CNN(device='cuda:0')\n",
    "\n",
    "train_cnn(cnn, dataset, iterations=25, lr=0.01, device='cuda:0', save_fn='mnist-cnn-m', load_path=\"models/saved_models/mnist-cnn-m.h5\")"
   ]
  },
  {
   "cell_type": "code",
   "execution_count": 4,
   "metadata": {},
   "outputs": [
    {
     "name": "stderr",
     "output_type": "stream",
     "text": [
      "D:\\Programmeren\\uva-fact-ai\\models\\conv_model.py:50: UserWarning: Implicit dimension choice for softmax has been deprecated. Change the call to include dim=X as an argument.\n",
      "  out = nn.functional.softmax(out)\n"
     ]
    }
   ],
   "source": [
    "images, _ = dataset.get_batch()\n",
    "cnn.cpu()\n",
    "output = cnn(images)\n",
    "\n",
    "images = images.numpy()\n",
    "output = output.detach().numpy()\n"
   ]
  },
  {
   "cell_type": "markdown",
   "metadata": {},
   "source": [
    "# Training the autoencoder"
   ]
  },
  {
   "cell_type": "markdown",
   "metadata": {},
   "source": [
    "This section trains the autoencoder which will be used as regularizer for the data space which the perturbations are found in."
   ]
  },
  {
   "cell_type": "code",
   "execution_count": 20,
   "metadata": {},
   "outputs": [],
   "source": [
    "# Train or load autoencoder\n",
    "cae = CAE(device='cuda:0')\n",
    "\n",
    "train_ae(cae, dataset, iterations=3, device='cuda:0', save_fn=\"mnist-cae-m\", load_path=\"models/saved_models/mnist-cae.h5\")"
   ]
  },
  {
   "cell_type": "code",
   "execution_count": 34,
   "metadata": {},
   "outputs": [
    {
     "data": {
      "image/png": "[encoded data removed]",
      "text/plain": [
       "<Figure size 1800x288 with 8 Axes>"
      ]
     },
     "metadata": {
      "needs_background": "light"
     },
     "output_type": "display_data"
    }
   ],
   "source": [
    "# obtain one batch of test images\n",
    "images, _ = dataset.get_batch()\n",
    "\n",
    "#images_flatten = images.view(images.size(0), -1)\n",
    "# get sample outputs\n",
    "cae.cpu()\n",
    "output = cae(images+.5)\n",
    "# prep images for display\n",
    "images = images.cpu().numpy()\n",
    "\n",
    "# output is resized into a batch of images\n",
    "# output = output.view(batch_size, 1, 28, 28)\n",
    "# use detach when it's an output that requires_grad\n",
    "output = output.cpu().detach().numpy()\n",
    "\n",
    "# plot the first ten input images and then reconstructed images\n",
    "fig, axes = plt.subplots(nrows=2, ncols=4, sharex=True, sharey=True, figsize=(25,4))\n",
    "\n",
    "# input images on top row, reconstructions on bottom\n",
    "for images, row in zip([images, output], axes):\n",
    "    for img, ax in zip(images, row):\n",
    "        ax.imshow(np.squeeze(img))#, cmap='gray')\n",
    "        ax.get_xaxis().set_visible(False)\n",
    "        ax.get_yaxis().set_visible(False)"
   ]
  },
  {
   "cell_type": "markdown",
   "metadata": {},
   "source": [
    "# Contrastive Explanation Method"
   ]
  },
  {
   "cell_type": "code",
   "execution_count": 69,
   "metadata": {},
   "outputs": [],
   "source": [
    "%autoreload\n",
    "kappa = 10\n",
    "gamma = 10\n",
    "beta = 0.5\n",
    "lr = 0.1\n",
    "cae.cpu()\n",
    "cnn.cpu()\n",
    "\n",
    "CEM = models.cem_ibm_model.AEADEN(model=cnn, AE=cae, max_iterations=300, evaluate_every=50, n_searches=4, mode=\"PN\", init_learning_rate=lr, c_init=0.1, kappa=kappa, gamma=gamma, beta=beta)"
   ]
  },
  {
   "cell_type": "code",
   "execution_count": 70,
   "metadata": {},
   "outputs": [
    {
     "data": {
      "text/plain": [
       "<matplotlib.image.AxesImage at 0x2294d734da0>"
      ]
     },
     "execution_count": 70,
     "metadata": {},
     "output_type": "execute_result"
    },
    {
     "data": {
      "image/png": "[encoded data removed]",
      "text/plain": [
       "<Figure size 432x288 with 1 Axes>"
      ]
     },
     "metadata": {
      "needs_background": "light"
     },
     "output_type": "display_data"
    }
   ],
   "source": [
    "# obtain one sample\n",
    "image, _ = dataset.get_sample()\n",
    "\n",
    "plt.imshow(image.squeeze())\n"
   ]
  },
  {
   "cell_type": "code",
   "execution_count": 71,
   "metadata": {
    "scrolled": true
   },
   "outputs": [
    {
     "name": "stdout",
     "output_type": "stream",
     "text": [
      "search:0 iteration:  50 lr:0.09 c value:1.00E-01 loss: 1.88E+00 delta sum:-2.69E+02 optimum:False y grad:-2.955E+00\n",
      "search:0 iteration: 100 lr:0.08 c value:1.00E-01 loss: 1.88E+00 delta sum:-2.69E+02 optimum:False y grad:-2.955E+00\n",
      "search:0 iteration: 150 lr:0.07 c value:1.00E-01 loss: 1.88E+00 delta sum:-2.69E+02 optimum:False y grad:-2.955E+00\n",
      "search:0 iteration: 200 lr:0.06 c value:1.00E-01 loss: 1.88E+00 delta sum:-2.69E+02 optimum:False y grad:-2.955E+00\n",
      "search:0 iteration: 250 lr:0.04 c value:1.00E-01 loss: 1.88E+00 delta sum:-2.69E+02 optimum:False y grad:-2.955E+00\n",
      "search:0 iteration: 300 lr:0.01 c value:1.00E-01 loss: 1.88E+00 delta sum:-2.69E+02 optimum:False y grad:-2.955E+00\n",
      "doei\n",
      "search:1 iteration:  50 lr:0.09 c value:1.00E+00 loss: 1.88E+01 delta sum:-2.69E+02 optimum:False y grad:6.119E+01\n",
      "search:1 iteration: 100 lr:0.08 c value:1.00E+00 loss: 1.88E+01 delta sum:-2.69E+02 optimum:False y grad:6.119E+01\n",
      "search:1 iteration: 150 lr:0.07 c value:1.00E+00 loss: 1.88E+01 delta sum:-2.69E+02 optimum:False y grad:6.119E+01\n",
      "search:1 iteration: 200 lr:0.06 c value:1.00E+00 loss: 1.88E+01 delta sum:-2.69E+02 optimum:False y grad:6.119E+01\n",
      "search:1 iteration: 250 lr:0.04 c value:1.00E+00 loss: 1.88E+01 delta sum:-2.69E+02 optimum:False y grad:6.119E+01\n",
      "search:1 iteration: 300 lr:0.01 c value:1.00E+00 loss: 1.88E+01 delta sum:-2.69E+02 optimum:False y grad:6.119E+01\n",
      "doei\n",
      "search:2 iteration:  50 lr:0.09 c value:1.00E+01 loss: 5.50E+01 delta sum:-2.51E+02 optimum:False y grad:7.776E+02\n",
      "search:2 iteration: 100 lr:0.08 c value:1.00E+01 loss: 4.90E+01 delta sum:-2.52E+02 optimum:False y grad:6.888E+02\n",
      "search:2 iteration: 150 lr:0.07 c value:1.00E+01 loss: 6.43E+01 delta sum:-2.54E+02 optimum:False y grad:7.292E+02\n",
      "search:2 iteration: 200 lr:0.06 c value:1.00E+01 loss: 1.12E+02 delta sum:-2.61E+02 optimum:False y grad:8.209E+02\n",
      "search:2 iteration: 250 lr:0.04 c value:1.00E+01 loss: 1.29E+02 delta sum:-2.62E+02 optimum:False y grad:8.411E+02\n",
      "search:2 iteration: 300 lr:0.01 c value:1.00E+01 loss: 1.88E+02 delta sum:-2.69E+02 optimum:False y grad:7.026E+02\n",
      "doei\n",
      "search:3 iteration:  50 lr:0.09 c value:1.00E+02 loss: 0.00E+00 delta sum:-2.25E+02 optimum:True y grad:1.591E+02\n",
      "search:3 iteration: 100 lr:0.08 c value:1.00E+02 loss: 1.60E+03 delta sum:-2.41E+02 optimum:True y grad:4.444E+03\n",
      "search:3 iteration: 150 lr:0.07 c value:1.00E+02 loss: 1.86E+03 delta sum:-2.62E+02 optimum:True y grad:7.123E+03\n",
      "search:3 iteration: 200 lr:0.06 c value:1.00E+02 loss: 1.86E+03 delta sum:-2.65E+02 optimum:True y grad:6.675E+03\n",
      "search:3 iteration: 250 lr:0.04 c value:1.00E+02 loss: 1.88E+03 delta sum:-2.67E+02 optimum:True y grad:7.117E+03\n",
      "search:3 iteration: 300 lr:0.01 c value:1.00E+02 loss: 7.92E+02 delta sum:-2.59E+02 optimum:True y grad:6.385E+03\n",
      "hallo\n"
     ]
    }
   ],
   "source": [
    "# find pertinent negatives\n",
    "cnn.float()\n",
    "CEM.compute_CEM(image)"
   ]
  },
  {
   "cell_type": "code",
   "execution_count": 78,
   "metadata": {
    "scrolled": true
   },
   "outputs": [
    {
     "data": {
      "text/plain": [
       "<matplotlib.image.AxesImage at 0x229026d85c0>"
      ]
     },
     "execution_count": 78,
     "metadata": {},
     "output_type": "execute_result"
    },
    {
     "data": {
      "image/png": "[encoded data removed]",
      "text/plain": [
       "<Figure size 432x288 with 1 Axes>"
      ]
     },
     "metadata": {
      "needs_background": "light"
     },
     "output_type": "display_data"
    }
   ],
   "source": [
    "# perturbation\n",
    "plt.imshow(image.squeeze()- CEM.delta_tracker[-1].view(28,28), cmap=\"gray\")"
   ]
  },
  {
   "cell_type": "code",
   "execution_count": 79,
   "metadata": {},
   "outputs": [
    {
     "data": {
      "text/plain": [
       "<matplotlib.image.AxesImage at 0x2294a962160>"
      ]
     },
     "execution_count": 79,
     "metadata": {},
     "output_type": "execute_result"
    },
    {
     "data": {
      "image/png": "[encoded data removed]",
      "text/plain": [
       "<Figure size 432x288 with 1 Axes>"
      ]
     },
     "metadata": {
      "needs_background": "light"
     },
     "output_type": "display_data"
    }
   ],
   "source": [
    "# original image with perturbation\n",
    "plt.imshow(CEM.delta_tracker[-1].view(28,28))"
   ]
  },
  {
   "cell_type": "code",
   "execution_count": 80,
   "metadata": {},
   "outputs": [
    {
     "data": {
      "text/plain": [
       "<matplotlib.image.AxesImage at 0x2295c26f320>"
      ]
     },
     "execution_count": 80,
     "metadata": {},
     "output_type": "execute_result"
    },
    {
     "data": {
      "image/png": "[encoded data removed]",
      "text/plain": [
       "<Figure size 432x288 with 1 Axes>"
      ]
     },
     "metadata": {
      "needs_background": "light"
     },
     "output_type": "display_data"
    }
   ],
   "source": [
    "plt.imshow(image.view(28,28)-CEM.delta_tracker[-1].view(28,28))"
   ]
  },
  {
   "cell_type": "code",
   "execution_count": 81,
   "metadata": {},
   "outputs": [
    {
     "data": {
      "text/plain": [
       "0"
      ]
     },
     "execution_count": 81,
     "metadata": {},
     "output_type": "execute_result"
    }
   ],
   "source": [
    "# classification before\n",
    "cnn.float()\n",
    "before = np.argmax(cnn(image.squeeze(-1)).detach()).item()\n",
    "before"
   ]
  },
  {
   "cell_type": "code",
   "execution_count": 82,
   "metadata": {},
   "outputs": [
    {
     "data": {
      "text/plain": [
       "2"
      ]
     },
     "execution_count": 82,
     "metadata": {},
     "output_type": "execute_result"
    }
   ],
   "source": [
    "cnn.double()\n",
    "# classification after\n",
    "after = np.argmax(cnn(CEM.delta_tracker[-1].view(1,28,28)).detach()).item()\n",
    "after"
   ]
  },
  {
   "cell_type": "code",
   "execution_count": 85,
   "metadata": {},
   "outputs": [
    {
     "data": {
      "text/plain": [
       "7"
      ]
     },
     "execution_count": 85,
     "metadata": {},
     "output_type": "execute_result"
    }
   ],
   "source": [
    "# classification after\n",
    "cnn.double()\n",
    "# classification of delta\n",
    "class_delta = np.argmax(cnn(image.squeeze(-1) - CEM.best_delta.view(1,28,28)).detach()).item()\n",
    "class_delta"
   ]
  },
  {
   "cell_type": "code",
   "execution_count": 46,
   "metadata": {},
   "outputs": [],
   "source": [
    "dirname = \"saved_perturbations/kappa-{}-gamma-{}-beta-{}-lr-{}\".format(kappa, gamma, beta, lr)\n",
    "os.makedirs(dirname, exist_ok=True)\n",
    "fname_orig = dirname + \"/{}-cb-{}-ca-{}-orig.png\".format(int(time.time()), before, after)\n",
    "fname_pert = dirname + \"/{}-before-{}-after-{}-pert.png\".format(int(time.time()), before, after)\n",
    "fname_combined = dirname + \"/{}-before-{}-after-{}-pn.png\".format(int(time.time()), before, after)\n",
    "fname_combined_pp = dirname + \"/{}-before-{}-after-{}-pp.png\".format(int(time.time()), before, after)\n",
    "plt.imsave(fname_orig, image.squeeze(), cmap=\"gray\")\n",
    "plt.imsave(fname_pert, CEM.best_delta.view(28,28) - image.squeeze(), cmap=\"gray\")\n",
    "plt.imsave(fname_combined, CEM.best_delta.view(28,28), cmap=\"gray\")\n",
    "plt.imsave(fname_combined_pp, image.squeeze() - CEM.best_delta.view(28,28))"
   ]
  },
  {
   "cell_type": "code",
   "execution_count": 47,
   "metadata": {},
   "outputs": [
    {
     "ename": "AttributeError",
     "evalue": "'AEADEN' object has no attribute 'best_loss'",
     "output_type": "error",
     "traceback": [
      "\u001b[1;31m---------------------------------------------------------------------------\u001b[0m",
      "\u001b[1;31mAttributeError\u001b[0m                            Traceback (most recent call last)",
      "\u001b[1;32m<ipython-input-47-150317fd0181>\u001b[0m in \u001b[0;36m<module>\u001b[1;34m\u001b[0m\n\u001b[1;32m----> 1\u001b[1;33m \u001b[0mprint\u001b[0m\u001b[1;33m(\u001b[0m\u001b[0mCEM\u001b[0m\u001b[1;33m.\u001b[0m\u001b[0mbest_loss\u001b[0m\u001b[1;33m)\u001b[0m\u001b[1;33m\u001b[0m\u001b[1;33m\u001b[0m\u001b[0m\n\u001b[0m",
      "\u001b[1;31mAttributeError\u001b[0m: 'AEADEN' object has no attribute 'best_loss'"
     ]
    }
   ],
   "source": [
    "print(CEM.best_loss)"
   ]
  },
  {
   "cell_type": "code",
   "execution_count": null,
   "metadata": {},
   "outputs": [],
   "source": [
    "print(CEM.best_pert_loss)"
   ]
  },
  {
   "cell_type": "code",
   "execution_count": null,
   "metadata": {},
   "outputs": [],
   "source": [
    "print(CEM.best_c)"
   ]
  },
  {
   "cell_type": "code",
   "execution_count": null,
   "metadata": {},
   "outputs": [],
   "source": []
  }
 ],
 "metadata": {
  "kernelspec": {
   "display_name": "Python 3",
   "language": "python",
   "name": "python3"
  },
  "language_info": {
   "codemirror_mode": {
    "name": "ipython",
    "version": 3
   },
   "file_extension": ".py",
   "mimetype": "text/x-python",
   "name": "python",
   "nbconvert_exporter": "python",
   "pygments_lexer": "ipython3",
   "version": "3.6.9"
  }
 },
 "nbformat": 4,
 "nbformat_minor": 2
}
