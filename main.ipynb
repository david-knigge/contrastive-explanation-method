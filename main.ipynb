{
 "cells": [
  {
   "cell_type": "code",
   "execution_count": 1,
   "metadata": {},
   "outputs": [],
   "source": [
    "import matplotlib.pyplot as plt\n",
    "import numpy as np\n",
    "\n",
    "from datasets.mnist import MNIST\n",
    "\n",
    "from models.cae_model import CAE\n",
    "from models.conv_model import CNN\n",
    "\n",
    "from train import train_ae, train_cnn\n",
    "\n",
    "from cem import ContrastiveExplanationMethod"
   ]
  },
  {
   "cell_type": "code",
   "execution_count": 2,
   "metadata": {},
   "outputs": [],
   "source": [
    "dataset = MNIST()\n",
    "# dataset = FashionMNIST()"
   ]
  },
  {
   "cell_type": "markdown",
   "metadata": {},
   "source": [
    "# Training the classifier"
   ]
  },
  {
   "cell_type": "code",
   "execution_count": 3,
   "metadata": {},
   "outputs": [],
   "source": [
    "cnn = CNN()\n",
    "\n",
    "train_cnn(cnn, dataset, iterations=2, lr=0.001, device='cpu', save_fn='mnist-cnn', load_path=\"./models/saved_models/b_mnist-cnn.h5\")"
   ]
  },
  {
   "cell_type": "code",
   "execution_count": 4,
   "metadata": {},
   "outputs": [
    {
     "name": "stderr",
     "output_type": "stream",
     "text": [
      "D:\\david\\Coding\\uva-fact-ai\\models\\conv_model.py:50: UserWarning: Implicit dimension choice for softmax has been deprecated. Change the call to include dim=X as an argument.\n",
      "  out = nn.functional.softmax(out)\n"
     ]
    }
   ],
   "source": [
    "images, _ = dataset.get_batch()\n",
    "\n",
    "output = cnn(images)\n",
    "\n",
    "images = images.numpy()\n",
    "output = output.detach().numpy()\n"
   ]
  },
  {
   "cell_type": "markdown",
   "metadata": {},
   "source": [
    "# Training the autoencoder"
   ]
  },
  {
   "cell_type": "markdown",
   "metadata": {},
   "source": [
    "This section trains the autoencoder which will be used as regularizer for the data space which the perturbations are found in."
   ]
  },
  {
   "cell_type": "code",
   "execution_count": 5,
   "metadata": {},
   "outputs": [],
   "source": [
    "# Train or load autoencoder\n",
    "cae = CAE()\n",
    "\n",
    "train_ae(cae, dataset, iterations=2, save_fn=\"mnist-cae\", load_path=\"./models/saved_models/b-mnist-cae.h5\")"
   ]
  },
  {
   "cell_type": "code",
   "execution_count": 6,
   "metadata": {},
   "outputs": [
    {
     "data": {
      "image/png": "[encoded data removed]",
      "text/plain": [
       "<Figure size 1800x288 with 8 Axes>"
      ]
     },
     "metadata": {
      "needs_background": "light"
     },
     "output_type": "display_data"
    }
   ],
   "source": [
    "# obtain one batch of test images\n",
    "images, _ = dataset.get_batch()\n",
    "\n",
    "#images_flatten = images.view(images.size(0), -1)\n",
    "# get sample outputs\n",
    "output = cae(images)\n",
    "# prep images for display\n",
    "images = images.numpy()\n",
    "\n",
    "# output is resized into a batch of images\n",
    "# output = output.view(batch_size, 1, 28, 28)\n",
    "# use detach when it's an output that requires_grad\n",
    "output = output.detach().numpy()\n",
    "\n",
    "# plot the first ten input images and then reconstructed images\n",
    "fig, axes = plt.subplots(nrows=2, ncols=4, sharex=True, sharey=True, figsize=(25,4))\n",
    "\n",
    "# input images on top row, reconstructions on bottom\n",
    "for images, row in zip([images, output], axes):\n",
    "    for img, ax in zip(images, row):\n",
    "        ax.imshow(np.squeeze(img), cmap='gray')\n",
    "        ax.get_xaxis().set_visible(False)\n",
    "        ax.get_yaxis().set_visible(False)"
   ]
  },
  {
   "cell_type": "markdown",
   "metadata": {},
   "source": [
    "# Contrastive Explanation Method"
   ]
  },
  {
   "cell_type": "code",
   "execution_count": 7,
   "metadata": {},
   "outputs": [],
   "source": [
    "CEM = ContrastiveExplanationMethod(cnn, cae, iterations=500, n_searches=9, kappa=10, gamma=50)"
   ]
  },
  {
   "cell_type": "code",
   "execution_count": 8,
   "metadata": {},
   "outputs": [
    {
     "data": {
      "text/plain": [
       "<matplotlib.image.AxesImage at 0x249a8979d68>"
      ]
     },
     "execution_count": 8,
     "metadata": {},
     "output_type": "execute_result"
    },
    {
     "data": {
      "image/png": "[encoded data removed]",
      "text/plain": [
       "<Figure size 432x288 with 1 Axes>"
      ]
     },
     "metadata": {
      "needs_background": "light"
     },
     "output_type": "display_data"
    }
   ],
   "source": [
    "# obtain one sample\n",
    "image, _ = dataset.get_sample()\n",
    "\n",
    "plt.imshow(image.squeeze())"
   ]
  },
  {
   "cell_type": "code",
   "execution_count": 9,
   "metadata": {
    "scrolled": true
   },
   "outputs": [
    {
     "name": "stdout",
     "output_type": "stream",
     "text": [
      "search: 0 - iteration: 0 - c value:10.00 - loss: 315.80 - delta sum: 0.00 - has reached optimum: False\n",
      "NEW BEST: 1180.222900390625 - C: 10\n",
      "search: 0 - iteration: 20 - c value:10.00 - loss: 9462.00 - delta sum: 270.26 - has reached optimum: True\n",
      "search: 0 - iteration: 40 - c value:10.00 - loss: 10531.07 - delta sum: 272.53 - has reached optimum: True\n",
      "search: 0 - iteration: 60 - c value:10.00 - loss: 10795.76 - delta sum: 269.64 - has reached optimum: True\n",
      "search: 0 - iteration: 80 - c value:10.00 - loss: 11115.96 - delta sum: 273.13 - has reached optimum: True\n",
      "search: 0 - iteration: 100 - c value:10.00 - loss: 11503.99 - delta sum: 277.69 - has reached optimum: True\n",
      "search: 0 - iteration: 120 - c value:10.00 - loss: 11615.50 - delta sum: 276.52 - has reached optimum: True\n",
      "search: 0 - iteration: 140 - c value:10.00 - loss: 11746.33 - delta sum: 277.84 - has reached optimum: True\n",
      "search: 0 - iteration: 160 - c value:10.00 - loss: 11773.26 - delta sum: 277.37 - has reached optimum: True\n",
      "search: 0 - iteration: 180 - c value:10.00 - loss: 11725.51 - delta sum: 276.50 - has reached optimum: True\n",
      "search: 0 - iteration: 200 - c value:10.00 - loss: 11761.09 - delta sum: 277.57 - has reached optimum: True\n",
      "search: 0 - iteration: 220 - c value:10.00 - loss: 11749.04 - delta sum: 277.23 - has reached optimum: True\n",
      "search: 0 - iteration: 240 - c value:10.00 - loss: 11612.59 - delta sum: 274.01 - has reached optimum: True\n",
      "search: 0 - iteration: 260 - c value:10.00 - loss: 11593.56 - delta sum: 274.40 - has reached optimum: True\n",
      "search: 0 - iteration: 280 - c value:10.00 - loss: 11535.87 - delta sum: 275.09 - has reached optimum: True\n",
      "search: 0 - iteration: 300 - c value:10.00 - loss: 11389.00 - delta sum: 272.01 - has reached optimum: True\n",
      "search: 0 - iteration: 320 - c value:10.00 - loss: 11749.73 - delta sum: 274.07 - has reached optimum: True\n",
      "search: 0 - iteration: 340 - c value:10.00 - loss: 11609.35 - delta sum: 274.04 - has reached optimum: True\n",
      "search: 0 - iteration: 360 - c value:10.00 - loss: 11502.29 - delta sum: 271.96 - has reached optimum: True\n",
      "search: 0 - iteration: 380 - c value:10.00 - loss: 11296.89 - delta sum: 272.89 - has reached optimum: True\n",
      "search: 0 - iteration: 400 - c value:10.00 - loss: 10919.77 - delta sum: 268.25 - has reached optimum: True\n",
      "search: 0 - iteration: 420 - c value:10.00 - loss: 10626.59 - delta sum: 266.37 - has reached optimum: True\n",
      "search: 0 - iteration: 440 - c value:10.00 - loss: 10110.59 - delta sum: 268.17 - has reached optimum: True\n",
      "search: 0 - iteration: 460 - c value:10.00 - loss: 9907.25 - delta sum: 266.40 - has reached optimum: True\n",
      "search: 0 - iteration: 480 - c value:10.00 - loss: 7972.22 - delta sum: 258.13 - has reached optimum: True\n",
      "NEW BEST: 1171.203369140625 - C: 10\n",
      "search: 1 - iteration: 0 - c value:5.05 - loss: 189.70 - delta sum: 0.00 - has reached optimum: False\n",
      "search: 1 - iteration: 20 - c value:5.05 - loss: 9712.44 - delta sum: 264.90 - has reached optimum: True\n",
      "search: 1 - iteration: 40 - c value:5.05 - loss: 10181.63 - delta sum: 267.10 - has reached optimum: True\n",
      "search: 1 - iteration: 60 - c value:5.05 - loss: 10457.38 - delta sum: 267.79 - has reached optimum: True\n",
      "search: 1 - iteration: 80 - c value:5.05 - loss: 10608.98 - delta sum: 268.07 - has reached optimum: True\n",
      "search: 1 - iteration: 100 - c value:5.05 - loss: 10765.11 - delta sum: 267.00 - has reached optimum: True\n",
      "search: 1 - iteration: 120 - c value:5.05 - loss: 10688.35 - delta sum: 266.52 - has reached optimum: True\n",
      "search: 1 - iteration: 140 - c value:5.05 - loss: 10607.34 - delta sum: 265.26 - has reached optimum: True\n",
      "search: 1 - iteration: 160 - c value:5.05 - loss: 10638.16 - delta sum: 265.17 - has reached optimum: True\n",
      "search: 1 - iteration: 180 - c value:5.05 - loss: 10805.66 - delta sum: 267.01 - has reached optimum: True\n",
      "search: 1 - iteration: 200 - c value:5.05 - loss: 10851.66 - delta sum: 267.25 - has reached optimum: True\n",
      "search: 1 - iteration: 220 - c value:5.05 - loss: 10751.66 - delta sum: 266.25 - has reached optimum: True\n",
      "search: 1 - iteration: 240 - c value:5.05 - loss: 10666.38 - delta sum: 263.62 - has reached optimum: True\n",
      "search: 1 - iteration: 260 - c value:5.05 - loss: 10908.07 - delta sum: 265.79 - has reached optimum: True\n",
      "search: 1 - iteration: 280 - c value:5.05 - loss: 10563.77 - delta sum: 265.13 - has reached optimum: True\n",
      "search: 1 - iteration: 300 - c value:5.05 - loss: 10487.17 - delta sum: 264.37 - has reached optimum: True\n",
      "search: 1 - iteration: 320 - c value:5.05 - loss: 10783.16 - delta sum: 269.02 - has reached optimum: True\n",
      "search: 1 - iteration: 340 - c value:5.05 - loss: 10919.79 - delta sum: 266.92 - has reached optimum: True\n",
      "search: 1 - iteration: 360 - c value:5.05 - loss: 10997.82 - delta sum: 264.07 - has reached optimum: True\n",
      "search: 1 - iteration: 380 - c value:5.05 - loss: 11111.76 - delta sum: 268.31 - has reached optimum: True\n",
      "search: 1 - iteration: 400 - c value:5.05 - loss: 10909.06 - delta sum: 266.90 - has reached optimum: True\n",
      "search: 1 - iteration: 420 - c value:5.05 - loss: 10650.52 - delta sum: 266.72 - has reached optimum: True\n",
      "search: 1 - iteration: 440 - c value:5.05 - loss: 10367.98 - delta sum: 265.06 - has reached optimum: True\n",
      "search: 1 - iteration: 460 - c value:5.05 - loss: 9583.61 - delta sum: 263.25 - has reached optimum: True\n",
      "search: 1 - iteration: 480 - c value:5.05 - loss: 8092.73 - delta sum: 259.10 - has reached optimum: True\n",
      "search: 2 - iteration: 0 - c value:2.57 - loss: 126.64 - delta sum: 0.00 - has reached optimum: False\n",
      "search: 2 - iteration: 20 - c value:2.57 - loss: 10319.62 - delta sum: 269.51 - has reached optimum: True\n",
      "search: 2 - iteration: 40 - c value:2.57 - loss: 11152.23 - delta sum: 274.52 - has reached optimum: True\n",
      "search: 2 - iteration: 60 - c value:2.57 - loss: 11317.69 - delta sum: 273.58 - has reached optimum: True\n",
      "search: 2 - iteration: 80 - c value:2.57 - loss: 11347.25 - delta sum: 273.73 - has reached optimum: True\n",
      "search: 2 - iteration: 100 - c value:2.57 - loss: 11667.79 - delta sum: 274.18 - has reached optimum: True\n",
      "search: 2 - iteration: 120 - c value:2.57 - loss: 11492.57 - delta sum: 273.72 - has reached optimum: True\n",
      "search: 2 - iteration: 140 - c value:2.57 - loss: 11411.07 - delta sum: 271.63 - has reached optimum: True\n",
      "search: 2 - iteration: 160 - c value:2.57 - loss: 11437.79 - delta sum: 272.30 - has reached optimum: True\n",
      "search: 2 - iteration: 180 - c value:2.57 - loss: 11515.46 - delta sum: 271.95 - has reached optimum: True\n",
      "search: 2 - iteration: 200 - c value:2.57 - loss: 11518.76 - delta sum: 271.67 - has reached optimum: True\n",
      "search: 2 - iteration: 220 - c value:2.57 - loss: 11605.01 - delta sum: 272.82 - has reached optimum: True\n",
      "search: 2 - iteration: 240 - c value:2.57 - loss: 11457.52 - delta sum: 271.08 - has reached optimum: True\n",
      "search: 2 - iteration: 260 - c value:2.57 - loss: 11483.96 - delta sum: 271.92 - has reached optimum: True\n",
      "search: 2 - iteration: 280 - c value:2.57 - loss: 11406.05 - delta sum: 271.28 - has reached optimum: True\n",
      "search: 2 - iteration: 300 - c value:2.57 - loss: 11522.01 - delta sum: 271.08 - has reached optimum: True\n",
      "search: 2 - iteration: 320 - c value:2.57 - loss: 11425.64 - delta sum: 272.42 - has reached optimum: True\n",
      "search: 2 - iteration: 340 - c value:2.57 - loss: 11352.79 - delta sum: 270.99 - has reached optimum: True\n",
      "search: 2 - iteration: 360 - c value:2.57 - loss: 11393.13 - delta sum: 273.74 - has reached optimum: True\n",
      "search: 2 - iteration: 380 - c value:2.57 - loss: 11248.50 - delta sum: 270.44 - has reached optimum: True\n",
      "search: 2 - iteration: 400 - c value:2.57 - loss: 11399.80 - delta sum: 274.60 - has reached optimum: True\n",
      "search: 2 - iteration: 420 - c value:2.57 - loss: 11211.92 - delta sum: 274.13 - has reached optimum: True\n",
      "search: 2 - iteration: 440 - c value:2.57 - loss: 10421.94 - delta sum: 268.48 - has reached optimum: True\n",
      "search: 2 - iteration: 460 - c value:2.57 - loss: 9913.63 - delta sum: 263.62 - has reached optimum: True\n",
      "search: 2 - iteration: 480 - c value:2.57 - loss: 7725.74 - delta sum: 251.88 - has reached optimum: True\n",
      "search: 3 - iteration: 0 - c value:1.34 - loss: 95.12 - delta sum: 0.00 - has reached optimum: False\n"
     ]
    },
    {
     "name": "stdout",
     "output_type": "stream",
     "text": [
      "search: 3 - iteration: 20 - c value:1.34 - loss: 10209.96 - delta sum: 269.75 - has reached optimum: True\n",
      "search: 3 - iteration: 40 - c value:1.34 - loss: 11057.13 - delta sum: 271.59 - has reached optimum: True\n",
      "search: 3 - iteration: 60 - c value:1.34 - loss: 11427.19 - delta sum: 270.15 - has reached optimum: True\n",
      "search: 3 - iteration: 80 - c value:1.34 - loss: 11604.22 - delta sum: 271.55 - has reached optimum: True\n",
      "search: 3 - iteration: 100 - c value:1.34 - loss: 11564.17 - delta sum: 270.30 - has reached optimum: True\n",
      "search: 3 - iteration: 120 - c value:1.34 - loss: 11680.13 - delta sum: 269.72 - has reached optimum: True\n",
      "search: 3 - iteration: 140 - c value:1.34 - loss: 11876.04 - delta sum: 271.93 - has reached optimum: True\n",
      "search: 3 - iteration: 160 - c value:1.34 - loss: 11838.84 - delta sum: 271.00 - has reached optimum: True\n",
      "search: 3 - iteration: 180 - c value:1.34 - loss: 11807.06 - delta sum: 269.15 - has reached optimum: True\n",
      "search: 3 - iteration: 200 - c value:1.34 - loss: 11788.43 - delta sum: 269.36 - has reached optimum: True\n",
      "search: 3 - iteration: 220 - c value:1.34 - loss: 11713.15 - delta sum: 270.60 - has reached optimum: True\n",
      "search: 3 - iteration: 240 - c value:1.34 - loss: 11599.10 - delta sum: 269.78 - has reached optimum: True\n",
      "search: 3 - iteration: 260 - c value:1.34 - loss: 11755.83 - delta sum: 270.16 - has reached optimum: True\n",
      "search: 3 - iteration: 280 - c value:1.34 - loss: 11882.90 - delta sum: 271.70 - has reached optimum: True\n",
      "search: 3 - iteration: 300 - c value:1.34 - loss: 11830.83 - delta sum: 269.50 - has reached optimum: True\n",
      "search: 3 - iteration: 320 - c value:1.34 - loss: 11827.55 - delta sum: 268.71 - has reached optimum: True\n",
      "search: 3 - iteration: 340 - c value:1.34 - loss: 11487.36 - delta sum: 268.54 - has reached optimum: True\n",
      "search: 3 - iteration: 360 - c value:1.34 - loss: 11808.88 - delta sum: 269.77 - has reached optimum: True\n",
      "search: 3 - iteration: 380 - c value:1.34 - loss: 11387.94 - delta sum: 267.91 - has reached optimum: True\n",
      "search: 3 - iteration: 400 - c value:1.34 - loss: 11252.37 - delta sum: 266.15 - has reached optimum: True\n",
      "search: 3 - iteration: 420 - c value:1.34 - loss: 10990.68 - delta sum: 264.14 - has reached optimum: True\n",
      "search: 3 - iteration: 440 - c value:1.34 - loss: 10999.76 - delta sum: 263.66 - has reached optimum: True\n",
      "search: 3 - iteration: 460 - c value:1.34 - loss: 10940.34 - delta sum: 266.12 - has reached optimum: True\n",
      "search: 3 - iteration: 480 - c value:1.34 - loss: 8552.57 - delta sum: 256.29 - has reached optimum: True\n",
      "search: 4 - iteration: 0 - c value:0.72 - loss: 79.35 - delta sum: 0.00 - has reached optimum: False\n",
      "search: 4 - iteration: 20 - c value:0.72 - loss: 10571.61 - delta sum: 269.21 - has reached optimum: True\n",
      "search: 4 - iteration: 40 - c value:0.72 - loss: 11176.31 - delta sum: 272.01 - has reached optimum: True\n",
      "search: 4 - iteration: 60 - c value:0.72 - loss: 11868.73 - delta sum: 275.12 - has reached optimum: True\n",
      "search: 4 - iteration: 80 - c value:0.72 - loss: 12002.21 - delta sum: 274.19 - has reached optimum: True\n",
      "search: 4 - iteration: 100 - c value:0.72 - loss: 12160.80 - delta sum: 275.61 - has reached optimum: True\n",
      "search: 4 - iteration: 120 - c value:0.72 - loss: 12002.52 - delta sum: 273.70 - has reached optimum: True\n",
      "search: 4 - iteration: 140 - c value:0.72 - loss: 12199.56 - delta sum: 274.08 - has reached optimum: True\n",
      "search: 4 - iteration: 160 - c value:0.72 - loss: 12036.66 - delta sum: 271.84 - has reached optimum: True\n",
      "search: 4 - iteration: 180 - c value:0.72 - loss: 12055.98 - delta sum: 273.62 - has reached optimum: True\n",
      "search: 4 - iteration: 200 - c value:0.72 - loss: 11892.46 - delta sum: 272.67 - has reached optimum: True\n",
      "search: 4 - iteration: 220 - c value:0.72 - loss: 12079.52 - delta sum: 272.95 - has reached optimum: True\n",
      "search: 4 - iteration: 240 - c value:0.72 - loss: 12171.16 - delta sum: 274.19 - has reached optimum: True\n",
      "search: 4 - iteration: 260 - c value:0.72 - loss: 12270.92 - delta sum: 272.89 - has reached optimum: True\n",
      "search: 4 - iteration: 280 - c value:0.72 - loss: 12011.43 - delta sum: 270.58 - has reached optimum: True\n",
      "search: 4 - iteration: 300 - c value:0.72 - loss: 12000.63 - delta sum: 271.46 - has reached optimum: True\n",
      "search: 4 - iteration: 320 - c value:0.72 - loss: 11781.81 - delta sum: 269.92 - has reached optimum: True\n",
      "search: 4 - iteration: 340 - c value:0.72 - loss: 11850.79 - delta sum: 268.36 - has reached optimum: True\n",
      "search: 4 - iteration: 360 - c value:0.72 - loss: 11966.45 - delta sum: 269.67 - has reached optimum: True\n",
      "search: 4 - iteration: 380 - c value:0.72 - loss: 11835.09 - delta sum: 266.61 - has reached optimum: True\n",
      "search: 4 - iteration: 400 - c value:0.72 - loss: 11555.04 - delta sum: 267.60 - has reached optimum: True\n",
      "search: 4 - iteration: 420 - c value:0.72 - loss: 11499.13 - delta sum: 264.42 - has reached optimum: True\n",
      "search: 4 - iteration: 440 - c value:0.72 - loss: 11068.69 - delta sum: 264.55 - has reached optimum: True\n",
      "search: 4 - iteration: 460 - c value:0.72 - loss: 10625.17 - delta sum: 263.80 - has reached optimum: True\n",
      "search: 4 - iteration: 480 - c value:0.72 - loss: 8987.07 - delta sum: 262.19 - has reached optimum: True\n",
      "search: 5 - iteration: 0 - c value:0.41 - loss: 71.47 - delta sum: 0.00 - has reached optimum: False\n",
      "search: 5 - iteration: 20 - c value:0.41 - loss: 9983.97 - delta sum: 271.74 - has reached optimum: True\n",
      "search: 5 - iteration: 40 - c value:0.41 - loss: 10690.82 - delta sum: 271.07 - has reached optimum: True\n",
      "search: 5 - iteration: 60 - c value:0.41 - loss: 11032.02 - delta sum: 270.69 - has reached optimum: True\n",
      "search: 5 - iteration: 80 - c value:0.41 - loss: 11039.93 - delta sum: 270.56 - has reached optimum: True\n",
      "search: 5 - iteration: 100 - c value:0.41 - loss: 11262.76 - delta sum: 269.61 - has reached optimum: True\n",
      "search: 5 - iteration: 120 - c value:0.41 - loss: 11302.64 - delta sum: 270.31 - has reached optimum: True\n",
      "search: 5 - iteration: 140 - c value:0.41 - loss: 11306.85 - delta sum: 270.10 - has reached optimum: True\n",
      "search: 5 - iteration: 160 - c value:0.41 - loss: 11154.76 - delta sum: 268.40 - has reached optimum: True\n",
      "search: 5 - iteration: 180 - c value:0.41 - loss: 11273.24 - delta sum: 269.26 - has reached optimum: True\n",
      "search: 5 - iteration: 200 - c value:0.41 - loss: 11127.79 - delta sum: 265.56 - has reached optimum: True\n",
      "search: 5 - iteration: 220 - c value:0.41 - loss: 11304.44 - delta sum: 268.82 - has reached optimum: True\n",
      "search: 5 - iteration: 240 - c value:0.41 - loss: 11347.37 - delta sum: 270.37 - has reached optimum: True\n",
      "search: 5 - iteration: 260 - c value:0.41 - loss: 11091.66 - delta sum: 270.79 - has reached optimum: True\n",
      "search: 5 - iteration: 280 - c value:0.41 - loss: 11113.62 - delta sum: 268.65 - has reached optimum: True\n",
      "search: 5 - iteration: 300 - c value:0.41 - loss: 11201.88 - delta sum: 269.78 - has reached optimum: True\n",
      "search: 5 - iteration: 320 - c value:0.41 - loss: 11337.23 - delta sum: 268.38 - has reached optimum: True\n",
      "search: 5 - iteration: 340 - c value:0.41 - loss: 11300.70 - delta sum: 268.04 - has reached optimum: True\n",
      "search: 5 - iteration: 360 - c value:0.41 - loss: 11182.36 - delta sum: 270.16 - has reached optimum: True\n",
      "search: 5 - iteration: 380 - c value:0.41 - loss: 10991.78 - delta sum: 269.63 - has reached optimum: True\n",
      "search: 5 - iteration: 400 - c value:0.41 - loss: 10853.95 - delta sum: 266.93 - has reached optimum: True\n",
      "search: 5 - iteration: 420 - c value:0.41 - loss: 10376.39 - delta sum: 260.92 - has reached optimum: True\n",
      "search: 5 - iteration: 440 - c value:0.41 - loss: 10244.29 - delta sum: 266.61 - has reached optimum: True\n",
      "search: 5 - iteration: 460 - c value:0.41 - loss: 9491.06 - delta sum: 261.56 - has reached optimum: True\n",
      "search: 5 - iteration: 480 - c value:0.41 - loss: 7874.19 - delta sum: 257.20 - has reached optimum: True\n",
      "search: 6 - iteration: 0 - c value:0.25 - loss: 67.53 - delta sum: 0.00 - has reached optimum: False\n",
      "search: 6 - iteration: 20 - c value:0.25 - loss: 10383.89 - delta sum: 272.23 - has reached optimum: True\n"
     ]
    },
    {
     "name": "stdout",
     "output_type": "stream",
     "text": [
      "search: 6 - iteration: 40 - c value:0.25 - loss: 11085.53 - delta sum: 271.00 - has reached optimum: True\n",
      "search: 6 - iteration: 60 - c value:0.25 - loss: 11427.75 - delta sum: 271.30 - has reached optimum: True\n",
      "search: 6 - iteration: 80 - c value:0.25 - loss: 11490.49 - delta sum: 269.61 - has reached optimum: True\n",
      "search: 6 - iteration: 100 - c value:0.25 - loss: 11374.52 - delta sum: 269.32 - has reached optimum: True\n",
      "search: 6 - iteration: 120 - c value:0.25 - loss: 11481.61 - delta sum: 268.74 - has reached optimum: True\n",
      "search: 6 - iteration: 140 - c value:0.25 - loss: 11457.44 - delta sum: 269.03 - has reached optimum: True\n",
      "search: 6 - iteration: 160 - c value:0.25 - loss: 11632.14 - delta sum: 268.85 - has reached optimum: True\n",
      "search: 6 - iteration: 180 - c value:0.25 - loss: 11482.56 - delta sum: 269.66 - has reached optimum: True\n",
      "search: 6 - iteration: 200 - c value:0.25 - loss: 11453.50 - delta sum: 267.67 - has reached optimum: True\n",
      "search: 6 - iteration: 220 - c value:0.25 - loss: 11596.20 - delta sum: 271.11 - has reached optimum: True\n",
      "search: 6 - iteration: 240 - c value:0.25 - loss: 11548.57 - delta sum: 270.18 - has reached optimum: True\n",
      "search: 6 - iteration: 260 - c value:0.25 - loss: 11402.99 - delta sum: 269.85 - has reached optimum: True\n",
      "search: 6 - iteration: 280 - c value:0.25 - loss: 11505.24 - delta sum: 271.19 - has reached optimum: True\n",
      "search: 6 - iteration: 300 - c value:0.25 - loss: 11519.58 - delta sum: 269.76 - has reached optimum: True\n",
      "search: 6 - iteration: 320 - c value:0.25 - loss: 11371.55 - delta sum: 269.98 - has reached optimum: True\n",
      "search: 6 - iteration: 340 - c value:0.25 - loss: 11306.35 - delta sum: 269.69 - has reached optimum: True\n",
      "search: 6 - iteration: 360 - c value:0.25 - loss: 11268.03 - delta sum: 267.42 - has reached optimum: True\n",
      "search: 6 - iteration: 380 - c value:0.25 - loss: 11192.51 - delta sum: 266.64 - has reached optimum: True\n",
      "search: 6 - iteration: 400 - c value:0.25 - loss: 11076.91 - delta sum: 268.26 - has reached optimum: True\n",
      "search: 6 - iteration: 420 - c value:0.25 - loss: 10809.84 - delta sum: 265.22 - has reached optimum: True\n",
      "search: 6 - iteration: 440 - c value:0.25 - loss: 10519.40 - delta sum: 263.00 - has reached optimum: True\n",
      "search: 6 - iteration: 460 - c value:0.25 - loss: 9993.43 - delta sum: 261.43 - has reached optimum: True\n",
      "search: 6 - iteration: 480 - c value:0.25 - loss: 8376.82 - delta sum: 257.10 - has reached optimum: True\n",
      "search: 7 - iteration: 0 - c value:0.18 - loss: 65.56 - delta sum: 0.00 - has reached optimum: False\n",
      "search: 7 - iteration: 20 - c value:0.18 - loss: 9572.71 - delta sum: 266.82 - has reached optimum: True\n",
      "search: 7 - iteration: 40 - c value:0.18 - loss: 10482.62 - delta sum: 273.32 - has reached optimum: True\n",
      "search: 7 - iteration: 60 - c value:0.18 - loss: 10764.83 - delta sum: 271.48 - has reached optimum: True\n",
      "search: 7 - iteration: 80 - c value:0.18 - loss: 10898.71 - delta sum: 273.35 - has reached optimum: True\n",
      "search: 7 - iteration: 100 - c value:0.18 - loss: 11032.43 - delta sum: 274.36 - has reached optimum: True\n",
      "search: 7 - iteration: 120 - c value:0.18 - loss: 11156.91 - delta sum: 273.69 - has reached optimum: True\n",
      "search: 7 - iteration: 140 - c value:0.18 - loss: 11079.90 - delta sum: 273.23 - has reached optimum: True\n",
      "search: 7 - iteration: 160 - c value:0.18 - loss: 11094.82 - delta sum: 272.76 - has reached optimum: True\n",
      "search: 7 - iteration: 180 - c value:0.18 - loss: 11065.49 - delta sum: 271.83 - has reached optimum: True\n",
      "search: 7 - iteration: 200 - c value:0.18 - loss: 11190.08 - delta sum: 274.00 - has reached optimum: True\n",
      "search: 7 - iteration: 220 - c value:0.18 - loss: 11275.87 - delta sum: 274.01 - has reached optimum: True\n",
      "search: 7 - iteration: 240 - c value:0.18 - loss: 11438.07 - delta sum: 275.49 - has reached optimum: True\n",
      "search: 7 - iteration: 260 - c value:0.18 - loss: 11374.78 - delta sum: 273.56 - has reached optimum: True\n",
      "search: 7 - iteration: 280 - c value:0.18 - loss: 11294.69 - delta sum: 272.11 - has reached optimum: True\n",
      "search: 7 - iteration: 300 - c value:0.18 - loss: 11088.93 - delta sum: 271.83 - has reached optimum: True\n",
      "search: 7 - iteration: 320 - c value:0.18 - loss: 11217.55 - delta sum: 272.87 - has reached optimum: True\n",
      "search: 7 - iteration: 340 - c value:0.18 - loss: 11139.96 - delta sum: 271.43 - has reached optimum: True\n",
      "search: 7 - iteration: 360 - c value:0.18 - loss: 11135.73 - delta sum: 272.56 - has reached optimum: True\n",
      "search: 7 - iteration: 380 - c value:0.18 - loss: 10896.62 - delta sum: 270.23 - has reached optimum: True\n",
      "search: 7 - iteration: 400 - c value:0.18 - loss: 10926.57 - delta sum: 272.31 - has reached optimum: True\n",
      "search: 7 - iteration: 420 - c value:0.18 - loss: 10706.91 - delta sum: 270.94 - has reached optimum: True\n",
      "search: 7 - iteration: 440 - c value:0.18 - loss: 10452.19 - delta sum: 269.79 - has reached optimum: True\n",
      "search: 7 - iteration: 460 - c value:0.18 - loss: 9558.55 - delta sum: 263.12 - has reached optimum: True\n",
      "search: 7 - iteration: 480 - c value:0.18 - loss: 7980.98 - delta sum: 248.34 - has reached optimum: True\n",
      "search: 8 - iteration: 0 - c value:0.14 - loss: 64.57 - delta sum: 0.00 - has reached optimum: False\n",
      "search: 8 - iteration: 20 - c value:0.14 - loss: 9903.02 - delta sum: 273.20 - has reached optimum: True\n",
      "search: 8 - iteration: 40 - c value:0.14 - loss: 10994.92 - delta sum: 273.25 - has reached optimum: True\n",
      "search: 8 - iteration: 60 - c value:0.14 - loss: 10896.76 - delta sum: 272.59 - has reached optimum: True\n",
      "search: 8 - iteration: 80 - c value:0.14 - loss: 11089.40 - delta sum: 271.40 - has reached optimum: True\n",
      "search: 8 - iteration: 100 - c value:0.14 - loss: 11288.29 - delta sum: 272.13 - has reached optimum: True\n",
      "search: 8 - iteration: 120 - c value:0.14 - loss: 11320.19 - delta sum: 273.17 - has reached optimum: True\n",
      "search: 8 - iteration: 140 - c value:0.14 - loss: 11176.10 - delta sum: 272.07 - has reached optimum: True\n",
      "search: 8 - iteration: 160 - c value:0.14 - loss: 11211.11 - delta sum: 273.88 - has reached optimum: True\n",
      "search: 8 - iteration: 180 - c value:0.14 - loss: 11363.70 - delta sum: 275.54 - has reached optimum: True\n",
      "search: 8 - iteration: 200 - c value:0.14 - loss: 11439.47 - delta sum: 275.83 - has reached optimum: True\n",
      "search: 8 - iteration: 220 - c value:0.14 - loss: 11326.09 - delta sum: 270.01 - has reached optimum: True\n",
      "search: 8 - iteration: 240 - c value:0.14 - loss: 11474.09 - delta sum: 272.56 - has reached optimum: True\n",
      "search: 8 - iteration: 260 - c value:0.14 - loss: 11491.93 - delta sum: 272.87 - has reached optimum: True\n",
      "search: 8 - iteration: 280 - c value:0.14 - loss: 11286.24 - delta sum: 274.44 - has reached optimum: True\n",
      "search: 8 - iteration: 300 - c value:0.14 - loss: 11273.30 - delta sum: 274.04 - has reached optimum: True\n",
      "search: 8 - iteration: 320 - c value:0.14 - loss: 11043.17 - delta sum: 272.06 - has reached optimum: True\n",
      "search: 8 - iteration: 340 - c value:0.14 - loss: 11099.78 - delta sum: 268.99 - has reached optimum: True\n",
      "search: 8 - iteration: 360 - c value:0.14 - loss: 11189.25 - delta sum: 268.13 - has reached optimum: True\n",
      "search: 8 - iteration: 380 - c value:0.14 - loss: 11110.25 - delta sum: 265.08 - has reached optimum: True\n",
      "search: 8 - iteration: 400 - c value:0.14 - loss: 11205.77 - delta sum: 266.72 - has reached optimum: True\n",
      "search: 8 - iteration: 420 - c value:0.14 - loss: 11126.57 - delta sum: 269.29 - has reached optimum: True\n",
      "search: 8 - iteration: 440 - c value:0.14 - loss: 10233.92 - delta sum: 267.40 - has reached optimum: True\n",
      "search: 8 - iteration: 460 - c value:0.14 - loss: 10008.75 - delta sum: 262.13 - has reached optimum: True\n",
      "search: 8 - iteration: 480 - c value:0.14 - loss: 8031.07 - delta sum: 247.97 - has reached optimum: True\n"
     ]
    }
   ],
   "source": [
    "# find pertinent negatives\n",
    "CEM.fista(image, mode=\"PN\")"
   ]
  },
  {
   "cell_type": "code",
   "execution_count": 10,
   "metadata": {
    "scrolled": true
   },
   "outputs": [],
   "source": [
    "# import os\n",
    "# os.environ[\"PATH\"] += os.pathsep + 'D:/Program Files/Graphviz/bin'\n",
    "\n",
    "# from torchviz import make_dot\n",
    "# make_dot(CEM.loss).view()"
   ]
  },
  {
   "cell_type": "code",
   "execution_count": 11,
   "metadata": {},
   "outputs": [
    {
     "name": "stdout",
     "output_type": "stream",
     "text": [
      "tensor([0.0000, 0.0000, 0.0000, 0.0000, 0.0492, 0.1249, 0.0768, 0.0594, 0.0000,\n",
      "        0.0000, 0.0000, 0.0290, 0.0823, 0.1465, 0.0000, 0.0000, 0.0000, 0.0000,\n",
      "        0.0000, 0.0000, 0.0000, 0.0000, 0.0000, 0.0000, 0.0000, 0.0000, 0.0000,\n",
      "        0.0000, 0.0000, 0.0000, 0.0000, 0.2445, 0.1049, 0.0715, 0.0000, 0.0528,\n",
      "        0.0255, 0.0186, 0.0000, 0.0000, 0.0000, 0.1178, 0.1914, 0.0020, 0.0000,\n",
      "        0.0000, 0.0000, 0.0000, 0.0000, 0.0000, 0.0000, 0.0000, 0.0000, 0.0000,\n",
      "        0.0000, 0.0000, 0.0000, 0.0000, 0.1242, 0.3774, 0.2623, 0.2303, 0.1444,\n",
      "        0.3330, 0.4666, 0.2557, 0.0000, 0.0000, 0.0000, 0.0000, 0.2856, 0.3342,\n",
      "        0.0567, 0.0000, 0.0281, 0.0000, 0.1213, 0.0000, 0.0000, 0.0320, 0.1152,\n",
      "        0.0000, 0.1115, 0.0000, 0.0000, 0.0243, 0.1685, 0.1105, 0.0456, 0.3061,\n",
      "        0.5000, 0.2298, 0.0000, 0.0913, 0.0000, 0.0000, 0.0000, 0.0000, 0.2003,\n",
      "        0.3135, 0.3327, 0.0000, 0.1949, 0.5000, 0.2842, 0.0563, 0.0018, 0.0383,\n",
      "        0.1006, 0.4796, 0.4652, 0.0266, 0.0000, 0.1190, 0.1011, 0.3624, 0.3325,\n",
      "        0.1511, 0.0699, 0.0000, 0.0000, 0.0000, 0.0000, 0.0609, 0.4134, 0.3630,\n",
      "        0.1679, 0.4492, 0.0000, 0.0000, 0.2686, 0.5000, 0.0914, 0.0000, 0.0221,\n",
      "        0.0000, 0.0000, 0.0317, 0.0000, 0.0000, 0.0000, 0.0000, 0.2774, 0.5000,\n",
      "        0.5000, 0.5000, 0.1981, 0.0000, 0.0000, 0.0000, 0.0000, 0.4497, 0.2435,\n",
      "        0.0000, 0.2665, 0.0000, 0.0000, 0.0000, 0.3833, 0.3368, 0.0527, 0.0000,\n",
      "        0.0000, 0.0000, 0.0000, 0.0731, 0.0000, 0.0000, 0.0055, 0.0000, 0.4319,\n",
      "        0.5000, 0.4847, 0.5000, 0.5000, 0.0368, 0.1273, 0.2100, 0.4343, 0.3084,\n",
      "        0.0000, 0.2110, 0.0000, 0.0000, 0.2334, 0.0000, 0.0000, 0.2831, 0.1110,\n",
      "        0.0000, 0.0000, 0.0000, 0.1568, 0.1637, 0.0000, 0.0000, 0.0000, 0.0073,\n",
      "        0.2241, 0.1094, 0.1491, 0.3469, 0.5000, 0.4202, 0.5000, 0.4906, 0.0285,\n",
      "        0.1683, 0.0899, 0.5000, 0.0000, 0.0000, 0.5000, 0.0000, 0.0000, 0.5000,\n",
      "        0.1891, 0.0000, 0.0000, 0.0899, 0.1591, 0.0726, 0.0000, 0.0000, 0.0000,\n",
      "        0.0000, 0.0000, 0.0000, 0.0000, 0.3203, 0.5000, 0.4873, 0.3819, 0.1734,\n",
      "        0.0000, 0.0603, 0.3449, 0.0529, 0.0000, 0.3241, 0.0000, 0.0000, 0.0000,\n",
      "        0.5000, 0.2290, 0.0000, 0.0232, 0.1611, 0.3186, 0.0000, 0.0000, 0.0000,\n",
      "        0.0000, 0.0000, 0.0000, 0.0000, 0.2735, 0.2022, 0.0912, 0.5000, 0.1318,\n",
      "        0.0000, 0.0000, 0.2440, 0.2168, 0.0217, 0.0000, 0.0000, 0.0000, 0.0000,\n",
      "        0.3718, 0.5000, 0.0465, 0.0905, 0.3608, 0.4564, 0.4893, 0.0420, 0.0000,\n",
      "        0.0360, 0.0000, 0.0000, 0.0000, 0.1730, 0.2936, 0.1145, 0.1718, 0.5000,\n",
      "        0.1462, 0.0000, 0.0000, 0.3956, 0.0000, 0.0652, 0.4167, 0.0000, 0.0000,\n",
      "        0.1636, 0.5000, 0.4713, 0.3662, 0.3755, 0.3187, 0.0923, 0.1766, 0.2670,\n",
      "        0.0157, 0.0000, 0.0000, 0.0000, 0.0920, 0.2689, 0.0587, 0.0737, 0.5000,\n",
      "        0.5000, 0.1043, 0.0000, 0.0000, 0.0249, 0.0000, 0.0000, 0.5000, 0.0000,\n",
      "        0.0577, 0.1416, 0.2710, 0.5000, 0.4874, 0.4720, 0.1161, 0.0000, 0.1106,\n",
      "        0.2088, 0.0000, 0.0000, 0.0000, 0.0000, 0.3222, 0.2154, 0.2658, 0.5000,\n",
      "        0.5000, 0.4836, 0.0000, 0.0000, 0.0000, 0.5000, 0.0000, 0.0194, 0.3671,\n",
      "        0.0837, 0.0000, 0.0000, 0.1260, 0.3256, 0.3408, 0.1824, 0.1962, 0.0466,\n",
      "        0.1781, 0.0954, 0.0000, 0.0000, 0.0000, 0.0000, 0.3596, 0.0061, 0.1424,\n",
      "        0.3015, 0.0879, 0.0000, 0.0000, 0.0000, 0.2392, 0.1312, 0.0000, 0.2271,\n",
      "        0.0000, 0.3922, 0.0000, 0.0000, 0.4245, 0.3677, 0.1955, 0.0586, 0.0000,\n",
      "        0.0165, 0.0000, 0.0000, 0.0000, 0.0000, 0.0000, 0.0230, 0.1445, 0.0880,\n",
      "        0.1635, 0.0369, 0.0000, 0.0000, 0.0000, 0.0000, 0.2422, 0.1133, 0.0000,\n",
      "        0.1044, 0.0130, 0.0000, 0.2712, 0.1950, 0.0965, 0.1704, 0.0987, 0.0000,\n",
      "        0.0000, 0.0047, 0.0000, 0.0000, 0.0000, 0.0000, 0.0000, 0.0080, 0.2647,\n",
      "        0.3121, 0.2552, 0.0534, 0.0000, 0.0000, 0.0000, 0.0000, 0.0000, 0.0000,\n",
      "        0.0000, 0.5000, 0.0000, 0.0000, 0.0000, 0.5000, 0.0000, 0.0669, 0.0000,\n",
      "        0.0000, 0.0511, 0.0557, 0.0000, 0.0000, 0.0000, 0.0000, 0.0000, 0.0749,\n",
      "        0.1818, 0.1682, 0.2217, 0.1376, 0.0000, 0.0000, 0.0000, 0.0000, 0.0950,\n",
      "        0.0000, 0.0000, 0.1808, 0.4138, 0.0000, 0.5000, 0.0037, 0.0000, 0.5000,\n",
      "        0.2186, 0.0326, 0.0655, 0.0451, 0.1007, 0.1411, 0.1613, 0.0000, 0.0000,\n",
      "        0.0622, 0.1881, 0.1774, 0.2141, 0.5000, 0.4393, 0.0820, 0.0000, 0.0000,\n",
      "        0.0415, 0.0000, 0.1409, 0.3556, 0.0000, 0.0000, 0.0000, 0.0000, 0.0000,\n",
      "        0.0000, 0.0000, 0.0000, 0.0554, 0.0109, 0.0260, 0.2624, 0.0245, 0.0000,\n",
      "        0.0000, 0.0000, 0.1710, 0.1343, 0.1619, 0.4041, 0.1526, 0.0000, 0.0000,\n",
      "        0.0000, 0.0769, 0.3096, 0.0722, 0.0000, 0.0000, 0.0000, 0.0000, 0.2262,\n",
      "        0.4300, 0.0000, 0.0000, 0.0000, 0.0000, 0.0000, 0.1044, 0.2668, 0.0000,\n",
      "        0.0000, 0.0000, 0.0000, 0.2100, 0.1535, 0.3104, 0.5000, 0.5000, 0.2911,\n",
      "        0.0529, 0.0000, 0.0000, 0.0000, 0.0000, 0.0000, 0.2775, 0.3803, 0.0000,\n",
      "        0.2988, 0.5000, 0.0000, 0.0000, 0.0000, 0.0000, 0.2297, 0.2145, 0.3482,\n",
      "        0.0000, 0.0000, 0.0000, 0.0396, 0.2178, 0.4465, 0.4470, 0.5000, 0.5000,\n",
      "        0.3060, 0.0000, 0.0000, 0.0000, 0.3117, 0.0000, 0.0000, 0.4423, 0.0907,\n",
      "        0.0000, 0.0000, 0.0000, 0.1611, 0.0000, 0.0000, 0.1160, 0.1192, 0.0289,\n",
      "        0.2469, 0.3142, 0.0140, 0.0000, 0.0000, 0.1757, 0.2616, 0.3283, 0.5000,\n",
      "        0.5000, 0.5000, 0.0000, 0.0000, 0.0000, 0.3734, 0.0000, 0.0000, 0.0000,\n",
      "        0.0000, 0.0000, 0.0715, 0.0000, 0.1471, 0.2072, 0.2712, 0.1984, 0.0000,\n",
      "        0.0000, 0.0000, 0.0831, 0.0000, 0.0000, 0.0000, 0.3805, 0.2986, 0.1942,\n",
      "        0.0189, 0.3562, 0.4001, 0.0000, 0.0000, 0.0000, 0.0000, 0.1788, 0.5000,\n",
      "        0.0123, 0.1209, 0.3596, 0.0512, 0.0000, 0.0000, 0.5000, 0.5000, 0.1253,\n",
      "        0.2570, 0.3325, 0.5000, 0.4593, 0.0000, 0.0000, 0.0000, 0.0302, 0.0279,\n",
      "        0.0602, 0.4403, 0.4765, 0.1678, 0.0061, 0.0000, 0.0000, 0.0000, 0.0912,\n",
      "        0.1046, 0.5000, 0.5000, 0.5000, 0.3249, 0.0000, 0.4917, 0.5000, 0.3483,\n",
      "        0.3529, 0.3383, 0.3069, 0.5000, 0.1918, 0.0000, 0.0000, 0.0000, 0.0757,\n",
      "        0.0275, 0.0734, 0.3914, 0.1676, 0.0808, 0.1627, 0.0000, 0.1841, 0.1941,\n",
      "        0.0000, 0.0000, 0.0000, 0.0000, 0.5000, 0.2388, 0.5000, 0.4581, 0.2158,\n",
      "        0.4623, 0.5000, 0.1042, 0.0000, 0.3015, 0.0000, 0.0000, 0.0000, 0.0447,\n",
      "        0.1043, 0.1481, 0.2716, 0.1678, 0.0624, 0.1479, 0.3329, 0.5000, 0.5000,\n",
      "        0.4105, 0.0776, 0.0000, 0.0000, 0.0000, 0.5000, 0.5000, 0.2733, 0.1257,\n",
      "        0.1439, 0.5000, 0.5000, 0.5000, 0.5000, 0.2181, 0.0000, 0.0000, 0.0000,\n",
      "        0.0000, 0.0307, 0.2492, 0.3218, 0.1743, 0.0584, 0.0357, 0.1943, 0.3408,\n",
      "        0.0000, 0.0000, 0.0000, 0.0000, 0.0000, 0.1614, 0.5000, 0.0350, 0.0000,\n",
      "        0.0024, 0.2242, 0.2270, 0.3063, 0.3873, 0.2565, 0.0000, 0.0000, 0.0000,\n",
      "        0.0000, 0.0000, 0.0000, 0.0375, 0.0000, 0.0000, 0.0000, 0.0000, 0.0000,\n",
      "        0.0000, 0.0000, 0.0000, 0.0000, 0.0000, 0.0000, 0.0077, 0.0000, 0.0000,\n",
      "        0.0000, 0.0000, 0.0000, 0.0130, 0.0000, 0.0000, 0.0000, 0.0000, 0.0000,\n",
      "        0.0000])\n"
     ]
    }
   ],
   "source": [
    "print(CEM.best_delta - image.view(28*28))"
   ]
  },
  {
   "cell_type": "code",
   "execution_count": 12,
   "metadata": {},
   "outputs": [
    {
     "data": {
      "text/plain": [
       "<matplotlib.image.AxesImage at 0x249a8e49940>"
      ]
     },
     "execution_count": 12,
     "metadata": {},
     "output_type": "execute_result"
    },
    {
     "data": {
      "image/png": "[encoded data removed]",
      "text/plain": [
       "<Figure size 432x288 with 1 Axes>"
      ]
     },
     "metadata": {
      "needs_background": "light"
     },
     "output_type": "display_data"
    }
   ],
   "source": [
    "plt.imshow(image.squeeze())"
   ]
  },
  {
   "cell_type": "code",
   "execution_count": 13,
   "metadata": {},
   "outputs": [
    {
     "data": {
      "text/plain": [
       "<matplotlib.image.AxesImage at 0x249a8eb3048>"
      ]
     },
     "execution_count": 13,
     "metadata": {},
     "output_type": "execute_result"
    },
    {
     "data": {
      "image/png": "[encoded data removed]",
      "text/plain": [
       "<Figure size 432x288 with 1 Axes>"
      ]
     },
     "metadata": {
      "needs_background": "light"
     },
     "output_type": "display_data"
    }
   ],
   "source": [
    "plt.imshow(CEM.best_delta.view(28,28) - image.squeeze())"
   ]
  },
  {
   "cell_type": "code",
   "execution_count": 14,
   "metadata": {},
   "outputs": [
    {
     "data": {
      "text/plain": [
       "tensor(8)"
      ]
     },
     "execution_count": 14,
     "metadata": {},
     "output_type": "execute_result"
    }
   ],
   "source": [
    "# classification after\n",
    "np.argmax(cnn(CEM.best_delta.view(1,28,28)).detach())"
   ]
  },
  {
   "cell_type": "code",
   "execution_count": 15,
   "metadata": {},
   "outputs": [
    {
     "data": {
      "text/plain": [
       "tensor(6)"
      ]
     },
     "execution_count": 15,
     "metadata": {},
     "output_type": "execute_result"
    }
   ],
   "source": [
    "# classification before\n",
    "np.argmax(cnn(image.squeeze(-1)).detach())"
   ]
  },
  {
   "cell_type": "code",
   "execution_count": 16,
   "metadata": {},
   "outputs": [
    {
     "name": "stdout",
     "output_type": "stream",
     "text": [
      "1171.203369140625\n"
     ]
    }
   ],
   "source": [
    "print(CEM.best_loss)"
   ]
  },
  {
   "cell_type": "code",
   "execution_count": 17,
   "metadata": {},
   "outputs": [
    {
     "name": "stdout",
     "output_type": "stream",
     "text": [
      "tensor(0.)\n"
     ]
    }
   ],
   "source": [
    "print(CEM.best_pert_loss)"
   ]
  },
  {
   "cell_type": "code",
   "execution_count": 18,
   "metadata": {},
   "outputs": [
    {
     "name": "stdout",
     "output_type": "stream",
     "text": [
      "10\n"
     ]
    }
   ],
   "source": [
    "print(CEM.best_c)"
   ]
  },
  {
   "cell_type": "code",
   "execution_count": 41,
   "metadata": {},
   "outputs": [
    {
     "name": "stderr",
     "output_type": "stream",
     "text": [
      "D:\\david\\Coding\\uva-fact-ai\\models\\conv_model.py:50: UserWarning: Implicit dimension choice for softmax has been deprecated. Change the call to include dim=X as an argument.\n",
      "  out = nn.functional.softmax(out)\n"
     ]
    },
    {
     "data": {
      "text/plain": [
       "True"
      ]
     },
     "execution_count": 41,
     "metadata": {},
     "output_type": "execute_result"
    },
    {
     "data": {
      "image/png": "[encoded data removed]",
      "text/plain": [
       "<Figure size 432x288 with 1 Axes>"
      ]
     },
     "metadata": {
      "needs_background": "light"
     },
     "output_type": "display_data"
    }
   ],
   "source": [
    "# latest delta\n",
    "plt.imshow(cnn(CEM.prev_deltas[-1].view(1, 28, 28)).detach())"
   ]
  },
  {
   "cell_type": "code",
   "execution_count": null,
   "metadata": {},
   "outputs": [],
   "source": []
  }
 ],
 "metadata": {
  "kernelspec": {
   "display_name": "Python 3",
   "language": "python",
   "name": "python3"
  },
  "language_info": {
   "codemirror_mode": {
    "name": "ipython",
    "version": 3
   },
   "file_extension": ".py",
   "mimetype": "text/x-python",
   "name": "python",
   "nbconvert_exporter": "python",
   "pygments_lexer": "ipython3",
   "version": "3.7.0"
  }
 },
 "nbformat": 4,
 "nbformat_minor": 2
}
