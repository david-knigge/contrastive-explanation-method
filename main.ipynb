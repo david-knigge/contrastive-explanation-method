{
 "cells": [
  {
   "cell_type": "code",
   "execution_count": 1,
   "metadata": {},
   "outputs": [],
   "source": [
    "%matplotlib inline\n",
    "import matplotlib.pyplot as plt\n",
    "import numpy as np\n",
    "\n",
    "import time\n",
    "import os\n",
    "\n",
    "from datasets.mnist import MNIST\n",
    "\n",
    "from models.cae_model import CAE\n",
    "from models.conv_model import CNN\n",
    "\n",
    "from train import train_ae, train_cnn\n",
    "\n",
    "from cem import ContrastiveExplanationMethod"
   ]
  },
  {
   "cell_type": "code",
   "execution_count": 2,
   "metadata": {},
   "outputs": [],
   "source": [
    "dataset = MNIST(batch_size=64)\n",
    "# dataset = FashionMNIST()"
   ]
  },
  {
   "cell_type": "markdown",
   "metadata": {},
   "source": [
    "# Training the classifier"
   ]
  },
  {
   "cell_type": "code",
   "execution_count": 5,
   "metadata": {},
   "outputs": [],
   "source": [
    "cnn = CNN(device=\"cpu\")\n",
    "\n",
    "train_cnn(cnn, dataset, iterations=20, lr=0.01, save_fn='mnist-cnn', device=\"cpu\", load_path=\"models/saved_models/mnist-cnn.h5\")"
   ]
  },
  {
   "cell_type": "code",
   "execution_count": 6,
   "metadata": {},
   "outputs": [
    {
     "name": "stderr",
     "output_type": "stream",
     "text": [
      "D:\\david\\Coding\\uva-fact-ai\\models\\conv_model.py:50: UserWarning: Implicit dimension choice for softmax has been deprecated. Change the call to include dim=X as an argument.\n",
      "  out = nn.functional.softmax(out)\n"
     ]
    }
   ],
   "source": [
    "images, _ = dataset.get_batch()\n",
    "\n",
    "output = cnn(images)\n",
    "\n",
    "images = images.numpy()\n",
    "output = output.detach().numpy()\n"
   ]
  },
  {
   "cell_type": "markdown",
   "metadata": {},
   "source": [
    "# Training the autoencoder"
   ]
  },
  {
   "cell_type": "markdown",
   "metadata": {},
   "source": [
    "This section trains the autoencoder which will be used as regularizer for the data space which the perturbations are found in."
   ]
  },
  {
   "cell_type": "code",
   "execution_count": 7,
   "metadata": {},
   "outputs": [],
   "source": [
    "# Train or load autoencoder\n",
    "cae = CAE(device=\"cpu\")\n",
    "\n",
    "train_ae(cae, dataset, iterations=10, save_fn=\"mnist-cae\", device=\"cpu\", load_path=\"models/saved_models/mnist-cae-no-rs.h5\")"
   ]
  },
  {
   "cell_type": "code",
   "execution_count": 8,
   "metadata": {},
   "outputs": [
    {
     "data": {
      "image/png": "[encoded data removed]",
      "text/plain": [
       "<Figure size 1800x288 with 8 Axes>"
      ]
     },
     "metadata": {
      "needs_background": "light"
     },
     "output_type": "display_data"
    }
   ],
   "source": [
    "# obtain one batch of test images\n",
    "images, _ = dataset.get_batch()\n",
    "\n",
    "#images_flatten = images.view(images.size(0), -1)\n",
    "# get sample outputs\n",
    "output = cae(images + .5)\n",
    "# prep images for display\n",
    "images = images.numpy()\n",
    "\n",
    "# output is resized into a batch of images\n",
    "# output = output.view(batch_size, 1, 28, 28)\n",
    "# use detach when it's an output that requires_grad\n",
    "output = output.detach().numpy()\n",
    "\n",
    "# plot the first ten input images and then reconstructed images\n",
    "fig, axes = plt.subplots(nrows=2, ncols=4, sharex=True, sharey=True, figsize=(25,4))\n",
    "\n",
    "# input images on top row, reconstructions on bottom\n",
    "for images, row in zip([images, output], axes):\n",
    "    for img, ax in zip(images, row):\n",
    "        ax.imshow(np.squeeze(img), cmap='gray')\n",
    "        ax.get_xaxis().set_visible(False)\n",
    "        ax.get_yaxis().set_visible(False)"
   ]
  },
  {
   "cell_type": "markdown",
   "metadata": {},
   "source": [
    "# Contrastive Explanation Method"
   ]
  },
  {
   "cell_type": "code",
   "execution_count": 23,
   "metadata": {},
   "outputs": [],
   "source": [
    "kappa = 10\n",
    "gamma = 100\n",
    "beta = 0.1\n",
    "lr = 0.1\n",
    "CEM = ContrastiveExplanationMethod(cnn, cae, iterations=1000, n_searches=9, kappa=kappa, gamma=gamma, beta=beta, learning_rate=lr)"
   ]
  },
  {
   "cell_type": "code",
   "execution_count": 24,
   "metadata": {},
   "outputs": [
    {
     "data": {
      "text/plain": [
       "<matplotlib.image.AxesImage at 0x1f4ac543cf8>"
      ]
     },
     "execution_count": 24,
     "metadata": {},
     "output_type": "execute_result"
    },
    {
     "data": {
      "image/png": "[encoded data removed]",
      "text/plain": [
       "<Figure size 432x288 with 1 Axes>"
      ]
     },
     "metadata": {
      "needs_background": "light"
     },
     "output_type": "display_data"
    }
   ],
   "source": [
    "# obtain one sample\n",
    "image = dataset.get_sample_by_class(class_label=3, show_image=False)\n",
    "\n",
    "plt.imshow(image.squeeze())"
   ]
  },
  {
   "cell_type": "code",
   "execution_count": 25,
   "metadata": {
    "scrolled": true
   },
   "outputs": [
    {
     "name": "stdout",
     "output_type": "stream",
     "text": [
      "search:0 iteration:0 lr:0.10 c value:10.00 loss: 4334.97 delta sum:0.00 optimum:False y grad:10038.592\n",
      "search:0 iteration:20 lr:0.10 c value:10.00 loss: 22243.89 delta sum:-49.94 optimum:False y grad:10346.636\n",
      "search:0 iteration:40 lr:0.10 c value:10.00 loss: 22910.01 delta sum:-56.50 optimum:False y grad:10797.384\n",
      "search:0 iteration:60 lr:0.10 c value:10.00 loss: 24444.90 delta sum:-54.45 optimum:False y grad:10619.767\n",
      "search:0 iteration:80 lr:0.10 c value:10.00 loss: 23826.97 delta sum:-55.14 optimum:False y grad:9488.350\n",
      "search:0 iteration:100 lr:0.09 c value:10.00 loss: 23842.30 delta sum:-47.09 optimum:False y grad:8301.973\n",
      "search:0 iteration:120 lr:0.09 c value:10.00 loss: 23852.27 delta sum:-51.88 optimum:False y grad:11352.347\n",
      "search:0 iteration:140 lr:0.09 c value:10.00 loss: 26412.82 delta sum:-53.46 optimum:False y grad:16317.171\n",
      "search:0 iteration:160 lr:0.09 c value:10.00 loss: 25139.57 delta sum:-54.90 optimum:False y grad:7148.394\n",
      "search:0 iteration:180 lr:0.09 c value:10.00 loss: 26044.91 delta sum:-45.26 optimum:False y grad:6692.032\n",
      "search:0 iteration:200 lr:0.09 c value:10.00 loss: 26376.45 delta sum:-47.98 optimum:False y grad:10840.718\n",
      "search:0 iteration:220 lr:0.09 c value:10.00 loss: 25969.30 delta sum:-43.13 optimum:False y grad:11113.628\n",
      "search:0 iteration:240 lr:0.09 c value:10.00 loss: 26467.89 delta sum:-40.44 optimum:False y grad:15868.881\n",
      "search:0 iteration:260 lr:0.09 c value:10.00 loss: 25215.62 delta sum:-51.80 optimum:False y grad:11294.602\n",
      "search:0 iteration:280 lr:0.08 c value:10.00 loss: 25598.46 delta sum:-55.83 optimum:False y grad:13376.891\n",
      "search:0 iteration:300 lr:0.08 c value:10.00 loss: 27550.11 delta sum:-51.93 optimum:False y grad:11328.188\n",
      "search:0 iteration:320 lr:0.08 c value:10.00 loss: 24861.86 delta sum:-50.25 optimum:False y grad:10942.195\n",
      "search:0 iteration:340 lr:0.08 c value:10.00 loss: 25006.17 delta sum:-52.14 optimum:False y grad:12052.635\n",
      "search:0 iteration:360 lr:0.08 c value:10.00 loss: 26248.49 delta sum:-41.37 optimum:False y grad:14104.023\n",
      "search:0 iteration:380 lr:0.08 c value:10.00 loss: 25190.77 delta sum:-51.23 optimum:False y grad:8809.128\n",
      "search:0 iteration:400 lr:0.08 c value:10.00 loss: 25456.67 delta sum:-52.26 optimum:False y grad:14553.453\n",
      "search:0 iteration:420 lr:0.08 c value:10.00 loss: 25374.79 delta sum:-56.62 optimum:False y grad:12706.562\n",
      "search:0 iteration:440 lr:0.07 c value:10.00 loss: 24773.12 delta sum:-53.76 optimum:False y grad:4203.780\n",
      "search:0 iteration:460 lr:0.07 c value:10.00 loss: 25278.75 delta sum:-51.79 optimum:False y grad:9818.955\n",
      "search:0 iteration:480 lr:0.07 c value:10.00 loss: 24295.51 delta sum:-61.53 optimum:False y grad:5387.683\n",
      "search:0 iteration:500 lr:0.07 c value:10.00 loss: 25456.47 delta sum:-53.51 optimum:False y grad:9543.309\n",
      "search:0 iteration:520 lr:0.07 c value:10.00 loss: 25848.95 delta sum:-52.95 optimum:False y grad:8352.016\n",
      "search:0 iteration:540 lr:0.07 c value:10.00 loss: 24096.06 delta sum:-51.68 optimum:False y grad:6143.077\n",
      "search:0 iteration:560 lr:0.07 c value:10.00 loss: 24891.23 delta sum:-55.48 optimum:False y grad:11272.715\n",
      "search:0 iteration:580 lr:0.06 c value:10.00 loss: 24214.53 delta sum:-55.03 optimum:False y grad:8395.995\n",
      "search:0 iteration:600 lr:0.06 c value:10.00 loss: 23121.29 delta sum:-53.26 optimum:False y grad:10575.044\n",
      "search:0 iteration:620 lr:0.06 c value:10.00 loss: 23423.87 delta sum:-56.87 optimum:False y grad:9131.070\n",
      "search:0 iteration:640 lr:0.06 c value:10.00 loss: 25694.84 delta sum:-52.17 optimum:False y grad:11215.245\n",
      "search:0 iteration:660 lr:0.06 c value:10.00 loss: 23481.37 delta sum:-55.25 optimum:False y grad:8632.287\n",
      "search:0 iteration:680 lr:0.06 c value:10.00 loss: 25081.40 delta sum:-51.44 optimum:False y grad:6195.577\n",
      "search:0 iteration:700 lr:0.05 c value:10.00 loss: 23692.09 delta sum:-56.90 optimum:False y grad:8912.379\n",
      "search:0 iteration:720 lr:0.05 c value:10.00 loss: 24571.73 delta sum:-51.22 optimum:False y grad:6171.322\n",
      "search:0 iteration:740 lr:0.05 c value:10.00 loss: 23645.96 delta sum:-54.88 optimum:False y grad:5494.266\n",
      "search:0 iteration:760 lr:0.05 c value:10.00 loss: 24915.46 delta sum:-54.36 optimum:False y grad:9708.170\n",
      "search:0 iteration:780 lr:0.05 c value:10.00 loss: 23945.32 delta sum:-53.66 optimum:False y grad:1872.042\n",
      "search:0 iteration:800 lr:0.04 c value:10.00 loss: 25146.00 delta sum:-53.99 optimum:False y grad:9226.340\n",
      "search:0 iteration:820 lr:0.04 c value:10.00 loss: 24428.33 delta sum:-46.49 optimum:False y grad:6740.953\n",
      "search:0 iteration:840 lr:0.04 c value:10.00 loss: 23307.14 delta sum:-64.65 optimum:False y grad:7532.601\n",
      "search:0 iteration:860 lr:0.04 c value:10.00 loss: 23692.29 delta sum:-57.41 optimum:False y grad:9166.482\n",
      "search:0 iteration:880 lr:0.03 c value:10.00 loss: 22328.05 delta sum:-61.41 optimum:False y grad:9840.483\n",
      "search:0 iteration:900 lr:0.03 c value:10.00 loss: 23612.39 delta sum:-55.62 optimum:False y grad:6340.704\n",
      "search:0 iteration:920 lr:0.03 c value:10.00 loss: 22827.48 delta sum:-58.03 optimum:False y grad:7818.536\n",
      "search:0 iteration:940 lr:0.02 c value:10.00 loss: 21409.44 delta sum:-61.73 optimum:False y grad:8511.294\n",
      "search:0 iteration:960 lr:0.02 c value:10.00 loss: 21226.76 delta sum:-64.56 optimum:False y grad:8219.912\n",
      "search:0 iteration:980 lr:0.01 c value:10.00 loss: 18189.14 delta sum:-71.75 optimum:False y grad:9982.391\n",
      "search:1 iteration:0 lr:0.10 c value:100.00 loss: 5221.12 delta sum:0.00 optimum:False y grad:10038.415\n",
      "search:1 iteration:20 lr:0.10 c value:100.00 loss: 22462.53 delta sum:-42.48 optimum:False y grad:13943.780\n",
      "search:1 iteration:40 lr:0.10 c value:100.00 loss: 23323.31 delta sum:-45.38 optimum:False y grad:11857.790\n",
      "search:1 iteration:60 lr:0.10 c value:100.00 loss: 25150.42 delta sum:-44.69 optimum:False y grad:7802.935\n",
      "search:1 iteration:80 lr:0.10 c value:100.00 loss: 26085.84 delta sum:-41.37 optimum:False y grad:7487.493\n",
      "search:1 iteration:100 lr:0.09 c value:100.00 loss: 24592.21 delta sum:-52.96 optimum:False y grad:9508.379\n",
      "search:1 iteration:120 lr:0.09 c value:100.00 loss: 23400.19 delta sum:-49.72 optimum:False y grad:12225.350\n",
      "search:1 iteration:140 lr:0.09 c value:100.00 loss: 25936.97 delta sum:-50.29 optimum:False y grad:9581.876\n",
      "search:1 iteration:160 lr:0.09 c value:100.00 loss: 25580.17 delta sum:-42.73 optimum:False y grad:11176.112\n",
      "search:1 iteration:180 lr:0.09 c value:100.00 loss: 25902.83 delta sum:-43.78 optimum:False y grad:12872.895\n",
      "search:1 iteration:200 lr:0.09 c value:100.00 loss: 26099.33 delta sum:-43.83 optimum:False y grad:9004.831\n",
      "search:1 iteration:220 lr:0.09 c value:100.00 loss: 25908.59 delta sum:-53.93 optimum:False y grad:7905.887\n",
      "NEW BEST: 19000.9296875 - C: 100\n",
      "search:1 iteration:240 lr:0.09 c value:100.00 loss: 27338.23 delta sum:-50.62 optimum:True y grad:13718.051\n",
      "search:1 iteration:260 lr:0.09 c value:100.00 loss: 24731.17 delta sum:-42.69 optimum:True y grad:12157.857\n",
      "search:1 iteration:280 lr:0.08 c value:100.00 loss: 26118.32 delta sum:-52.65 optimum:True y grad:6463.544\n",
      "search:1 iteration:300 lr:0.08 c value:100.00 loss: 26185.66 delta sum:-45.55 optimum:True y grad:11010.980\n",
      "search:1 iteration:320 lr:0.08 c value:100.00 loss: 22340.69 delta sum:-51.74 optimum:True y grad:12683.269\n",
      "search:1 iteration:340 lr:0.08 c value:100.00 loss: 23434.86 delta sum:-44.34 optimum:True y grad:10902.496\n",
      "search:1 iteration:360 lr:0.08 c value:100.00 loss: 23530.46 delta sum:-52.14 optimum:True y grad:7026.493\n",
      "search:1 iteration:380 lr:0.08 c value:100.00 loss: 25631.95 delta sum:-44.95 optimum:True y grad:13263.620\n",
      "search:1 iteration:400 lr:0.08 c value:100.00 loss: 23551.42 delta sum:-52.52 optimum:True y grad:9372.376\n",
      "search:1 iteration:420 lr:0.08 c value:100.00 loss: 26459.81 delta sum:-40.40 optimum:True y grad:6891.923\n",
      "search:1 iteration:440 lr:0.07 c value:100.00 loss: 24372.29 delta sum:-50.08 optimum:True y grad:9518.386\n",
      "search:1 iteration:460 lr:0.07 c value:100.00 loss: 26193.89 delta sum:-48.17 optimum:True y grad:10568.962\n",
      "search:1 iteration:480 lr:0.07 c value:100.00 loss: 25686.37 delta sum:-50.34 optimum:True y grad:10329.788\n",
      "search:1 iteration:500 lr:0.07 c value:100.00 loss: 24627.75 delta sum:-47.19 optimum:True y grad:9619.865\n"
     ]
    },
    {
     "name": "stdout",
     "output_type": "stream",
     "text": [
      "search:1 iteration:520 lr:0.07 c value:100.00 loss: 26264.06 delta sum:-40.56 optimum:True y grad:8941.915\n",
      "search:1 iteration:540 lr:0.07 c value:100.00 loss: 26124.98 delta sum:-36.74 optimum:True y grad:13029.348\n",
      "search:1 iteration:560 lr:0.07 c value:100.00 loss: 25632.41 delta sum:-52.68 optimum:True y grad:6709.715\n",
      "search:1 iteration:580 lr:0.06 c value:100.00 loss: 26923.24 delta sum:-43.62 optimum:True y grad:12118.188\n",
      "search:1 iteration:600 lr:0.06 c value:100.00 loss: 25429.97 delta sum:-51.93 optimum:True y grad:7403.666\n",
      "search:1 iteration:620 lr:0.06 c value:100.00 loss: 25735.72 delta sum:-51.78 optimum:True y grad:8970.034\n",
      "search:1 iteration:640 lr:0.06 c value:100.00 loss: 25245.44 delta sum:-40.87 optimum:True y grad:7767.910\n",
      "search:1 iteration:660 lr:0.06 c value:100.00 loss: 21491.46 delta sum:-64.22 optimum:True y grad:12832.036\n",
      "search:1 iteration:680 lr:0.06 c value:100.00 loss: 21219.24 delta sum:-52.47 optimum:True y grad:3754.917\n",
      "NEW BEST: 18946.841796875 - C: 100\n",
      "search:1 iteration:700 lr:0.05 c value:100.00 loss: 21364.80 delta sum:-50.79 optimum:True y grad:6545.892\n",
      "search:1 iteration:720 lr:0.05 c value:100.00 loss: 23804.50 delta sum:-55.74 optimum:True y grad:7933.086\n",
      "search:1 iteration:740 lr:0.05 c value:100.00 loss: 23668.02 delta sum:-51.51 optimum:True y grad:6386.569\n",
      "search:1 iteration:760 lr:0.05 c value:100.00 loss: 22057.86 delta sum:-56.64 optimum:True y grad:12794.941\n",
      "search:1 iteration:780 lr:0.05 c value:100.00 loss: 24392.20 delta sum:-49.11 optimum:True y grad:11245.781\n",
      "search:1 iteration:800 lr:0.04 c value:100.00 loss: 21980.95 delta sum:-50.72 optimum:True y grad:4032.598\n",
      "search:1 iteration:820 lr:0.04 c value:100.00 loss: 22869.55 delta sum:-47.44 optimum:True y grad:8434.660\n",
      "search:1 iteration:840 lr:0.04 c value:100.00 loss: 23803.59 delta sum:-49.98 optimum:True y grad:9628.205\n",
      "search:1 iteration:860 lr:0.04 c value:100.00 loss: 23302.95 delta sum:-54.42 optimum:True y grad:8827.296\n",
      "NEW BEST: 17630.1015625 - C: 100\n",
      "search:1 iteration:880 lr:0.03 c value:100.00 loss: 24462.58 delta sum:-40.55 optimum:True y grad:11560.205\n",
      "search:1 iteration:900 lr:0.03 c value:100.00 loss: 22661.66 delta sum:-49.04 optimum:True y grad:11191.013\n",
      "search:1 iteration:920 lr:0.03 c value:100.00 loss: 22087.26 delta sum:-56.07 optimum:True y grad:9484.725\n",
      "search:1 iteration:940 lr:0.02 c value:100.00 loss: 23288.73 delta sum:-44.20 optimum:True y grad:10158.393\n",
      "NEW BEST: 17000.05859375 - C: 100\n",
      "NEW BEST: 15640.02734375 - C: 100\n",
      "search:1 iteration:960 lr:0.02 c value:100.00 loss: 18494.61 delta sum:-59.52 optimum:True y grad:3583.023\n",
      "NEW BEST: 14945.375 - C: 100\n",
      "search:1 iteration:980 lr:0.01 c value:100.00 loss: 16531.08 delta sum:-61.89 optimum:True y grad:10063.719\n",
      "search:2 iteration:0 lr:0.10 c value:50.05 loss: 4729.31 delta sum:0.00 optimum:False y grad:10038.514\n",
      "search:2 iteration:20 lr:0.10 c value:50.05 loss: 20873.74 delta sum:-62.96 optimum:False y grad:12073.791\n",
      "search:2 iteration:40 lr:0.10 c value:50.05 loss: 22220.92 delta sum:-55.87 optimum:False y grad:11990.044\n",
      "search:2 iteration:60 lr:0.10 c value:50.05 loss: 23191.06 delta sum:-63.85 optimum:False y grad:10596.527\n",
      "search:2 iteration:80 lr:0.10 c value:50.05 loss: 23278.46 delta sum:-51.98 optimum:False y grad:7565.097\n",
      "search:2 iteration:100 lr:0.09 c value:50.05 loss: 26818.45 delta sum:-49.68 optimum:False y grad:10659.249\n",
      "search:2 iteration:120 lr:0.09 c value:50.05 loss: 25831.98 delta sum:-46.10 optimum:False y grad:9892.488\n",
      "search:2 iteration:140 lr:0.09 c value:50.05 loss: 25361.68 delta sum:-56.96 optimum:False y grad:13235.580\n",
      "search:2 iteration:160 lr:0.09 c value:50.05 loss: 26389.52 delta sum:-55.02 optimum:False y grad:9296.229\n",
      "search:2 iteration:180 lr:0.09 c value:50.05 loss: 27039.72 delta sum:-42.41 optimum:False y grad:12040.928\n",
      "search:2 iteration:200 lr:0.09 c value:50.05 loss: 26033.90 delta sum:-47.61 optimum:False y grad:9345.943\n",
      "search:2 iteration:220 lr:0.09 c value:50.05 loss: 26873.50 delta sum:-44.44 optimum:False y grad:12714.097\n",
      "search:2 iteration:240 lr:0.09 c value:50.05 loss: 26009.73 delta sum:-51.10 optimum:False y grad:7348.973\n",
      "search:2 iteration:260 lr:0.09 c value:50.05 loss: 24937.94 delta sum:-53.67 optimum:False y grad:12412.959\n",
      "search:2 iteration:280 lr:0.08 c value:50.05 loss: 24953.01 delta sum:-53.46 optimum:False y grad:7146.882\n",
      "search:2 iteration:300 lr:0.08 c value:50.05 loss: 26233.09 delta sum:-49.80 optimum:False y grad:7551.571\n",
      "search:2 iteration:320 lr:0.08 c value:50.05 loss: 25065.60 delta sum:-56.28 optimum:False y grad:5275.245\n",
      "search:2 iteration:340 lr:0.08 c value:50.05 loss: 24743.64 delta sum:-53.83 optimum:False y grad:9668.008\n",
      "search:2 iteration:360 lr:0.08 c value:50.05 loss: 24765.73 delta sum:-60.29 optimum:False y grad:11089.903\n",
      "search:2 iteration:380 lr:0.08 c value:50.05 loss: 23593.07 delta sum:-56.84 optimum:False y grad:10382.112\n",
      "search:2 iteration:400 lr:0.08 c value:50.05 loss: 25043.72 delta sum:-51.81 optimum:False y grad:9840.349\n",
      "search:2 iteration:420 lr:0.08 c value:50.05 loss: 24451.84 delta sum:-54.80 optimum:False y grad:6720.568\n",
      "search:2 iteration:440 lr:0.07 c value:50.05 loss: 25617.06 delta sum:-49.55 optimum:False y grad:8356.421\n",
      "search:2 iteration:460 lr:0.07 c value:50.05 loss: 23949.47 delta sum:-49.53 optimum:False y grad:6672.301\n",
      "search:2 iteration:480 lr:0.07 c value:50.05 loss: 25588.22 delta sum:-54.27 optimum:False y grad:11063.478\n",
      "search:2 iteration:500 lr:0.07 c value:50.05 loss: 24342.34 delta sum:-56.90 optimum:False y grad:5097.929\n",
      "search:2 iteration:520 lr:0.07 c value:50.05 loss: 23809.04 delta sum:-53.44 optimum:False y grad:6322.392\n",
      "search:2 iteration:540 lr:0.07 c value:50.05 loss: 23834.42 delta sum:-62.86 optimum:False y grad:7429.749\n",
      "search:2 iteration:560 lr:0.07 c value:50.05 loss: 24781.82 delta sum:-45.26 optimum:False y grad:3126.313\n",
      "search:2 iteration:580 lr:0.06 c value:50.05 loss: 24250.71 delta sum:-54.10 optimum:False y grad:10984.516\n",
      "search:2 iteration:600 lr:0.06 c value:50.05 loss: 25025.13 delta sum:-50.57 optimum:False y grad:8898.066\n",
      "search:2 iteration:620 lr:0.06 c value:50.05 loss: 24971.64 delta sum:-54.99 optimum:False y grad:3700.424\n",
      "search:2 iteration:640 lr:0.06 c value:50.05 loss: 25435.45 delta sum:-50.36 optimum:False y grad:4435.502\n",
      "search:2 iteration:660 lr:0.06 c value:50.05 loss: 24528.43 delta sum:-58.38 optimum:False y grad:12106.227\n",
      "search:2 iteration:680 lr:0.06 c value:50.05 loss: 23420.32 delta sum:-54.17 optimum:False y grad:7669.689\n",
      "search:2 iteration:700 lr:0.05 c value:50.05 loss: 25569.95 delta sum:-57.14 optimum:False y grad:10703.571\n",
      "search:2 iteration:720 lr:0.05 c value:50.05 loss: 24812.32 delta sum:-55.33 optimum:False y grad:9352.569\n",
      "search:2 iteration:740 lr:0.05 c value:50.05 loss: 26558.50 delta sum:-51.33 optimum:False y grad:10040.374\n",
      "search:2 iteration:760 lr:0.05 c value:50.05 loss: 24882.00 delta sum:-51.43 optimum:False y grad:8835.173\n",
      "search:2 iteration:780 lr:0.05 c value:50.05 loss: 24483.95 delta sum:-58.61 optimum:False y grad:4033.173\n",
      "search:2 iteration:800 lr:0.04 c value:50.05 loss: 23937.75 delta sum:-61.13 optimum:False y grad:12385.570\n",
      "search:2 iteration:820 lr:0.04 c value:50.05 loss: 24226.35 delta sum:-55.92 optimum:False y grad:6566.556\n",
      "search:2 iteration:840 lr:0.04 c value:50.05 loss: 24924.17 delta sum:-52.31 optimum:False y grad:12154.275\n",
      "search:2 iteration:860 lr:0.04 c value:50.05 loss: 23746.96 delta sum:-46.39 optimum:False y grad:7516.577\n",
      "search:2 iteration:880 lr:0.03 c value:50.05 loss: 22539.96 delta sum:-57.58 optimum:False y grad:8262.744\n",
      "search:2 iteration:900 lr:0.03 c value:50.05 loss: 24155.76 delta sum:-59.15 optimum:False y grad:4004.954\n",
      "search:2 iteration:920 lr:0.03 c value:50.05 loss: 23477.84 delta sum:-55.89 optimum:False y grad:8659.666\n",
      "search:2 iteration:940 lr:0.02 c value:50.05 loss: 19289.67 delta sum:-76.77 optimum:False y grad:11816.708\n",
      "search:2 iteration:960 lr:0.02 c value:50.05 loss: 20392.87 delta sum:-71.68 optimum:False y grad:6275.605\n",
      "search:2 iteration:980 lr:0.01 c value:50.05 loss: 17316.44 delta sum:-75.38 optimum:False y grad:10185.387\n"
     ]
    },
    {
     "name": "stdout",
     "output_type": "stream",
     "text": [
      "search:3 iteration:0 lr:0.10 c value:500.50 loss: 9164.49 delta sum:0.00 optimum:False y grad:10037.638\n",
      "NEW BEST: 7731.60791015625 - C: 500.5\n",
      "search:3 iteration:20 lr:0.10 c value:500.50 loss: 16455.90 delta sum:-30.55 optimum:True y grad:-17195.430\n",
      "search:3 iteration:40 lr:0.10 c value:500.50 loss: 15196.12 delta sum:-61.84 optimum:True y grad:7774.953\n",
      "search:3 iteration:60 lr:0.10 c value:500.50 loss: 44388.10 delta sum:-61.89 optimum:True y grad:24007.428\n",
      "search:3 iteration:80 lr:0.10 c value:500.50 loss: 49291.78 delta sum:-55.59 optimum:True y grad:27307.475\n",
      "search:3 iteration:100 lr:0.09 c value:500.50 loss: 48390.79 delta sum:-58.36 optimum:True y grad:30235.070\n",
      "search:3 iteration:120 lr:0.09 c value:500.50 loss: 46488.70 delta sum:-56.44 optimum:True y grad:35158.469\n",
      "search:3 iteration:140 lr:0.09 c value:500.50 loss: 48749.76 delta sum:-48.10 optimum:True y grad:34279.148\n",
      "search:3 iteration:160 lr:0.09 c value:500.50 loss: 27165.50 delta sum:-37.37 optimum:True y grad:30693.666\n",
      "search:3 iteration:180 lr:0.09 c value:500.50 loss: 53509.05 delta sum:-49.88 optimum:True y grad:35284.656\n",
      "search:3 iteration:200 lr:0.09 c value:500.50 loss: 49792.48 delta sum:-60.03 optimum:True y grad:22474.281\n",
      "search:3 iteration:220 lr:0.09 c value:500.50 loss: 45420.69 delta sum:-54.76 optimum:True y grad:37374.363\n",
      "search:3 iteration:240 lr:0.09 c value:500.50 loss: 43266.97 delta sum:-65.45 optimum:True y grad:25115.988\n",
      "search:3 iteration:260 lr:0.09 c value:500.50 loss: 56340.63 delta sum:-48.26 optimum:True y grad:37234.590\n",
      "search:3 iteration:280 lr:0.08 c value:500.50 loss: 51122.81 delta sum:-54.97 optimum:True y grad:32309.605\n",
      "search:3 iteration:300 lr:0.08 c value:500.50 loss: 43015.77 delta sum:-68.07 optimum:True y grad:28130.959\n",
      "search:3 iteration:320 lr:0.08 c value:500.50 loss: 44291.96 delta sum:-61.12 optimum:True y grad:25260.539\n",
      "search:3 iteration:340 lr:0.08 c value:500.50 loss: 23993.37 delta sum:-45.73 optimum:True y grad:13024.758\n",
      "search:3 iteration:360 lr:0.08 c value:500.50 loss: 54266.45 delta sum:-44.25 optimum:True y grad:41345.379\n",
      "search:3 iteration:380 lr:0.08 c value:500.50 loss: 20935.90 delta sum:-42.03 optimum:True y grad:4408.118\n",
      "search:3 iteration:400 lr:0.08 c value:500.50 loss: 54347.29 delta sum:-43.82 optimum:True y grad:44012.547\n",
      "search:3 iteration:420 lr:0.08 c value:500.50 loss: 54784.07 delta sum:-47.09 optimum:True y grad:35444.547\n",
      "search:3 iteration:440 lr:0.07 c value:500.50 loss: 51315.32 delta sum:-53.89 optimum:True y grad:38031.129\n",
      "search:3 iteration:460 lr:0.07 c value:500.50 loss: 58555.73 delta sum:-46.75 optimum:True y grad:39147.406\n",
      "search:3 iteration:480 lr:0.07 c value:500.50 loss: 41033.56 delta sum:-45.97 optimum:True y grad:30731.143\n",
      "search:3 iteration:500 lr:0.07 c value:500.50 loss: 52051.77 delta sum:-49.94 optimum:True y grad:40038.090\n",
      "search:3 iteration:520 lr:0.07 c value:500.50 loss: 54018.50 delta sum:-53.27 optimum:True y grad:35546.168\n",
      "search:3 iteration:540 lr:0.07 c value:500.50 loss: 49915.89 delta sum:-58.71 optimum:True y grad:31956.736\n",
      "search:3 iteration:560 lr:0.07 c value:500.50 loss: 42985.41 delta sum:-50.72 optimum:True y grad:24852.775\n",
      "search:3 iteration:580 lr:0.06 c value:500.50 loss: 50479.91 delta sum:-60.94 optimum:True y grad:52326.316\n",
      "search:3 iteration:600 lr:0.06 c value:500.50 loss: 46471.76 delta sum:-54.46 optimum:True y grad:36473.426\n",
      "search:3 iteration:620 lr:0.06 c value:500.50 loss: 49903.62 delta sum:-47.27 optimum:True y grad:41164.344\n",
      "search:3 iteration:640 lr:0.06 c value:500.50 loss: 48132.13 delta sum:-65.11 optimum:True y grad:34528.180\n",
      "search:3 iteration:660 lr:0.06 c value:500.50 loss: 45738.76 delta sum:-63.63 optimum:True y grad:28448.219\n",
      "search:3 iteration:680 lr:0.06 c value:500.50 loss: 23561.67 delta sum:-49.87 optimum:True y grad:4901.035\n",
      "search:3 iteration:700 lr:0.05 c value:500.50 loss: 44928.83 delta sum:-59.83 optimum:True y grad:31610.967\n",
      "search:3 iteration:720 lr:0.05 c value:500.50 loss: 36168.85 delta sum:-54.93 optimum:True y grad:17211.965\n",
      "search:3 iteration:740 lr:0.05 c value:500.50 loss: 43062.39 delta sum:-54.76 optimum:True y grad:13845.312\n",
      "search:3 iteration:760 lr:0.05 c value:500.50 loss: 51693.13 delta sum:-52.90 optimum:True y grad:31897.162\n",
      "search:3 iteration:780 lr:0.05 c value:500.50 loss: 49528.20 delta sum:-54.68 optimum:True y grad:40305.676\n",
      "search:3 iteration:800 lr:0.04 c value:500.50 loss: 42371.28 delta sum:-54.49 optimum:True y grad:20582.895\n",
      "search:3 iteration:820 lr:0.04 c value:500.50 loss: 44542.12 delta sum:-58.34 optimum:True y grad:24408.561\n",
      "search:3 iteration:840 lr:0.04 c value:500.50 loss: 19700.86 delta sum:-37.77 optimum:True y grad:-16003.979\n",
      "search:3 iteration:860 lr:0.04 c value:500.50 loss: 51298.87 delta sum:-61.14 optimum:True y grad:46332.902\n",
      "search:3 iteration:880 lr:0.03 c value:500.50 loss: 22587.74 delta sum:-33.47 optimum:True y grad:4717.406\n",
      "search:3 iteration:900 lr:0.03 c value:500.50 loss: 18060.21 delta sum:-52.22 optimum:True y grad:3957.091\n",
      "search:3 iteration:920 lr:0.03 c value:500.50 loss: 19538.26 delta sum:-37.02 optimum:True y grad:2541.750\n",
      "search:3 iteration:940 lr:0.02 c value:500.50 loss: 37252.97 delta sum:-57.22 optimum:True y grad:17993.561\n",
      "search:3 iteration:960 lr:0.02 c value:500.50 loss: 39009.62 delta sum:-63.51 optimum:True y grad:19449.746\n",
      "search:3 iteration:980 lr:0.01 c value:500.50 loss: 40622.51 delta sum:-64.64 optimum:True y grad:22266.762\n",
      "search:4 iteration:0 lr:0.10 c value:250.30 loss: 6700.99 delta sum:0.00 optimum:False y grad:10038.125\n",
      "search:4 iteration:20 lr:0.10 c value:250.30 loss: 20837.07 delta sum:-36.03 optimum:True y grad:10670.626\n",
      "search:4 iteration:40 lr:0.10 c value:250.30 loss: 24055.90 delta sum:-37.74 optimum:True y grad:13876.202\n",
      "search:4 iteration:60 lr:0.10 c value:250.30 loss: 17765.19 delta sum:-52.53 optimum:True y grad:9620.860\n",
      "search:4 iteration:80 lr:0.10 c value:250.30 loss: 18706.54 delta sum:-50.78 optimum:True y grad:11840.028\n",
      "search:4 iteration:100 lr:0.09 c value:250.30 loss: 19621.49 delta sum:-51.22 optimum:True y grad:8282.086\n",
      "search:4 iteration:120 lr:0.09 c value:250.30 loss: 21646.48 delta sum:-35.82 optimum:True y grad:1879.559\n",
      "search:4 iteration:140 lr:0.09 c value:250.30 loss: 18242.86 delta sum:-64.87 optimum:True y grad:7928.271\n",
      "search:4 iteration:160 lr:0.09 c value:250.30 loss: 20597.99 delta sum:-65.69 optimum:True y grad:-1210.182\n",
      "search:4 iteration:180 lr:0.09 c value:250.30 loss: 38198.00 delta sum:-44.07 optimum:True y grad:26679.621\n",
      "search:4 iteration:200 lr:0.09 c value:250.30 loss: 17765.41 delta sum:-39.00 optimum:True y grad:8395.340\n",
      "search:4 iteration:220 lr:0.09 c value:250.30 loss: 21412.68 delta sum:-44.61 optimum:True y grad:20967.188\n",
      "search:4 iteration:240 lr:0.09 c value:250.30 loss: 32146.21 delta sum:-58.42 optimum:True y grad:13906.011\n",
      "search:4 iteration:260 lr:0.09 c value:250.30 loss: 39811.52 delta sum:-50.69 optimum:True y grad:25387.613\n",
      "search:4 iteration:280 lr:0.08 c value:250.30 loss: 23812.46 delta sum:-31.69 optimum:True y grad:4131.946\n",
      "search:4 iteration:300 lr:0.08 c value:250.30 loss: 40128.75 delta sum:-44.01 optimum:True y grad:25536.213\n",
      "search:4 iteration:320 lr:0.08 c value:250.30 loss: 37885.74 delta sum:-49.84 optimum:True y grad:17365.557\n",
      "search:4 iteration:340 lr:0.08 c value:250.30 loss: 23312.46 delta sum:-42.21 optimum:True y grad:13477.185\n",
      "search:4 iteration:360 lr:0.08 c value:250.30 loss: 18533.93 delta sum:-65.09 optimum:True y grad:8857.007\n",
      "search:4 iteration:380 lr:0.08 c value:250.30 loss: 18358.41 delta sum:-61.22 optimum:True y grad:9623.110\n",
      "search:4 iteration:400 lr:0.08 c value:250.30 loss: 21808.96 delta sum:-50.46 optimum:True y grad:-4139.521\n",
      "search:4 iteration:420 lr:0.08 c value:250.30 loss: 23032.61 delta sum:-45.34 optimum:True y grad:3179.780\n",
      "search:4 iteration:440 lr:0.07 c value:250.30 loss: 14341.94 delta sum:-59.30 optimum:True y grad:6786.055\n",
      "search:4 iteration:460 lr:0.07 c value:250.30 loss: 19690.73 delta sum:-25.54 optimum:True y grad:103.522\n",
      "search:4 iteration:480 lr:0.07 c value:250.30 loss: 17537.75 delta sum:-57.69 optimum:True y grad:6667.779\n"
     ]
    },
    {
     "name": "stdout",
     "output_type": "stream",
     "text": [
      "search:4 iteration:500 lr:0.07 c value:250.30 loss: 22887.56 delta sum:-40.59 optimum:True y grad:5913.703\n",
      "search:4 iteration:520 lr:0.07 c value:250.30 loss: 25800.91 delta sum:-41.89 optimum:True y grad:7095.900\n",
      "search:4 iteration:540 lr:0.07 c value:250.30 loss: 20526.31 delta sum:-57.66 optimum:True y grad:-1434.859\n",
      "search:4 iteration:560 lr:0.07 c value:250.30 loss: 18473.73 delta sum:-39.95 optimum:True y grad:-3659.435\n",
      "search:4 iteration:580 lr:0.06 c value:250.30 loss: 17200.26 delta sum:-62.51 optimum:True y grad:12003.532\n",
      "search:4 iteration:600 lr:0.06 c value:250.30 loss: 21295.18 delta sum:-49.75 optimum:True y grad:6810.597\n",
      "search:4 iteration:620 lr:0.06 c value:250.30 loss: 19424.42 delta sum:-58.69 optimum:True y grad:-6439.750\n",
      "search:4 iteration:640 lr:0.06 c value:250.30 loss: 18165.76 delta sum:-70.48 optimum:True y grad:7904.626\n",
      "search:4 iteration:660 lr:0.06 c value:250.30 loss: 19059.06 delta sum:-58.87 optimum:True y grad:7178.040\n",
      "search:4 iteration:680 lr:0.06 c value:250.30 loss: 21915.31 delta sum:-38.15 optimum:True y grad:1544.614\n",
      "search:4 iteration:700 lr:0.05 c value:250.30 loss: 19732.43 delta sum:-57.35 optimum:True y grad:5703.828\n",
      "search:4 iteration:720 lr:0.05 c value:250.30 loss: 17780.30 delta sum:-38.20 optimum:True y grad:-5645.760\n",
      "search:4 iteration:740 lr:0.05 c value:250.30 loss: 35416.96 delta sum:-55.73 optimum:True y grad:23281.361\n",
      "search:4 iteration:760 lr:0.05 c value:250.30 loss: 19011.14 delta sum:-35.27 optimum:True y grad:1209.149\n",
      "search:4 iteration:780 lr:0.05 c value:250.30 loss: 13498.41 delta sum:-52.02 optimum:True y grad:-12348.223\n",
      "search:4 iteration:800 lr:0.04 c value:250.30 loss: 18801.61 delta sum:-38.88 optimum:True y grad:6395.275\n",
      "search:4 iteration:820 lr:0.04 c value:250.30 loss: 18914.83 delta sum:-30.57 optimum:True y grad:192.212\n",
      "search:4 iteration:840 lr:0.04 c value:250.30 loss: 20379.85 delta sum:-37.51 optimum:True y grad:18642.016\n",
      "search:4 iteration:860 lr:0.04 c value:250.30 loss: 18391.20 delta sum:-52.37 optimum:True y grad:3735.948\n",
      "search:4 iteration:880 lr:0.03 c value:250.30 loss: 21126.83 delta sum:-51.11 optimum:True y grad:873.984\n",
      "search:4 iteration:900 lr:0.03 c value:250.30 loss: 20022.53 delta sum:-50.44 optimum:True y grad:6483.593\n",
      "search:4 iteration:920 lr:0.03 c value:250.30 loss: 17292.08 delta sum:-47.72 optimum:True y grad:5632.617\n",
      "search:4 iteration:940 lr:0.02 c value:250.30 loss: 17701.20 delta sum:-57.19 optimum:True y grad:8140.749\n",
      "search:4 iteration:960 lr:0.02 c value:250.30 loss: 28358.10 delta sum:-74.33 optimum:True y grad:25340.998\n",
      "search:4 iteration:980 lr:0.01 c value:250.30 loss: 13219.21 delta sum:-47.80 optimum:True y grad:-10021.905\n",
      "search:5 iteration:0 lr:0.10 c value:125.20 loss: 5469.25 delta sum:0.00 optimum:False y grad:10038.369\n",
      "search:5 iteration:20 lr:0.10 c value:125.20 loss: 24422.36 delta sum:-38.84 optimum:False y grad:11047.267\n",
      "search:5 iteration:40 lr:0.10 c value:125.20 loss: 25064.85 delta sum:-47.18 optimum:False y grad:14562.852\n",
      "search:5 iteration:60 lr:0.10 c value:125.20 loss: 23682.84 delta sum:-51.82 optimum:False y grad:8655.829\n",
      "search:5 iteration:80 lr:0.10 c value:125.20 loss: 26518.26 delta sum:-34.75 optimum:False y grad:9531.981\n",
      "search:5 iteration:100 lr:0.09 c value:125.20 loss: 21865.25 delta sum:-52.36 optimum:True y grad:8212.032\n",
      "search:5 iteration:120 lr:0.09 c value:125.20 loss: 25364.40 delta sum:-49.81 optimum:True y grad:7829.549\n",
      "search:5 iteration:140 lr:0.09 c value:125.20 loss: 26052.60 delta sum:-45.78 optimum:True y grad:5932.505\n",
      "search:5 iteration:160 lr:0.09 c value:125.20 loss: 25935.43 delta sum:-54.86 optimum:True y grad:6313.800\n",
      "search:5 iteration:180 lr:0.09 c value:125.20 loss: 25647.15 delta sum:-55.76 optimum:True y grad:6848.664\n",
      "search:5 iteration:200 lr:0.09 c value:125.20 loss: 26065.02 delta sum:-48.38 optimum:True y grad:6137.038\n",
      "search:5 iteration:220 lr:0.09 c value:125.20 loss: 24648.62 delta sum:-54.44 optimum:True y grad:9498.031\n",
      "search:5 iteration:240 lr:0.09 c value:125.20 loss: 25642.83 delta sum:-44.31 optimum:True y grad:6971.467\n",
      "search:5 iteration:260 lr:0.09 c value:125.20 loss: 24258.35 delta sum:-44.33 optimum:True y grad:6930.705\n",
      "search:5 iteration:280 lr:0.08 c value:125.20 loss: 26153.99 delta sum:-49.74 optimum:True y grad:12008.875\n",
      "search:5 iteration:300 lr:0.08 c value:125.20 loss: 26608.51 delta sum:-46.66 optimum:True y grad:14166.483\n",
      "search:5 iteration:320 lr:0.08 c value:125.20 loss: 25954.94 delta sum:-51.11 optimum:True y grad:10848.515\n",
      "search:5 iteration:340 lr:0.08 c value:125.20 loss: 26396.57 delta sum:-43.33 optimum:True y grad:13129.695\n",
      "search:5 iteration:360 lr:0.08 c value:125.20 loss: 24130.89 delta sum:-48.27 optimum:True y grad:7722.730\n",
      "search:5 iteration:380 lr:0.08 c value:125.20 loss: 25600.89 delta sum:-44.10 optimum:True y grad:6697.970\n",
      "search:5 iteration:400 lr:0.08 c value:125.20 loss: 25298.63 delta sum:-42.82 optimum:True y grad:11741.345\n",
      "search:5 iteration:420 lr:0.08 c value:125.20 loss: 23059.05 delta sum:-50.88 optimum:True y grad:5841.755\n",
      "search:5 iteration:440 lr:0.07 c value:125.20 loss: 23330.99 delta sum:-47.35 optimum:True y grad:10028.856\n",
      "search:5 iteration:460 lr:0.07 c value:125.20 loss: 24951.96 delta sum:-43.08 optimum:True y grad:7764.777\n",
      "search:5 iteration:480 lr:0.07 c value:125.20 loss: 22186.88 delta sum:-46.29 optimum:True y grad:9425.141\n",
      "search:5 iteration:500 lr:0.07 c value:125.20 loss: 25995.13 delta sum:-43.47 optimum:True y grad:9525.101\n",
      "search:5 iteration:520 lr:0.07 c value:125.20 loss: 23893.61 delta sum:-44.71 optimum:True y grad:8173.266\n",
      "search:5 iteration:540 lr:0.07 c value:125.20 loss: 26161.89 delta sum:-40.83 optimum:True y grad:12024.670\n",
      "search:5 iteration:560 lr:0.07 c value:125.20 loss: 24123.94 delta sum:-50.88 optimum:True y grad:8109.765\n",
      "search:5 iteration:580 lr:0.06 c value:125.20 loss: 25895.85 delta sum:-45.27 optimum:True y grad:11821.775\n",
      "search:5 iteration:600 lr:0.06 c value:125.20 loss: 24656.12 delta sum:-43.68 optimum:True y grad:5407.002\n",
      "search:5 iteration:620 lr:0.06 c value:125.20 loss: 24949.21 delta sum:-51.51 optimum:True y grad:5414.350\n",
      "search:5 iteration:640 lr:0.06 c value:125.20 loss: 25807.47 delta sum:-44.63 optimum:True y grad:5848.118\n",
      "search:5 iteration:660 lr:0.06 c value:125.20 loss: 24340.05 delta sum:-47.92 optimum:True y grad:6799.309\n",
      "search:5 iteration:680 lr:0.06 c value:125.20 loss: 22688.87 delta sum:-59.50 optimum:True y grad:7034.625\n",
      "search:5 iteration:700 lr:0.05 c value:125.20 loss: 19364.98 delta sum:-56.47 optimum:True y grad:13810.345\n",
      "search:5 iteration:720 lr:0.05 c value:125.20 loss: 23142.00 delta sum:-44.98 optimum:True y grad:6023.795\n",
      "search:5 iteration:740 lr:0.05 c value:125.20 loss: 24935.39 delta sum:-43.67 optimum:True y grad:8883.323\n",
      "search:5 iteration:760 lr:0.05 c value:125.20 loss: 23322.21 delta sum:-50.80 optimum:True y grad:4959.419\n",
      "search:5 iteration:780 lr:0.05 c value:125.20 loss: 24299.55 delta sum:-52.39 optimum:True y grad:5431.907\n",
      "search:5 iteration:800 lr:0.04 c value:125.20 loss: 22186.50 delta sum:-46.24 optimum:True y grad:6295.954\n",
      "search:5 iteration:820 lr:0.04 c value:125.20 loss: 21336.34 delta sum:-55.98 optimum:True y grad:7742.719\n",
      "search:5 iteration:840 lr:0.04 c value:125.20 loss: 24808.62 delta sum:-50.00 optimum:True y grad:4969.373\n",
      "search:5 iteration:860 lr:0.04 c value:125.20 loss: 23269.99 delta sum:-43.74 optimum:True y grad:5385.681\n",
      "search:5 iteration:880 lr:0.03 c value:125.20 loss: 24430.93 delta sum:-48.48 optimum:True y grad:9113.001\n",
      "search:5 iteration:900 lr:0.03 c value:125.20 loss: 22178.71 delta sum:-54.12 optimum:True y grad:3918.849\n",
      "search:5 iteration:920 lr:0.03 c value:125.20 loss: 22221.30 delta sum:-45.66 optimum:True y grad:10532.535\n",
      "search:5 iteration:940 lr:0.02 c value:125.20 loss: 21912.86 delta sum:-52.91 optimum:True y grad:8175.226\n",
      "search:5 iteration:960 lr:0.02 c value:125.20 loss: 20018.33 delta sum:-50.60 optimum:True y grad:5433.287\n",
      "search:5 iteration:980 lr:0.01 c value:125.20 loss: 16962.89 delta sum:-65.02 optimum:True y grad:5427.419\n",
      "search:6 iteration:0 lr:0.10 c value:62.65 loss: 4853.37 delta sum:0.00 optimum:False y grad:10038.487\n"
     ]
    },
    {
     "name": "stdout",
     "output_type": "stream",
     "text": [
      "search:6 iteration:20 lr:0.10 c value:62.65 loss: 22602.04 delta sum:-48.46 optimum:False y grad:7564.504\n",
      "search:6 iteration:40 lr:0.10 c value:62.65 loss: 22548.63 delta sum:-55.20 optimum:False y grad:7080.924\n",
      "search:6 iteration:60 lr:0.10 c value:62.65 loss: 23979.17 delta sum:-53.73 optimum:False y grad:6861.219\n",
      "search:6 iteration:80 lr:0.10 c value:62.65 loss: 24912.39 delta sum:-51.67 optimum:False y grad:11699.819\n",
      "search:6 iteration:100 lr:0.09 c value:62.65 loss: 24328.52 delta sum:-52.44 optimum:False y grad:6611.647\n",
      "search:6 iteration:120 lr:0.09 c value:62.65 loss: 24292.19 delta sum:-56.07 optimum:False y grad:7986.521\n",
      "search:6 iteration:140 lr:0.09 c value:62.65 loss: 23744.29 delta sum:-47.14 optimum:False y grad:6260.195\n",
      "search:6 iteration:160 lr:0.09 c value:62.65 loss: 25375.34 delta sum:-53.61 optimum:False y grad:10810.063\n",
      "search:6 iteration:180 lr:0.09 c value:62.65 loss: 24260.05 delta sum:-58.10 optimum:False y grad:9230.512\n",
      "search:6 iteration:200 lr:0.09 c value:62.65 loss: 25499.04 delta sum:-47.23 optimum:False y grad:8282.992\n",
      "search:6 iteration:220 lr:0.09 c value:62.65 loss: 24198.99 delta sum:-52.17 optimum:False y grad:5241.972\n",
      "search:6 iteration:240 lr:0.09 c value:62.65 loss: 24159.94 delta sum:-57.69 optimum:False y grad:9843.283\n",
      "search:6 iteration:260 lr:0.09 c value:62.65 loss: 26667.56 delta sum:-51.83 optimum:False y grad:7215.811\n",
      "search:6 iteration:280 lr:0.08 c value:62.65 loss: 26717.22 delta sum:-48.37 optimum:False y grad:12259.659\n",
      "search:6 iteration:300 lr:0.08 c value:62.65 loss: 26342.81 delta sum:-48.56 optimum:False y grad:9836.756\n",
      "search:6 iteration:320 lr:0.08 c value:62.65 loss: 26326.10 delta sum:-40.74 optimum:False y grad:6022.577\n",
      "search:6 iteration:340 lr:0.08 c value:62.65 loss: 24452.68 delta sum:-54.89 optimum:False y grad:8907.174\n",
      "search:6 iteration:360 lr:0.08 c value:62.65 loss: 23161.83 delta sum:-59.53 optimum:False y grad:5282.086\n",
      "search:6 iteration:380 lr:0.08 c value:62.65 loss: 23431.31 delta sum:-56.20 optimum:False y grad:3448.508\n",
      "search:6 iteration:400 lr:0.08 c value:62.65 loss: 24296.16 delta sum:-56.19 optimum:False y grad:7431.896\n",
      "search:6 iteration:420 lr:0.08 c value:62.65 loss: 25818.65 delta sum:-46.45 optimum:False y grad:9728.394\n",
      "search:6 iteration:440 lr:0.07 c value:62.65 loss: 25143.72 delta sum:-47.83 optimum:False y grad:9717.565\n",
      "search:6 iteration:460 lr:0.07 c value:62.65 loss: 24314.82 delta sum:-51.23 optimum:False y grad:7234.970\n",
      "search:6 iteration:480 lr:0.07 c value:62.65 loss: 24425.22 delta sum:-44.22 optimum:False y grad:8348.072\n",
      "search:6 iteration:500 lr:0.07 c value:62.65 loss: 24833.58 delta sum:-54.83 optimum:False y grad:9622.104\n",
      "search:6 iteration:520 lr:0.07 c value:62.65 loss: 24644.68 delta sum:-51.12 optimum:False y grad:4774.852\n",
      "search:6 iteration:540 lr:0.07 c value:62.65 loss: 25239.53 delta sum:-49.02 optimum:False y grad:11504.857\n",
      "search:6 iteration:560 lr:0.07 c value:62.65 loss: 24635.29 delta sum:-46.38 optimum:False y grad:7625.284\n",
      "search:6 iteration:580 lr:0.06 c value:62.65 loss: 25215.00 delta sum:-58.93 optimum:False y grad:8393.315\n",
      "search:6 iteration:600 lr:0.06 c value:62.65 loss: 24843.63 delta sum:-55.48 optimum:False y grad:5416.647\n",
      "search:6 iteration:620 lr:0.06 c value:62.65 loss: 24664.00 delta sum:-54.52 optimum:False y grad:5438.023\n",
      "search:6 iteration:640 lr:0.06 c value:62.65 loss: 23619.87 delta sum:-52.84 optimum:False y grad:5727.576\n",
      "search:6 iteration:660 lr:0.06 c value:62.65 loss: 25026.55 delta sum:-55.14 optimum:False y grad:9507.315\n",
      "search:6 iteration:680 lr:0.06 c value:62.65 loss: 24576.16 delta sum:-43.98 optimum:False y grad:10626.853\n",
      "search:6 iteration:700 lr:0.05 c value:62.65 loss: 22859.56 delta sum:-54.57 optimum:False y grad:6742.963\n",
      "search:6 iteration:720 lr:0.05 c value:62.65 loss: 23077.74 delta sum:-57.66 optimum:False y grad:7964.545\n",
      "search:6 iteration:740 lr:0.05 c value:62.65 loss: 23931.78 delta sum:-53.74 optimum:False y grad:7571.686\n",
      "search:6 iteration:760 lr:0.05 c value:62.65 loss: 24299.10 delta sum:-59.00 optimum:False y grad:5666.652\n",
      "search:6 iteration:780 lr:0.05 c value:62.65 loss: 23854.98 delta sum:-51.99 optimum:False y grad:10419.803\n",
      "search:6 iteration:800 lr:0.04 c value:62.65 loss: 21885.13 delta sum:-57.84 optimum:False y grad:8214.451\n",
      "search:6 iteration:820 lr:0.04 c value:62.65 loss: 24640.89 delta sum:-56.11 optimum:False y grad:7657.833\n",
      "search:6 iteration:840 lr:0.04 c value:62.65 loss: 24315.39 delta sum:-62.10 optimum:False y grad:7610.556\n",
      "search:6 iteration:860 lr:0.04 c value:62.65 loss: 24705.27 delta sum:-52.71 optimum:False y grad:12492.390\n",
      "search:6 iteration:880 lr:0.03 c value:62.65 loss: 20305.41 delta sum:-72.23 optimum:False y grad:11632.949\n",
      "search:6 iteration:900 lr:0.03 c value:62.65 loss: 23025.35 delta sum:-50.81 optimum:False y grad:10223.648\n",
      "search:6 iteration:920 lr:0.03 c value:62.65 loss: 23733.78 delta sum:-43.25 optimum:False y grad:7861.992\n",
      "search:6 iteration:940 lr:0.02 c value:62.65 loss: 20797.26 delta sum:-57.28 optimum:False y grad:5227.894\n",
      "search:6 iteration:960 lr:0.02 c value:62.65 loss: 20186.26 delta sum:-55.10 optimum:False y grad:6577.867\n",
      "search:6 iteration:980 lr:0.01 c value:62.65 loss: 16879.61 delta sum:-69.48 optimum:False y grad:5605.032\n",
      "search:7 iteration:0 lr:0.10 c value:626.50 loss: 10405.10 delta sum:0.00 optimum:False y grad:10037.392\n",
      "search:7 iteration:20 lr:0.10 c value:626.50 loss: 22366.77 delta sum:-45.99 optimum:True y grad:-14297.423\n",
      "search:7 iteration:40 lr:0.10 c value:626.50 loss: 18249.86 delta sum:-47.07 optimum:True y grad:-26746.711\n",
      "search:7 iteration:60 lr:0.10 c value:626.50 loss: 13876.36 delta sum:-48.44 optimum:True y grad:8757.764\n",
      "search:7 iteration:80 lr:0.10 c value:626.50 loss: 18374.41 delta sum:-45.43 optimum:True y grad:-4459.158\n",
      "search:7 iteration:100 lr:0.09 c value:626.50 loss: 14288.46 delta sum:-52.03 optimum:True y grad:5794.508\n",
      "search:7 iteration:120 lr:0.09 c value:626.50 loss: 16164.18 delta sum:-45.70 optimum:True y grad:5820.432\n",
      "search:7 iteration:140 lr:0.09 c value:626.50 loss: 14508.55 delta sum:-69.12 optimum:True y grad:7677.846\n",
      "search:7 iteration:160 lr:0.09 c value:626.50 loss: 51912.06 delta sum:-59.43 optimum:True y grad:34521.930\n",
      "search:7 iteration:180 lr:0.09 c value:626.50 loss: 47593.46 delta sum:-49.59 optimum:True y grad:22907.166\n",
      "search:7 iteration:200 lr:0.09 c value:626.50 loss: 53558.96 delta sum:-53.89 optimum:True y grad:50097.805\n",
      "search:7 iteration:220 lr:0.09 c value:626.50 loss: 57820.91 delta sum:-55.25 optimum:True y grad:32344.184\n",
      "search:7 iteration:240 lr:0.09 c value:626.50 loss: 55570.46 delta sum:-48.33 optimum:True y grad:48308.172\n",
      "search:7 iteration:260 lr:0.09 c value:626.50 loss: 16421.39 delta sum:-51.70 optimum:True y grad:-19010.943\n",
      "search:7 iteration:280 lr:0.08 c value:626.50 loss: 61817.84 delta sum:-52.71 optimum:True y grad:58805.477\n",
      "search:7 iteration:300 lr:0.08 c value:626.50 loss: 63828.30 delta sum:-43.58 optimum:True y grad:51463.289\n",
      "search:7 iteration:320 lr:0.08 c value:626.50 loss: 59691.72 delta sum:-52.10 optimum:True y grad:32996.789\n",
      "search:7 iteration:340 lr:0.08 c value:626.50 loss: 61149.97 delta sum:-56.21 optimum:True y grad:47259.004\n",
      "search:7 iteration:360 lr:0.08 c value:626.50 loss: 62711.31 delta sum:-51.88 optimum:True y grad:47255.531\n",
      "search:7 iteration:380 lr:0.08 c value:626.50 loss: 50793.93 delta sum:-52.50 optimum:True y grad:41764.168\n",
      "search:7 iteration:400 lr:0.08 c value:626.50 loss: 68747.52 delta sum:-46.89 optimum:True y grad:53408.801\n",
      "search:7 iteration:420 lr:0.08 c value:626.50 loss: 66070.26 delta sum:-48.12 optimum:True y grad:52498.293\n",
      "search:7 iteration:440 lr:0.07 c value:626.50 loss: 63857.08 delta sum:-45.93 optimum:True y grad:44369.508\n",
      "search:7 iteration:460 lr:0.07 c value:626.50 loss: 61822.98 delta sum:-48.17 optimum:True y grad:48578.777\n",
      "search:7 iteration:480 lr:0.07 c value:626.50 loss: 45732.72 delta sum:-68.07 optimum:True y grad:30786.180\n",
      "search:7 iteration:500 lr:0.07 c value:626.50 loss: 53382.13 delta sum:-60.84 optimum:True y grad:26004.123\n",
      "search:7 iteration:520 lr:0.07 c value:626.50 loss: 61697.21 delta sum:-52.80 optimum:True y grad:46789.887\n"
     ]
    },
    {
     "name": "stdout",
     "output_type": "stream",
     "text": [
      "search:7 iteration:540 lr:0.07 c value:626.50 loss: 68559.46 delta sum:-49.53 optimum:True y grad:48991.242\n",
      "search:7 iteration:560 lr:0.07 c value:626.50 loss: 60717.70 delta sum:-55.87 optimum:True y grad:45809.602\n",
      "search:7 iteration:580 lr:0.06 c value:626.50 loss: 51652.60 delta sum:-45.58 optimum:True y grad:31971.113\n",
      "search:7 iteration:600 lr:0.06 c value:626.50 loss: 59767.79 delta sum:-56.97 optimum:True y grad:38710.055\n",
      "search:7 iteration:620 lr:0.06 c value:626.50 loss: 57532.36 delta sum:-60.45 optimum:True y grad:34189.469\n",
      "search:7 iteration:640 lr:0.06 c value:626.50 loss: 62875.49 delta sum:-52.24 optimum:True y grad:49886.898\n",
      "search:7 iteration:660 lr:0.06 c value:626.50 loss: 49664.65 delta sum:-48.57 optimum:True y grad:26264.375\n",
      "search:7 iteration:680 lr:0.06 c value:626.50 loss: 48833.38 delta sum:-68.08 optimum:True y grad:28039.121\n",
      "search:7 iteration:700 lr:0.05 c value:626.50 loss: 61419.46 delta sum:-51.83 optimum:True y grad:62048.387\n",
      "search:7 iteration:720 lr:0.05 c value:626.50 loss: 18209.64 delta sum:-41.07 optimum:True y grad:5905.623\n",
      "search:7 iteration:740 lr:0.05 c value:626.50 loss: 44954.16 delta sum:-63.77 optimum:True y grad:19642.691\n",
      "search:7 iteration:760 lr:0.05 c value:626.50 loss: 52201.12 delta sum:-53.36 optimum:True y grad:35427.988\n",
      "search:7 iteration:780 lr:0.05 c value:626.50 loss: 54702.23 delta sum:-48.07 optimum:True y grad:53106.531\n",
      "search:7 iteration:800 lr:0.04 c value:626.50 loss: 48779.58 delta sum:-57.33 optimum:True y grad:34996.648\n",
      "search:7 iteration:820 lr:0.04 c value:626.50 loss: 14848.38 delta sum:-51.39 optimum:True y grad:6918.064\n",
      "search:7 iteration:840 lr:0.04 c value:626.50 loss: 13222.30 delta sum:-66.41 optimum:True y grad:3965.125\n",
      "search:7 iteration:860 lr:0.04 c value:626.50 loss: 14982.72 delta sum:-33.10 optimum:True y grad:7188.108\n",
      "search:7 iteration:880 lr:0.03 c value:626.50 loss: 13358.32 delta sum:-60.30 optimum:True y grad:5111.259\n",
      "search:7 iteration:900 lr:0.03 c value:626.50 loss: 15252.51 delta sum:-60.83 optimum:True y grad:4718.989\n",
      "search:7 iteration:920 lr:0.03 c value:626.50 loss: 17728.08 delta sum:-65.91 optimum:True y grad:11911.596\n",
      "search:7 iteration:940 lr:0.02 c value:626.50 loss: 14368.38 delta sum:-52.80 optimum:True y grad:4329.145\n",
      "search:7 iteration:960 lr:0.02 c value:626.50 loss: 13708.32 delta sum:-66.15 optimum:True y grad:1694.521\n",
      "search:7 iteration:980 lr:0.01 c value:626.50 loss: 17601.05 delta sum:-55.69 optimum:True y grad:-13578.123\n",
      "search:8 iteration:0 lr:0.10 c value:313.30 loss: 7321.30 delta sum:0.00 optimum:False y grad:10038.002\n",
      "search:8 iteration:20 lr:0.10 c value:313.30 loss: 22722.39 delta sum:-39.30 optimum:True y grad:5478.511\n",
      "search:8 iteration:40 lr:0.10 c value:313.30 loss: 41026.94 delta sum:-58.98 optimum:True y grad:23580.561\n",
      "search:8 iteration:60 lr:0.10 c value:313.30 loss: 41470.93 delta sum:-47.21 optimum:True y grad:23326.764\n",
      "search:8 iteration:80 lr:0.10 c value:313.30 loss: 17965.43 delta sum:-34.10 optimum:True y grad:-11852.540\n",
      "search:8 iteration:100 lr:0.09 c value:313.30 loss: 38044.33 delta sum:-51.33 optimum:True y grad:34058.895\n",
      "search:8 iteration:120 lr:0.09 c value:313.30 loss: 41840.63 delta sum:-52.59 optimum:True y grad:31792.051\n",
      "search:8 iteration:140 lr:0.09 c value:313.30 loss: 37752.55 delta sum:-58.73 optimum:True y grad:28633.139\n",
      "search:8 iteration:160 lr:0.09 c value:313.30 loss: 20304.44 delta sum:-28.88 optimum:True y grad:-2767.546\n",
      "search:8 iteration:180 lr:0.09 c value:313.30 loss: 18265.81 delta sum:-68.33 optimum:True y grad:-5045.685\n",
      "search:8 iteration:200 lr:0.09 c value:313.30 loss: 21150.13 delta sum:-47.13 optimum:True y grad:7946.768\n",
      "search:8 iteration:220 lr:0.09 c value:313.30 loss: 12938.94 delta sum:-52.45 optimum:True y grad:5267.202\n",
      "search:8 iteration:240 lr:0.09 c value:313.30 loss: 13974.39 delta sum:-67.56 optimum:True y grad:1723.227\n",
      "search:8 iteration:260 lr:0.09 c value:313.30 loss: 19634.41 delta sum:-56.39 optimum:True y grad:-14114.646\n",
      "search:8 iteration:280 lr:0.08 c value:313.30 loss: 14893.20 delta sum:-52.42 optimum:True y grad:11031.274\n",
      "search:8 iteration:300 lr:0.08 c value:313.30 loss: 36268.08 delta sum:-53.62 optimum:True y grad:15908.873\n",
      "search:8 iteration:320 lr:0.08 c value:313.30 loss: 40573.17 delta sum:-50.61 optimum:True y grad:20439.787\n",
      "search:8 iteration:340 lr:0.08 c value:313.30 loss: 36918.95 delta sum:-58.85 optimum:True y grad:27433.807\n",
      "search:8 iteration:360 lr:0.08 c value:313.30 loss: 40533.36 delta sum:-54.69 optimum:True y grad:26669.373\n",
      "search:8 iteration:380 lr:0.08 c value:313.30 loss: 41161.39 delta sum:-53.88 optimum:True y grad:23291.461\n",
      "search:8 iteration:400 lr:0.08 c value:313.30 loss: 42878.58 delta sum:-49.20 optimum:True y grad:29176.072\n",
      "search:8 iteration:420 lr:0.08 c value:313.30 loss: 43940.80 delta sum:-45.21 optimum:True y grad:28625.777\n",
      "search:8 iteration:440 lr:0.07 c value:313.30 loss: 33308.93 delta sum:-62.20 optimum:True y grad:9169.809\n",
      "search:8 iteration:460 lr:0.07 c value:313.30 loss: 18556.60 delta sum:-45.25 optimum:True y grad:7352.175\n",
      "search:8 iteration:480 lr:0.07 c value:313.30 loss: 18885.35 delta sum:-59.70 optimum:True y grad:7818.136\n",
      "search:8 iteration:500 lr:0.07 c value:313.30 loss: 18993.75 delta sum:-55.94 optimum:True y grad:7667.781\n",
      "search:8 iteration:520 lr:0.07 c value:313.30 loss: 16580.15 delta sum:-56.38 optimum:True y grad:6353.781\n",
      "search:8 iteration:540 lr:0.07 c value:313.30 loss: 18642.92 delta sum:-73.38 optimum:True y grad:9247.225\n",
      "search:8 iteration:560 lr:0.07 c value:313.30 loss: 21059.88 delta sum:-38.92 optimum:True y grad:5381.010\n",
      "search:8 iteration:580 lr:0.06 c value:313.30 loss: 17607.43 delta sum:-54.68 optimum:True y grad:10597.694\n",
      "search:8 iteration:600 lr:0.06 c value:313.30 loss: 17801.15 delta sum:-47.13 optimum:True y grad:5547.712\n",
      "search:8 iteration:620 lr:0.06 c value:313.30 loss: 18376.67 delta sum:-63.16 optimum:True y grad:8792.351\n",
      "search:8 iteration:640 lr:0.06 c value:313.30 loss: 15024.43 delta sum:-65.41 optimum:True y grad:4426.167\n",
      "search:8 iteration:660 lr:0.06 c value:313.30 loss: 19543.07 delta sum:-58.92 optimum:True y grad:6425.158\n",
      "search:8 iteration:680 lr:0.06 c value:313.30 loss: 16520.44 delta sum:-60.31 optimum:True y grad:7663.482\n",
      "search:8 iteration:700 lr:0.05 c value:313.30 loss: 14486.18 delta sum:-50.50 optimum:True y grad:-29.797\n",
      "search:8 iteration:720 lr:0.05 c value:313.30 loss: 17695.64 delta sum:-52.33 optimum:True y grad:-9185.992\n",
      "search:8 iteration:740 lr:0.05 c value:313.30 loss: 19004.13 delta sum:-58.57 optimum:True y grad:7550.541\n",
      "search:8 iteration:760 lr:0.05 c value:313.30 loss: 17391.11 delta sum:-67.01 optimum:True y grad:9056.052\n",
      "search:8 iteration:780 lr:0.05 c value:313.30 loss: 20837.75 delta sum:-49.91 optimum:True y grad:-7455.218\n",
      "search:8 iteration:800 lr:0.04 c value:313.30 loss: 17925.32 delta sum:-58.46 optimum:True y grad:4999.281\n",
      "search:8 iteration:820 lr:0.04 c value:313.30 loss: 16635.66 delta sum:-45.82 optimum:True y grad:-13206.034\n",
      "search:8 iteration:840 lr:0.04 c value:313.30 loss: 17721.05 delta sum:-63.28 optimum:True y grad:8157.794\n",
      "search:8 iteration:860 lr:0.04 c value:313.30 loss: 13429.84 delta sum:-56.11 optimum:True y grad:6892.221\n",
      "search:8 iteration:880 lr:0.03 c value:313.30 loss: 16195.93 delta sum:-54.47 optimum:True y grad:2393.382\n",
      "search:8 iteration:900 lr:0.03 c value:313.30 loss: 16727.53 delta sum:-53.78 optimum:True y grad:6859.451\n",
      "search:8 iteration:920 lr:0.03 c value:313.30 loss: 15287.62 delta sum:-55.42 optimum:True y grad:838.646\n",
      "search:8 iteration:940 lr:0.02 c value:313.30 loss: 15828.42 delta sum:-47.39 optimum:True y grad:-5786.976\n",
      "search:8 iteration:960 lr:0.02 c value:313.30 loss: 20771.36 delta sum:-50.43 optimum:True y grad:2774.613\n",
      "search:8 iteration:980 lr:0.01 c value:313.30 loss: 15511.72 delta sum:-64.15 optimum:True y grad:-1762.620\n"
     ]
    }
   ],
   "source": [
    "# find pertinent negatives\n",
    "mode = \"PN\"\n",
    "CEM.fista(image, mode=mode)"
   ]
  },
  {
   "cell_type": "code",
   "execution_count": 19,
   "metadata": {},
   "outputs": [
    {
     "data": {
      "text/plain": [
       "<matplotlib.image.AxesImage at 0x1f4acb37a20>"
      ]
     },
     "execution_count": 19,
     "metadata": {},
     "output_type": "execute_result"
    },
    {
     "data": {
      "image/png": "[encoded data removed]",
      "text/plain": [
       "<Figure size 432x288 with 1 Axes>"
      ]
     },
     "metadata": {
      "needs_background": "light"
     },
     "output_type": "display_data"
    }
   ],
   "source": [
    "plt.imshow(image.squeeze())"
   ]
  },
  {
   "cell_type": "code",
   "execution_count": 20,
   "metadata": {},
   "outputs": [
    {
     "data": {
      "image/png": "[encoded data removed]",
      "text/plain": [
       "<Figure size 432x288 with 1 Axes>"
      ]
     },
     "metadata": {
      "needs_background": "light"
     },
     "output_type": "display_data"
    },
    {
     "data": {
      "image/png": "[encoded data removed]",
      "text/plain": [
       "<Figure size 432x288 with 1 Axes>"
      ]
     },
     "metadata": {
      "needs_background": "light"
     },
     "output_type": "display_data"
    }
   ],
   "source": [
    "# perturbation\n",
    "plt.imshow(image.squeeze()- CEM.best_delta.view(28,28), cmap=\"gray\")\n",
    "plt.show()\n",
    "plt.imshow(CEM.best_delta.view(28,28) - image.squeeze(), cmap=\"gray\")\n",
    "plt.show()"
   ]
  },
  {
   "cell_type": "code",
   "execution_count": 21,
   "metadata": {},
   "outputs": [
    {
     "data": {
      "text/plain": [
       "<matplotlib.image.AxesImage at 0x1f4acbf5898>"
      ]
     },
     "execution_count": 21,
     "metadata": {},
     "output_type": "execute_result"
    },
    {
     "data": {
      "image/png": "[encoded data removed]",
      "text/plain": [
       "<Figure size 432x288 with 1 Axes>"
      ]
     },
     "metadata": {
      "needs_background": "light"
     },
     "output_type": "display_data"
    }
   ],
   "source": [
    "# original image with perturbation\n",
    "plt.imshow(CEM.best_delta.view(28,28))"
   ]
  },
  {
   "cell_type": "code",
   "execution_count": 22,
   "metadata": {},
   "outputs": [
    {
     "data": {
      "image/png": "[encoded data removed]",
      "text/plain": [
       "<Figure size 432x288 with 1 Axes>"
      ]
     },
     "metadata": {
      "needs_background": "light"
     },
     "output_type": "display_data"
    },
    {
     "data": {
      "image/png": "[encoded data removed]",
      "text/plain": [
       "<Figure size 432x288 with 1 Axes>"
      ]
     },
     "metadata": {
      "needs_background": "light"
     },
     "output_type": "display_data"
    },
    {
     "data": {
      "image/png": "[encoded data removed]",
      "text/plain": [
       "<Figure size 432x288 with 1 Axes>"
      ]
     },
     "metadata": {
      "needs_background": "light"
     },
     "output_type": "display_data"
    },
    {
     "data": {
      "image/png": "[encoded data removed]",
      "text/plain": [
       "<Figure size 432x288 with 1 Axes>"
      ]
     },
     "metadata": {
      "needs_background": "light"
     },
     "output_type": "display_data"
    },
    {
     "data": {
      "image/png": "[encoded data removed]",
      "text/plain": [
       "<Figure size 432x288 with 1 Axes>"
      ]
     },
     "metadata": {
      "needs_background": "light"
     },
     "output_type": "display_data"
    },
    {
     "data": {
      "image/png": "[encoded data removed]",
      "text/plain": [
       "<Figure size 432x288 with 1 Axes>"
      ]
     },
     "metadata": {
      "needs_background": "light"
     },
     "output_type": "display_data"
    }
   ],
   "source": [
    "for d in CEM.all_best:\n",
    "    plt.imshow(d.view(28,28), cmap=\"gray\")\n",
    "    plt.show()\n",
    "    plt.imshow(d.view(28,28) - image.squeeze(), cmap=\"gray\")\n",
    "    plt.show()"
   ]
  },
  {
   "cell_type": "code",
   "execution_count": 82,
   "metadata": {},
   "outputs": [
    {
     "data": {
      "text/plain": [
       "1"
      ]
     },
     "execution_count": 82,
     "metadata": {},
     "output_type": "execute_result"
    }
   ],
   "source": [
    "# classification before\n",
    "before = np.argmax(cnn(image.squeeze(-1)).detach()).item()\n",
    "before"
   ]
  },
  {
   "cell_type": "code",
   "execution_count": 83,
   "metadata": {},
   "outputs": [
    {
     "data": {
      "text/plain": [
       "2"
      ]
     },
     "execution_count": 83,
     "metadata": {},
     "output_type": "execute_result"
    }
   ],
   "source": [
    "# classification after\n",
    "after = np.argmax(cnn(CEM.best_delta.view(1,28,28)).detach()).item()\n",
    "after"
   ]
  },
  {
   "cell_type": "code",
   "execution_count": 84,
   "metadata": {
    "scrolled": true
   },
   "outputs": [
    {
     "data": {
      "text/plain": [
       "7"
      ]
     },
     "execution_count": 84,
     "metadata": {},
     "output_type": "execute_result"
    }
   ],
   "source": [
    "# classification of delta\n",
    "class_delta = np.argmax(cnn(image.squeeze(-1) - CEM.best_delta.view(1,28,28)).detach()).item()\n",
    "class_delta"
   ]
  },
  {
   "cell_type": "code",
   "execution_count": 85,
   "metadata": {},
   "outputs": [],
   "source": [
    "dirname = \"saved_perturbations/mode-{}-kappa-{}-gamma-{}-beta-{}-lr-{}\".format(mode, kappa, gamma, beta, lr)\n",
    "os.makedirs(dirname, exist_ok=True)\n",
    "fname_orig = dirname + \"/{}-cb-{}-ca-{}-orig.png\".format(int(time.time()), before, after)\n",
    "fname_pert = dirname + \"/{}-before-{}-after-{}-pert.png\".format(int(time.time()), before, after)\n",
    "fname_combined = dirname + \"/{}-before-{}-after-{}-pn.png\".format(int(time.time()), before, after)\n",
    "fname_combined_pp = dirname + \"/{}-before-{}-after-{}-pp.png\".format(int(time.time()), before, after)\n",
    "plt.imsave(fname_orig, image.squeeze(), cmap=\"gray\")\n",
    "plt.imsave(fname_pert, CEM.best_delta.view(28,28) - image.squeeze(), cmap=\"gray\")\n",
    "plt.imsave(fname_combined, CEM.best_delta.view(28,28), cmap=\"gray\")\n",
    "plt.imsave(fname_combined_pp, image.squeeze() - CEM.best_delta.view(28,28), cmap=\"gray\")"
   ]
  },
  {
   "cell_type": "code",
   "execution_count": null,
   "metadata": {},
   "outputs": [],
   "source": []
  }
 ],
 "metadata": {
  "kernelspec": {
   "display_name": "Python 3",
   "language": "python",
   "name": "python3"
  },
  "language_info": {
   "codemirror_mode": {
    "name": "ipython",
    "version": 3
   },
   "file_extension": ".py",
   "mimetype": "text/x-python",
   "name": "python",
   "nbconvert_exporter": "python",
   "pygments_lexer": "ipython3",
   "version": "3.7.0"
  }
 },
 "nbformat": 4,
 "nbformat_minor": 2
}
