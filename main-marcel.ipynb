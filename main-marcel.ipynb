{
 "cells": [
  {
   "cell_type": "code",
   "execution_count": 1,
   "metadata": {},
   "outputs": [],
   "source": [
    "import matplotlib.pyplot as plt\n",
    "import numpy as np\n",
    "\n",
    "from datasets.mnist import MNIST\n",
    "\n",
    "from models.cae_model import CAE\n",
    "from models.conv_model import CNN\n",
    "\n",
    "from train import train_ae, train_cnn\n",
    "\n",
    "from models.cem_ibm_model import AEADEN \n",
    "\n",
    "import os\n",
    "import time"
   ]
  },
  {
   "cell_type": "code",
   "execution_count": 2,
   "metadata": {},
   "outputs": [],
   "source": [
    "dataset = MNIST(batch_size=64)\n",
    "# dataset = FashionMNIST()"
   ]
  },
  {
   "cell_type": "markdown",
   "metadata": {},
   "source": [
    "# Training the classifier"
   ]
  },
  {
   "cell_type": "code",
   "execution_count": 3,
   "metadata": {},
   "outputs": [],
   "source": [
    "cnn = CNN(device='cpu')\n",
    "\n",
    "train_cnn(cnn, dataset, iterations=50, lr=0.01, device='cpu', save_fn='mnist-cnn-rescaled', load_path=\"models/saved_models/mnist-cnn.h5\")"
   ]
  },
  {
   "cell_type": "code",
   "execution_count": 4,
   "metadata": {},
   "outputs": [
    {
     "name": "stderr",
     "output_type": "stream",
     "text": [
      "D:\\Programmeren\\uva-fact-ai\\models\\conv_model.py:50: UserWarning: Implicit dimension choice for softmax has been deprecated. Change the call to include dim=X as an argument.\n",
      "  out = nn.functional.softmax(out)\n"
     ]
    }
   ],
   "source": [
    "images, _ = dataset.get_batch()\n",
    "\n",
    "output = cnn(images)\n",
    "\n",
    "images = images.numpy()\n",
    "output = output.detach().numpy()\n"
   ]
  },
  {
   "cell_type": "markdown",
   "metadata": {},
   "source": [
    "# Training the autoencoder"
   ]
  },
  {
   "cell_type": "markdown",
   "metadata": {},
   "source": [
    "This section trains the autoencoder which will be used as regularizer for the data space which the perturbations are found in."
   ]
  },
  {
   "cell_type": "code",
   "execution_count": 5,
   "metadata": {},
   "outputs": [],
   "source": [
    "# Train or load autoencoder\n",
    "cae = CAE()\n",
    "\n",
    "train_ae(cae, dataset, iterations=2, save_fn=\"mnist-cae\", load_path=\"./models/saved_models/mnist-cae-no-rs.h5\")"
   ]
  },
  {
   "cell_type": "code",
   "execution_count": 6,
   "metadata": {},
   "outputs": [
    {
     "data": {
      "image/png": "[encoded data removed]",
      "text/plain": [
       "<Figure size 1800x288 with 8 Axes>"
      ]
     },
     "metadata": {
      "needs_background": "light"
     },
     "output_type": "display_data"
    }
   ],
   "source": [
    "# obtain one batch of test images\n",
    "images, _ = dataset.get_batch()\n",
    "\n",
    "#images_flatten = images.view(images.size(0), -1)\n",
    "# get sample outputs\n",
    "output = cae(images)\n",
    "# prep images for display\n",
    "images = images.numpy()\n",
    "\n",
    "# output is resized into a batch of images\n",
    "# output = output.view(batch_size, 1, 28, 28)\n",
    "# use detach when it's an output that requires_grad\n",
    "output = output.detach().numpy()\n",
    "\n",
    "# plot the first ten input images and then reconstructed images\n",
    "fig, axes = plt.subplots(nrows=2, ncols=4, sharex=True, sharey=True, figsize=(25,4))\n",
    "\n",
    "# input images on top row, reconstructions on bottom\n",
    "for images, row in zip([images, output], axes):\n",
    "    for img, ax in zip(images, row):\n",
    "        ax.imshow(np.squeeze(img), cmap='gray')\n",
    "        ax.get_xaxis().set_visible(False)\n",
    "        ax.get_yaxis().set_visible(False)"
   ]
  },
  {
   "cell_type": "markdown",
   "metadata": {},
   "source": [
    "# Contrastive Explanation Method"
   ]
  },
  {
   "cell_type": "code",
   "execution_count": 8,
   "metadata": {},
   "outputs": [],
   "source": [
    "kappa = 10\n",
    "gamma = 0\n",
    "beta = 1.\n",
    "lr = 0.1\n",
    "\n",
    "CEM = AEADEN(model=cnn, AE=cae, max_iterations=1000, evaluate_every=50, n_searches=10, mode=\"PP\", init_learning_rate=lr, c_init=0.1, kappa=kappa, gamma=gamma, beta=beta)"
   ]
  },
  {
   "cell_type": "code",
   "execution_count": 9,
   "metadata": {},
   "outputs": [
    {
     "data": {
      "image/png": "[encoded data removed]",
      "text/plain": [
       "<Figure size 432x288 with 1 Axes>"
      ]
     },
     "metadata": {
      "needs_background": "light"
     },
     "output_type": "display_data"
    },
    {
     "data": {
      "text/plain": [
       "<matplotlib.image.AxesImage at 0x20f12b75eb8>"
      ]
     },
     "execution_count": 9,
     "metadata": {},
     "output_type": "execute_result"
    },
    {
     "data": {
      "image/png": "[encoded data removed]",
      "text/plain": [
       "<Figure size 432x288 with 1 Axes>"
      ]
     },
     "metadata": {
      "needs_background": "light"
     },
     "output_type": "display_data"
    }
   ],
   "source": [
    "# obtain one sample\n",
    "image = dataset.get_sample_by_class(class_label=3)\n",
    "\n",
    "plt.imshow(image.squeeze())\n"
   ]
  },
  {
   "cell_type": "code",
   "execution_count": 10,
   "metadata": {
    "scrolled": true
   },
   "outputs": [
    {
     "name": "stdout",
     "output_type": "stream",
     "text": [
      "search:0 iteration:50 lr:0.10 c value:0.10 loss: 1.02 delta sum:-251.35 optimum:True y grad:-0.001\n",
      "search:0 iteration:100 lr:0.09 c value:0.10 loss: 1.02 delta sum:-251.35 optimum:True y grad:-0.001\n",
      "search:0 iteration:150 lr:0.09 c value:0.10 loss: 1.02 delta sum:-251.35 optimum:True y grad:-0.001\n",
      "search:0 iteration:200 lr:0.09 c value:0.10 loss: 1.02 delta sum:-251.35 optimum:True y grad:-0.001\n",
      "search:0 iteration:250 lr:0.09 c value:0.10 loss: 1.02 delta sum:-251.35 optimum:True y grad:-0.001\n",
      "search:0 iteration:300 lr:0.08 c value:0.10 loss: 1.02 delta sum:-251.35 optimum:True y grad:-0.001\n",
      "search:0 iteration:350 lr:0.08 c value:0.10 loss: 1.02 delta sum:-251.35 optimum:True y grad:-0.001\n",
      "search:0 iteration:400 lr:0.08 c value:0.10 loss: 1.02 delta sum:-251.35 optimum:True y grad:-0.001\n",
      "search:0 iteration:450 lr:0.07 c value:0.10 loss: 1.02 delta sum:-251.35 optimum:True y grad:-0.001\n",
      "search:0 iteration:500 lr:0.07 c value:0.10 loss: 1.02 delta sum:-251.35 optimum:True y grad:-0.001\n",
      "search:0 iteration:550 lr:0.07 c value:0.10 loss: 1.02 delta sum:-251.35 optimum:True y grad:-0.001\n",
      "search:0 iteration:600 lr:0.06 c value:0.10 loss: 1.02 delta sum:-251.35 optimum:True y grad:-0.001\n",
      "search:0 iteration:650 lr:0.06 c value:0.10 loss: 1.02 delta sum:-251.35 optimum:True y grad:-0.001\n",
      "search:0 iteration:700 lr:0.05 c value:0.10 loss: 1.02 delta sum:-251.35 optimum:True y grad:-0.001\n",
      "search:0 iteration:750 lr:0.05 c value:0.10 loss: 1.02 delta sum:-251.35 optimum:True y grad:-0.001\n",
      "search:0 iteration:800 lr:0.04 c value:0.10 loss: 1.02 delta sum:-251.35 optimum:True y grad:-0.001\n",
      "search:0 iteration:850 lr:0.04 c value:0.10 loss: 1.02 delta sum:-251.35 optimum:True y grad:-0.001\n",
      "search:0 iteration:900 lr:0.03 c value:0.10 loss: 1.02 delta sum:-251.35 optimum:True y grad:-0.001\n",
      "search:0 iteration:950 lr:0.02 c value:0.10 loss: 1.02 delta sum:-251.35 optimum:True y grad:-0.001\n",
      "search:0 iteration:1000 lr:0.00 c value:0.10 loss: 1.02 delta sum:-251.35 optimum:True y grad:-0.001\n",
      "hallo\n",
      "search:1 iteration:50 lr:0.10 c value:0.10 loss: 1.02 delta sum:-251.35 optimum:False y grad:-0.001\n",
      "search:1 iteration:100 lr:0.09 c value:0.10 loss: 1.02 delta sum:-251.35 optimum:False y grad:-0.001\n",
      "search:1 iteration:150 lr:0.09 c value:0.10 loss: 1.02 delta sum:-251.35 optimum:False y grad:-0.001\n",
      "search:1 iteration:200 lr:0.09 c value:0.10 loss: 1.02 delta sum:-251.35 optimum:False y grad:-0.001\n",
      "search:1 iteration:250 lr:0.09 c value:0.10 loss: 1.02 delta sum:-251.35 optimum:False y grad:-0.001\n",
      "search:1 iteration:300 lr:0.08 c value:0.10 loss: 1.02 delta sum:-251.35 optimum:False y grad:-0.001\n",
      "search:1 iteration:350 lr:0.08 c value:0.10 loss: 1.02 delta sum:-251.35 optimum:False y grad:-0.001\n",
      "search:1 iteration:400 lr:0.08 c value:0.10 loss: 1.02 delta sum:-251.35 optimum:False y grad:-0.001\n",
      "search:1 iteration:450 lr:0.07 c value:0.10 loss: 1.02 delta sum:-251.35 optimum:False y grad:-0.001\n",
      "search:1 iteration:500 lr:0.07 c value:0.10 loss: 1.02 delta sum:-251.35 optimum:False y grad:-0.001\n",
      "search:1 iteration:550 lr:0.07 c value:0.10 loss: 1.02 delta sum:-251.35 optimum:False y grad:-0.001\n",
      "search:1 iteration:600 lr:0.06 c value:0.10 loss: 1.02 delta sum:-251.35 optimum:False y grad:-0.001\n",
      "search:1 iteration:650 lr:0.06 c value:0.10 loss: 1.02 delta sum:-251.35 optimum:False y grad:-0.001\n",
      "search:1 iteration:700 lr:0.05 c value:0.10 loss: 1.02 delta sum:-251.35 optimum:False y grad:-0.001\n",
      "search:1 iteration:750 lr:0.05 c value:0.10 loss: 1.02 delta sum:-251.35 optimum:False y grad:-0.001\n",
      "search:1 iteration:800 lr:0.04 c value:0.10 loss: 1.02 delta sum:-251.35 optimum:False y grad:-0.001\n",
      "search:1 iteration:850 lr:0.04 c value:0.10 loss: 1.02 delta sum:-251.35 optimum:False y grad:-0.001\n",
      "search:1 iteration:900 lr:0.03 c value:0.10 loss: 1.02 delta sum:-251.35 optimum:False y grad:-0.001\n",
      "search:1 iteration:950 lr:0.02 c value:0.10 loss: 1.02 delta sum:-251.35 optimum:False y grad:-0.001\n",
      "search:1 iteration:1000 lr:0.00 c value:0.10 loss: 1.02 delta sum:-251.35 optimum:False y grad:-0.001\n",
      "doei\n",
      "search:2 iteration:50 lr:0.10 c value:1.00 loss: 10.17 delta sum:-251.35 optimum:False y grad:-0.011\n",
      "search:2 iteration:100 lr:0.09 c value:1.00 loss: 10.17 delta sum:-251.35 optimum:False y grad:-0.011\n",
      "search:2 iteration:150 lr:0.09 c value:1.00 loss: 10.17 delta sum:-251.35 optimum:False y grad:-0.011\n",
      "search:2 iteration:200 lr:0.09 c value:1.00 loss: 10.17 delta sum:-251.35 optimum:False y grad:-0.011\n",
      "search:2 iteration:250 lr:0.09 c value:1.00 loss: 10.17 delta sum:-251.35 optimum:False y grad:-0.011\n",
      "search:2 iteration:300 lr:0.08 c value:1.00 loss: 10.17 delta sum:-251.35 optimum:False y grad:-0.011\n",
      "search:2 iteration:350 lr:0.08 c value:1.00 loss: 10.17 delta sum:-251.35 optimum:False y grad:-0.011\n",
      "search:2 iteration:400 lr:0.08 c value:1.00 loss: 10.17 delta sum:-251.35 optimum:False y grad:-0.011\n",
      "search:2 iteration:450 lr:0.07 c value:1.00 loss: 10.17 delta sum:-251.35 optimum:False y grad:-0.011\n",
      "search:2 iteration:500 lr:0.07 c value:1.00 loss: 10.17 delta sum:-251.35 optimum:False y grad:-0.011\n",
      "search:2 iteration:550 lr:0.07 c value:1.00 loss: 10.17 delta sum:-251.35 optimum:False y grad:-0.011\n",
      "search:2 iteration:600 lr:0.06 c value:1.00 loss: 10.17 delta sum:-251.35 optimum:False y grad:-0.011\n",
      "search:2 iteration:650 lr:0.06 c value:1.00 loss: 10.17 delta sum:-251.35 optimum:False y grad:-0.011\n",
      "search:2 iteration:700 lr:0.05 c value:1.00 loss: 10.17 delta sum:-251.35 optimum:False y grad:-0.011\n",
      "search:2 iteration:750 lr:0.05 c value:1.00 loss: 10.17 delta sum:-251.35 optimum:False y grad:-0.011\n",
      "search:2 iteration:800 lr:0.04 c value:1.00 loss: 10.17 delta sum:-251.35 optimum:False y grad:-0.011\n",
      "search:2 iteration:850 lr:0.04 c value:1.00 loss: 10.17 delta sum:-251.35 optimum:False y grad:-0.011\n",
      "search:2 iteration:900 lr:0.03 c value:1.00 loss: 10.17 delta sum:-251.35 optimum:False y grad:-0.011\n",
      "search:2 iteration:950 lr:0.02 c value:1.00 loss: 10.17 delta sum:-251.35 optimum:False y grad:-0.011\n",
      "search:2 iteration:1000 lr:0.00 c value:1.00 loss: 10.17 delta sum:-251.35 optimum:False y grad:-0.011\n",
      "doei\n",
      "search:3 iteration:50 lr:0.10 c value:10.00 loss: 101.74 delta sum:-251.35 optimum:False y grad:-0.105\n",
      "search:3 iteration:100 lr:0.09 c value:10.00 loss: 101.74 delta sum:-251.35 optimum:False y grad:-0.105\n",
      "search:3 iteration:150 lr:0.09 c value:10.00 loss: 101.74 delta sum:-251.35 optimum:False y grad:-0.105\n",
      "search:3 iteration:200 lr:0.09 c value:10.00 loss: 101.74 delta sum:-251.35 optimum:False y grad:-0.105\n",
      "search:3 iteration:250 lr:0.09 c value:10.00 loss: 101.74 delta sum:-251.35 optimum:False y grad:-0.105\n",
      "search:3 iteration:300 lr:0.08 c value:10.00 loss: 101.74 delta sum:-251.35 optimum:False y grad:-0.105\n",
      "search:3 iteration:350 lr:0.08 c value:10.00 loss: 101.74 delta sum:-251.35 optimum:False y grad:-0.105\n",
      "search:3 iteration:400 lr:0.08 c value:10.00 loss: 101.74 delta sum:-251.35 optimum:False y grad:-0.105\n",
      "search:3 iteration:450 lr:0.07 c value:10.00 loss: 101.74 delta sum:-251.35 optimum:False y grad:-0.105\n",
      "search:3 iteration:500 lr:0.07 c value:10.00 loss: 101.74 delta sum:-251.35 optimum:False y grad:-0.105\n",
      "search:3 iteration:550 lr:0.07 c value:10.00 loss: 101.74 delta sum:-251.35 optimum:False y grad:-0.105\n",
      "search:3 iteration:600 lr:0.06 c value:10.00 loss: 101.74 delta sum:-251.35 optimum:False y grad:-0.105\n",
      "search:3 iteration:650 lr:0.06 c value:10.00 loss: 101.74 delta sum:-251.35 optimum:False y grad:-0.105\n",
      "search:3 iteration:700 lr:0.05 c value:10.00 loss: 101.74 delta sum:-251.35 optimum:False y grad:-0.105\n",
      "search:3 iteration:750 lr:0.05 c value:10.00 loss: 101.74 delta sum:-251.35 optimum:False y grad:-0.105\n",
      "search:3 iteration:800 lr:0.04 c value:10.00 loss: 101.74 delta sum:-251.35 optimum:False y grad:-0.105\n",
      "search:3 iteration:850 lr:0.04 c value:10.00 loss: 101.74 delta sum:-251.35 optimum:False y grad:-0.105\n",
      "search:3 iteration:900 lr:0.03 c value:10.00 loss: 101.74 delta sum:-251.35 optimum:False y grad:-0.105\n",
      "search:3 iteration:950 lr:0.02 c value:10.00 loss: 101.74 delta sum:-251.35 optimum:False y grad:-0.105\n",
      "search:3 iteration:1000 lr:0.00 c value:10.00 loss: 101.74 delta sum:-251.35 optimum:False y grad:-0.105\n",
      "doei\n",
      "search:4 iteration:50 lr:0.10 c value:100.00 loss: 1017.42 delta sum:-251.35 optimum:False y grad:-1.050\n"
     ]
    },
    {
     "name": "stdout",
     "output_type": "stream",
     "text": [
      "search:4 iteration:100 lr:0.09 c value:100.00 loss: 1017.42 delta sum:-251.35 optimum:False y grad:-1.050\n",
      "search:4 iteration:150 lr:0.09 c value:100.00 loss: 1017.42 delta sum:-251.35 optimum:False y grad:-1.050\n",
      "search:4 iteration:200 lr:0.09 c value:100.00 loss: 1017.42 delta sum:-251.35 optimum:False y grad:-1.050\n",
      "search:4 iteration:250 lr:0.09 c value:100.00 loss: 1017.42 delta sum:-251.35 optimum:False y grad:-1.050\n",
      "search:4 iteration:300 lr:0.08 c value:100.00 loss: 1017.42 delta sum:-251.35 optimum:False y grad:-1.050\n",
      "search:4 iteration:350 lr:0.08 c value:100.00 loss: 1017.42 delta sum:-251.35 optimum:False y grad:-1.050\n",
      "search:4 iteration:400 lr:0.08 c value:100.00 loss: 1017.42 delta sum:-251.35 optimum:False y grad:-1.050\n",
      "search:4 iteration:450 lr:0.07 c value:100.00 loss: 1017.42 delta sum:-251.35 optimum:False y grad:-1.050\n",
      "search:4 iteration:500 lr:0.07 c value:100.00 loss: 1017.42 delta sum:-251.35 optimum:False y grad:-1.050\n",
      "search:4 iteration:550 lr:0.07 c value:100.00 loss: 1017.42 delta sum:-251.35 optimum:False y grad:-1.050\n",
      "search:4 iteration:600 lr:0.06 c value:100.00 loss: 1017.42 delta sum:-251.35 optimum:False y grad:-1.050\n",
      "search:4 iteration:650 lr:0.06 c value:100.00 loss: 1017.42 delta sum:-251.35 optimum:False y grad:-1.050\n",
      "search:4 iteration:700 lr:0.05 c value:100.00 loss: 1017.42 delta sum:-251.35 optimum:False y grad:-1.050\n",
      "search:4 iteration:750 lr:0.05 c value:100.00 loss: 1017.42 delta sum:-251.35 optimum:False y grad:-1.050\n",
      "search:4 iteration:800 lr:0.04 c value:100.00 loss: 1017.42 delta sum:-251.35 optimum:False y grad:-1.050\n",
      "search:4 iteration:850 lr:0.04 c value:100.00 loss: 1017.42 delta sum:-251.35 optimum:False y grad:-1.050\n",
      "search:4 iteration:900 lr:0.03 c value:100.00 loss: 1017.42 delta sum:-251.35 optimum:False y grad:-1.050\n",
      "search:4 iteration:950 lr:0.02 c value:100.00 loss: 1017.42 delta sum:-251.35 optimum:False y grad:-1.050\n",
      "search:4 iteration:1000 lr:0.00 c value:100.00 loss: 1017.42 delta sum:-251.35 optimum:False y grad:-1.050\n",
      "doei\n",
      "search:5 iteration:50 lr:0.10 c value:1000.00 loss: 10174.21 delta sum:-251.35 optimum:False y grad:-10.504\n",
      "search:5 iteration:100 lr:0.09 c value:1000.00 loss: 10174.21 delta sum:-251.35 optimum:False y grad:-10.504\n",
      "search:5 iteration:150 lr:0.09 c value:1000.00 loss: 10174.21 delta sum:-251.35 optimum:False y grad:-10.504\n",
      "search:5 iteration:200 lr:0.09 c value:1000.00 loss: 10174.21 delta sum:-251.35 optimum:False y grad:-10.504\n",
      "search:5 iteration:250 lr:0.09 c value:1000.00 loss: 10174.21 delta sum:-251.35 optimum:False y grad:-10.504\n",
      "search:5 iteration:300 lr:0.08 c value:1000.00 loss: 10174.21 delta sum:-251.35 optimum:False y grad:-10.504\n",
      "search:5 iteration:350 lr:0.08 c value:1000.00 loss: 10174.21 delta sum:-251.35 optimum:False y grad:-10.504\n",
      "search:5 iteration:400 lr:0.08 c value:1000.00 loss: 10174.21 delta sum:-251.35 optimum:False y grad:-10.504\n",
      "search:5 iteration:450 lr:0.07 c value:1000.00 loss: 10174.21 delta sum:-251.35 optimum:False y grad:-10.504\n",
      "search:5 iteration:500 lr:0.07 c value:1000.00 loss: 10174.21 delta sum:-251.35 optimum:False y grad:-10.504\n",
      "search:5 iteration:550 lr:0.07 c value:1000.00 loss: 10174.21 delta sum:-251.35 optimum:False y grad:-10.504\n",
      "search:5 iteration:600 lr:0.06 c value:1000.00 loss: 10174.21 delta sum:-251.35 optimum:False y grad:-10.504\n",
      "search:5 iteration:650 lr:0.06 c value:1000.00 loss: 10174.21 delta sum:-251.35 optimum:False y grad:-10.504\n",
      "search:5 iteration:700 lr:0.05 c value:1000.00 loss: 10174.21 delta sum:-251.35 optimum:False y grad:-10.504\n",
      "search:5 iteration:750 lr:0.05 c value:1000.00 loss: 10174.21 delta sum:-251.35 optimum:False y grad:-10.504\n",
      "search:5 iteration:800 lr:0.04 c value:1000.00 loss: 10174.21 delta sum:-251.35 optimum:False y grad:-10.504\n",
      "search:5 iteration:850 lr:0.04 c value:1000.00 loss: 10174.21 delta sum:-251.35 optimum:False y grad:-10.504\n",
      "search:5 iteration:900 lr:0.03 c value:1000.00 loss: 10174.21 delta sum:-251.35 optimum:False y grad:-10.504\n",
      "search:5 iteration:950 lr:0.02 c value:1000.00 loss: 10174.21 delta sum:-251.35 optimum:False y grad:-10.504\n",
      "search:5 iteration:1000 lr:0.00 c value:1000.00 loss: 10174.21 delta sum:-251.35 optimum:False y grad:-10.504\n",
      "doei\n",
      "search:6 iteration:50 lr:0.10 c value:10000.00 loss: 98687.98 delta sum:-270.22 optimum:True y grad:199700.626\n",
      "search:6 iteration:100 lr:0.09 c value:10000.00 loss: 0.00 delta sum:-321.15 optimum:True y grad:-251.810\n",
      "search:6 iteration:150 lr:0.09 c value:10000.00 loss: 204789.92 delta sum:-273.48 optimum:True y grad:-35509.706\n",
      "search:6 iteration:200 lr:0.09 c value:10000.00 loss: 102149.05 delta sum:-270.20 optimum:True y grad:-5430.621\n",
      "search:6 iteration:250 lr:0.09 c value:10000.00 loss: 86946.88 delta sum:-270.07 optimum:True y grad:175385.928\n",
      "search:6 iteration:300 lr:0.08 c value:10000.00 loss: 106222.23 delta sum:-268.59 optimum:True y grad:78965.358\n",
      "search:6 iteration:350 lr:0.08 c value:10000.00 loss: 120038.84 delta sum:-270.61 optimum:True y grad:-278021.175\n",
      "search:6 iteration:400 lr:0.08 c value:10000.00 loss: 0.00 delta sum:-353.21 optimum:True y grad:-347.338\n",
      "search:6 iteration:450 lr:0.07 c value:10000.00 loss: 49663.96 delta sum:-283.37 optimum:True y grad:336634.395\n",
      "search:6 iteration:500 lr:0.07 c value:10000.00 loss: 0.00 delta sum:-326.80 optimum:True y grad:-265.201\n",
      "search:6 iteration:550 lr:0.07 c value:10000.00 loss: 103029.89 delta sum:-274.93 optimum:True y grad:606061.458\n",
      "search:6 iteration:600 lr:0.06 c value:10000.00 loss: 120522.50 delta sum:-276.00 optimum:True y grad:39945.128\n",
      "search:6 iteration:650 lr:0.06 c value:10000.00 loss: 71115.09 delta sum:-289.02 optimum:True y grad:312357.486\n",
      "search:6 iteration:700 lr:0.05 c value:10000.00 loss: 82610.35 delta sum:-277.47 optimum:True y grad:133975.541\n",
      "search:6 iteration:750 lr:0.05 c value:10000.00 loss: 0.00 delta sum:-350.19 optimum:True y grad:-339.793\n",
      "search:6 iteration:800 lr:0.04 c value:10000.00 loss: 0.00 delta sum:-349.24 optimum:True y grad:-329.554\n",
      "search:6 iteration:850 lr:0.04 c value:10000.00 loss: 0.00 delta sum:-320.67 optimum:True y grad:-255.062\n",
      "search:6 iteration:900 lr:0.03 c value:10000.00 loss: 101742.07 delta sum:-251.35 optimum:True y grad:-105.041\n",
      "search:6 iteration:950 lr:0.02 c value:10000.00 loss: 101742.07 delta sum:-251.35 optimum:True y grad:-105.041\n",
      "search:6 iteration:1000 lr:0.00 c value:10000.00 loss: 101742.07 delta sum:-251.35 optimum:True y grad:-105.041\n",
      "hallo\n",
      "search:7 iteration:50 lr:0.10 c value:5000.05 loss: 50871.54 delta sum:-251.35 optimum:False y grad:-52.521\n",
      "search:7 iteration:100 lr:0.09 c value:5000.05 loss: 50871.54 delta sum:-251.35 optimum:False y grad:-52.521\n",
      "search:7 iteration:150 lr:0.09 c value:5000.05 loss: 50871.54 delta sum:-251.35 optimum:False y grad:-52.521\n",
      "search:7 iteration:200 lr:0.09 c value:5000.05 loss: 50871.54 delta sum:-251.35 optimum:False y grad:-52.521\n",
      "search:7 iteration:250 lr:0.09 c value:5000.05 loss: 50871.54 delta sum:-251.35 optimum:False y grad:-52.521\n",
      "search:7 iteration:300 lr:0.08 c value:5000.05 loss: 50871.54 delta sum:-251.35 optimum:False y grad:-52.521\n",
      "search:7 iteration:350 lr:0.08 c value:5000.05 loss: 50871.54 delta sum:-251.35 optimum:False y grad:-52.521\n",
      "search:7 iteration:400 lr:0.08 c value:5000.05 loss: 50871.54 delta sum:-251.35 optimum:False y grad:-52.521\n",
      "search:7 iteration:450 lr:0.07 c value:5000.05 loss: 50871.54 delta sum:-251.35 optimum:False y grad:-52.521\n",
      "search:7 iteration:500 lr:0.07 c value:5000.05 loss: 50871.54 delta sum:-251.35 optimum:False y grad:-52.521\n",
      "search:7 iteration:550 lr:0.07 c value:5000.05 loss: 50871.54 delta sum:-251.35 optimum:False y grad:-52.521\n",
      "search:7 iteration:600 lr:0.06 c value:5000.05 loss: 50871.54 delta sum:-251.35 optimum:False y grad:-52.521\n",
      "search:7 iteration:650 lr:0.06 c value:5000.05 loss: 50871.54 delta sum:-251.35 optimum:False y grad:-52.521\n",
      "search:7 iteration:700 lr:0.05 c value:5000.05 loss: 50871.54 delta sum:-251.35 optimum:False y grad:-52.521\n",
      "search:7 iteration:750 lr:0.05 c value:5000.05 loss: 50871.54 delta sum:-251.35 optimum:False y grad:-52.521\n",
      "search:7 iteration:800 lr:0.04 c value:5000.05 loss: 50871.54 delta sum:-251.35 optimum:False y grad:-52.521\n",
      "search:7 iteration:850 lr:0.04 c value:5000.05 loss: 50871.54 delta sum:-251.35 optimum:False y grad:-52.521\n"
     ]
    },
    {
     "name": "stdout",
     "output_type": "stream",
     "text": [
      "search:7 iteration:900 lr:0.03 c value:5000.05 loss: 50871.54 delta sum:-251.35 optimum:False y grad:-52.521\n",
      "search:7 iteration:950 lr:0.02 c value:5000.05 loss: 50871.54 delta sum:-251.35 optimum:False y grad:-52.521\n",
      "search:7 iteration:1000 lr:0.00 c value:5000.05 loss: 50871.54 delta sum:-251.35 optimum:False y grad:-52.521\n",
      "doei\n",
      "search:8 iteration:50 lr:0.10 c value:50000.50 loss: 470104.28 delta sum:-283.61 optimum:True y grad:1129826.186\n",
      "search:8 iteration:100 lr:0.09 c value:50000.50 loss: 0.00 delta sum:-297.57 optimum:True y grad:-159.334\n",
      "search:8 iteration:150 lr:0.09 c value:50000.50 loss: 0.00 delta sum:-341.05 optimum:True y grad:-319.520\n",
      "search:8 iteration:200 lr:0.09 c value:50000.50 loss: 614361.62 delta sum:-273.11 optimum:True y grad:-556791.236\n",
      "search:8 iteration:250 lr:0.09 c value:50000.50 loss: 660066.62 delta sum:-274.02 optimum:True y grad:-1796536.395\n",
      "search:8 iteration:300 lr:0.08 c value:50000.50 loss: 0.00 delta sum:-306.95 optimum:True y grad:-200.629\n",
      "search:8 iteration:350 lr:0.08 c value:50000.50 loss: 123206.99 delta sum:-317.20 optimum:True y grad:106179.252\n",
      "search:8 iteration:400 lr:0.08 c value:50000.50 loss: 605051.88 delta sum:-281.18 optimum:True y grad:-228980.848\n",
      "search:8 iteration:450 lr:0.07 c value:50000.50 loss: 650836.69 delta sum:-282.44 optimum:True y grad:131550.514\n",
      "search:8 iteration:500 lr:0.07 c value:50000.50 loss: 739408.62 delta sum:-282.99 optimum:True y grad:-74425.170\n",
      "search:8 iteration:550 lr:0.07 c value:50000.50 loss: 746973.44 delta sum:-283.87 optimum:True y grad:1588577.480\n",
      "search:8 iteration:600 lr:0.06 c value:50000.50 loss: 0.00 delta sum:-329.08 optimum:True y grad:-274.374\n",
      "search:8 iteration:650 lr:0.06 c value:50000.50 loss: 506538.44 delta sum:-286.49 optimum:True y grad:-485327.414\n",
      "search:8 iteration:700 lr:0.05 c value:50000.50 loss: 0.00 delta sum:-321.66 optimum:True y grad:-243.632\n",
      "search:8 iteration:750 lr:0.05 c value:50000.50 loss: 589208.31 delta sum:-281.60 optimum:True y grad:2432490.270\n",
      "search:8 iteration:800 lr:0.04 c value:50000.50 loss: 765829.50 delta sum:-339.59 optimum:True y grad:2387644.860\n",
      "search:8 iteration:850 lr:0.04 c value:50000.50 loss: 0.00 delta sum:-351.97 optimum:True y grad:-351.620\n",
      "search:8 iteration:900 lr:0.03 c value:50000.50 loss: 536525.50 delta sum:-252.03 optimum:True y grad:-1394308.823\n",
      "search:8 iteration:950 lr:0.02 c value:50000.50 loss: 508715.44 delta sum:-251.35 optimum:True y grad:-525.210\n",
      "search:8 iteration:1000 lr:0.00 c value:50000.50 loss: 508715.44 delta sum:-251.35 optimum:True y grad:-525.210\n",
      "hallo\n",
      "search:9 iteration:50 lr:0.10 c value:25000.30 loss: 0.00 delta sum:-340.36 optimum:True y grad:-298.069\n",
      "search:9 iteration:100 lr:0.09 c value:25000.30 loss: 261151.92 delta sum:-279.93 optimum:True y grad:150998.535\n",
      "search:9 iteration:150 lr:0.09 c value:25000.30 loss: 313562.88 delta sum:-275.20 optimum:True y grad:-13775.890\n",
      "search:9 iteration:200 lr:0.09 c value:25000.30 loss: 0.00 delta sum:-289.20 optimum:True y grad:-137.733\n",
      "search:9 iteration:250 lr:0.09 c value:25000.30 loss: 76365.72 delta sum:-281.61 optimum:True y grad:-322074.210\n",
      "search:9 iteration:300 lr:0.08 c value:25000.30 loss: 0.00 delta sum:-316.00 optimum:True y grad:-224.268\n",
      "search:9 iteration:350 lr:0.08 c value:25000.30 loss: 0.00 delta sum:-320.94 optimum:True y grad:-255.590\n",
      "search:9 iteration:400 lr:0.08 c value:25000.30 loss: 0.00 delta sum:-309.26 optimum:True y grad:-210.616\n",
      "search:9 iteration:450 lr:0.07 c value:25000.30 loss: 0.00 delta sum:-283.32 optimum:True y grad:-112.671\n",
      "search:9 iteration:500 lr:0.07 c value:25000.30 loss: 108381.91 delta sum:-318.71 optimum:True y grad:1358283.500\n",
      "search:9 iteration:550 lr:0.07 c value:25000.30 loss: 0.00 delta sum:-340.07 optimum:True y grad:-307.565\n",
      "search:9 iteration:600 lr:0.06 c value:25000.30 loss: 690580.75 delta sum:-333.96 optimum:True y grad:1688299.997\n",
      "search:9 iteration:650 lr:0.06 c value:25000.30 loss: 125774.14 delta sum:-292.82 optimum:True y grad:831970.204\n",
      "search:9 iteration:700 lr:0.05 c value:25000.30 loss: 259742.81 delta sum:-283.96 optimum:True y grad:683599.907\n",
      "search:9 iteration:750 lr:0.05 c value:25000.30 loss: 331202.75 delta sum:-272.59 optimum:True y grad:-348918.557\n",
      "search:9 iteration:800 lr:0.04 c value:25000.30 loss: 417520.31 delta sum:-289.57 optimum:True y grad:982602.715\n",
      "search:9 iteration:850 lr:0.04 c value:25000.30 loss: 254392.19 delta sum:-251.47 optimum:True y grad:-4967.738\n",
      "search:9 iteration:900 lr:0.03 c value:25000.30 loss: 254358.23 delta sum:-251.35 optimum:True y grad:-262.606\n",
      "search:9 iteration:950 lr:0.02 c value:25000.30 loss: 254358.23 delta sum:-251.35 optimum:True y grad:-262.606\n",
      "search:9 iteration:1000 lr:0.00 c value:25000.30 loss: 254358.23 delta sum:-251.35 optimum:True y grad:-262.606\n",
      "hallo\n"
     ]
    }
   ],
   "source": [
    "# find pertinent negatives\n",
    "cnn.float()\n",
    "CEM.compute_CEM(image)"
   ]
  },
  {
   "cell_type": "code",
   "execution_count": 11,
   "metadata": {
    "scrolled": true
   },
   "outputs": [
    {
     "data": {
      "text/plain": [
       "<matplotlib.image.AxesImage at 0x20f12beaa20>"
      ]
     },
     "execution_count": 11,
     "metadata": {},
     "output_type": "execute_result"
    },
    {
     "data": {
      "image/png": "[encoded data removed]",
      "text/plain": [
       "<Figure size 432x288 with 1 Axes>"
      ]
     },
     "metadata": {
      "needs_background": "light"
     },
     "output_type": "display_data"
    }
   ],
   "source": [
    "# perturbation\n",
    "plt.imshow(image.squeeze()- CEM.best_delta.view(28,28), cmap=\"gray\")"
   ]
  },
  {
   "cell_type": "code",
   "execution_count": null,
   "metadata": {},
   "outputs": [],
   "source": [
    "# original image with perturbation\n",
    "plt.imshow(CEM.delta_tracker[-1].view(28,28))"
   ]
  },
  {
   "cell_type": "code",
   "execution_count": null,
   "metadata": {},
   "outputs": [],
   "source": [
    "plt.imshow(CEM.delta_tracker[-1].view(28,28)-image.view(28,28))"
   ]
  },
  {
   "cell_type": "code",
   "execution_count": null,
   "metadata": {},
   "outputs": [],
   "source": [
    "# classification before\n",
    "before = np.argmax(cnn(image.squeeze(-1)).detach()).item()\n",
    "before"
   ]
  },
  {
   "cell_type": "code",
   "execution_count": null,
   "metadata": {},
   "outputs": [],
   "source": [
    "cnn.double()\n",
    "# classification after\n",
    "after = np.argmax(cnn(CEM.delta_tracker[-1].view(1,28,28)).detach()).item()\n",
    "after"
   ]
  },
  {
   "cell_type": "code",
   "execution_count": null,
   "metadata": {},
   "outputs": [],
   "source": [
    "# classification after\n",
    "cnn.double()\n",
    "# classification of delta\n",
    "class_delta = np.argmax(cnn(image.squeeze(-1) - CEM.best_delta.view(1,28,28)).detach()).item()\n",
    "class_delta"
   ]
  },
  {
   "cell_type": "code",
   "execution_count": null,
   "metadata": {},
   "outputs": [],
   "source": [
    "dirname = \"saved_perturbations/kappa-{}-gamma-{}-beta-{}-lr-{}\".format(kappa, gamma, beta, lr)\n",
    "os.makedirs(dirname, exist_ok=True)\n",
    "fname_orig = dirname + \"/{}-cb-{}-ca-{}-orig.png\".format(int(time.time()), before, after)\n",
    "fname_pert = dirname + \"/{}-before-{}-after-{}-pert.png\".format(int(time.time()), before, after)\n",
    "fname_combined = dirname + \"/{}-before-{}-after-{}-pn.png\".format(int(time.time()), before, after)\n",
    "fname_combined_pp = dirname + \"/{}-before-{}-after-{}-pp.png\".format(int(time.time()), before, after)\n",
    "plt.imsave(fname_orig, image.squeeze(), cmap=\"gray\")\n",
    "plt.imsave(fname_pert, CEM.best_delta.view(28,28) - image.squeeze(), cmap=\"gray\")\n",
    "plt.imsave(fname_combined, CEM.best_delta.view(28,28), cmap=\"gray\")\n",
    "plt.imsave(fname_combined_pp, image.squeeze() - CEM.best_delta.view(28,28))"
   ]
  },
  {
   "cell_type": "code",
   "execution_count": null,
   "metadata": {},
   "outputs": [],
   "source": [
    "print(CEM.best_loss)"
   ]
  },
  {
   "cell_type": "code",
   "execution_count": null,
   "metadata": {},
   "outputs": [],
   "source": [
    "print(CEM.best_pert_loss)"
   ]
  },
  {
   "cell_type": "code",
   "execution_count": null,
   "metadata": {},
   "outputs": [],
   "source": [
    "print(CEM.best_c)"
   ]
  },
  {
   "cell_type": "code",
   "execution_count": null,
   "metadata": {},
   "outputs": [],
   "source": []
  }
 ],
 "metadata": {
  "kernelspec": {
   "display_name": "Python 3",
   "language": "python",
   "name": "python3"
  },
  "language_info": {
   "codemirror_mode": {
    "name": "ipython",
    "version": 3
   },
   "file_extension": ".py",
   "mimetype": "text/x-python",
   "name": "python",
   "nbconvert_exporter": "python",
   "pygments_lexer": "ipython3",
   "version": "3.6.9"
  }
 },
 "nbformat": 4,
 "nbformat_minor": 2
}
