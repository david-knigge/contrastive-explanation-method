{
 "cells": [
  {
   "cell_type": "code",
   "execution_count": 1,
   "metadata": {},
   "outputs": [],
   "source": [
    "import matplotlib.pyplot as plt\n",
    "import numpy as np\n",
    "\n",
    "from datasets.mnist import MNIST\n",
    "\n",
    "from models.cae_model import CAE\n",
    "from models.conv_model import CNN\n",
    "\n",
    "from train import train_ae, train_cnn\n",
    "\n",
    "from models.cem_ibm_model import AEADEN \n",
    "\n",
    "import os"
   ]
  },
  {
   "cell_type": "code",
   "execution_count": 2,
   "metadata": {},
   "outputs": [],
   "source": [
    "dataset = MNIST(batch_size=64)\n",
    "# dataset = FashionMNIST()"
   ]
  },
  {
   "cell_type": "markdown",
   "metadata": {},
   "source": [
    "# Training the classifier"
   ]
  },
  {
   "cell_type": "code",
   "execution_count": 3,
   "metadata": {},
   "outputs": [],
   "source": [
    "cnn = CNN(device='cpu')\n",
    "\n",
    "train_cnn(cnn, dataset, iterations=50, lr=0.01, device='cpu', save_fn='mnist-cnn-rescaled', load_path=\"models/saved_models/mnist-cnn.h5\")"
   ]
  },
  {
   "cell_type": "code",
   "execution_count": 4,
   "metadata": {},
   "outputs": [
    {
     "name": "stderr",
     "output_type": "stream",
     "text": [
      "D:\\Programmeren\\uva-fact-ai\\models\\conv_model.py:50: UserWarning: Implicit dimension choice for softmax has been deprecated. Change the call to include dim=X as an argument.\n",
      "  out = nn.functional.softmax(out)\n"
     ]
    }
   ],
   "source": [
    "images, _ = dataset.get_batch()\n",
    "\n",
    "output = cnn(images)\n",
    "\n",
    "images = images.numpy()\n",
    "output = output.detach().numpy()\n"
   ]
  },
  {
   "cell_type": "markdown",
   "metadata": {},
   "source": [
    "# Training the autoencoder"
   ]
  },
  {
   "cell_type": "markdown",
   "metadata": {},
   "source": [
    "This section trains the autoencoder which will be used as regularizer for the data space which the perturbations are found in."
   ]
  },
  {
   "cell_type": "code",
   "execution_count": 5,
   "metadata": {},
   "outputs": [],
   "source": [
    "# Train or load autoencoder\n",
    "cae = CAE()\n",
    "\n",
    "train_ae(cae, dataset, iterations=2, save_fn=\"mnist-cae\", load_path=\"./models/saved_models/mnist-cae-no-rs.h5\")"
   ]
  },
  {
   "cell_type": "code",
   "execution_count": 6,
   "metadata": {},
   "outputs": [
    {
     "data": {
      "image/png": "[encoded data removed]",
      "text/plain": [
       "<Figure size 1800x288 with 8 Axes>"
      ]
     },
     "metadata": {
      "needs_background": "light"
     },
     "output_type": "display_data"
    }
   ],
   "source": [
    "# obtain one batch of test images\n",
    "images, _ = dataset.get_batch()\n",
    "\n",
    "#images_flatten = images.view(images.size(0), -1)\n",
    "# get sample outputs\n",
    "output = cae(images)\n",
    "# prep images for display\n",
    "images = images.numpy()\n",
    "\n",
    "# output is resized into a batch of images\n",
    "# output = output.view(batch_size, 1, 28, 28)\n",
    "# use detach when it's an output that requires_grad\n",
    "output = output.detach().numpy()\n",
    "\n",
    "# plot the first ten input images and then reconstructed images\n",
    "fig, axes = plt.subplots(nrows=2, ncols=4, sharex=True, sharey=True, figsize=(25,4))\n",
    "\n",
    "# input images on top row, reconstructions on bottom\n",
    "for images, row in zip([images, output], axes):\n",
    "    for img, ax in zip(images, row):\n",
    "        ax.imshow(np.squeeze(img), cmap='gray')\n",
    "        ax.get_xaxis().set_visible(False)\n",
    "        ax.get_yaxis().set_visible(False)"
   ]
  },
  {
   "cell_type": "markdown",
   "metadata": {},
   "source": [
    "# Contrastive Explanation Method"
   ]
  },
  {
   "cell_type": "code",
   "execution_count": 22,
   "metadata": {},
   "outputs": [],
   "source": [
    "kappa = 10\n",
    "gamma = 100\n",
    "beta = 1.\n",
    "lr = 0.1\n",
    "\n",
    "CEM = AEADEN(model=cnn, AE=cae, max_iterations=200, n_searches=5, mode=\"PN\", init_learning_rate=lr, c_init=0.1, kappa=kappa, gamma=gamma, beta=beta)"
   ]
  },
  {
   "cell_type": "code",
   "execution_count": 23,
   "metadata": {},
   "outputs": [
    {
     "data": {
      "image/png": "[encoded data removed]",
      "text/plain": [
       "<Figure size 432x288 with 1 Axes>"
      ]
     },
     "metadata": {
      "needs_background": "light"
     },
     "output_type": "display_data"
    },
    {
     "data": {
      "text/plain": [
       "<matplotlib.image.AxesImage at 0x1e62856b1d0>"
      ]
     },
     "execution_count": 23,
     "metadata": {},
     "output_type": "execute_result"
    },
    {
     "data": {
      "image/png": "[encoded data removed]",
      "text/plain": [
       "<Figure size 432x288 with 1 Axes>"
      ]
     },
     "metadata": {
      "needs_background": "light"
     },
     "output_type": "display_data"
    }
   ],
   "source": [
    "# obtain one sample\n",
    "image = dataset.get_sample_by_class(class_label=3)\n",
    "\n",
    "plt.imshow(image.squeeze())\n"
   ]
  },
  {
   "cell_type": "code",
   "execution_count": 24,
   "metadata": {
    "scrolled": true
   },
   "outputs": [
    {
     "name": "stdout",
     "output_type": "stream",
     "text": [
      "search:0 iteration:20 lr:0.10 c value:0.10 loss: 0.44 delta sum:46.70 optimum:True y grad:-259.865\n",
      "search:0 iteration:40 lr:0.09 c value:0.10 loss: 0.00 delta sum:55.07 optimum:True y grad:1889.282\n",
      "search:0 iteration:60 lr:0.08 c value:0.10 loss: 0.00 delta sum:55.75 optimum:True y grad:5284.322\n",
      "search:0 iteration:80 lr:0.08 c value:0.10 loss: 0.00 delta sum:63.35 optimum:True y grad:3284.195\n",
      "search:0 iteration:100 lr:0.07 c value:0.10 loss: 0.00 delta sum:60.37 optimum:True y grad:1287.575\n",
      "search:0 iteration:120 lr:0.06 c value:0.10 loss: 0.02 delta sum:62.92 optimum:True y grad:2306.656\n",
      "search:0 iteration:140 lr:0.06 c value:0.10 loss: 0.00 delta sum:60.50 optimum:True y grad:1606.521\n",
      "search:0 iteration:160 lr:0.05 c value:0.10 loss: 0.00 delta sum:48.91 optimum:True y grad:-1179.765\n",
      "search:0 iteration:180 lr:0.03 c value:0.10 loss: 0.00 delta sum:49.18 optimum:True y grad:-969.133\n",
      "search:0 iteration:200 lr:0.01 c value:0.10 loss: 0.00 delta sum:-62.70 optimum:True y grad:-3418.992\n",
      "hallo\n",
      "search:1 iteration:20 lr:0.10 c value:0.10 loss: 0.47 delta sum:70.92 optimum:True y grad:1851.529\n",
      "search:1 iteration:40 lr:0.09 c value:0.10 loss: 0.00 delta sum:61.60 optimum:True y grad:-537.317\n",
      "search:1 iteration:60 lr:0.08 c value:0.10 loss: 0.00 delta sum:69.88 optimum:True y grad:2475.845\n",
      "search:1 iteration:80 lr:0.08 c value:0.10 loss: 0.00 delta sum:68.06 optimum:True y grad:3748.106\n",
      "search:1 iteration:100 lr:0.07 c value:0.10 loss: 0.00 delta sum:65.48 optimum:True y grad:3053.904\n",
      "search:1 iteration:120 lr:0.06 c value:0.10 loss: 0.00 delta sum:64.49 optimum:True y grad:1918.773\n",
      "search:1 iteration:140 lr:0.06 c value:0.10 loss: 0.00 delta sum:67.90 optimum:True y grad:3748.419\n",
      "search:1 iteration:160 lr:0.05 c value:0.10 loss: 0.00 delta sum:57.50 optimum:True y grad:1224.025\n",
      "search:1 iteration:180 lr:0.03 c value:0.10 loss: 0.00 delta sum:40.81 optimum:True y grad:-347.720\n",
      "search:1 iteration:200 lr:0.01 c value:0.10 loss: 0.00 delta sum:-28.69 optimum:True y grad:-2228.891\n",
      "hallo\n",
      "search:2 iteration:20 lr:0.10 c value:0.10 loss: 0.00 delta sum:56.69 optimum:True y grad:-2030.864\n",
      "search:2 iteration:40 lr:0.09 c value:0.10 loss: 0.00 delta sum:59.45 optimum:True y grad:4255.156\n",
      "search:2 iteration:60 lr:0.08 c value:0.10 loss: 0.00 delta sum:58.64 optimum:True y grad:4901.740\n",
      "search:2 iteration:80 lr:0.08 c value:0.10 loss: 0.00 delta sum:63.06 optimum:True y grad:4798.309\n",
      "search:2 iteration:100 lr:0.07 c value:0.10 loss: 0.00 delta sum:61.93 optimum:True y grad:4031.106\n",
      "search:2 iteration:120 lr:0.06 c value:0.10 loss: 0.00 delta sum:60.28 optimum:True y grad:2041.007\n",
      "search:2 iteration:140 lr:0.06 c value:0.10 loss: 0.00 delta sum:58.20 optimum:True y grad:2439.223\n",
      "search:2 iteration:160 lr:0.05 c value:0.10 loss: 0.00 delta sum:58.38 optimum:True y grad:3587.428\n",
      "search:2 iteration:180 lr:0.03 c value:0.10 loss: 0.00 delta sum:49.01 optimum:True y grad:318.532\n",
      "search:2 iteration:200 lr:0.01 c value:0.10 loss: 0.00 delta sum:-14.23 optimum:True y grad:-3610.267\n",
      "hallo\n",
      "search:3 iteration:20 lr:0.10 c value:0.10 loss: 0.00 delta sum:67.46 optimum:True y grad:605.760\n",
      "search:3 iteration:40 lr:0.09 c value:0.10 loss: 0.15 delta sum:70.69 optimum:True y grad:4254.952\n",
      "search:3 iteration:60 lr:0.08 c value:0.10 loss: 0.00 delta sum:71.15 optimum:True y grad:4837.898\n",
      "search:3 iteration:80 lr:0.08 c value:0.10 loss: 0.00 delta sum:68.30 optimum:True y grad:1161.520\n",
      "search:3 iteration:100 lr:0.07 c value:0.10 loss: 0.00 delta sum:65.00 optimum:True y grad:853.602\n",
      "search:3 iteration:120 lr:0.06 c value:0.10 loss: 0.00 delta sum:61.85 optimum:True y grad:635.668\n",
      "search:3 iteration:140 lr:0.06 c value:0.10 loss: 0.00 delta sum:62.62 optimum:True y grad:1768.291\n",
      "search:3 iteration:160 lr:0.05 c value:0.10 loss: 0.00 delta sum:59.37 optimum:True y grad:530.972\n",
      "search:3 iteration:180 lr:0.03 c value:0.10 loss: 0.00 delta sum:53.83 optimum:True y grad:829.715\n",
      "search:3 iteration:200 lr:0.01 c value:0.10 loss: 0.00 delta sum:-46.98 optimum:True y grad:-5637.482\n",
      "hallo\n",
      "search:4 iteration:20 lr:0.10 c value:0.10 loss: 0.00 delta sum:62.87 optimum:True y grad:2164.953\n",
      "search:4 iteration:40 lr:0.09 c value:0.10 loss: 0.00 delta sum:54.57 optimum:True y grad:1051.492\n",
      "search:4 iteration:60 lr:0.08 c value:0.10 loss: 0.00 delta sum:49.60 optimum:True y grad:-2002.674\n",
      "search:4 iteration:80 lr:0.08 c value:0.10 loss: 0.00 delta sum:54.80 optimum:True y grad:411.505\n",
      "search:4 iteration:100 lr:0.07 c value:0.10 loss: 0.00 delta sum:55.55 optimum:True y grad:305.130\n",
      "search:4 iteration:120 lr:0.06 c value:0.10 loss: 0.00 delta sum:61.56 optimum:True y grad:4208.989\n",
      "search:4 iteration:140 lr:0.06 c value:0.10 loss: 0.00 delta sum:52.14 optimum:True y grad:-1444.347\n",
      "search:4 iteration:160 lr:0.05 c value:0.10 loss: 0.00 delta sum:47.71 optimum:True y grad:-818.881\n",
      "search:4 iteration:180 lr:0.03 c value:0.10 loss: 0.00 delta sum:40.69 optimum:True y grad:-3807.903\n",
      "search:4 iteration:200 lr:0.01 c value:0.10 loss: 0.00 delta sum:-53.63 optimum:True y grad:-650.165\n",
      "hallo\n"
     ]
    }
   ],
   "source": [
    "# find pertinent negatives\n",
    "cnn.float()\n",
    "CEM.compute_CEM(image)"
   ]
  },
  {
   "cell_type": "code",
   "execution_count": 25,
   "metadata": {
    "scrolled": true
   },
   "outputs": [
    {
     "data": {
      "text/plain": [
       "<matplotlib.image.AxesImage at 0x1e6285d5320>"
      ]
     },
     "execution_count": 25,
     "metadata": {},
     "output_type": "execute_result"
    },
    {
     "data": {
      "image/png": "[encoded data removed]",
      "text/plain": [
       "<Figure size 432x288 with 1 Axes>"
      ]
     },
     "metadata": {
      "needs_background": "light"
     },
     "output_type": "display_data"
    }
   ],
   "source": [
    "# perturbation\n",
    "plt.imshow(image.squeeze()- CEM.best_delta.view(28,28), cmap=\"gray\")"
   ]
  },
  {
   "cell_type": "code",
   "execution_count": 26,
   "metadata": {},
   "outputs": [
    {
     "data": {
      "text/plain": [
       "<matplotlib.image.AxesImage at 0x1e628517cf8>"
      ]
     },
     "execution_count": 26,
     "metadata": {},
     "output_type": "execute_result"
    },
    {
     "data": {
      "image/png": "[encoded data removed]",
      "text/plain": [
       "<Figure size 432x288 with 1 Axes>"
      ]
     },
     "metadata": {
      "needs_background": "light"
     },
     "output_type": "display_data"
    }
   ],
   "source": [
    "# original image with perturbation\n",
    "plt.imshow(CEM.delta_tracker[-1].view(28,28))"
   ]
  },
  {
   "cell_type": "code",
   "execution_count": 27,
   "metadata": {},
   "outputs": [
    {
     "data": {
      "text/plain": [
       "<matplotlib.image.AxesImage at 0x1e6283bdb00>"
      ]
     },
     "execution_count": 27,
     "metadata": {},
     "output_type": "execute_result"
    },
    {
     "data": {
      "image/png": "[encoded data removed]",
      "text/plain": [
       "<Figure size 432x288 with 1 Axes>"
      ]
     },
     "metadata": {
      "needs_background": "light"
     },
     "output_type": "display_data"
    }
   ],
   "source": [
    "plt.imshow(CEM.delta_tracker[-1].view(28,28)-image.view(28,28))"
   ]
  },
  {
   "cell_type": "code",
   "execution_count": 13,
   "metadata": {},
   "outputs": [
    {
     "data": {
      "text/plain": [
       "3"
      ]
     },
     "execution_count": 13,
     "metadata": {},
     "output_type": "execute_result"
    }
   ],
   "source": [
    "# classification before\n",
    "before = np.argmax(cnn(image.squeeze(-1)).detach()).item()\n",
    "before"
   ]
  },
  {
   "cell_type": "code",
   "execution_count": 17,
   "metadata": {},
   "outputs": [
    {
     "data": {
      "text/plain": [
       "8"
      ]
     },
     "execution_count": 17,
     "metadata": {},
     "output_type": "execute_result"
    }
   ],
   "source": [
    "cnn.double()\n",
    "# classification after\n",
    "after = np.argmax(cnn(CEM.delta_tracker[-1].view(1,28,28)).detach()).item()\n",
    "after"
   ]
  },
  {
   "cell_type": "code",
   "execution_count": null,
   "metadata": {},
   "outputs": [],
   "source": [
    "# classification after\n",
    "cnn.double()\n",
    "# classification of delta\n",
    "class_delta = np.argmax(cnn(image.squeeze(-1) - CEM.best_delta.view(1,28,28)).detach()).item()\n",
    "class_delta"
   ]
  },
  {
   "cell_type": "code",
   "execution_count": null,
   "metadata": {},
   "outputs": [],
   "source": [
    "dirname = \"saved_perturbations/kappa-{}-gamma-{}-beta-{}-lr-{}\".format(kappa, gamma, beta, lr)\n",
    "os.makedirs(dirname, exist_ok=True)\n",
    "fname_orig = dirname + \"/{}-cb-{}-ca-{}-orig.png\".format(int(time.time()), before, after)\n",
    "fname_pert = dirname + \"/{}-before-{}-after-{}-pert.png\".format(int(time.time()), before, after)\n",
    "fname_combined = dirname + \"/{}-before-{}-after-{}-pn.png\".format(int(time.time()), before, after)\n",
    "fname_combined_pp = dirname + \"/{}-before-{}-after-{}-pp.png\".format(int(time.time()), before, after)\n",
    "plt.imsave(fname_orig, image.squeeze(), cmap=\"gray\")\n",
    "plt.imsave(fname_pert, CEM.best_delta.view(28,28) - image.squeeze(), cmap=\"gray\")\n",
    "plt.imsave(fname_combined, CEM.best_delta.view(28,28), cmap=\"gray\")\n",
    "plt.imsave(fname_combined_pp, image.squeeze() - CEM.best_delta.view(28,28))"
   ]
  },
  {
   "cell_type": "code",
   "execution_count": null,
   "metadata": {},
   "outputs": [],
   "source": [
    "print(CEM.best_loss)"
   ]
  },
  {
   "cell_type": "code",
   "execution_count": null,
   "metadata": {},
   "outputs": [],
   "source": [
    "print(CEM.best_pert_loss)"
   ]
  },
  {
   "cell_type": "code",
   "execution_count": null,
   "metadata": {},
   "outputs": [],
   "source": [
    "print(CEM.best_c)"
   ]
  },
  {
   "cell_type": "code",
   "execution_count": null,
   "metadata": {},
   "outputs": [],
   "source": []
  }
 ],
 "metadata": {
  "kernelspec": {
   "display_name": "Python 3",
   "language": "python",
   "name": "python3"
  },
  "language_info": {
   "codemirror_mode": {
    "name": "ipython",
    "version": 3
   },
   "file_extension": ".py",
   "mimetype": "text/x-python",
   "name": "python",
   "nbconvert_exporter": "python",
   "pygments_lexer": "ipython3",
   "version": "3.6.9"
  }
 },
 "nbformat": 4,
 "nbformat_minor": 2
}
