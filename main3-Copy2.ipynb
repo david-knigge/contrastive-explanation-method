{
 "cells": [
  {
   "cell_type": "code",
   "execution_count": 1,
   "metadata": {},
   "outputs": [],
   "source": [
    "%matplotlib inline\n",
    "import matplotlib.pyplot as plt\n",
    "import numpy as np\n",
    "\n",
    "import time\n",
    "import os\n",
    "import torch\n",
    "\n",
    "from datasets.mnist import MNIST\n",
    "\n",
    "from models.cae_model import CAE\n",
    "from models.conv_model import CNN\n",
    "\n",
    "from train import train_ae, train_cnn\n",
    "\n",
    "from cem3 import ContrastiveExplanationMethod\n",
    "from cem5 import ContrastiveExplanationMethod as ContrastiveExplanationMethod1\n",
    "\n",
    "# set random seeds for reproducability (although the CEM is fully determininstic)\n",
    "torch.manual_seed(0)\n",
    "np.random.seed(0)"
   ]
  },
  {
   "cell_type": "code",
   "execution_count": 2,
   "metadata": {},
   "outputs": [],
   "source": [
    "dataset = MNIST(batch_size=64)\n",
    "# dataset = FashionMNIST()"
   ]
  },
  {
   "cell_type": "markdown",
   "metadata": {},
   "source": [
    "# Training the classifier"
   ]
  },
  {
   "cell_type": "code",
   "execution_count": 3,
   "metadata": {},
   "outputs": [],
   "source": [
    "cnn = CNN(device=\"cpu\")\n",
    "\n",
    "train_cnn(cnn, dataset, iterations=20, lr=0.01, save_fn='mnist-cnn', device=\"cpu\", load_path=\"models/saved_models/mnist-cnn.h5\")"
   ]
  },
  {
   "cell_type": "code",
   "execution_count": 4,
   "metadata": {},
   "outputs": [
    {
     "name": "stderr",
     "output_type": "stream",
     "text": [
      "D:\\david\\Coding\\uva-fact-ai\\models\\conv_model.py:50: UserWarning: Implicit dimension choice for softmax has been deprecated. Change the call to include dim=X as an argument.\n",
      "  out = nn.functional.softmax(out)\n"
     ]
    }
   ],
   "source": [
    "images, _ = dataset.get_batch()\n",
    "\n",
    "output = cnn(images)\n",
    "\n",
    "images = images.numpy()\n",
    "output = output.detach().numpy()\n"
   ]
  },
  {
   "cell_type": "code",
   "execution_count": 5,
   "metadata": {},
   "outputs": [],
   "source": [
    "# # evaluate the cnn by uncommenting this cell\n",
    "\n",
    "# total_acc = 0\n",
    "# total_batches = 0\n",
    "# for step, (batch_inputs, batch_targets) in enumerate(dataset.test_loader):\n",
    "    \n",
    "#     predictions = cnn(batch_inputs)\n",
    "#     acc = (predictions.argmax(1).cpu().numpy() == batch_targets.cpu().numpy()).sum()/(predictions.shape[0] )\n",
    "#     total_batches += 1\n",
    "#     total_acc += acc\n",
    "    \n",
    "# print(\"acc: {}\".format(total_acc / total_batches))"
   ]
  },
  {
   "cell_type": "markdown",
   "metadata": {},
   "source": [
    "# Training the autoencoder"
   ]
  },
  {
   "cell_type": "markdown",
   "metadata": {},
   "source": [
    "This section trains the autoencoder which will be used as regularizer for the data space which the perturbations are found in."
   ]
  },
  {
   "cell_type": "code",
   "execution_count": 6,
   "metadata": {},
   "outputs": [],
   "source": [
    "# Train or load autoencoder\n",
    "cae = CAE(device=\"cpu\")\n",
    "\n",
    "train_ae(cae, dataset, iterations=10, save_fn=\"mnist-cae\", device=\"cpu\", load_path=\"models/saved_models/mnist-cae-no-rs.h5\")"
   ]
  },
  {
   "cell_type": "code",
   "execution_count": 7,
   "metadata": {},
   "outputs": [
    {
     "data": {
      "image/png": "[encoded data removed]",
      "text/plain": [
       "<Figure size 1800x288 with 8 Axes>"
      ]
     },
     "metadata": {
      "needs_background": "light"
     },
     "output_type": "display_data"
    }
   ],
   "source": [
    "# obtain one batch of test images\n",
    "images, _ = dataset.get_batch()\n",
    "images += 0.5 # rescale images\n",
    "\n",
    "# get sample outputs\n",
    "output = cae(images)\n",
    "# prep images for display\n",
    "images = images.numpy()\n",
    "output = output.detach().numpy()\n",
    "\n",
    "# plot the first ten input images and then reconstructed images\n",
    "fig, axes = plt.subplots(nrows=2, ncols=4, sharex=True, sharey=True, figsize=(25,4))\n",
    "\n",
    "# input images on top row, reconstructions on bottom\n",
    "for images, row in zip([images, output], axes):\n",
    "    for img, ax in zip(images, row):\n",
    "        ax.imshow(np.squeeze(img))\n",
    "        ax.get_xaxis().set_visible(False)\n",
    "        ax.get_yaxis().set_visible(False)"
   ]
  },
  {
   "cell_type": "markdown",
   "metadata": {},
   "source": [
    "# Contrastive Explanation Method"
   ]
  },
  {
   "cell_type": "code",
   "execution_count": 8,
   "metadata": {},
   "outputs": [],
   "source": [
    "# optimal: kappa 30, gamma 1.0, beta 0.1, lr 0.01\n",
    "\n",
    "kappa = 30\n",
    "gamma = 50\n",
    "beta = 0.1\n",
    "c = 0.1\n",
    "lr = 0.01\n",
    "CEM = ContrastiveExplanationMethod(\n",
    "    cnn,\n",
    "    cae,\n",
    "    iterations=10,\n",
    "    n_searches=2,\n",
    "    kappa=kappa,\n",
    "    gamma=gamma,\n",
    "    beta=beta,\n",
    "    learning_rate=lr,\n",
    "    c_init=10.0\n",
    ")\n",
    "CEM1 = ContrastiveExplanationMethod1(\n",
    "    cnn,\n",
    "    cae,\n",
    "    iterations=10,\n",
    "    n_searches=2,\n",
    "    kappa=kappa,\n",
    "    gamma=gamma,\n",
    "    beta=beta,\n",
    "    learning_rate=lr,\n",
    "    c_init=10.0,\n",
    "    c_converge=c,\n",
    "    verbal=True\n",
    ")"
   ]
  },
  {
   "cell_type": "code",
   "execution_count": 9,
   "metadata": {},
   "outputs": [],
   "source": [
    "def save_imgs():\n",
    "    # save the created images\n",
    "    dirname = \"saved_perturbations/mode-{}-kappa-{}-gamma-{}-beta-{}-lr-{}\".format(mode, kappa, gamma, beta, lr)\n",
    "    os.makedirs(dirname, exist_ok=True)\n",
    "    \n",
    "    fname_orig = dirname + \"/{}-cb-{}-ca-{}-orig.png\".format(int(time.time()), before, after)\n",
    "    fname_pert = dirname + \"/{}-before-{}-after-{}-pert.png\".format(int(time.time()), before, after)\n",
    "    fname_combined = dirname + \"/{}-before-{}-after-{}-pn.png\".format(int(time.time()), before, after)\n",
    "    fname_combined_pp = dirname + \"/{}-before-{}-after-{}-pp.png\".format(int(time.time()), before, after)\n",
    "    \n",
    "    plt.imsave(fname_orig, image.squeeze(), cmap=\"gray\")\n",
    "    plt.imsave(fname_pert, CEM.best_delta.view(28,28) - image.squeeze(), cmap=\"gray\")\n",
    "    plt.imsave(fname_combined, CEM.best_delta.view(28,28), cmap=\"gray\")\n",
    "    plt.imsave(fname_combined_pp, image.squeeze() - CEM.best_delta.view(28,28), cmap=\"gray\")"
   ]
  },
  {
   "cell_type": "code",
   "execution_count": 10,
   "metadata": {
    "scrolled": true
   },
   "outputs": [
    {
     "name": "stdout",
     "output_type": "stream",
     "text": [
      "IMAGE FROM CLASS: 0\n",
      "search: 0 iteration: 1 c: 10.0 loss: 432.53 found optimum: False\n",
      "search: 0 iteration: 2 c: 10.0 loss: 2954.83 found optimum: False\n",
      "search: 0 iteration: 3 c: 10.0 loss: 2291.88 found optimum: False\n",
      "search: 0 iteration: 4 c: 10.0 loss: 2359.06 found optimum: False\n",
      "search: 0 iteration: 5 c: 10.0 loss: 2362.73 found optimum: False\n",
      "search: 0 iteration: 6 c: 10.0 loss: 2364.29 found optimum: False\n",
      "search: 0 iteration: 7 c: 10.0 loss: 2366.09 found optimum: False\n",
      "search: 0 iteration: 8 c: 10.0 loss: 2361.59 found optimum: False\n",
      "search: 0 iteration: 9 c: 10.0 loss: 2389.79 found optimum: False\n",
      "search: 0 iteration: 10 c: 10.0 loss: 2408.15 found optimum: False\n",
      "search: 1 iteration: 1 c: 100.0 loss: 2279.75 found optimum: False\n",
      "search: 1 iteration: 2 c: 100.0 loss: 4657.81 found optimum: False\n",
      "search: 1 iteration: 3 c: 100.0 loss: 4143.87 found optimum: False\n",
      "new best: 3062.722412109375\n",
      "search: 1 iteration: 4 c: 100.0 loss: 3062.72 found optimum: True\n",
      "search: 1 iteration: 5 c: 100.0 loss: 4499.24 found optimum: True\n",
      "search: 1 iteration: 6 c: 100.0 loss: 4597.83 found optimum: True\n",
      "search: 1 iteration: 7 c: 100.0 loss: 3130.51 found optimum: True\n",
      "search: 1 iteration: 8 c: 100.0 loss: 4181.06 found optimum: True\n",
      "search: 1 iteration: 9 c: 100.0 loss: 7751.30 found optimum: True\n",
      "search: 1 iteration: 10 c: 100.0 loss: 3632.37 found optimum: True\n",
      "search: 0 iteration: 1 c: 10.0 loss: 2594.59 found optimum: False\n",
      "search: 0 iteration: 2 c: 10.0 loss: 1691.33 found optimum: False\n",
      "search: 0 iteration: 3 c: 10.0 loss: 878.00 found optimum: False\n",
      "search: 0 iteration: 4 c: 10.0 loss: 572.28 found optimum: False\n",
      "search: 0 iteration: 5 c: 10.0 loss: 450.75 found optimum: False\n",
      "search: 0 iteration: 6 c: 10.0 loss: 425.88 found optimum: False\n",
      "search: 0 iteration: 7 c: 10.0 loss: 425.57 found optimum: False\n",
      "search: 0 iteration: 8 c: 10.0 loss: 433.52 found optimum: False\n",
      "search: 0 iteration: 9 c: 10.0 loss: 435.43 found optimum: False\n",
      "search: 0 iteration: 10 c: 10.0 loss: 439.90 found optimum: False\n",
      "search: 1 iteration: 1 c: 100.0 loss: 5280.74 found optimum: False\n",
      "search: 1 iteration: 2 c: 100.0 loss: 6395.75 found optimum: False\n",
      "search: 1 iteration: 3 c: 100.0 loss: 2889.76 found optimum: False\n",
      "search: 1 iteration: 4 c: 100.0 loss: 1176.19 found optimum: False\n",
      "search: 1 iteration: 5 c: 100.0 loss: 461.83 found optimum: False\n",
      "search: 1 iteration: 6 c: 100.0 loss: 240.14 found optimum: True\n",
      "search: 1 iteration: 7 c: 100.0 loss: 1671.78 found optimum: True\n",
      "new best: 203.97918701171875\n",
      "search: 1 iteration: 8 c: 100.0 loss: 203.98 found optimum: True\n",
      "search: 1 iteration: 9 c: 100.0 loss: 1023.81 found optimum: True\n",
      "new best: 162.72691345214844\n",
      "search: 1 iteration: 10 c: 100.0 loss: 162.73 found optimum: True\n"
     ]
    }
   ],
   "source": [
    "for i in range(1):\n",
    "    # obtain one sample\n",
    "    image = dataset.get_sample_by_class(class_label=i, show_image=False)\n",
    "\n",
    "    print(\"IMAGE FROM CLASS: {}\".format(i))\n",
    "    before = np.argmax(cnn(image.squeeze(-1)).detach()).item()\n",
    "    \n",
    "    for mode in [\"PP\", \"PN\"]:\n",
    "        \n",
    "        CEM.fista(image, mode=mode)\n",
    "        \n",
    "        if mode == \"PP\":\n",
    "            after = np.argmax(cnn(image.squeeze(-1) - CEM.best_delta.view(1,28,28)).detach()).item()\n",
    "        else:\n",
    "            after = np.argmax(cnn(CEM.best_delta.view(1,28,28)).detach()).item()\n",
    "        \n",
    "        save_imgs()"
   ]
  },
  {
   "cell_type": "code",
   "execution_count": 11,
   "metadata": {},
   "outputs": [
    {
     "name": "stdout",
     "output_type": "stream",
     "text": [
      "zelfde: True\n",
      "IMAGE FROM CLASS: 0\n",
      "search: 0 iteration: 1 c: 10.0 loss: 432.53 found optimum: False\n",
      "search: 0 iteration: 2 c: 10.0 loss: 2954.83 found optimum: False\n",
      "search: 0 iteration: 3 c: 10.0 loss: 2291.88 found optimum: False\n",
      "search: 0 iteration: 4 c: 10.0 loss: 2359.06 found optimum: False\n",
      "search: 0 iteration: 5 c: 10.0 loss: 2362.73 found optimum: False\n",
      "search: 0 iteration: 6 c: 10.0 loss: 2364.29 found optimum: False\n",
      "search: 0 iteration: 7 c: 10.0 loss: 2366.09 found optimum: False\n",
      "search: 0 iteration: 8 c: 10.0 loss: 2361.59 found optimum: False\n",
      "search: 0 iteration: 9 c: 10.0 loss: 2389.79 found optimum: False\n",
      "search: 0 iteration: 10 c: 10.0 loss: 2408.15 found optimum: False\n",
      "search: 1 iteration: 1 c: 100.0 loss: 2279.75 found optimum: False\n",
      "search: 1 iteration: 2 c: 100.0 loss: 4657.81 found optimum: False\n",
      "search: 1 iteration: 3 c: 100.0 loss: 4143.87 found optimum: False\n",
      "new best: 3062.722412109375\n",
      "search: 1 iteration: 4 c: 100.0 loss: 3062.72 found optimum: True\n",
      "search: 1 iteration: 5 c: 100.0 loss: 4499.24 found optimum: True\n",
      "search: 1 iteration: 6 c: 100.0 loss: 4597.83 found optimum: True\n",
      "search: 1 iteration: 7 c: 100.0 loss: 3130.51 found optimum: True\n",
      "search: 1 iteration: 8 c: 100.0 loss: 4181.06 found optimum: True\n",
      "search: 1 iteration: 9 c: 100.0 loss: 7751.30 found optimum: True\n",
      "search: 1 iteration: 10 c: 100.0 loss: 3632.37 found optimum: True\n",
      "search: 0 iteration: 1 c: 10.0 loss: 2594.59 found optimum: False\n",
      "search: 0 iteration: 2 c: 10.0 loss: 1691.33 found optimum: False\n",
      "search: 0 iteration: 3 c: 10.0 loss: 878.00 found optimum: False\n",
      "search: 0 iteration: 4 c: 10.0 loss: 572.28 found optimum: False\n",
      "search: 0 iteration: 5 c: 10.0 loss: 450.75 found optimum: False\n",
      "search: 0 iteration: 6 c: 10.0 loss: 425.88 found optimum: False\n",
      "search: 0 iteration: 7 c: 10.0 loss: 425.57 found optimum: False\n",
      "search: 0 iteration: 8 c: 10.0 loss: 433.52 found optimum: False\n",
      "search: 0 iteration: 9 c: 10.0 loss: 435.43 found optimum: False\n",
      "search: 0 iteration: 10 c: 10.0 loss: 439.90 found optimum: False\n",
      "search: 1 iteration: 1 c: 100.0 loss: 5280.74 found optimum: False\n",
      "search: 1 iteration: 2 c: 100.0 loss: 6395.75 found optimum: False\n",
      "search: 1 iteration: 3 c: 100.0 loss: 2889.76 found optimum: False\n",
      "search: 1 iteration: 4 c: 100.0 loss: 1176.19 found optimum: False\n",
      "search: 1 iteration: 5 c: 100.0 loss: 461.83 found optimum: False\n",
      "new best: 240.1425323486328\n",
      "search: 1 iteration: 6 c: 100.0 loss: 240.14 found optimum: True\n",
      "search: 1 iteration: 7 c: 100.0 loss: 1671.78 found optimum: True\n",
      "new best: 203.97918701171875\n",
      "search: 1 iteration: 8 c: 100.0 loss: 203.98 found optimum: True\n",
      "search: 1 iteration: 9 c: 100.0 loss: 1023.81 found optimum: True\n",
      "new best: 162.72691345214844\n",
      "search: 1 iteration: 10 c: 100.0 loss: 162.73 found optimum: True\n"
     ]
    }
   ],
   "source": [
    "for i in range(1):\n",
    "    # obtain one sample\n",
    "    image1 = dataset.get_sample_by_class(class_label=i, show_image=False)\n",
    "    \n",
    "    print(\"zelfde:\", np.allclose(image, image1))\n",
    "    \n",
    "    print(\"IMAGE FROM CLASS: {}\".format(i))\n",
    "    before = np.argmax(cnn(image.squeeze(-1)).detach()).item()\n",
    "    \n",
    "    for mode in [\"PP\", \"PN\"]:\n",
    "        \n",
    "        best_delta = CEM1.explain(image, mode=mode)\n",
    "        \n",
    "        if mode == \"PP\":\n",
    "            after = np.argmax(cnn(image.squeeze(-1) - best_delta.view(1,28,28)).detach()).item()\n",
    "        else:\n",
    "            after = np.argmax(cnn(best_delta.view(1,28,28)).detach()).item()\n",
    "        "
   ]
  },
  {
   "cell_type": "code",
   "execution_count": 12,
   "metadata": {},
   "outputs": [
    {
     "data": {
      "image/png": "[encoded data removed]",
      "text/plain": [
       "<Figure size 432x288 with 1 Axes>"
      ]
     },
     "metadata": {
      "needs_background": "light"
     },
     "output_type": "display_data"
    },
    {
     "name": "stdout",
     "output_type": "stream",
     "text": [
      "classification before perturbation: 0\n"
     ]
    },
    {
     "data": {
      "image/png": "[encoded data removed]",
      "text/plain": [
       "<Figure size 432x288 with 1 Axes>"
      ]
     },
     "metadata": {
      "needs_background": "light"
     },
     "output_type": "display_data"
    },
    {
     "name": "stdout",
     "output_type": "stream",
     "text": [
      "classification after perturbation: 2\n"
     ]
    }
   ],
   "source": [
    "# print original image\n",
    "plt.imshow(image.view(28,28), cmap=\"gray\")\n",
    "plt.show()\n",
    "\n",
    "# classification before\n",
    "before = np.argmax(cnn(image.squeeze(-1)).detach()).item()\n",
    "print(\"classification before perturbation: {}\".format(before))\n",
    "\n",
    "if mode == \"PP\":\n",
    "    plt.imshow(image.squeeze() - CEM.best_delta.view(28,28), cmap=\"gray\")\n",
    "    plt.show()\n",
    "    after = np.argmax(cnn(image.squeeze(-1) - CEM.best_delta.view(1,28,28)).detach()).item()\n",
    "    print(\"classification of delta: {}\".format(after))\n",
    "else:\n",
    "    plt.imshow(CEM.best_delta.view(28,28),  cmap=\"gray\")\n",
    "    plt.show()\n",
    "    after = np.argmax(cnn(CEM.best_delta.view(1,28,28)).detach()).item()\n",
    "    print(\"classification after perturbation: {}\".format(after))"
   ]
  },
  {
   "cell_type": "code",
   "execution_count": null,
   "metadata": {},
   "outputs": [],
   "source": []
  }
 ],
 "metadata": {
  "kernelspec": {
   "display_name": "Python 3",
   "language": "python",
   "name": "python3"
  },
  "language_info": {
   "codemirror_mode": {
    "name": "ipython",
    "version": 3
   },
   "file_extension": ".py",
   "mimetype": "text/x-python",
   "name": "python",
   "nbconvert_exporter": "python",
   "pygments_lexer": "ipython3",
   "version": "3.7.0"
  }
 },
 "nbformat": 4,
 "nbformat_minor": 2
}
